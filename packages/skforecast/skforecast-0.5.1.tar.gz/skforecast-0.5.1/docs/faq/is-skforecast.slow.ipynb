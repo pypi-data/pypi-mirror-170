{
 "cells": [
  {
   "cell_type": "markdown",
   "metadata": {},
   "source": [
    "# Is Skforecast slow?"
   ]
  },
  {
   "cell_type": "markdown",
   "metadata": {},
   "source": [
    "## Libraries"
   ]
  },
  {
   "cell_type": "code",
   "execution_count": 13,
   "metadata": {},
   "outputs": [],
   "source": [
    "# Libraries\n",
    "# ==============================================================================\n",
    "import numpy as np\n",
    "import pandas as pd\n",
    "import time\n",
    "import matplotlib.pyplot as plt\n",
    "\n",
    "from sklearn.linear_model import LinearRegression\n",
    "from sklearn.metrics import mean_squared_error\n",
    "\n",
    "from skforecast.ForecasterAutoreg import ForecasterAutoreg\n",
    "from skforecast.model_selection import backtesting_forecaster"
   ]
  },
  {
   "cell_type": "markdown",
   "metadata": {},
   "source": [
    "## Data"
   ]
  },
  {
   "cell_type": "code",
   "execution_count": 17,
   "metadata": {},
   "outputs": [],
   "source": [
    "# Create random data points\n",
    "# ==============================================================================\n",
    "np.random.seed(123)\n",
    "y = pd.Series(np.random.rand(10000), name='y')\n",
    "exog = pd.Series(np.random.rand(10000), name='exog')"
   ]
  },
  {
   "cell_type": "markdown",
   "metadata": {},
   "source": [
    "## ForecasterAutoreg"
   ]
  },
  {
   "cell_type": "code",
   "execution_count": 32,
   "metadata": {},
   "outputs": [],
   "source": [
    "# Create forecaster and train loop\n",
    "# ==============================================================================\n",
    "lags = [1, 10, 100, 1000, 5000]\n",
    "lags = [1, 10, 25, 50, 100]\n",
    "\n",
    "time_forecaster = {lag: [] for lag in lags}\n",
    "\n",
    "for lag in lags:\n",
    "\n",
    "    forecaster = ForecasterAutoreg(\n",
    "                    regressor = LinearRegression(),\n",
    "                    lags      = lag\n",
    "                )\n",
    "    \n",
    "    experiment_times = []\n",
    "    for i in list(range(10)):\n",
    "\n",
    "        start_time = time.time()\n",
    "        forecaster.fit(y=y)\n",
    "        end_time = time.time()\n",
    "        \n",
    "        elapsed_time = end_time - start_time\n",
    "\n",
    "        experiment_times.append(elapsed_time)\n",
    "\n",
    "    time_forecaster[lag].extend(experiment_times)\n"
   ]
  },
  {
   "cell_type": "code",
   "execution_count": 34,
   "metadata": {},
   "outputs": [
    {
     "data": {
      "text/html": [
       "<div>\n",
       "<style scoped>\n",
       "    .dataframe tbody tr th:only-of-type {\n",
       "        vertical-align: middle;\n",
       "    }\n",
       "\n",
       "    .dataframe tbody tr th {\n",
       "        vertical-align: top;\n",
       "    }\n",
       "\n",
       "    .dataframe thead th {\n",
       "        text-align: right;\n",
       "    }\n",
       "</style>\n",
       "<table border=\"1\" class=\"dataframe\">\n",
       "  <thead>\n",
       "    <tr style=\"text-align: right;\">\n",
       "      <th></th>\n",
       "      <th>1</th>\n",
       "      <th>10</th>\n",
       "      <th>25</th>\n",
       "      <th>50</th>\n",
       "      <th>100</th>\n",
       "    </tr>\n",
       "  </thead>\n",
       "  <tbody>\n",
       "    <tr>\n",
       "      <th>0</th>\n",
       "      <td>0.046472</td>\n",
       "      <td>0.040035</td>\n",
       "      <td>0.047840</td>\n",
       "      <td>0.072797</td>\n",
       "      <td>0.083524</td>\n",
       "    </tr>\n",
       "    <tr>\n",
       "      <th>1</th>\n",
       "      <td>0.037818</td>\n",
       "      <td>0.039731</td>\n",
       "      <td>0.048836</td>\n",
       "      <td>0.059353</td>\n",
       "      <td>0.085455</td>\n",
       "    </tr>\n",
       "    <tr>\n",
       "      <th>2</th>\n",
       "      <td>0.036876</td>\n",
       "      <td>0.040819</td>\n",
       "      <td>0.049310</td>\n",
       "      <td>0.059800</td>\n",
       "      <td>0.083520</td>\n",
       "    </tr>\n",
       "    <tr>\n",
       "      <th>3</th>\n",
       "      <td>0.036873</td>\n",
       "      <td>0.040260</td>\n",
       "      <td>0.050830</td>\n",
       "      <td>0.058798</td>\n",
       "      <td>0.085209</td>\n",
       "    </tr>\n",
       "    <tr>\n",
       "      <th>4</th>\n",
       "      <td>0.035884</td>\n",
       "      <td>0.040868</td>\n",
       "      <td>0.049833</td>\n",
       "      <td>0.058808</td>\n",
       "      <td>0.085315</td>\n",
       "    </tr>\n",
       "    <tr>\n",
       "      <th>5</th>\n",
       "      <td>0.035879</td>\n",
       "      <td>0.040443</td>\n",
       "      <td>0.048836</td>\n",
       "      <td>0.058845</td>\n",
       "      <td>0.084591</td>\n",
       "    </tr>\n",
       "    <tr>\n",
       "      <th>6</th>\n",
       "      <td>0.035880</td>\n",
       "      <td>0.040870</td>\n",
       "      <td>0.048833</td>\n",
       "      <td>0.059795</td>\n",
       "      <td>0.086746</td>\n",
       "    </tr>\n",
       "    <tr>\n",
       "      <th>7</th>\n",
       "      <td>0.036877</td>\n",
       "      <td>0.040863</td>\n",
       "      <td>0.048991</td>\n",
       "      <td>0.062790</td>\n",
       "      <td>0.084026</td>\n",
       "    </tr>\n",
       "    <tr>\n",
       "      <th>8</th>\n",
       "      <td>0.037027</td>\n",
       "      <td>0.043849</td>\n",
       "      <td>0.048837</td>\n",
       "      <td>0.066548</td>\n",
       "      <td>0.084857</td>\n",
       "    </tr>\n",
       "    <tr>\n",
       "      <th>9</th>\n",
       "      <td>0.034887</td>\n",
       "      <td>0.042857</td>\n",
       "      <td>0.047836</td>\n",
       "      <td>0.059159</td>\n",
       "      <td>0.082373</td>\n",
       "    </tr>\n",
       "  </tbody>\n",
       "</table>\n",
       "</div>"
      ],
      "text/plain": [
       "        1         10        25        50        100\n",
       "0  0.046472  0.040035  0.047840  0.072797  0.083524\n",
       "1  0.037818  0.039731  0.048836  0.059353  0.085455\n",
       "2  0.036876  0.040819  0.049310  0.059800  0.083520\n",
       "3  0.036873  0.040260  0.050830  0.058798  0.085209\n",
       "4  0.035884  0.040868  0.049833  0.058808  0.085315\n",
       "5  0.035879  0.040443  0.048836  0.058845  0.084591\n",
       "6  0.035880  0.040870  0.048833  0.059795  0.086746\n",
       "7  0.036877  0.040863  0.048991  0.062790  0.084026\n",
       "8  0.037027  0.043849  0.048837  0.066548  0.084857\n",
       "9  0.034887  0.042857  0.047836  0.059159  0.082373"
      ]
     },
     "execution_count": 34,
     "metadata": {},
     "output_type": "execute_result"
    }
   ],
   "source": [
    "pd.DataFrame(time_forecaster)"
   ]
  },
  {
   "cell_type": "code",
   "execution_count": 41,
   "metadata": {},
   "outputs": [
    {
     "data": {
      "image/png": "[encoded data removed]",
      "text/plain": [
       "<Figure size 1100x400 with 1 Axes>"
      ]
     },
     "metadata": {},
     "output_type": "display_data"
    }
   ],
   "source": [
    "# ==============================================================================\n",
    "df_times = pd.DataFrame(time_forecaster)\n",
    "\n",
    "fig, ax = plt.subplots(figsize=(11, 4))\n",
    "\n",
    "for i, lag in enumerate(df_times.columns):\n",
    "\n",
    "    plt.bar(i, df_times[lag].mean(),\n",
    "            yerr=1.96*df_times[lag].std()/len(df_times[lag])**0.5)\n",
    "\n",
    "plt.xticks(list(range(len(df_times.columns))), df_times.columns)\n",
    "plt.xlabel('Number of lags')\n",
    "plt.ylabel('seconds');"
   ]
  },
  {
   "cell_type": "code",
   "execution_count": null,
   "metadata": {},
   "outputs": [],
   "source": [
    "# Dividir esto en create_train_X_y() + forecaster.regressor.fit()"
   ]
  },
  {
   "cell_type": "code",
   "execution_count": 15,
   "metadata": {},
   "outputs": [
    {
     "data": {
      "text/html": [
       "<style>\n",
       ".jupyter-wrapper .jp-CodeCell .jp-Cell-inputWrapper .jp-InputPrompt {display: none;}\n",
       "</style>\n"
      ],
      "text/plain": [
       "<IPython.core.display.HTML object>"
      ]
     },
     "metadata": {},
     "output_type": "display_data"
    }
   ],
   "source": [
    "%%html\n",
    "<style>\n",
    ".jupyter-wrapper .jp-CodeCell .jp-Cell-inputWrapper .jp-InputPrompt {display: none;}\n",
    "</style>"
   ]
  }
 ],
 "metadata": {
  "kernelspec": {
   "display_name": "Python 3.9.13 ('skforecast')",
   "language": "python",
   "name": "python3"
  },
  "language_info": {
   "codemirror_mode": {
    "name": "ipython",
    "version": 3
   },
   "file_extension": ".py",
   "mimetype": "text/x-python",
   "name": "python",
   "nbconvert_exporter": "python",
   "pygments_lexer": "ipython3",
   "version": "3.9.13"
  },
  "toc": {
   "base_numbering": 1,
   "nav_menu": {},
   "number_sections": false,
   "sideBar": true,
   "skip_h1_title": true,
   "title_cell": "Tabla de contenidos",
   "title_sidebar": "Tabla de contenidos",
   "toc_cell": false,
   "toc_position": {
    "height": "calc(100% - 180px)",
    "left": "10px",
    "top": "150px",
    "width": "165px"
   },
   "toc_section_display": true,
   "toc_window_display": false
  },
  "varInspector": {
   "cols": {
    "lenName": 16,
    "lenType": 16,
    "lenVar": 40
   },
   "kernels_config": {
    "python": {
     "delete_cmd_postfix": "",
     "delete_cmd_prefix": "del ",
     "library": "var_list.py",
     "varRefreshCmd": "print(var_dic_list())"
    },
    "r": {
     "delete_cmd_postfix": ") ",
     "delete_cmd_prefix": "rm(",
     "library": "var_list.r",
     "varRefreshCmd": "cat(var_dic_list()) "
    }
   },
   "position": {
    "height": "144.391px",
    "left": "1478px",
    "right": "20px",
    "top": "126px",
    "width": "350px"
   },
   "types_to_exclude": [
    "module",
    "function",
    "builtin_function_or_method",
    "instance",
    "_Feature"
   ],
   "window_display": false
  },
  "vscode": {
   "interpreter": {
    "hash": "6ffed84beb63baa96f7d22d816ccf3255c078420a09b57d1f48b4641bbf1489e"
   }
  }
 },
 "nbformat": 4,
 "nbformat_minor": 4
}
