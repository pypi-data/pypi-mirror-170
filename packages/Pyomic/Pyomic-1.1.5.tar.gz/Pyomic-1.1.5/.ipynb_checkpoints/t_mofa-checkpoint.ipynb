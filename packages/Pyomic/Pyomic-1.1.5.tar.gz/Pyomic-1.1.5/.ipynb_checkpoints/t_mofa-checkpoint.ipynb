{
 "cells": [
  {
   "cell_type": "markdown",
   "id": "61037ecc-74f6-4d1a-926e-1424c240d01c",
   "metadata": {},
   "source": [
    "# Single Tutorial: Multi-omics factors analysis\n",
    "MOFA is a factor analysis model that provides a general framework for the integration of multi-omic data sets in an unsupervised fashion.\n",
    "\n",
    "This tutorial focuses on how to perform mofa in multi-omics like scRNA-seq and scATAC-seq\n"
   ]
  },
  {
   "cell_type": "markdown",
   "id": "d7a19d6e-9fa2-4744-b91f-cb6517f93882",
   "metadata": {},
   "source": [
    "## Part.1 MOFA Model\n",
    "In this part, we construct a model of mofa by scRNA-seq and scATAC-seq"
   ]
  },
  {
   "cell_type": "code",
   "execution_count": 1,
   "id": "8013b80e-3fca-4c51-91a6-4126fa653826",
   "metadata": {},
   "outputs": [],
   "source": [
    "import anndata\n",
    "import Pyomic\n",
    "rna=anndata.read_h5ad('sample/rna_p_n_raw.h5ad')\n",
    "atac=anndata.read_h5ad('sample/atac_p_n_raw.h5ad')"
   ]
  },
  {
   "cell_type": "code",
   "execution_count": 2,
   "id": "ff8e0d5d-0194-4383-9c4e-f685c2b69248",
   "metadata": {},
   "outputs": [
    {
     "data": {
      "text/plain": [
       "(AnnData object with n_obs × n_vars = 1876 × 25596\n",
       "     obs: 'Type', 'sample',\n",
       " AnnData object with n_obs × n_vars = 1876 × 71272\n",
       "     obs: 'Type', 'sample')"
      ]
     },
     "execution_count": 2,
     "metadata": {},
     "output_type": "execute_result"
    }
   ],
   "source": [
    "rna,atac"
   ]
  },
  {
   "cell_type": "markdown",
   "id": "87307f9b-cc10-4b31-bec4-3309fc0750a3",
   "metadata": {},
   "source": [
    "We only need to add anndata to `Pyomic.single.mofa` to construct the base model"
   ]
  },
  {
   "cell_type": "code",
   "execution_count": 3,
   "id": "5de17eb9-f339-41f5-aa4a-761b880f83b0",
   "metadata": {},
   "outputs": [],
   "source": [
    "test_mofa=Pyomic.single.mofa(omics=[rna,atac],\n",
    "                             omics_name=['RNA','ATAC'])"
   ]
  },
  {
   "cell_type": "code",
   "execution_count": 5,
   "id": "28957704-b347-420f-8117-4a5e69bdcacb",
   "metadata": {},
   "outputs": [
    {
     "name": "stdout",
     "output_type": "stream",
     "text": [
      "\n",
      "        #########################################################\n",
      "        ###           __  __  ____  ______                    ### \n",
      "        ###          |  \\/  |/ __ \\|  ____/\\    _             ### \n",
      "        ###          | \\  / | |  | | |__ /  \\ _| |_           ### \n",
      "        ###          | |\\/| | |  | |  __/ /\\ \\_   _|          ###\n",
      "        ###          | |  | | |__| | | / ____ \\|_|            ###\n",
      "        ###          |_|  |_|\\____/|_|/_/    \\_\\              ###\n",
      "        ###                                                   ### \n",
      "        ######################################################### \n",
      "       \n",
      " \n",
      "        \n",
      "Groups names not provided, using default naming convention:\n",
      "- group1, group2, ..., groupG\n",
      "\n",
      "Successfully loaded view='rna' group='group0' with N=1876 samples and D=25596 features...\n",
      "Successfully loaded view='atac' group='group0' with N=1876 samples and D=71272 features...\n",
      "\n",
      "\n",
      "Warning: 8795 features(s) in view 0 have zero variance, consider removing them before training the model...\n",
      "\n",
      "Warning: 34 features(s) in view 1 have zero variance, consider removing them before training the model...\n",
      "\n",
      "Model options:\n",
      "- Automatic Relevance Determination prior on the factors: True\n",
      "- Automatic Relevance Determination prior on the weights: True\n",
      "- Spike-and-slab prior on the factors: False\n",
      "- Spike-and-slab prior on the weights: True\n",
      "Likelihoods:\n",
      "- View 0 (rna): gaussian\n",
      "- View 1 (atac): gaussian\n",
      "\n",
      "\n",
      "\n",
      "GPU mode is activated, but GPU not found... switching to CPU mode\n",
      "For GPU mode, you need:\n",
      "1 - Make sure that you are running MOFA+ on a machine with an NVIDIA GPU\n",
      "2 - Install CUPY following instructions on https://docs-cupy.chainer.org/en/stable/install.html\n",
      "\n",
      "\n",
      "\n",
      "######################################\n",
      "## Training the model with seed 1 ##\n",
      "######################################\n",
      "\n",
      "\n",
      "ELBO before training: -2411732113.81 \n",
      "\n",
      "Iteration 1: time=69.43, ELBO=-22090970.59, deltaELBO=2389641143.227 (99.08402055%), Factors=19\n",
      "\n",
      "\n",
      "#######################\n",
      "## Training finished ##\n",
      "#######################\n",
      "\n",
      "\n",
      "Saving model in res.hdf5...\n",
      "Note: the model to be saved is not trained.\n"
     ]
    }
   ],
   "source": [
    "test_mofa.mofa_preprocess()\n",
    "test_mofa.mofa_run()"
   ]
  },
  {
   "cell_type": "markdown",
   "id": "53db998c-169a-46b8-824c-aa9cb3b48710",
   "metadata": {},
   "source": [
    "## Part.2 MOFA Analysis\n",
    "After get the model by mofa, we need to analysis the factor about different omics, we provide some method to do this"
   ]
  },
  {
   "cell_type": "markdown",
   "id": "010d2705-4978-484e-9d9a-d5af43af6883",
   "metadata": {},
   "source": [
    "### load data"
   ]
  },
  {
   "cell_type": "code",
   "execution_count": 1,
   "id": "2be170f5-a640-4c51-8649-fa09e58b7336",
   "metadata": {},
   "outputs": [],
   "source": [
    "import pandas as pd\n",
    "import anndata\n",
    "import scanpy as sc\n",
    "import Pyomic"
   ]
  },
  {
   "cell_type": "code",
   "execution_count": 6,
   "id": "1dd2caec-134e-4a36-a96f-0ea11fedcb52",
   "metadata": {},
   "outputs": [],
   "source": [
    "rna=anndata.read_h5ad('sample/rna_test.h5ad')"
   ]
  },
  {
   "cell_type": "markdown",
   "id": "4b10f28d-4689-4d33-9809-e72c0bbd52f4",
   "metadata": {},
   "source": [
    "### add value of factor to anndata"
   ]
  },
  {
   "cell_type": "code",
   "execution_count": 7,
   "id": "f6e66b03-25de-4e9c-8f96-18686b09ed3d",
   "metadata": {},
   "outputs": [
    {
     "data": {
      "text/plain": [
       "AnnData object with n_obs × n_vars = 1792 × 3000\n",
       "    obs: 'Type', 'sample', 'cell_type', 'n_genes', 'n_genes_by_counts', 'total_counts', 'total_counts_mt', 'pct_counts_mt', 'factor1', 'factor2', 'factor3', 'factor4', 'factor5', 'factor6', 'factor7', 'factor8', 'factor9', 'factor10', 'factor11'\n",
       "    var: 'n_cells', 'mt', 'n_cells_by_counts', 'mean_counts', 'pct_dropout_by_counts', 'total_counts', 'highly_variable', 'highly_variable_rank', 'means', 'variances', 'variances_norm'\n",
       "    uns: 'hvg'"
      ]
     },
     "execution_count": 7,
     "metadata": {},
     "output_type": "execute_result"
    }
   ],
   "source": [
    "rna=Pyomic.single.factor_exact(rna,hdf5_path='sample/MOFA_POS.hdf5')\n",
    "rna"
   ]
  },
  {
   "cell_type": "markdown",
   "id": "a94c703a-1ff4-4985-ba6e-f447a2308dd5",
   "metadata": {},
   "source": [
    "### analysis of the correlation between factor and cell type"
   ]
  },
  {
   "cell_type": "code",
   "execution_count": 8,
   "id": "c93f472f-609f-40c0-bf66-a1bd1fce1c37",
   "metadata": {},
   "outputs": [
    {
     "data": {
      "text/html": [
       "<div>\n",
       "<style scoped>\n",
       "    .dataframe tbody tr th:only-of-type {\n",
       "        vertical-align: middle;\n",
       "    }\n",
       "\n",
       "    .dataframe tbody tr th {\n",
       "        vertical-align: top;\n",
       "    }\n",
       "\n",
       "    .dataframe thead th {\n",
       "        text-align: right;\n",
       "    }\n",
       "</style>\n",
       "<table border=\"1\" class=\"dataframe\">\n",
       "  <thead>\n",
       "    <tr style=\"text-align: right;\">\n",
       "      <th></th>\n",
       "      <th>factor1</th>\n",
       "      <th>factor2</th>\n",
       "      <th>factor3</th>\n",
       "      <th>factor4</th>\n",
       "      <th>factor5</th>\n",
       "    </tr>\n",
       "  </thead>\n",
       "  <tbody>\n",
       "    <tr>\n",
       "      <th>Regulatory T (Treg) cell</th>\n",
       "      <td>0.553421</td>\n",
       "      <td>7.303644</td>\n",
       "      <td>0.323052</td>\n",
       "      <td>0.252761</td>\n",
       "      <td>0.187171</td>\n",
       "    </tr>\n",
       "    <tr>\n",
       "      <th>B cell-2</th>\n",
       "      <td>9.078459</td>\n",
       "      <td>5.625337</td>\n",
       "      <td>8.424565</td>\n",
       "      <td>7.768767</td>\n",
       "      <td>0.268084</td>\n",
       "    </tr>\n",
       "    <tr>\n",
       "      <th>B cell-3</th>\n",
       "      <td>0.706249</td>\n",
       "      <td>40.881023</td>\n",
       "      <td>2.267589</td>\n",
       "      <td>0.382177</td>\n",
       "      <td>5.123728</td>\n",
       "    </tr>\n",
       "    <tr>\n",
       "      <th>Monocyte</th>\n",
       "      <td>0.248902</td>\n",
       "      <td>0.284968</td>\n",
       "      <td>0.147168</td>\n",
       "      <td>0.399443</td>\n",
       "      <td>0.132685</td>\n",
       "    </tr>\n",
       "    <tr>\n",
       "      <th>B cell</th>\n",
       "      <td>1.096582</td>\n",
       "      <td>12.407881</td>\n",
       "      <td>0.154599</td>\n",
       "      <td>0.827906</td>\n",
       "      <td>0.495789</td>\n",
       "    </tr>\n",
       "    <tr>\n",
       "      <th>B cell-4</th>\n",
       "      <td>0.279002</td>\n",
       "      <td>3.701674</td>\n",
       "      <td>0.487245</td>\n",
       "      <td>0.631280</td>\n",
       "      <td>0.205712</td>\n",
       "    </tr>\n",
       "    <tr>\n",
       "      <th>Endothelial cell</th>\n",
       "      <td>NaN</td>\n",
       "      <td>NaN</td>\n",
       "      <td>NaN</td>\n",
       "      <td>NaN</td>\n",
       "      <td>NaN</td>\n",
       "    </tr>\n",
       "    <tr>\n",
       "      <th>Natural killer T (NKT) cell-1</th>\n",
       "      <td>0.119266</td>\n",
       "      <td>0.276104</td>\n",
       "      <td>0.111210</td>\n",
       "      <td>0.030626</td>\n",
       "      <td>0.097991</td>\n",
       "    </tr>\n",
       "    <tr>\n",
       "      <th>Natural killer cell</th>\n",
       "      <td>1.127901</td>\n",
       "      <td>27.896554</td>\n",
       "      <td>0.235219</td>\n",
       "      <td>0.241705</td>\n",
       "      <td>0.282893</td>\n",
       "    </tr>\n",
       "    <tr>\n",
       "      <th>T cell-1</th>\n",
       "      <td>0.704842</td>\n",
       "      <td>3.701813</td>\n",
       "      <td>0.464042</td>\n",
       "      <td>0.396243</td>\n",
       "      <td>0.459828</td>\n",
       "    </tr>\n",
       "    <tr>\n",
       "      <th>Epithelial cell</th>\n",
       "      <td>0.435818</td>\n",
       "      <td>2.957245</td>\n",
       "      <td>0.183706</td>\n",
       "      <td>0.366285</td>\n",
       "      <td>0.225828</td>\n",
       "    </tr>\n",
       "    <tr>\n",
       "      <th>Plasmacytoid dendritic cell</th>\n",
       "      <td>0.019003</td>\n",
       "      <td>0.052997</td>\n",
       "      <td>0.431551</td>\n",
       "      <td>0.024616</td>\n",
       "      <td>0.067029</td>\n",
       "    </tr>\n",
       "    <tr>\n",
       "      <th>T cell</th>\n",
       "      <td>1.763401</td>\n",
       "      <td>32.202576</td>\n",
       "      <td>0.854274</td>\n",
       "      <td>0.870854</td>\n",
       "      <td>0.627218</td>\n",
       "    </tr>\n",
       "    <tr>\n",
       "      <th>Natural killer T (NKT) cell</th>\n",
       "      <td>0.039153</td>\n",
       "      <td>0.765500</td>\n",
       "      <td>0.243345</td>\n",
       "      <td>0.035279</td>\n",
       "      <td>0.093851</td>\n",
       "    </tr>\n",
       "    <tr>\n",
       "      <th>B cell-1</th>\n",
       "      <td>0.489567</td>\n",
       "      <td>3.898347</td>\n",
       "      <td>0.115866</td>\n",
       "      <td>0.854649</td>\n",
       "      <td>0.686837</td>\n",
       "    </tr>\n",
       "  </tbody>\n",
       "</table>\n",
       "</div>"
      ],
      "text/plain": [
       "                                factor1    factor2   factor3   factor4  \\\n",
       "Regulatory T (Treg) cell       0.553421   7.303644  0.323052  0.252761   \n",
       "B cell-2                       9.078459   5.625337  8.424565  7.768767   \n",
       "B cell-3                       0.706249  40.881023  2.267589  0.382177   \n",
       "Monocyte                       0.248902   0.284968  0.147168  0.399443   \n",
       "B cell                         1.096582  12.407881  0.154599  0.827906   \n",
       "B cell-4                       0.279002   3.701674  0.487245  0.631280   \n",
       "Endothelial cell                    NaN        NaN       NaN       NaN   \n",
       "Natural killer T (NKT) cell-1  0.119266   0.276104  0.111210  0.030626   \n",
       "Natural killer cell            1.127901  27.896554  0.235219  0.241705   \n",
       "T cell-1                       0.704842   3.701813  0.464042  0.396243   \n",
       "Epithelial cell                0.435818   2.957245  0.183706  0.366285   \n",
       "Plasmacytoid dendritic cell    0.019003   0.052997  0.431551  0.024616   \n",
       "T cell                         1.763401  32.202576  0.854274  0.870854   \n",
       "Natural killer T (NKT) cell    0.039153   0.765500  0.243345  0.035279   \n",
       "B cell-1                       0.489567   3.898347  0.115866  0.854649   \n",
       "\n",
       "                                factor5  \n",
       "Regulatory T (Treg) cell       0.187171  \n",
       "B cell-2                       0.268084  \n",
       "B cell-3                       5.123728  \n",
       "Monocyte                       0.132685  \n",
       "B cell                         0.495789  \n",
       "B cell-4                       0.205712  \n",
       "Endothelial cell                    NaN  \n",
       "Natural killer T (NKT) cell-1  0.097991  \n",
       "Natural killer cell            0.282893  \n",
       "T cell-1                       0.459828  \n",
       "Epithelial cell                0.225828  \n",
       "Plasmacytoid dendritic cell    0.067029  \n",
       "T cell                         0.627218  \n",
       "Natural killer T (NKT) cell    0.093851  \n",
       "B cell-1                       0.686837  "
      ]
     },
     "execution_count": 8,
     "metadata": {},
     "output_type": "execute_result"
    }
   ],
   "source": [
    "Pyomic.single.factor_correlation(adata=rna,cluster='cell_type',factor_list=[1,2,3,4,5])"
   ]
  },
  {
   "cell_type": "markdown",
   "id": "c59f1217-9cf9-4125-887d-552ae5aa1914",
   "metadata": {},
   "source": [
    "### Get the gene/feature weights of different factor"
   ]
  },
  {
   "cell_type": "code",
   "execution_count": 9,
   "id": "1e5763e9-ea66-4d47-9794-bc5fa29053c0",
   "metadata": {},
   "outputs": [
    {
     "data": {
      "text/html": [
       "<div>\n",
       "<style scoped>\n",
       "    .dataframe tbody tr th:only-of-type {\n",
       "        vertical-align: middle;\n",
       "    }\n",
       "\n",
       "    .dataframe tbody tr th {\n",
       "        vertical-align: top;\n",
       "    }\n",
       "\n",
       "    .dataframe thead th {\n",
       "        text-align: right;\n",
       "    }\n",
       "</style>\n",
       "<table border=\"1\" class=\"dataframe\">\n",
       "  <thead>\n",
       "    <tr style=\"text-align: right;\">\n",
       "      <th></th>\n",
       "      <th>feature</th>\n",
       "      <th>weights</th>\n",
       "      <th>abs_weights</th>\n",
       "      <th>sig</th>\n",
       "    </tr>\n",
       "  </thead>\n",
       "  <tbody>\n",
       "    <tr>\n",
       "      <th>0</th>\n",
       "      <td>b'FAM174B'</td>\n",
       "      <td>-2.911107e-10</td>\n",
       "      <td>2.911107e-10</td>\n",
       "      <td>-</td>\n",
       "    </tr>\n",
       "    <tr>\n",
       "      <th>1</th>\n",
       "      <td>b'SYNE2'</td>\n",
       "      <td>-3.744153e-09</td>\n",
       "      <td>3.744153e-09</td>\n",
       "      <td>-</td>\n",
       "    </tr>\n",
       "    <tr>\n",
       "      <th>2</th>\n",
       "      <td>b'LUZP1'</td>\n",
       "      <td>-1.840838e-10</td>\n",
       "      <td>1.840838e-10</td>\n",
       "      <td>-</td>\n",
       "    </tr>\n",
       "    <tr>\n",
       "      <th>3</th>\n",
       "      <td>b'GGT1'</td>\n",
       "      <td>-3.171818e-10</td>\n",
       "      <td>3.171818e-10</td>\n",
       "      <td>-</td>\n",
       "    </tr>\n",
       "    <tr>\n",
       "      <th>4</th>\n",
       "      <td>b'LINC02210'</td>\n",
       "      <td>-4.588388e-10</td>\n",
       "      <td>4.588388e-10</td>\n",
       "      <td>-</td>\n",
       "    </tr>\n",
       "    <tr>\n",
       "      <th>...</th>\n",
       "      <td>...</td>\n",
       "      <td>...</td>\n",
       "      <td>...</td>\n",
       "      <td>...</td>\n",
       "    </tr>\n",
       "    <tr>\n",
       "      <th>2995</th>\n",
       "      <td>b'TREM2'</td>\n",
       "      <td>4.046089e-11</td>\n",
       "      <td>4.046089e-11</td>\n",
       "      <td>+</td>\n",
       "    </tr>\n",
       "    <tr>\n",
       "      <th>2996</th>\n",
       "      <td>b'CPVL'</td>\n",
       "      <td>1.353563e-10</td>\n",
       "      <td>1.353563e-10</td>\n",
       "      <td>+</td>\n",
       "    </tr>\n",
       "    <tr>\n",
       "      <th>2997</th>\n",
       "      <td>b'MIPEP'</td>\n",
       "      <td>-1.360450e-11</td>\n",
       "      <td>1.360450e-11</td>\n",
       "      <td>-</td>\n",
       "    </tr>\n",
       "    <tr>\n",
       "      <th>2998</th>\n",
       "      <td>b'INO80E'</td>\n",
       "      <td>-4.721143e-09</td>\n",
       "      <td>4.721143e-09</td>\n",
       "      <td>-</td>\n",
       "    </tr>\n",
       "    <tr>\n",
       "      <th>2999</th>\n",
       "      <td>b'RABAC1'</td>\n",
       "      <td>2.386149e-03</td>\n",
       "      <td>2.386149e-03</td>\n",
       "      <td>+</td>\n",
       "    </tr>\n",
       "  </tbody>\n",
       "</table>\n",
       "<p>3000 rows × 4 columns</p>\n",
       "</div>"
      ],
      "text/plain": [
       "           feature       weights   abs_weights sig\n",
       "0       b'FAM174B' -2.911107e-10  2.911107e-10   -\n",
       "1         b'SYNE2' -3.744153e-09  3.744153e-09   -\n",
       "2         b'LUZP1' -1.840838e-10  1.840838e-10   -\n",
       "3          b'GGT1' -3.171818e-10  3.171818e-10   -\n",
       "4     b'LINC02210' -4.588388e-10  4.588388e-10   -\n",
       "...            ...           ...           ...  ..\n",
       "2995      b'TREM2'  4.046089e-11  4.046089e-11   +\n",
       "2996       b'CPVL'  1.353563e-10  1.353563e-10   +\n",
       "2997      b'MIPEP' -1.360450e-11  1.360450e-11   -\n",
       "2998     b'INO80E' -4.721143e-09  4.721143e-09   -\n",
       "2999     b'RABAC1'  2.386149e-03  2.386149e-03   +\n",
       "\n",
       "[3000 rows x 4 columns]"
      ]
     },
     "execution_count": 9,
     "metadata": {},
     "output_type": "execute_result"
    }
   ],
   "source": [
    "Pyomic.single.get_weights(hdf5_path='sample/MOFA_POS.hdf5',view='RNA',factor=1)"
   ]
  },
  {
   "cell_type": "code",
   "execution_count": null,
   "id": "9b6d0429-e6e2-4236-b764-cfbc2d81de68",
   "metadata": {},
   "outputs": [],
   "source": []
  }
 ],
 "metadata": {
  "kernelspec": {
   "display_name": "Python 3 (ipykernel)",
   "language": "python",
   "name": "python3"
  },
  "language_info": {
   "codemirror_mode": {
    "name": "ipython",
    "version": 3
   },
   "file_extension": ".py",
   "mimetype": "text/x-python",
   "name": "python",
   "nbconvert_exporter": "python",
   "pygments_lexer": "ipython3",
   "version": "3.8.13"
  }
 },
 "nbformat": 4,
 "nbformat_minor": 5
}
