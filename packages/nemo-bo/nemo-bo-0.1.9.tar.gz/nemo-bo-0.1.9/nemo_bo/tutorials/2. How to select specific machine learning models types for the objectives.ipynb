{
 "cells": [
  {
   "cell_type": "markdown",
   "metadata": {},
   "source": [
    "## How to select specific machine learning models types for the objectives "
   ]
  },
  {
   "cell_type": "code",
   "execution_count": null,
   "metadata": {},
   "outputs": [],
   "source": [
    "# Import the variable, objectives, sampler, acquisition function, and the optimisation classes\n",
    "from nemo_bo.opt.variables import ContinuousVariable, VariablesList\n",
    "from nemo_bo.opt.objectives import RegressionObjective, ObjectivesList\n",
    "from nemo_bo.acquisition_functions.expected_improvement.expected_improvement import (\n",
    "    ExpectedImprovement,\n",
    ")\n",
    "from nemo_bo.opt.samplers import LatinHyperCubeSampling\n",
    "from nemo_bo.opt.optimisation import Optimisation"
   ]
  },
  {
   "cell_type": "code",
   "execution_count": null,
   "metadata": {},
   "outputs": [],
   "source": [
    "# Create the variable objects\n",
    "var1 = ContinuousVariable(name=\"variable1\", lower_bound=0.0, upper_bound=100.0)\n",
    "var2 = ContinuousVariable(name=\"variable2\", lower_bound=0.0, upper_bound=100.0)\n",
    "var_list = VariablesList([var1, var2])"
   ]
  },
  {
   "cell_type": "markdown",
   "metadata": {},
   "source": [
    "### Specifying the machine learning model types for objectives\n",
    "\n",
    "When the objective is instantiated using the `RegressionObjective` class, the keyword argument, `predictor_type`, can be passed to specify the types of models to fit for the objective. When this is not specified, all built-in models are used. The models can be specified as a list of strings or as the model classes themselves. The table below \n",
    "\n",
    "| Model type | String abbreviation | Class |\n",
    "| --- | --- | --- |\n",
    "| Gaussian process | \"gp\" | nemo_bo.models.gp.GPModel |\n",
    "| Concrete dropout neural network | \"nn_concrete\" | nemo_bo.models.nn_concrete.NNConcreteDropoutModel |\n",
    "| Neural network ensemble | \"nn_ensemble\" | nemo_bo.models.nn_ensemble.NNEnsembleModel |\n",
    "| Bayesian neural network | \"nn_bayesian\" | nemo_bo.models.nn_bayesian.NNBayesianModel |\n",
    "| XGBoost distribution | \"xgb\" | nemo_bo.models.xgb.XGBoostModel |\n",
    "| NGBoost | \"ngb\" | nemo_bo.models.ngb.NGBoostModel |\n",
    "| Random Forest (forest-confidence-interval) | \"rf\" | nemo_bo.models.rf.RFModel |\n",
    "\n",
    "For `obj1` below, the objective will be fitted to GP and XGBoost models, and then the best model will be selected for the Bayesian optimisation.\n",
    "For `obj2` below, the objective will be fitted to only a GP model. When only one model type is specified, it does not need to be passed in a list."
   ]
  },
  {
   "cell_type": "code",
   "execution_count": null,
   "metadata": {},
   "outputs": [],
   "source": [
    "from nemo_bo.models.gp import GPModel\n",
    "\n",
    "# Create the objective objects\n",
    "obj1 = RegressionObjective(\n",
    "    name=\"objective1\",\n",
    "    obj_max_bool=True,\n",
    "    lower_bound=0.0,\n",
    "    upper_bound=100.0,\n",
    "    predictor_type=[\"gp\", \"xgb\"],\n",
    ")\n",
    "obj2 = RegressionObjective(\n",
    "    name=\"objective2\",\n",
    "    obj_max_bool=False,\n",
    "    lower_bound=0.0,\n",
    "    upper_bound=100.0,\n",
    "    predictor_type=GPModel,\n",
    ")\n",
    "obj_list = ObjectivesList([obj1, obj2])"
   ]
  },
  {
   "cell_type": "code",
   "execution_count": null,
   "metadata": {},
   "outputs": [],
   "source": [
    "# Instantiate the sampler\n",
    "sampler = LatinHyperCubeSampling()"
   ]
  },
  {
   "cell_type": "code",
   "execution_count": null,
   "metadata": {},
   "outputs": [],
   "source": [
    "# Instantiate the acquisition function\n",
    "acq_func = ExpectedImprovement(num_candidates=4)"
   ]
  },
  {
   "cell_type": "code",
   "execution_count": null,
   "metadata": {},
   "outputs": [],
   "source": [
    "# Set up the optimisation instance\n",
    "optimisation = Optimisation(var_list, obj_list, acq_func, sampler=sampler)"
   ]
  },
  {
   "cell_type": "code",
   "execution_count": null,
   "metadata": {},
   "outputs": [],
   "source": [
    "# Start the optimisation using the convenient run function that will run for the specified number of iterations\n",
    "# X and Y arrays represent a hypothetical initial dataset\n",
    "optimisation_data = optimisation.run(X, Y, number_of_iterations=50)"
   ]
  }
 ],
 "metadata": {
  "kernelspec": {
   "display_name": "Python 3.10.5 64-bit",
   "language": "python",
   "name": "python3"
  },
  "language_info": {
   "name": "python",
   "version": "3.10.5"
  },
  "orig_nbformat": 4,
  "vscode": {
   "interpreter": {
    "hash": "7101ca937a6cefa303d920fd1335fe82956cc294edbf5f7bc268a5a56c54bb64"
   }
  }
 },
 "nbformat": 4,
 "nbformat_minor": 2
}
