{
 "cells": [
  {
   "cell_type": "markdown",
   "metadata": {},
   "source": [
    "## Setting up a single objective optimisation"
   ]
  },
  {
   "cell_type": "code",
   "execution_count": null,
   "metadata": {},
   "outputs": [],
   "source": [
    "# Import the variable, objectives, sampler, acquisition function, and the optimisation classes\n",
    "from nemo_bo.opt.variables import ContinuousVariable, VariablesList\n",
    "from nemo_bo.opt.objectives import RegressionObjective, ObjectivesList\n",
    "from nemo_bo.acquisition_functions.expected_improvement.expected_improvement import (\n",
    "    ExpectedImprovement,\n",
    ")\n",
    "from nemo_bo.opt.samplers import LatinHyperCubeSampling\n",
    "from nemo_bo.opt.optimisation import Optimisation"
   ]
  },
  {
   "cell_type": "code",
   "execution_count": null,
   "metadata": {},
   "outputs": [],
   "source": [
    "# Create the variable objects\n",
    "var1 = ContinuousVariable(name=\"variable1\", lower_bound=0.0, upper_bound=100.0)\n",
    "var2 = ContinuousVariable(name=\"variable2\", lower_bound=0.0, upper_bound=100.0)\n",
    "var_list = VariablesList([var1, var2])"
   ]
  },
  {
   "cell_type": "markdown",
   "metadata": {},
   "source": [
    "The `ObjectivesList` class is still required even when there is only one objective in the optimisation"
   ]
  },
  {
   "cell_type": "code",
   "execution_count": null,
   "metadata": {},
   "outputs": [],
   "source": [
    "# Create the objective objects\n",
    "obj1 = RegressionObjective(name=\"objective1\", obj_max_bool=True, lower_bound=0.0, upper_bound=100.0)\n",
    "obj_list = ObjectivesList([obj1])"
   ]
  },
  {
   "cell_type": "code",
   "execution_count": null,
   "metadata": {},
   "outputs": [],
   "source": [
    "# Instantiate the sampler\n",
    "sampler = LatinHyperCubeSampling(num_new_points=2**20)"
   ]
  },
  {
   "cell_type": "code",
   "execution_count": null,
   "metadata": {},
   "outputs": [],
   "source": [
    "# Instantiate the acquisition function\n",
    "acq_func = ExpectedImprovement(num_candidates=4)"
   ]
  },
  {
   "cell_type": "code",
   "execution_count": null,
   "metadata": {},
   "outputs": [],
   "source": [
    "# Set up the optimisation instance\n",
    "optimisation = Optimisation(var_list, obj_list, acq_func, sampler=sampler)"
   ]
  },
  {
   "cell_type": "code",
   "execution_count": null,
   "metadata": {},
   "outputs": [],
   "source": [
    "# Start the optimisation using the convenient run function that will run for the specified number of iterations\n",
    "# X and Y arrays represent a hypothetical initial dataset\n",
    "optimisation_data = optimisation.run(X, Y, number_of_iterations=50)"
   ]
  }
 ],
 "metadata": {
  "kernelspec": {
   "display_name": "Python 3.10.5 64-bit",
   "language": "python",
   "name": "python3"
  },
  "language_info": {
   "name": "python",
   "version": "3.10.5"
  },
  "orig_nbformat": 4,
  "vscode": {
   "interpreter": {
    "hash": "7101ca937a6cefa303d920fd1335fe82956cc294edbf5f7bc268a5a56c54bb64"
   }
  }
 },
 "nbformat": 4,
 "nbformat_minor": 2
}
