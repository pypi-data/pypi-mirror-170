{
 "cells": [
  {
   "cell_type": "markdown",
   "metadata": {},
   "source": [
    "## How to define categorical variables with descriptors "
   ]
  },
  {
   "cell_type": "code",
   "execution_count": null,
   "metadata": {},
   "outputs": [],
   "source": [
    "# Import the variable, objectives, sampler, acquisition function, and the optimisation classes\n",
    "from nemo_bo.opt.variables import (\n",
    "    ContinuousVariable,\n",
    "    CategoricalVariableWithDescriptors,\n",
    "    VariablesList,\n",
    ")\n",
    "from nemo_bo.opt.objectives import RegressionObjective, ObjectivesList\n",
    "from nemo_bo.acquisition_functions.expected_improvement.expected_improvement import (\n",
    "    ExpectedImprovement,\n",
    ")\n",
    "from nemo_bo.opt.samplers import LatinHyperCubeSampling\n",
    "from nemo_bo.opt.optimisation import Optimisation"
   ]
  },
  {
   "cell_type": "markdown",
   "metadata": {},
   "source": [
    "### Defining a variable as a categorical variable with descriptors\n",
    "\n",
    "The additional information that is required for this type of variable compared to a continuous variable are the names of the categorical levels, the names of the descriptors, and the array of the descriptors for the respective categorical levels (shape = [number of categorical levels, number of descriptors types])"
   ]
  },
  {
   "cell_type": "code",
   "execution_count": null,
   "metadata": {},
   "outputs": [],
   "source": [
    "# Create the variable objects\n",
    "var1 = ContinuousVariable(name=\"variable1\", lower_bound=0.0, upper_bound=100.0)\n",
    "var2 = CategoricalVariableWithDescriptors(\n",
    "    name=\"Cat_Var_Desc\",\n",
    "    descriptor_names=[\"descriptor1\", \"descriptor2\", \"descriptor3\"],\n",
    "    categorical_levels=[\"cat_level1\", \"cat_level2\", \"cat_level3\", \"cat_level4\"],\n",
    "    categorical_descriptors=np.array(\n",
    "        [\n",
    "            [\"0.1\", \"1\", \"60\"],\n",
    "            [\"0.15\", \"2\", \"65\"],\n",
    "            [\"0.25\", \"4\", \"75\"],\n",
    "            [\"0.3\", \"6\", \"90\"],\n",
    "        ]\n",
    "    ),\n",
    ")\n",
    "var_list = VariablesList([var1, var2])"
   ]
  },
  {
   "cell_type": "code",
   "execution_count": null,
   "metadata": {},
   "outputs": [],
   "source": [
    "# Create the objective objects\n",
    "obj1 = RegressionObjective(name=\"objective1\", obj_max_bool=True, lower_bound=0.0, upper_bound=100.0)\n",
    "obj2 = RegressionObjective(name=\"objective2\", obj_max_bool=False, lower_bound=0.0, upper_bound=100.0)\n",
    "obj_list = ObjectivesList([obj1, obj2])"
   ]
  },
  {
   "cell_type": "code",
   "execution_count": null,
   "metadata": {},
   "outputs": [],
   "source": [
    "# Instantiate the sampler\n",
    "sampler = LatinHyperCubeSampling()"
   ]
  },
  {
   "cell_type": "code",
   "execution_count": null,
   "metadata": {},
   "outputs": [],
   "source": [
    "# Instantiate the acquisition function\n",
    "acq_func = ExpectedImprovement(num_candidates=4)"
   ]
  },
  {
   "cell_type": "code",
   "execution_count": null,
   "metadata": {},
   "outputs": [],
   "source": [
    "# Set up the optimisation instance\n",
    "optimisation = Optimisation(var_list, obj_list, acq_func, sampler=sampler)"
   ]
  },
  {
   "cell_type": "code",
   "execution_count": null,
   "metadata": {},
   "outputs": [],
   "source": [
    "# Start the optimisation using the convenient run function that will run for the specified number of iterations\n",
    "# X and Y arrays represent a hypothetical initial dataset\n",
    "optimisation_data = optimisation.run(X, Y, number_of_iterations=50)"
   ]
  }
 ],
 "metadata": {
  "kernelspec": {
   "display_name": "Python 3.10.5 64-bit",
   "language": "python",
   "name": "python3"
  },
  "language_info": {
   "name": "python",
   "version": "3.10.5"
  },
  "orig_nbformat": 4,
  "vscode": {
   "interpreter": {
    "hash": "7101ca937a6cefa303d920fd1335fe82956cc294edbf5f7bc268a5a56c54bb64"
   }
  }
 },
 "nbformat": 4,
 "nbformat_minor": 2
}
