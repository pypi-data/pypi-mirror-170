{
 "cells": [
  {
   "cell_type": "markdown",
   "metadata": {},
   "source": [
    "## How to create a closed-loop optimisation using the two objective Kursawe synthetic function as the benchmark function"
   ]
  },
  {
   "cell_type": "code",
   "execution_count": null,
   "metadata": {},
   "outputs": [],
   "source": [
    "# Import the variable, objectives, sampler, acquisition function, and the optimisation classes\n",
    "from nemo_bo.opt.variables import ContinuousVariable, VariablesList\n",
    "from nemo_bo.opt.objectives import RegressionObjective, ObjectivesList\n",
    "from nemo_bo.acquisition_functions.expected_improvement.expected_improvement import (\n",
    "    ExpectedImprovement,\n",
    ")\n",
    "from nemo_bo.opt.samplers import LatinHyperCubeSampling\n",
    "from nemo_bo.opt.optimisation import Optimisation"
   ]
  },
  {
   "cell_type": "markdown",
   "metadata": {},
   "source": [
    "### Setting up the variables and objectives for the synthetic function\n",
    "\n",
    "The following table shows the ideal parameters to use for each multi-objective synthetic function\n",
    "\n",
    "| Name | Maximise/Minimise | String | Number of variables | Number of objectives | Variable bounds | Objective bounds |\n",
    "| --- | --- | --- | --- | --- | --- | --- |\n",
    "| Kursawe | Minimise | \"kursawe\" | 3 | 2 | all [-5.0, 5.0] | approx obj1: [-20.0, -5.0], obj2: [-13.0, 23.0] |\n",
    "| ZDT1 | Minimise | \"zdt1\" | 30 | 2 | all [0.0, 1.0] | approx obj1: [0.0, 1.0], obj2: [0.0, 7.5] |\n",
    "| ZDT2 | Minimise | \"zdt2\" | 30 | 2 | all [0.0, 1.0] | approx obj1: [0.0, 1.00], obj2: [0.0, 8.0] |\n",
    "| ZDT3 | Minimise | \"zdt3\" | 30 | 2 | all [0.0, 1.0] | approx obj1: [0.0, 1.0], obj2: [0.0, 7.5] |\n",
    "| ZDT4 | Minimise | \"zdt4\" | 10 | 2 | var1: [0.0, 1.0], var2 to var10: [-10.0, 10.0] | approx obj1: [0.0, 1.0], obj2: [0.0, 900.0] |\n",
    "| ZDT6 | Minimise | \"zdt6\" | 10 | 2 | all [0.0, 1.0] | approx obj1: [0.0, 1.0], obj2: [0.0, 10.0] |\n",
    "\n",
    "The number of variable and objective objects need to be created according to the specified described in the table above.\n",
    "\n",
    "The example below uses the Kursawe function."
   ]
  },
  {
   "cell_type": "code",
   "execution_count": null,
   "metadata": {},
   "outputs": [],
   "source": [
    "# Create the variable objects\n",
    "var_list = VariablesList(\n",
    "    [ContinuousVariable(name=f\"var{n}\", lower_bound=-5.0, upper_bound=5.0, units=\"\") for n in range(1, 4)]\n",
    ")"
   ]
  },
  {
   "cell_type": "code",
   "execution_count": null,
   "metadata": {},
   "outputs": [],
   "source": [
    "# Create the objective objects\n",
    "obj1 = RegressionObjective(name=\"Kursawe_obj1\", obj_max_bool=False, lower_bound=-20.0, upper_bound=-5.0)\n",
    "obj2 = RegressionObjective(name=\"Kursawe_obj2\", obj_max_bool=False, lower_bound=-13.0, upper_bound=23.0)\n",
    "obj_list = ObjectivesList([obj1, obj2])"
   ]
  },
  {
   "cell_type": "code",
   "execution_count": null,
   "metadata": {},
   "outputs": [],
   "source": [
    "# Instantiate the sampler\n",
    "sampler = LatinHyperCubeSampling()"
   ]
  },
  {
   "cell_type": "code",
   "execution_count": null,
   "metadata": {},
   "outputs": [],
   "source": [
    "# Instantiate the acquisition function\n",
    "acq_func = ExpectedImprovement(num_candidates=4)"
   ]
  },
  {
   "cell_type": "markdown",
   "metadata": {},
   "source": [
    "### Setting up the benchmark\n",
    "\n",
    "The `MultiObjectiveSyntheticBenchmark` class is instantiated with the string name of the synthetic function as the argument"
   ]
  },
  {
   "cell_type": "code",
   "execution_count": null,
   "metadata": {},
   "outputs": [],
   "source": [
    "from nemo_bo.opt.benchmark import MultiObjectiveSyntheticBenchmark\n",
    "\n",
    "# Instantiate the MultiObjectiveSyntheticBenchmark class to be the benchmark function\n",
    "benchmark = MultiObjectiveSyntheticBenchmark(\"kursawe\")"
   ]
  },
  {
   "cell_type": "code",
   "execution_count": null,
   "metadata": {},
   "outputs": [],
   "source": [
    "# Set up the optimisation instance whilst passing benchmark function\n",
    "optimisation = Optimisation(var_list, obj_list, acq_func, sampler=sampler, benchmark_func=benchmark)"
   ]
  },
  {
   "cell_type": "markdown",
   "metadata": {},
   "source": [
    "### Starting the optimisation run with the benchmark function\n",
    "\n",
    "When using a benchmark function in an optimisation, X and Y arrays do not need to be passed. The training set will be automatically created, where the number of samples is related to the sampler type chosen and the number of variables (`number of samples = (2 * number of variables) + 2`)\n",
    "\n",
    "When the plot_progress keyword argument is True, a pareto plot will be created at every iteration."
   ]
  },
  {
   "cell_type": "code",
   "execution_count": null,
   "metadata": {},
   "outputs": [],
   "source": [
    "# Start the optimisation using the convenient run function that will run for the specified number of iterations\n",
    "optimisation_data = optimisation.run(number_of_iterations=50, plot_progress=True)"
   ]
  }
 ],
 "metadata": {
  "kernelspec": {
   "display_name": "Python 3.10.5 64-bit",
   "language": "python",
   "name": "python3"
  },
  "language_info": {
   "name": "python",
   "version": "3.10.5"
  },
  "orig_nbformat": 4,
  "vscode": {
   "interpreter": {
    "hash": "7101ca937a6cefa303d920fd1335fe82956cc294edbf5f7bc268a5a56c54bb64"
   }
  }
 },
 "nbformat": 4,
 "nbformat_minor": 2
}
