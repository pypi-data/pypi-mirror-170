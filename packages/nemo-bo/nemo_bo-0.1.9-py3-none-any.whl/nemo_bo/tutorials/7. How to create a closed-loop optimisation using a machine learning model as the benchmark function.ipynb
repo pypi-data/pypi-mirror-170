{
 "cells": [
  {
   "cell_type": "markdown",
   "metadata": {},
   "source": [
    "## How to create a closed-loop optimisation using a machine learning model as the benchmark function"
   ]
  },
  {
   "cell_type": "code",
   "execution_count": null,
   "metadata": {},
   "outputs": [],
   "source": [
    "# Import the variable, objectives, sampler, acquisition function, and the optimisation classes\n",
    "from nemo_bo.opt.variables import ContinuousVariable, VariablesList\n",
    "from nemo_bo.opt.objectives import RegressionObjective, ObjectivesList\n",
    "from nemo_bo.acquisition_functions.expected_improvement.expected_improvement import (\n",
    "    ExpectedImprovement,\n",
    ")\n",
    "from nemo_bo.opt.samplers import LatinHyperCubeSampling\n",
    "from nemo_bo.opt.optimisation import Optimisation"
   ]
  },
  {
   "cell_type": "code",
   "execution_count": null,
   "metadata": {},
   "outputs": [],
   "source": [
    "# Create the variable objects\n",
    "var1 = ContinuousVariable(name=\"variable1\", lower_bound=0.0, upper_bound=100.0)\n",
    "var2 = ContinuousVariable(name=\"variable2\", lower_bound=0.0, upper_bound=100.0)\n",
    "var_list = VariablesList([var1, var2])"
   ]
  },
  {
   "cell_type": "code",
   "execution_count": null,
   "metadata": {},
   "outputs": [],
   "source": [
    "# Create the objective objects\n",
    "obj1 = RegressionObjective(name=\"objective1\", obj_max_bool=True, lower_bound=0.0, upper_bound=100.0)\n",
    "obj2 = RegressionObjective(name=\"objective2\", obj_max_bool=False, lower_bound=0.0, upper_bound=100.0)\n",
    "obj_list = ObjectivesList([obj1, obj2])"
   ]
  },
  {
   "cell_type": "code",
   "execution_count": null,
   "metadata": {},
   "outputs": [],
   "source": [
    "# Instantiate the sampler\n",
    "sampler = LatinHyperCubeSampling()"
   ]
  },
  {
   "cell_type": "code",
   "execution_count": null,
   "metadata": {},
   "outputs": [],
   "source": [
    "# Instantiate the acquisition function\n",
    "acq_func = ExpectedImprovement(num_candidates=4)"
   ]
  },
  {
   "cell_type": "markdown",
   "metadata": {},
   "source": [
    "### Setting up the benchmark\n",
    "\n",
    "As the benchmark represents the optimisation problem, the corresponding variables and objectives will be the same as those defined above. However, copies of the variable and objective objects are used to instatiate the `ModelBenchmark` class to ensure that they are not linked."
   ]
  },
  {
   "cell_type": "code",
   "execution_count": null,
   "metadata": {},
   "outputs": [],
   "source": [
    "import copy\n",
    "from nemo_bo.opt.benchmark import ModelBenchmark\n",
    "\n",
    "# Create the VariablesList for the benchmark function\n",
    "benchmark_var_list = VariablesList([copy.copy(var1), copy.copy(var2)])\n",
    "benchmark_obj_list = ObjectivesList([copy.copy(obj1), copy.copy(obj2)])\n",
    "\n",
    "# Instantiate the ModelBenchmark class to be the benchmark function\n",
    "benchmark = ModelBenchmark(benchmark_var_list, benchmark_obj_list)\n",
    "\n",
    "# Fit the benchmark function using a X and Y arrays as the training data that is representative of the variable and objective space\n",
    "# X_benchmark and Y_benchmark arrays represent hypothetical datasets that are good for training the benchmark function\n",
    "benchmark.fit(X=X_benchmark, Y=Y_benchmark)"
   ]
  },
  {
   "cell_type": "code",
   "execution_count": null,
   "metadata": {},
   "outputs": [],
   "source": [
    "# Set up the optimisation instance whilst passing benchmark function\n",
    "optimisation = Optimisation(var_list, obj_list, acq_func, sampler=sampler, benchmark_func=benchmark)"
   ]
  },
  {
   "cell_type": "markdown",
   "metadata": {},
   "source": [
    "### Starting the optimisation run with the benchmark function\n",
    "\n",
    "When using a benchmark function in an optimisation, X and Y arrays do not need to be passed. The training set will be automatically created, where the number of samples is related to the sampler type chosen and the number of variables (`number of samples = (2 * number of variables) + 2`)\n",
    "\n",
    "When the plot_progress keyword argument is True, a pareto plot will be created at every iteration."
   ]
  },
  {
   "cell_type": "code",
   "execution_count": null,
   "metadata": {},
   "outputs": [],
   "source": [
    "# Start the optimisation using the convenient run function that will run for the specified number of iterations\n",
    "optimisation_data = optimisation.run(number_of_iterations=50, plot_progress=True)"
   ]
  }
 ],
 "metadata": {
  "kernelspec": {
   "display_name": "Python 3.10.5 64-bit",
   "language": "python",
   "name": "python3"
  },
  "language_info": {
   "name": "python",
   "version": "3.10.5"
  },
  "orig_nbformat": 4,
  "vscode": {
   "interpreter": {
    "hash": "7101ca937a6cefa303d920fd1335fe82956cc294edbf5f7bc268a5a56c54bb64"
   }
  }
 },
 "nbformat": 4,
 "nbformat_minor": 2
}
