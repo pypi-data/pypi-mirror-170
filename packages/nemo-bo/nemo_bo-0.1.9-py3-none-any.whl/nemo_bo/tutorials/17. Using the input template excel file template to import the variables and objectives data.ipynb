{
 "cells": [
  {
   "cell_type": "markdown",
   "metadata": {},
   "source": [
    "## Using the input template excel file template to import the variables and objectives data"
   ]
  },
  {
   "cell_type": "code",
   "execution_count": null,
   "metadata": {},
   "outputs": [],
   "source": [
    "# Import the variable, objectives, sampler, acquisition function, and the optimisation classes\n",
    "from typing import Dict, Tuple\n",
    "\n",
    "import numpy as np\n",
    "\n",
    "from nemo_bo.utils.extract_excel import extract_input_template\n",
    "from nemo_bo.opt.objectives import DeterministicFunction\n",
    "from nemo_bo.acquisition_functions.expected_improvement.expected_improvement import (\n",
    "    ExpectedImprovement,\n",
    ")\n",
    "from nemo_bo.opt.samplers import LatinHyperCubeSampling\n",
    "from nemo_bo.opt.optimisation import Optimisation"
   ]
  },
  {
   "cell_type": "markdown",
   "metadata": {},
   "source": [
    "### Using the input template excel file\n",
    "\n",
    "The excel file will always contain the sheets \"Variables\" and \"Objectives\", and additional sheets for every categorical variable with descriptors where the name of the sheet is the same as the name of the categorical variable.\n",
    "\n",
    "Inside the \"Variables\" and \"Objectives\" sheets, the same type of information as the arguments and some keyword arguments normally required can be provided. The cells for the keyword arguments can be left blank in the template. The variables (X) and objectives (Y) values are also in the respective sheets.\n",
    "\n",
    "The categorical variable with descriptors sheet contains the name of the categorical levels and their corresponding descriptor names and descriptor values\n",
    "\n",
    "For calculable objectives, the function (an instance of a `DeterministicFunction`) to calculate the target value using the variables needs to be added afterwards using the `add_calculable_obj_function` method. See the `defining_calculable_objectives.ipynb` tutorial for how to use the `DeterministicFunction` class."
   ]
  },
  {
   "cell_type": "code",
   "execution_count": null,
   "metadata": {},
   "outputs": [],
   "source": [
    "# Import the variables and objectives data using the input template excel file (input_template.xlsx)\n",
    "X, Y, var_list, obj_list = extract_input_template(\"extract_excel_example_template.xlsx\")\n",
    "\n",
    "# Define the deterministic function for the calculable objective\n",
    "# Cost calculation used for this example\n",
    "class Cost_calculation(DeterministicFunction):\n",
    "    def __init__(self, obj_function_data: Dict):\n",
    "        super().__init__(obj_function_data)\n",
    "\n",
    "    def evaluate(self, X: np.ndarray) -> Tuple[np.ndarray, np.ndarray]:\n",
    "        cost_array = np.zeros(X.shape[0])\n",
    "        for index, x in enumerate(X):\n",
    "            cost_array[index] = obj_function_data[x[1]]\n",
    "\n",
    "        return cost_array, np.zeros_like(cost_array)\n",
    "\n",
    "\n",
    "# Instantiate the deterministic function and pass in the any required calculation information\n",
    "obj_function_data = {\n",
    "    \"cat_level1\": 2.05,\n",
    "    \"cat_level2\": 1.00,\n",
    "    \"cat_level3\": 1.50,\n",
    "    \"cat_level4\": 5.00,\n",
    "}\n",
    "det_func = Cost_calculation(obj_function_data)\n",
    "\n",
    "# Add the calculable objective's function\n",
    "obj_list.add_calculable_obj_function(name=\"Cost\", obj_function=det_func)"
   ]
  },
  {
   "cell_type": "code",
   "execution_count": null,
   "metadata": {},
   "outputs": [],
   "source": [
    "# Instantiate the sampler\n",
    "sampler = LatinHyperCubeSampling()"
   ]
  },
  {
   "cell_type": "code",
   "execution_count": null,
   "metadata": {},
   "outputs": [],
   "source": [
    "# Instantiate the acquisition function\n",
    "acq_func = ExpectedImprovement(num_candidates=4)"
   ]
  },
  {
   "cell_type": "code",
   "execution_count": null,
   "metadata": {},
   "outputs": [],
   "source": [
    "# Set up the optimisation instance\n",
    "optimisation = Optimisation(var_list, obj_list, acq_func, sampler=sampler)"
   ]
  },
  {
   "cell_type": "code",
   "execution_count": null,
   "metadata": {},
   "outputs": [],
   "source": [
    "# Start the optimisation using the convenient run function that will run for the specified number of iterations\n",
    "optimisation_data = optimisation.run(X, Y, number_of_iterations=50)"
   ]
  }
 ],
 "metadata": {
  "kernelspec": {
   "display_name": "Python 3.9.13 64-bit",
   "language": "python",
   "name": "python3"
  },
  "language_info": {
   "codemirror_mode": {
    "name": "ipython",
    "version": 3
   },
   "file_extension": ".py",
   "mimetype": "text/x-python",
   "name": "python",
   "nbconvert_exporter": "python",
   "pygments_lexer": "ipython3",
   "version": "3.9.13"
  },
  "orig_nbformat": 4,
  "vscode": {
   "interpreter": {
    "hash": "4f95cac2866d48a154725f15da66ad3889a01053732bcd1fedad154961939282"
   }
  }
 },
 "nbformat": 4,
 "nbformat_minor": 2
}
