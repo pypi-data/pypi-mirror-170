{
 "cells": [
  {
   "cell_type": "markdown",
   "metadata": {},
   "source": [
    "## How to create a closed-loop optimisation using the single objective Ackley synthetic function as the benchmark function"
   ]
  },
  {
   "cell_type": "code",
   "execution_count": null,
   "metadata": {},
   "outputs": [],
   "source": [
    "# Import the variable, objectives, sampler, acquisition function, and the optimisation classes\n",
    "from nemo_bo.opt.variables import ContinuousVariable, VariablesList\n",
    "from nemo_bo.opt.objectives import RegressionObjective, ObjectivesList\n",
    "from nemo_bo.acquisition_functions.expected_improvement.expected_improvement import (\n",
    "    ExpectedImprovement,\n",
    ")\n",
    "from nemo_bo.opt.samplers import LatinHyperCubeSampling\n",
    "from nemo_bo.opt.optimisation import Optimisation"
   ]
  },
  {
   "cell_type": "markdown",
   "metadata": {},
   "source": [
    "### Setting up the variables and objectives for the synthetic function\n",
    "\n",
    "The following table shows the ideal parameters to use for each single objective synthetic function, where n_var is the number of variables\n",
    "\n",
    "| Name | Maximise/Minimise | String | Number of variables | Variable bounds | Objective bounds |\n",
    "| --- | --- | --- | --- | --- | --- |\n",
    "| Ackley | Minimise | \"ackley\" | any |all [-32.768, 32.768] | [0.0, 25.0] |\n",
    "| Griewank | Minimise | \"griewank\" | any | all [-600.0, 600.0] | [0.0, 100.0 * n_var] |\n",
    "| Levy | Minimise | \"levy\" | any | all [-10.0, 10.0] | [0.0, 50.0 * n_var] |\n",
    "| Michalewicz | Minimise | \"michalewicz\" | 2, 5, or 10 | all [0.0, math.pi] | [-1.9, 0.0], [-4.8, 0.0], or [-9.8, 0.0] |\n",
    "| Rastrigin | Minimise | \"rastrigin\" | any | all [-5.12, 5.12] | [0.0, 50.0 * n_var] |\n",
    "| Rosenbrock | Minimise | \"rosenbrock\" | any | all [-5.0, 10.0] | [0.0, 810081.0 * (n_var - 1)] |\n",
    "| Styblinski-Tang | Minimise | \"styblinski-tang\" | any | all [-5.0, 5.0] | [-40.0 * n_var, 25.0] |\n",
    "\n",
    "The number of variable objects need to be created according to the specified described in the table above.\n",
    "\n",
    "The example below uses the Ackley function with three variables"
   ]
  },
  {
   "cell_type": "code",
   "execution_count": null,
   "metadata": {},
   "outputs": [],
   "source": [
    "# Create the variable objects\n",
    "var_list = VariablesList(\n",
    "    [ContinuousVariable(name=f\"var{n}\", lower_bound=-5.0, upper_bound=5.0, units=\"\") for n in range(1, 4)]\n",
    ")"
   ]
  },
  {
   "cell_type": "code",
   "execution_count": null,
   "metadata": {},
   "outputs": [],
   "source": [
    "# Create the objective objects\n",
    "obj_list = ObjectivesList(\n",
    "    [RegressionObjective(name=\"Ackley_obj1\", obj_max_bool=False, lower_bound=0.0, upper_bound=25.0)]\n",
    ")"
   ]
  },
  {
   "cell_type": "code",
   "execution_count": null,
   "metadata": {},
   "outputs": [],
   "source": [
    "# Instantiate the sampler\n",
    "sampler = LatinHyperCubeSampling()"
   ]
  },
  {
   "cell_type": "code",
   "execution_count": null,
   "metadata": {},
   "outputs": [],
   "source": [
    "# Instantiate the acquisition function\n",
    "acq_func = ExpectedImprovement(num_candidates=4)"
   ]
  },
  {
   "cell_type": "markdown",
   "metadata": {},
   "source": [
    "### Setting up the benchmark\n",
    "\n",
    "The `SingleObjectiveSyntheticBenchmark` class is instantiated with the string name of the synthetic function and the number of variables as arguments and the size of the noise for the function as a keyword argument"
   ]
  },
  {
   "cell_type": "code",
   "execution_count": null,
   "metadata": {},
   "outputs": [],
   "source": [
    "from nemo_bo.opt.benchmark import MultiObjectiveSyntheticBenchmark\n",
    "\n",
    "# Instantiate the MultiObjectiveSyntheticBenchmark class to be the benchmark function\n",
    "benchmark = SingleObjectiveSyntheticBenchmark(\"ackley\", var_list.n_var, noise_std=0.25)"
   ]
  },
  {
   "cell_type": "code",
   "execution_count": null,
   "metadata": {},
   "outputs": [],
   "source": [
    "# Set up the optimisation instance whilst passing benchmark function\n",
    "optimisation = Optimisation(var_list, obj_list, acq_func, sampler=sampler, benchmark_func=benchmark)"
   ]
  },
  {
   "cell_type": "markdown",
   "metadata": {},
   "source": [
    "### Starting the optimisation run with the benchmark function\n",
    "\n",
    "When using a benchmark function in an optimisation, X and Y arrays do not need to be passed. The training set will be automatically created, where the number of samples is related to the sampler type chosen and the number of variables (`number of samples = (2 * number of variables) + 2`)\n",
    "\n",
    "When the plot_progress keyword argument is True, a pareto plot will be created at every iteration."
   ]
  },
  {
   "cell_type": "code",
   "execution_count": null,
   "metadata": {},
   "outputs": [],
   "source": [
    "# Start the optimisation using the convenient run function that will run for the specified number of iterations\n",
    "optimisation_data = optimisation.run(number_of_iterations=50, plot_progress=True)"
   ]
  }
 ],
 "metadata": {
  "kernelspec": {
   "display_name": "Python 3.10.5 64-bit",
   "language": "python",
   "name": "python3"
  },
  "language_info": {
   "name": "python",
   "version": "3.10.5"
  },
  "orig_nbformat": 4,
  "vscode": {
   "interpreter": {
    "hash": "7101ca937a6cefa303d920fd1335fe82956cc294edbf5f7bc268a5a56c54bb64"
   }
  }
 },
 "nbformat": 4,
 "nbformat_minor": 2
}
