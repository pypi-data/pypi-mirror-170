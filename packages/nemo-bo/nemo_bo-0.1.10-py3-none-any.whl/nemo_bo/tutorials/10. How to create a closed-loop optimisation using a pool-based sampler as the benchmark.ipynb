{
 "cells": [
  {
   "cell_type": "markdown",
   "metadata": {},
   "source": [
    "## How to create a closed-loop optimisation using a pool-based sampler as the benchmark"
   ]
  },
  {
   "cell_type": "code",
   "execution_count": null,
   "metadata": {},
   "outputs": [],
   "source": [
    "# Import the variable, objectives, sampler, acquisition function, and the optimisation classes\n",
    "from nemo_bo.opt.variables import ContinuousVariable, VariablesList\n",
    "from nemo_bo.opt.objectives import RegressionObjective, ObjectivesList\n",
    "from nemo_bo.acquisition_functions.expected_improvement.expected_improvement import (\n",
    "    ExpectedImprovement,\n",
    ")\n",
    "from nemo_bo.opt.optimisation import Optimisation"
   ]
  },
  {
   "cell_type": "code",
   "execution_count": null,
   "metadata": {},
   "outputs": [],
   "source": [
    "# Create the variable objects\n",
    "var1 = ContinuousVariable(name=\"variable1\", lower_bound=0.0, upper_bound=100.0)\n",
    "var2 = ContinuousVariable(name=\"variable2\", lower_bound=0.0, upper_bound=100.0)\n",
    "var_list = VariablesList([var1, var2])"
   ]
  },
  {
   "cell_type": "code",
   "execution_count": null,
   "metadata": {},
   "outputs": [],
   "source": [
    "# Create the objective objects\n",
    "obj1 = RegressionObjective(name=\"objective1\", obj_max_bool=True, lower_bound=0.0, upper_bound=100.0)\n",
    "obj2 = RegressionObjective(name=\"objective2\", obj_max_bool=False, lower_bound=0.0, upper_bound=100.0)\n",
    "obj_list = ObjectivesList([obj1, obj2])"
   ]
  },
  {
   "cell_type": "markdown",
   "metadata": {},
   "source": [
    "### Setting up the sample pool\n",
    "\n",
    "To benchmark using an existing collection of samples, the `PoolBased` class can be used as the sampler. Note that to use this method of benchmarking, a benchmark function object is not needed."
   ]
  },
  {
   "cell_type": "code",
   "execution_count": null,
   "metadata": {},
   "outputs": [],
   "source": [
    "from nemo_bo.opt.samplers import PoolBased\n",
    "\n",
    "# Instantiate the sampler to create the sample pool\n",
    "# X_pool and Y_pool arrays represent hypothetical datasets that are in the pool of samples to select from during the optimisation\n",
    "sampler = PoolBased(X_pool, Y_pool)"
   ]
  },
  {
   "cell_type": "markdown",
   "metadata": {},
   "source": [
    "Pool-based sampling requires the use of an expected improvement-type algorithm (`ExpectedImprovement` in NEMO). So the `NSGAImprovement` acquisition function in NEMO (based on the U-NSGA-III algorithm) cannot be used. This is because this type of optimisation requires selecting candidates from a user-defined pool of samples, which goes against how NSGA-type algorithms work, since they require generation of their own samples *in situ*."
   ]
  },
  {
   "cell_type": "code",
   "execution_count": null,
   "metadata": {},
   "outputs": [],
   "source": [
    "# Instantiate the acquisition function\n",
    "acq_func = ExpectedImprovement(num_candidates=4)"
   ]
  },
  {
   "cell_type": "code",
   "execution_count": null,
   "metadata": {},
   "outputs": [],
   "source": [
    "# Set up the optimisation instance\n",
    "optimisation = Optimisation(var_list, obj_list, acq_func, sampler=sampler)"
   ]
  },
  {
   "cell_type": "markdown",
   "metadata": {},
   "source": [
    "### Starting the optimisation run\n",
    "Start the optimisation using the convenient run function that will run for the specified number of iterations. Ensure that `number_of_iterations * num_candidates` in the acquisition function does exceed the number of samples in the pool.\n",
    "\n",
    "When the plot_progress keyword argument is True, a pareto plot will be created at every iteration."
   ]
  },
  {
   "cell_type": "code",
   "execution_count": null,
   "metadata": {},
   "outputs": [],
   "source": [
    "# X and Y arrays represent a hypothetical initial dataset\n",
    "optimisation_data = optimisation.run(X, Y, number_of_iterations=50, plot_progress=True)"
   ]
  }
 ],
 "metadata": {
  "kernelspec": {
   "display_name": "Python 3.10.5 64-bit",
   "language": "python",
   "name": "python3"
  },
  "language_info": {
   "name": "python",
   "version": "3.10.5"
  },
  "orig_nbformat": 4,
  "vscode": {
   "interpreter": {
    "hash": "7101ca937a6cefa303d920fd1335fe82956cc294edbf5f7bc268a5a56c54bb64"
   }
  }
 },
 "nbformat": 4,
 "nbformat_minor": 2
}
