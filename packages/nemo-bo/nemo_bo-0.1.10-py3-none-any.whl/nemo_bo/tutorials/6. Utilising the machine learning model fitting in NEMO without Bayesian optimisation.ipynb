{
 "cells": [
  {
   "cell_type": "markdown",
   "metadata": {},
   "source": [
    "## Utilising the machine learning model fitting in NEMO without Bayesian optimisation"
   ]
  },
  {
   "cell_type": "code",
   "execution_count": null,
   "metadata": {},
   "outputs": [],
   "source": [
    "# Import the variable, and the objective classes\n",
    "from nemo_bo.opt.variables import ContinuousVariable, VariablesList\n",
    "from nemo_bo.opt.objectives import RegressionObjective, ObjectivesList"
   ]
  },
  {
   "cell_type": "code",
   "execution_count": null,
   "metadata": {},
   "outputs": [],
   "source": [
    "# Create the variable objects\n",
    "var1 = ContinuousVariable(name=\"variable1\", lower_bound=0.0, upper_bound=100.0)\n",
    "var2 = ContinuousVariable(name=\"variable2\", lower_bound=0.0, upper_bound=100.0)\n",
    "var_list = VariablesList([var1, var2])"
   ]
  },
  {
   "cell_type": "code",
   "execution_count": null,
   "metadata": {},
   "outputs": [],
   "source": [
    "# Create the objective objects\n",
    "obj1 = RegressionObjective(name=\"objective1\", obj_max_bool=True, lower_bound=0.0, upper_bound=100.0)\n",
    "obj2 = RegressionObjective(name=\"objective2\", obj_max_bool=False, lower_bound=0.0, upper_bound=100.0)\n",
    "obj_list = ObjectivesList([obj1, obj2])"
   ]
  },
  {
   "cell_type": "markdown",
   "metadata": {},
   "source": [
    "The NEMO package can also be used to fit datasets to machine learning models without Bayesian optimisation.\n",
    "\n",
    "The `model_search_bool` keyword argument specifies whether automated model and hyperparameter optimisation is to be performed.\n",
    "\n",
    "The `test_ratio` keyword argument specifies the proportion of inputted X and Y arrays to be split for the validation and test sets for fitting applicable model types. Alternatively, a user-defined list of X and Y arrays can be passed in the `test_data` keyword argument to be used instead of allowing NEMO to split the data. "
   ]
  },
  {
   "cell_type": "code",
   "execution_count": null,
   "metadata": {},
   "outputs": [],
   "source": [
    "# Fit all objectives that are to be modelled using machine learning\n",
    "# X and Y arrays represent a hypothetical dataset\n",
    "obj_list.fit(X, Y, var_list, model_search_bool=True, test_ratio=0.2, test_data=None)"
   ]
  },
  {
   "cell_type": "markdown",
   "metadata": {},
   "source": [
    "Model parameters and performance can be displayed after the fitting is completed"
   ]
  },
  {
   "cell_type": "code",
   "execution_count": null,
   "metadata": {},
   "outputs": [],
   "source": [
    "# Show the best model types identified for every objective\n",
    "obj_list.predictor_type"
   ]
  },
  {
   "cell_type": "code",
   "execution_count": null,
   "metadata": {},
   "outputs": [],
   "source": [
    "# X and Y arrays represent a hypothetical dataset\n",
    "# Return the permutation feature importance for all features in every fitted machine learning model\n",
    "# If transform_cat_to_cont = True, the permutation feature importance will be calculated for every descriptor of the CategoricalVariableWithDescriptors variables.\n",
    "# When False, the permutation feature importance will be calculated for the categorical level directly\n",
    "feature_importance_dict = obj_list.feature_importance(X, Y, transform_cat_to_cont=True)"
   ]
  },
  {
   "cell_type": "code",
   "execution_count": null,
   "metadata": {},
   "outputs": [],
   "source": [
    "# Plot the parity plots for the best models identified for every regression objective\n",
    "obj_list.parity_plot()"
   ]
  }
 ],
 "metadata": {
  "kernelspec": {
   "display_name": "Python 3.10.5 64-bit",
   "language": "python",
   "name": "python3"
  },
  "language_info": {
   "name": "python",
   "version": "3.10.5"
  },
  "orig_nbformat": 4,
  "vscode": {
   "interpreter": {
    "hash": "7101ca937a6cefa303d920fd1335fe82956cc294edbf5f7bc268a5a56c54bb64"
   }
  }
 },
 "nbformat": 4,
 "nbformat_minor": 2
}
