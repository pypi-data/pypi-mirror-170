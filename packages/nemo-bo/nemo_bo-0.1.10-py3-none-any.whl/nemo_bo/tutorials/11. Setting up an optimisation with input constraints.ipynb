{
 "cells": [
  {
   "cell_type": "markdown",
   "metadata": {},
   "source": [
    "## Setting up an optimisation with input constraints"
   ]
  },
  {
   "cell_type": "code",
   "execution_count": null,
   "metadata": {},
   "outputs": [],
   "source": [
    "# Import the variable, objectives, sampler, acquisition function, and the optimisation classes\n",
    "from nemo_bo.opt.variables import ContinuousVariable, VariablesList\n",
    "from nemo_bo.opt.objectives import RegressionObjective, ObjectivesList\n",
    "from nemo_bo.acquisition_functions.expected_improvement.expected_improvement import (\n",
    "    ExpectedImprovement,\n",
    ")\n",
    "from nemo_bo.opt.samplers import LatinHyperCubeSampling\n",
    "from nemo_bo.opt.optimisation import Optimisation"
   ]
  },
  {
   "cell_type": "code",
   "execution_count": null,
   "metadata": {},
   "outputs": [],
   "source": [
    "# Create the variable objects\n",
    "var1 = ContinuousVariable(name=\"variable1\", lower_bound=0.0, upper_bound=100.0)\n",
    "var2 = ContinuousVariable(name=\"variable2\", lower_bound=0.0, upper_bound=100.0)\n",
    "var3 = ContinuousVariable(name=\"variable3\", lower_bound=0.0, upper_bound=100.0)\n",
    "var4 = ContinuousVariable(name=\"variable4\", lower_bound=0.0, upper_bound=100.0)\n",
    "var5 = CategoricalVariableWithDescriptors(\n",
    "    name=\"Cat_Var_Desc1\",\n",
    "    descriptor_names=[\"descriptor1\", \"descriptor2\", \"descriptor3\"],\n",
    "    categorical_levels=[\"cat_level1\", \"cat_level2\", \"cat_level3\", \"cat_level4\"],\n",
    "    categorical_descriptors=np.array(\n",
    "        [\n",
    "            [\"0.1\", \"1\", \"60\"],\n",
    "            [\"0.15\", \"2\", \"65\"],\n",
    "            [\"0.25\", \"4\", \"75\"],\n",
    "            [\"0.3\", \"6\", \"90\"],\n",
    "        ]\n",
    "    ),\n",
    ")\n",
    "var6 = CategoricalVariableWithDescriptors(\n",
    "    name=\"Cat_Var_Desc2\",\n",
    "    descriptor_names=[\"descriptor1\", \"descriptor2\"],\n",
    "    categorical_levels=[\"cat_level1\", \"cat_level2\", \"cat_level3\"],\n",
    "    categorical_descriptors=np.array([[\"0.1\", \"1\", \"60\"], [\"0.15\", \"2\", \"65\"], [\"0.25\", \"4\", \"75\"]]),\n",
    ")\n",
    "var_list = VariablesList([var1, var2, var3, var4, var5, var6])"
   ]
  },
  {
   "cell_type": "markdown",
   "metadata": {},
   "source": [
    "### Input constraints\n",
    "\n",
    "Input constraints are used for both the sample generator and the acquisition functions. The examples below are a hypothetical example of how the constraints can be used with a set of continuous and categorical variables. The docstrings for the constraints comprehensively explains the arguments and keyword arguments.\n",
    "\n",
    "By default in NEMO, all inequality constraints must be defined as 'greater than or equal to'.\n",
    "\n",
    "Note: This aligns with how constraints are defined in the scipy package, but is the opposite when compared to the pymoo package"
   ]
  },
  {
   "cell_type": "code",
   "execution_count": null,
   "metadata": {},
   "outputs": [],
   "source": [
    "from nemo_bo.opt.constraints import (LinearConstraint, NonLinearPowerConstraint, FunctionalConstraint, \n",
    "StoichiometricConstraint, MaxActiveFeaturesConstraint, CategoricalConstraint, ConstraintsList)\n",
    "\n",
    "# The total of \"variable1\", \"variable2\", \"variable3\" must equal 100\n",
    "constraint1 = LinearConstraint(constraint_type='eq',\n",
    "                                    variables=var_list,\n",
    "                                    features=[\"variable1\", \"variable2\", \"variable3\"],\n",
    "                                    coefficients=[1, 1, 1],\n",
    "                                    rhs=100)\n",
    "\n",
    "# (3 * (\"variable1\" ^ 2)) + \"variable2\" must greater than or equal to 40\n",
    "constraint2 = NonLinearPowerConstraint(constraint_type='ineq',\n",
    "                                    variables=var_list,\n",
    "                                    features=[\"variable1\", \"variable2\"],\n",
    "                                    coefficients=[3, 1],\n",
    "                                    powers=[2, 1],\n",
    "                                    rhs=40)\n",
    "\n",
    "# Define the function that calculates the left-hand-side of the constraint and pass it into the FunctionalConstraint class\n",
    "def fun(x, **fun_kwargs):\n",
    "    return (x[1] - np.sin(x[2]))\n",
    "\n",
    "# The value calculated by the 'fun' method using \"variable2\" and \"variable3\" must be greater than or equal to 10\n",
    "constraint3 = FunctionalConstraint(constraint_type='ineq',\n",
    "                                    variables=var_list,\n",
    "                                    features=[\"variable2\", \"variable3\"],\n",
    "                                    fun=fun,\n",
    "                                    rhs=10,\n",
    "                                    )\n",
    "\n",
    "# The stoichiometric ratio of variable1 / variable 3 must be greater than or equal to 3\n",
    "constraint4 = StoichiometricConstraint(constraint_type='ineq',\n",
    "                                    variables=var_list,\n",
    "                                    feature1=\"variable3\",\n",
    "                                    feature2=\"variable1\",\n",
    "                                    ratio=3)\n",
    "\n",
    "# Out of \"variable1\", \"variable2\", \"variable3\", and \"variable4\", only 3 of them can be used (i.e. greater than zero) \n",
    "# for any experiment\n",
    "constraint5 = MaxActiveFeaturesConstraint(variables=var_list,\n",
    "                                    feature1=[\"variable1\", \"variable2\", \"variable3\", \"variable4\"],\n",
    "                                    max_active=3)\n",
    "\n",
    "# For categorical features \"Cat_Var_Desc1\" and \"Cat_Var_Desc2\", \"cat_level1\" from \"Cat_Var_Desc1\" can not be used at \n",
    "# the same time as either \"cat_level2\" or \"cat_level3\" from \"Cat_Var_Desc2\"\n",
    "constraint6 = CategoricalConstraint(variables=var_list,\n",
    "                                    feature1=\"Cat_Var_Desc1\",\n",
    "                                    feature2=\"Cat_Var_Desc2\",\n",
    "                                    categorical_levels1=[\"cat_level1\"]\n",
    "                                    categorical_levels2=[\"cat_level2\", \"cat_level3\"]\n",
    "                                    max_active=3)\n",
    "\n",
    "const_list = ConstraintsList([constraint1, constraint2, constraint3, constraint4, constraint5, constraint6])\n"
   ]
  },
  {
   "cell_type": "code",
   "execution_count": null,
   "metadata": {},
   "outputs": [],
   "source": [
    "# Create the objective objects\n",
    "obj1 = RegressionObjective(name=\"objective1\", obj_max_bool=True, lower_bound=0.0, upper_bound=100.0)\n",
    "obj_list = ObjectivesList([obj1])"
   ]
  },
  {
   "cell_type": "code",
   "execution_count": null,
   "metadata": {},
   "outputs": [],
   "source": [
    "# Instantiate the sampler\n",
    "sampler = LatinHyperCubeSampling(num_new_points=2**20)"
   ]
  },
  {
   "cell_type": "code",
   "execution_count": null,
   "metadata": {},
   "outputs": [],
   "source": [
    "# Instantiate the acquisition function\n",
    "acq_func = ExpectedImprovement(num_candidates=4)"
   ]
  },
  {
   "cell_type": "code",
   "execution_count": null,
   "metadata": {},
   "outputs": [],
   "source": [
    "# Set up the optimisation instance with the constraints\n",
    "optimisation = Optimisation(var_list, obj_list, acq_func, sampler=sampler, constraints=const_list)"
   ]
  },
  {
   "cell_type": "code",
   "execution_count": null,
   "metadata": {},
   "outputs": [],
   "source": [
    "# Start the optimisation using the convenient run function that will run for the specified number of iterations\n",
    "# X and Y arrays represent a hypothetical initial dataset\n",
    "optimisation_data = optimisation.run(X, Y, number_of_iterations=50)"
   ]
  }
 ],
 "metadata": {
  "kernelspec": {
   "display_name": "Python 3.10.5 64-bit",
   "language": "python",
   "name": "python3"
  },
  "language_info": {
   "name": "python",
   "version": "3.10.5"
  },
  "orig_nbformat": 4,
  "vscode": {
   "interpreter": {
    "hash": "7101ca937a6cefa303d920fd1335fe82956cc294edbf5f7bc268a5a56c54bb64"
   }
  }
 },
 "nbformat": 4,
 "nbformat_minor": 2
}
