{
 "cells": [
  {
   "cell_type": "markdown",
   "metadata": {},
   "source": [
    "## How to use calculable objectives"
   ]
  },
  {
   "cell_type": "code",
   "execution_count": null,
   "metadata": {},
   "outputs": [],
   "source": [
    "# Import the variable, objectives, sampler, acquisition function, and the optimisation classes\n",
    "from nemo_bo.opt.variables import ContinuousVariable, VariablesList\n",
    "from nemo_bo.opt.objectives import RegressionObjective, ObjectivesList\n",
    "from nemo_bo.acquisition_functions.expected_improvement.expected_improvement import (\n",
    "    ExpectedImprovement,\n",
    ")\n",
    "from nemo_bo.opt.samplers import LatinHyperCubeSampling\n",
    "from nemo_bo.opt.optimisation import Optimisation"
   ]
  },
  {
   "cell_type": "code",
   "execution_count": null,
   "metadata": {},
   "outputs": [],
   "source": [
    "# Create the variable objects\n",
    "var1 = ContinuousVariable(name=\"variable1\", lower_bound=0.0, upper_bound=100.0)\n",
    "var2 = ContinuousVariable(name=\"variable2\", lower_bound=0.0, upper_bound=100.0)\n",
    "var_list = VariablesList([var1, var2])"
   ]
  },
  {
   "cell_type": "markdown",
   "metadata": {},
   "source": [
    "### 1. Define the function to use for converting the variable data into the target value\n",
    "The first step to creating a calculable objective is to define the function to use for converting the variable data into the target value. For example, this can be used for determining the exact cost of a set of variables. This function inherits the `DeterministicFunction` class.\n",
    "\n",
    "A key aspect of this function is the `obj_function_data` keyword argument that is required when the class is instantiated because it contains the information required for evaluation.\n",
    "\n",
    "The `evaluate` function is required to return a tuple of the calculated value and the standard deviation of the calculated value. For example, the `Cost_calculation` class shown below has an evaluate function that returns the exact cost and a standard deviation of zero for each cost.\n",
    "\n",
    "Following this, the function class written is instantiated whilst passing in any required information.\n",
    "\n",
    "### 2. Specifying an optimisation target as a calculable objective\n",
    "The `CalculableObjective` class shares many arguments and keyword arguments as the `RegressionObjective` class except that a `DeterministicFunction` is be passed using the `ob_function` argument."
   ]
  },
  {
   "cell_type": "code",
   "execution_count": null,
   "metadata": {},
   "outputs": [],
   "source": [
    "# Define the deterministic function for the calculable objective\n",
    "from typing import Dict, Tuple\n",
    "\n",
    "import numpy as np\n",
    "from nemo_bo.opt.objectives import DeterministicFunction\n",
    "from nemo_bo.opt.objectives import CalculableObjective\n",
    "\n",
    "\n",
    "# Cost calculation used for this example\n",
    "class Cost_calculation(DeterministicFunction):\n",
    "    def __init__(self, obj_function_data: Dict):\n",
    "        super().__init__(obj_function_data)\n",
    "\n",
    "    def evaluate(self, X: np.ndarray) -> Tuple[np.ndarray, np.ndarray]:\n",
    "        cost_variable1 = X[:, 0] * self.obj_function_data[\"variable1_cost_per_kg\"]\n",
    "        cost_variable2 = X[:, 1] * self.obj_function_data[\"variable2_cost_per_kg\"]\n",
    "\n",
    "        cost_total = cost_variable1 + cost_variable2\n",
    "        cost_stddev = np.zeros_like(cost_total)\n",
    "\n",
    "        return cost_total, cost_stddev\n",
    "\n",
    "\n",
    "# Instantiate the deterministic function and pass in the any required calculation information\n",
    "obj_function_data = {\"variable1_cost_per_kg\": 0.95, \"variable2_cost_per_kg\": 2.05}\n",
    "det_func = Cost_calculation(obj_function_data)\n",
    "\n",
    "# Define the calculable objective\n",
    "obj1 = CalculableObjective(\n",
    "    name=\"Cost\",\n",
    "    obj_max_bool=False,\n",
    "    lower_bound=0.0,\n",
    "    upper_bound=7.5,\n",
    "    obj_function=det_func,\n",
    "    units=\"$\",\n",
    ")"
   ]
  },
  {
   "cell_type": "code",
   "execution_count": null,
   "metadata": {},
   "outputs": [],
   "source": [
    "# Create the objective objects to be modelled using a machine learning model\n",
    "obj2 = RegressionObjective(name=\"objective2\", obj_max_bool=False, lower_bound=0.0, upper_bound=100.0)\n",
    "obj_list = ObjectivesList([obj1, obj2])"
   ]
  },
  {
   "cell_type": "code",
   "execution_count": null,
   "metadata": {},
   "outputs": [],
   "source": [
    "# Instantiate the sampler\n",
    "sampler = LatinHyperCubeSampling()"
   ]
  },
  {
   "cell_type": "code",
   "execution_count": null,
   "metadata": {},
   "outputs": [],
   "source": [
    "# Instantiate the acquisition function\n",
    "acq_func = ExpectedImprovement(num_candidates=4)"
   ]
  },
  {
   "cell_type": "code",
   "execution_count": null,
   "metadata": {},
   "outputs": [],
   "source": [
    "# Set up the optimisation instance\n",
    "optimisation = Optimisation(var_list, obj_list, acq_func, sampler=sampler)"
   ]
  },
  {
   "cell_type": "code",
   "execution_count": null,
   "metadata": {},
   "outputs": [],
   "source": [
    "# Start the optimisation using the convenient run function that will run for the specified number of iterations\n",
    "# X and Y arrays represent a hypothetical initial dataset\n",
    "optimisation_data = optimisation.run(X, Y, number_of_iterations=50)"
   ]
  }
 ],
 "metadata": {
  "kernelspec": {
   "display_name": "Python 3.10.5 64-bit",
   "language": "python",
   "name": "python3"
  },
  "language_info": {
   "name": "python",
   "version": "3.10.5"
  },
  "orig_nbformat": 4,
  "vscode": {
   "interpreter": {
    "hash": "7101ca937a6cefa303d920fd1335fe82956cc294edbf5f7bc268a5a56c54bb64"
   }
  }
 },
 "nbformat": 4,
 "nbformat_minor": 2
}
