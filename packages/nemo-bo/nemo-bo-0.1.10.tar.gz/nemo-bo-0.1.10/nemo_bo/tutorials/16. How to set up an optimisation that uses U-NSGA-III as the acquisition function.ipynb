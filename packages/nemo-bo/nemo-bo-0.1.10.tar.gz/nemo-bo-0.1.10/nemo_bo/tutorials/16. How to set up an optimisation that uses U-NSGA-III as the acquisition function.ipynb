{
 "cells": [
  {
   "cell_type": "markdown",
   "metadata": {},
   "source": [
    "## How to set up an optimisation that uses U-NSGA-III as the acquisition function\n",
    "\n",
    "U-NSGA-III can be used for single-objective and multi-objective problems. Like the TS-EMO method, samples are drawn from the objective functions' distributions as opposed to using the mean of the distribution directly during inference in the algorithm.\n",
    "\n",
    "The U-NSGA-III algorithm is implemented in the `NSGAImprovement` acquisition function in NEMO. The following are the steps for how this acquisition function works:\n",
    "1. The acquisition function will firstly use the U-NSGA-III algorithm to identify potential samples on the pareto front. A sampler object is not used for this step because the algorithm will actively generate it's own samples *in situ*. \n",
    "2. The new potential pareto front points will be checked against the existing pareto front in the database. The method tries to find a combination of `NSGAImprovement.num_candidates` number of data points from new potential pareto front points that improvement the existing hypervolume.\n",
    "3. If step 2 is successful, then these points will be the suggested candidates by the acquisition function.\n",
    "4. Alternatively, if step 2 fails, then the `HighestUncertainty` acquisition function is run to identify `NSGAImprovement.num_candidates` number of sets of X-values that have the highest predictive uncertainty (standard deviation) in the objective functions. The identified high uncertainty candidates are suggested as experiments to run."
   ]
  },
  {
   "cell_type": "code",
   "execution_count": null,
   "metadata": {},
   "outputs": [],
   "source": [
    "# Import the variable, objectives, sampler, acquisition function, and the optimisation classes\n",
    "from nemo_bo.opt.variables import ContinuousVariable, VariablesList\n",
    "from nemo_bo.opt.objectives import RegressionObjective, ObjectivesList\n",
    "from nemo_bo.acquisition_functions.nsga_improvement.nsga_improvement import (\n",
    "    NSGAImprovement,\n",
    ")\n",
    "from nemo_bo.opt.optimisation import Optimisation"
   ]
  },
  {
   "cell_type": "code",
   "execution_count": null,
   "metadata": {},
   "outputs": [],
   "source": [
    "# Create the variable objects\n",
    "var1 = ContinuousVariable(name=\"variable1\", lower_bound=0.0, upper_bound=100.0)\n",
    "var2 = ContinuousVariable(name=\"variable2\", lower_bound=0.0, upper_bound=100.0)\n",
    "var3 = ContinuousVariable(name=\"variable3\", lower_bound=0.0, upper_bound=100.0)\n",
    "var_list = VariablesList([var1, var2, var3])"
   ]
  },
  {
   "cell_type": "code",
   "execution_count": null,
   "metadata": {},
   "outputs": [],
   "source": [
    "# Create the objective objects\n",
    "obj1 = RegressionObjective(\n",
    "    name=\"objective1\",\n",
    "    obj_max_bool=True,\n",
    "    lower_bound=0.0,\n",
    "    upper_bound=100.0,\n",
    ")\n",
    "obj2 = RegressionObjective(\n",
    "    name=\"objective2\",\n",
    "    obj_max_bool=False,\n",
    "    lower_bound=0.0,\n",
    "    upper_bound=100.0,\n",
    ")\n",
    "obj_list = ObjectivesList([obj1, obj2])"
   ]
  },
  {
   "cell_type": "markdown",
   "metadata": {},
   "source": [
    "Setting the number of suggested candidates, `num_candidates` to be more than 4 is not recommended due to the risk of long run times. The method used to determine the hypervolume improvement in NEMO dramatically increases in run time as the number of new potential pareto front points increases when `num_candidates` are greater than 4."
   ]
  },
  {
   "cell_type": "code",
   "execution_count": null,
   "metadata": {},
   "outputs": [],
   "source": [
    "# Instantiate the NSGAImprovement class to use as the acquisition function\n",
    "acq_func = NSGAImprovement(num_candidates=2)"
   ]
  },
  {
   "cell_type": "code",
   "execution_count": null,
   "metadata": {},
   "outputs": [],
   "source": [
    "# Set up the optimisation instance\n",
    "optimisation = Optimisation(var_list, obj_list, acq_func)"
   ]
  },
  {
   "cell_type": "code",
   "execution_count": null,
   "metadata": {},
   "outputs": [],
   "source": [
    "# Start the optimisation using the convenient run function that will run for the specified number of iterations\n",
    "# X and Y arrays represent a hypothetical initial dataset\n",
    "optimisation_data = optimisation.run(X, Y, number_of_iterations=50)"
   ]
  }
 ],
 "metadata": {
  "kernelspec": {
   "display_name": "Python 3.10.5 64-bit",
   "language": "python",
   "name": "python3"
  },
  "language_info": {
   "name": "python",
   "version": "3.10.5"
  },
  "orig_nbformat": 4,
  "vscode": {
   "interpreter": {
    "hash": "7101ca937a6cefa303d920fd1335fe82956cc294edbf5f7bc268a5a56c54bb64"
   }
  }
 },
 "nbformat": 4,
 "nbformat_minor": 2
}
