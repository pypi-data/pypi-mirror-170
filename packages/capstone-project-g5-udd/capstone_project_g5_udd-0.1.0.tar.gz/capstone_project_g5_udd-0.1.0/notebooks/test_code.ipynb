{
 "cells": [
  {
   "cell_type": "code",
   "execution_count": 1,
   "outputs": [
    {
     "name": "stderr",
     "output_type": "stream",
     "text": [
      "/Users/nicolas/opt/anaconda3/envs/MDS/lib/python3.8/site-packages/paramiko/transport.py:219: CryptographyDeprecationWarning: Blowfish has been deprecated\n",
      "  \"class\": algorithms.Blowfish,\n"
     ]
    }
   ],
   "source": [
    "import pandas as pd\n",
    "import paramiko"
   ],
   "metadata": {
    "collapsed": false,
    "pycharm": {
     "name": "#%%\n"
    }
   }
  },
  {
   "cell_type": "code",
   "execution_count": 2,
   "outputs": [],
   "source": [
    "ssh_client = paramiko.SSHClient()\n",
    "ssh_client.set_missing_host_key_policy(paramiko.AutoAddPolicy())\n",
    "ssh_client.connect(hostname='172.21.1.42', username='npastorb', password='npastorb123')\n",
    "ftp_client= ssh_client.open_sftp()"
   ],
   "metadata": {
    "collapsed": false,
    "pycharm": {
     "name": "#%%\n"
    }
   }
  },
  {
   "cell_type": "markdown",
   "source": [
    "Contiene todos los modelos comercializados en Chile\n",
    "/home/npastorb/derco/Diccionario_Modelos_Inscripciones.csv"
   ],
   "metadata": {
    "collapsed": false,
    "pycharm": {
     "name": "#%% md\n"
    }
   }
  },
  {
   "cell_type": "code",
   "execution_count": 5,
   "outputs": [],
   "source": [
    "with ftp_client.open(\"/home/npastorb/derco/Diccionario_Modelos_Inscripciones.csv\") as f:\n",
    "    df = pd.read_csv(f, sep=\";\")"
   ],
   "metadata": {
    "collapsed": false,
    "pycharm": {
     "name": "#%%\n"
    }
   }
  },
  {
   "cell_type": "code",
   "execution_count": 6,
   "outputs": [
    {
     "data": {
      "text/plain": "               MARCA EN BASE MODELO EN BASE  FECHA             VEHICULO  \\\n0             ABARTH 595 E6D 695 RIVALE 1.4  43617    LIVIANO Y MEDIANO   \n1                         ABARTH 595E6D 1.4  43617    LIVIANO Y MEDIANO   \n2                     ABARTH ABARTH 595 1.4  43800  Livianos y Medianos   \n3                         ABARTH SIN MODELO  43556    LIVIANO Y MEDIANO   \n4                                 ACURA MDX  44136    LIVIANO Y MEDIANO   \n...                                     ...    ...                  ...   \n25621      ZXAUTO TERRALORD LUX PLUS 4X4 MT  43983    LIVIANO Y MEDIANO   \n25622  ZXAUTO TERRALORD LUX PLUS 4X4 MT 2.5  44075    LIVIANO Y MEDIANO   \n25623  ZXAUTO TERRALORD LUX PLUS D/C MT 4X4  44197  Livianos y Medianos   \n25624           ZXAUTO TERROLORD DC DLX 4X2  44105    LIVIANO Y MEDIANO   \n25625           ZXAUTO TERROLORD DLX MT 4X4  44348  Livianos y Medianos   \n\n                        TIPO MARCA EN BASE MODELO HOMOLOGADO  \\\n0      Vehículo de Pasajeros        ABARTH               595   \n1      Vehículo de Pasajeros        ABARTH               595   \n2                       AUTO        ABARTH               595   \n3      Vehículo de Pasajeros        ABARTH        SIN MODELO   \n4                        STW         ACURA               MDX   \n...                      ...           ...               ...   \n25621                   CMNT        ZXAUTO         TERRALORD   \n25622                   CMNT        ZXAUTO         TERRALORD   \n25623                   CMNT        ZXAUTO         TERRALORD   \n25624                   CMNT        ZXAUTO         TERRALORD   \n25625                   CMNT        ZXAUTO         TERRALORD   \n\n                      MODELO EN BASE   MARCA MODELO FAMILIA     SPORT  CHINA  \\\n0             595 E6D 695 RIVALE 1.4  ABARTH            595     SPORT   OTRO   \n1                         595E6D 1.4  ABARTH            595     SPORT   OTRO   \n2                     ABARTH 595 1.4  ABARTH            595     SPORT   OTRO   \n3                         SIN MODELO  ABARTH     SIN MODELO  NO SPORT   OTRO   \n4                                MDX   ACURA            MDX  NO SPORT   OTRO   \n...                              ...     ...            ...       ...    ...   \n25621      TERRALORD LUX PLUS 4X4 MT  ZXAUTO      TERRALORD  NO SPORT  CHINA   \n25622  TERRALORD LUX PLUS 4X4 MT 2.5  ZXAUTO      TERRALORD  NO SPORT  CHINA   \n25623  TERRALORD LUX PLUS D/C MT 4X4  ZXAUTO      TERRALORD  NO SPORT  CHINA   \n25624           TERROLORD DC DLX 4X2  ZXAUTO      TERRALORD  NO SPORT  CHINA   \n25625           TERROLORD DLX MT 4X4  ZXAUTO      TERRALORD  NO SPORT  CHINA   \n\n      MARCA MODELO HOMOLOGADO MARCA MODELO FAMILIA  N SEGMENTOS  \\\n0                  ABARTH 595           ABARTH 595            1   \n1                  ABARTH 595           ABARTH 595            1   \n2                  ABARTH 595           ABARTH 595            1   \n3           ABARTH SIN MODELO    ABARTH SIN MODELO            1   \n4                   ACURA MDX            ACURA MDX            1   \n...                       ...                  ...          ...   \n25621        ZXAUTO TERRALORD     ZXAUTO TERRALORD            1   \n25622        ZXAUTO TERRALORD     ZXAUTO TERRALORD            1   \n25623        ZXAUTO TERRALORD     ZXAUTO TERRALORD            1   \n25624        ZXAUTO TERRALORD     ZXAUTO TERRALORD            1   \n25625        ZXAUTO TERRALORD     ZXAUTO TERRALORD            1   \n\n      N SPORT NO SPORT    SEGMENTO CLASIFICACION N MH  \n0                    1   HATCHBACK             A    1  \n1                    1   HATCHBACK             A    1  \n2                    1   HATCHBACK             A    1  \n3                    1  SIN MODELO    SIN MODELO    1  \n4                    1         SUV             E    1  \n...                ...         ...           ...  ...  \n25621                1     PICK UP             C    1  \n25622                1     PICK UP             C    1  \n25623                1     PICK UP             C    1  \n25624                1     PICK UP             C    1  \n25625                1     PICK UP             C    1  \n\n[25626 rows x 18 columns]",
      "text/html": "<div>\n<style scoped>\n    .dataframe tbody tr th:only-of-type {\n        vertical-align: middle;\n    }\n\n    .dataframe tbody tr th {\n        vertical-align: top;\n    }\n\n    .dataframe thead th {\n        text-align: right;\n    }\n</style>\n<table border=\"1\" class=\"dataframe\">\n  <thead>\n    <tr style=\"text-align: right;\">\n      <th></th>\n      <th>MARCA EN BASE MODELO EN BASE</th>\n      <th>FECHA</th>\n      <th>VEHICULO</th>\n      <th>TIPO</th>\n      <th>MARCA EN BASE</th>\n      <th>MODELO HOMOLOGADO</th>\n      <th>MODELO EN BASE</th>\n      <th>MARCA</th>\n      <th>MODELO FAMILIA</th>\n      <th>SPORT</th>\n      <th>CHINA</th>\n      <th>MARCA MODELO HOMOLOGADO</th>\n      <th>MARCA MODELO FAMILIA</th>\n      <th>N SEGMENTOS</th>\n      <th>N SPORT NO SPORT</th>\n      <th>SEGMENTO</th>\n      <th>CLASIFICACION</th>\n      <th>N MH</th>\n    </tr>\n  </thead>\n  <tbody>\n    <tr>\n      <th>0</th>\n      <td>ABARTH 595 E6D 695 RIVALE 1.4</td>\n      <td>43617</td>\n      <td>LIVIANO Y MEDIANO</td>\n      <td>Vehículo de Pasajeros</td>\n      <td>ABARTH</td>\n      <td>595</td>\n      <td>595 E6D 695 RIVALE 1.4</td>\n      <td>ABARTH</td>\n      <td>595</td>\n      <td>SPORT</td>\n      <td>OTRO</td>\n      <td>ABARTH 595</td>\n      <td>ABARTH 595</td>\n      <td>1</td>\n      <td>1</td>\n      <td>HATCHBACK</td>\n      <td>A</td>\n      <td>1</td>\n    </tr>\n    <tr>\n      <th>1</th>\n      <td>ABARTH 595E6D 1.4</td>\n      <td>43617</td>\n      <td>LIVIANO Y MEDIANO</td>\n      <td>Vehículo de Pasajeros</td>\n      <td>ABARTH</td>\n      <td>595</td>\n      <td>595E6D 1.4</td>\n      <td>ABARTH</td>\n      <td>595</td>\n      <td>SPORT</td>\n      <td>OTRO</td>\n      <td>ABARTH 595</td>\n      <td>ABARTH 595</td>\n      <td>1</td>\n      <td>1</td>\n      <td>HATCHBACK</td>\n      <td>A</td>\n      <td>1</td>\n    </tr>\n    <tr>\n      <th>2</th>\n      <td>ABARTH ABARTH 595 1.4</td>\n      <td>43800</td>\n      <td>Livianos y Medianos</td>\n      <td>AUTO</td>\n      <td>ABARTH</td>\n      <td>595</td>\n      <td>ABARTH 595 1.4</td>\n      <td>ABARTH</td>\n      <td>595</td>\n      <td>SPORT</td>\n      <td>OTRO</td>\n      <td>ABARTH 595</td>\n      <td>ABARTH 595</td>\n      <td>1</td>\n      <td>1</td>\n      <td>HATCHBACK</td>\n      <td>A</td>\n      <td>1</td>\n    </tr>\n    <tr>\n      <th>3</th>\n      <td>ABARTH SIN MODELO</td>\n      <td>43556</td>\n      <td>LIVIANO Y MEDIANO</td>\n      <td>Vehículo de Pasajeros</td>\n      <td>ABARTH</td>\n      <td>SIN MODELO</td>\n      <td>SIN MODELO</td>\n      <td>ABARTH</td>\n      <td>SIN MODELO</td>\n      <td>NO SPORT</td>\n      <td>OTRO</td>\n      <td>ABARTH SIN MODELO</td>\n      <td>ABARTH SIN MODELO</td>\n      <td>1</td>\n      <td>1</td>\n      <td>SIN MODELO</td>\n      <td>SIN MODELO</td>\n      <td>1</td>\n    </tr>\n    <tr>\n      <th>4</th>\n      <td>ACURA MDX</td>\n      <td>44136</td>\n      <td>LIVIANO Y MEDIANO</td>\n      <td>STW</td>\n      <td>ACURA</td>\n      <td>MDX</td>\n      <td>MDX</td>\n      <td>ACURA</td>\n      <td>MDX</td>\n      <td>NO SPORT</td>\n      <td>OTRO</td>\n      <td>ACURA MDX</td>\n      <td>ACURA MDX</td>\n      <td>1</td>\n      <td>1</td>\n      <td>SUV</td>\n      <td>E</td>\n      <td>1</td>\n    </tr>\n    <tr>\n      <th>...</th>\n      <td>...</td>\n      <td>...</td>\n      <td>...</td>\n      <td>...</td>\n      <td>...</td>\n      <td>...</td>\n      <td>...</td>\n      <td>...</td>\n      <td>...</td>\n      <td>...</td>\n      <td>...</td>\n      <td>...</td>\n      <td>...</td>\n      <td>...</td>\n      <td>...</td>\n      <td>...</td>\n      <td>...</td>\n      <td>...</td>\n    </tr>\n    <tr>\n      <th>25621</th>\n      <td>ZXAUTO TERRALORD LUX PLUS 4X4 MT</td>\n      <td>43983</td>\n      <td>LIVIANO Y MEDIANO</td>\n      <td>CMNT</td>\n      <td>ZXAUTO</td>\n      <td>TERRALORD</td>\n      <td>TERRALORD LUX PLUS 4X4 MT</td>\n      <td>ZXAUTO</td>\n      <td>TERRALORD</td>\n      <td>NO SPORT</td>\n      <td>CHINA</td>\n      <td>ZXAUTO TERRALORD</td>\n      <td>ZXAUTO TERRALORD</td>\n      <td>1</td>\n      <td>1</td>\n      <td>PICK UP</td>\n      <td>C</td>\n      <td>1</td>\n    </tr>\n    <tr>\n      <th>25622</th>\n      <td>ZXAUTO TERRALORD LUX PLUS 4X4 MT 2.5</td>\n      <td>44075</td>\n      <td>LIVIANO Y MEDIANO</td>\n      <td>CMNT</td>\n      <td>ZXAUTO</td>\n      <td>TERRALORD</td>\n      <td>TERRALORD LUX PLUS 4X4 MT 2.5</td>\n      <td>ZXAUTO</td>\n      <td>TERRALORD</td>\n      <td>NO SPORT</td>\n      <td>CHINA</td>\n      <td>ZXAUTO TERRALORD</td>\n      <td>ZXAUTO TERRALORD</td>\n      <td>1</td>\n      <td>1</td>\n      <td>PICK UP</td>\n      <td>C</td>\n      <td>1</td>\n    </tr>\n    <tr>\n      <th>25623</th>\n      <td>ZXAUTO TERRALORD LUX PLUS D/C MT 4X4</td>\n      <td>44197</td>\n      <td>Livianos y Medianos</td>\n      <td>CMNT</td>\n      <td>ZXAUTO</td>\n      <td>TERRALORD</td>\n      <td>TERRALORD LUX PLUS D/C MT 4X4</td>\n      <td>ZXAUTO</td>\n      <td>TERRALORD</td>\n      <td>NO SPORT</td>\n      <td>CHINA</td>\n      <td>ZXAUTO TERRALORD</td>\n      <td>ZXAUTO TERRALORD</td>\n      <td>1</td>\n      <td>1</td>\n      <td>PICK UP</td>\n      <td>C</td>\n      <td>1</td>\n    </tr>\n    <tr>\n      <th>25624</th>\n      <td>ZXAUTO TERROLORD DC DLX 4X2</td>\n      <td>44105</td>\n      <td>LIVIANO Y MEDIANO</td>\n      <td>CMNT</td>\n      <td>ZXAUTO</td>\n      <td>TERRALORD</td>\n      <td>TERROLORD DC DLX 4X2</td>\n      <td>ZXAUTO</td>\n      <td>TERRALORD</td>\n      <td>NO SPORT</td>\n      <td>CHINA</td>\n      <td>ZXAUTO TERRALORD</td>\n      <td>ZXAUTO TERRALORD</td>\n      <td>1</td>\n      <td>1</td>\n      <td>PICK UP</td>\n      <td>C</td>\n      <td>1</td>\n    </tr>\n    <tr>\n      <th>25625</th>\n      <td>ZXAUTO TERROLORD DLX MT 4X4</td>\n      <td>44348</td>\n      <td>Livianos y Medianos</td>\n      <td>CMNT</td>\n      <td>ZXAUTO</td>\n      <td>TERRALORD</td>\n      <td>TERROLORD DLX MT 4X4</td>\n      <td>ZXAUTO</td>\n      <td>TERRALORD</td>\n      <td>NO SPORT</td>\n      <td>CHINA</td>\n      <td>ZXAUTO TERRALORD</td>\n      <td>ZXAUTO TERRALORD</td>\n      <td>1</td>\n      <td>1</td>\n      <td>PICK UP</td>\n      <td>C</td>\n      <td>1</td>\n    </tr>\n  </tbody>\n</table>\n<p>25626 rows × 18 columns</p>\n</div>"
     },
     "execution_count": 6,
     "metadata": {},
     "output_type": "execute_result"
    }
   ],
   "source": [
    "df"
   ],
   "metadata": {
    "collapsed": false,
    "pycharm": {
     "name": "#%%\n"
    }
   }
  },
  {
   "cell_type": "markdown",
   "source": [
    "Contiene todos los vehiculos de chile, su año de inscripcion, su año real y rut (encriptado)\n",
    "/home/npastorb/derco/Patente-01.csv\n",
    "\n",
    "Observaciones\n",
    "- el modelo cambia con respecto al tiempo, en el caso de la patente HVRP14, en 2016 su modelo era **'is300h cvt'** y luego fue **'is300h cvt 2.5'**\n",
    "- no estan absolutamente todos los permisos de circulacion de los vehiculos, un ejemplo de ello es pa patente **'FKSP26'** que solo tiene el permiso de circulacion 2016\n",
    "- tener cuidado con los rut que sean empreas"
   ],
   "metadata": {
    "collapsed": false,
    "pycharm": {
     "name": "#%% md\n"
    }
   }
  },
  {
   "cell_type": "code",
   "execution_count": 15,
   "outputs": [],
   "source": [
    "with ftp_client.open(\"/home/npastorb/derco/Patente-01.csv\") as file_patentes:\n",
    "    df_patentes = pd.read_csv(file_patentes, sep=\",\")"
   ],
   "metadata": {
    "collapsed": false,
    "pycharm": {
     "name": "#%%\n"
    }
   }
  },
  {
   "cell_type": "code",
   "execution_count": 16,
   "outputs": [
    {
     "data": {
      "text/plain": "         patente      marca  ano_patente  max(tipo)                   modelo  \\\n0         GC7892     austin         2021  automovil                  mg 1300   \n1         KG7392     toyota         2018       jeep                 bj 40 lv   \n2         VK7934  chevrolet         2020  automovil             corsa hb 1 6   \n3         DYDC12       fiat         2020  automovil  grande punto active 1 4   \n4         WH6683     toyota         2018  automovil                  corolla   \n...          ...        ...          ...        ...                      ...   \n45549017  CB9188    hyundai         2021  automovil          stellar 1.6 gsl   \n45549018  RX2161     toyota         2017  camioneta           hi lux std 2.4   \n45549019  TL3159     toyota         2016  automovil                    yaris   \n45549020  DFYW23        kia         2018  automovil                      rio   \n45549021  FZGF21  chevrolet         2016     furgon                     n300   \n\n          ano_fabricacion                                        encrypt-rut  \n0                    1971  b3e88e2a30d3519b86f2ec7031505800c3d295d20bc76d...  \n1                    1983  84355d219dbcf5dc4f4ee954ddd90f2be4c1de77b3042e...  \n2                    2003  15b9eb17b4422f8307fdf50f28331163839addc64feaf1...  \n3                    2012  dd9e964b0052860e36c331f49400ca9f4484d6aef115da...  \n4                    2007  ab3c8d5c56b57e25ddd043eea24cfe0bea731b293317de...  \n...                   ...                                                ...  \n45549017             1989  25566fe31cd13126d9cab4502a30c7b195d25e90579dbd...  \n45549018             1998  84584e6b7b3fde78186dd063bf098706a830463ae40c32...  \n45549019             2000  0090e15a7f76fe45a7c2ee574780328d6a8ac3e388737d...  \n45549020             2011  6762414cd46e269f7ad5aeae2614e07be157f239e53b9b...  \n45549021             2014  41eb178fd6113cc0246968432feca670e0cb24ffbc47b0...  \n\n[45549022 rows x 7 columns]",
      "text/html": "<div>\n<style scoped>\n    .dataframe tbody tr th:only-of-type {\n        vertical-align: middle;\n    }\n\n    .dataframe tbody tr th {\n        vertical-align: top;\n    }\n\n    .dataframe thead th {\n        text-align: right;\n    }\n</style>\n<table border=\"1\" class=\"dataframe\">\n  <thead>\n    <tr style=\"text-align: right;\">\n      <th></th>\n      <th>patente</th>\n      <th>marca</th>\n      <th>ano_patente</th>\n      <th>max(tipo)</th>\n      <th>modelo</th>\n      <th>ano_fabricacion</th>\n      <th>encrypt-rut</th>\n    </tr>\n  </thead>\n  <tbody>\n    <tr>\n      <th>0</th>\n      <td>GC7892</td>\n      <td>austin</td>\n      <td>2021</td>\n      <td>automovil</td>\n      <td>mg 1300</td>\n      <td>1971</td>\n      <td>b3e88e2a30d3519b86f2ec7031505800c3d295d20bc76d...</td>\n    </tr>\n    <tr>\n      <th>1</th>\n      <td>KG7392</td>\n      <td>toyota</td>\n      <td>2018</td>\n      <td>jeep</td>\n      <td>bj 40 lv</td>\n      <td>1983</td>\n      <td>84355d219dbcf5dc4f4ee954ddd90f2be4c1de77b3042e...</td>\n    </tr>\n    <tr>\n      <th>2</th>\n      <td>VK7934</td>\n      <td>chevrolet</td>\n      <td>2020</td>\n      <td>automovil</td>\n      <td>corsa hb 1 6</td>\n      <td>2003</td>\n      <td>15b9eb17b4422f8307fdf50f28331163839addc64feaf1...</td>\n    </tr>\n    <tr>\n      <th>3</th>\n      <td>DYDC12</td>\n      <td>fiat</td>\n      <td>2020</td>\n      <td>automovil</td>\n      <td>grande punto active 1 4</td>\n      <td>2012</td>\n      <td>dd9e964b0052860e36c331f49400ca9f4484d6aef115da...</td>\n    </tr>\n    <tr>\n      <th>4</th>\n      <td>WH6683</td>\n      <td>toyota</td>\n      <td>2018</td>\n      <td>automovil</td>\n      <td>corolla</td>\n      <td>2007</td>\n      <td>ab3c8d5c56b57e25ddd043eea24cfe0bea731b293317de...</td>\n    </tr>\n    <tr>\n      <th>...</th>\n      <td>...</td>\n      <td>...</td>\n      <td>...</td>\n      <td>...</td>\n      <td>...</td>\n      <td>...</td>\n      <td>...</td>\n    </tr>\n    <tr>\n      <th>45549017</th>\n      <td>CB9188</td>\n      <td>hyundai</td>\n      <td>2021</td>\n      <td>automovil</td>\n      <td>stellar 1.6 gsl</td>\n      <td>1989</td>\n      <td>25566fe31cd13126d9cab4502a30c7b195d25e90579dbd...</td>\n    </tr>\n    <tr>\n      <th>45549018</th>\n      <td>RX2161</td>\n      <td>toyota</td>\n      <td>2017</td>\n      <td>camioneta</td>\n      <td>hi lux std 2.4</td>\n      <td>1998</td>\n      <td>84584e6b7b3fde78186dd063bf098706a830463ae40c32...</td>\n    </tr>\n    <tr>\n      <th>45549019</th>\n      <td>TL3159</td>\n      <td>toyota</td>\n      <td>2016</td>\n      <td>automovil</td>\n      <td>yaris</td>\n      <td>2000</td>\n      <td>0090e15a7f76fe45a7c2ee574780328d6a8ac3e388737d...</td>\n    </tr>\n    <tr>\n      <th>45549020</th>\n      <td>DFYW23</td>\n      <td>kia</td>\n      <td>2018</td>\n      <td>automovil</td>\n      <td>rio</td>\n      <td>2011</td>\n      <td>6762414cd46e269f7ad5aeae2614e07be157f239e53b9b...</td>\n    </tr>\n    <tr>\n      <th>45549021</th>\n      <td>FZGF21</td>\n      <td>chevrolet</td>\n      <td>2016</td>\n      <td>furgon</td>\n      <td>n300</td>\n      <td>2014</td>\n      <td>41eb178fd6113cc0246968432feca670e0cb24ffbc47b0...</td>\n    </tr>\n  </tbody>\n</table>\n<p>45549022 rows × 7 columns</p>\n</div>"
     },
     "execution_count": 16,
     "metadata": {},
     "output_type": "execute_result"
    }
   ],
   "source": [
    "df_patentes"
   ],
   "metadata": {
    "collapsed": false,
    "pycharm": {
     "name": "#%%\n"
    }
   }
  },
  {
   "cell_type": "code",
   "execution_count": 17,
   "outputs": [
    {
     "data": {
      "text/plain": "         patente  marca  ano_patente  max(tipo)          modelo  \\\n6029170   HVRP14  lexus         2020  automovil  is300h cvt 2 5   \n39477317  HVRP14  lexus         2017  automovil  is300h cvt 2.5   \n42663482  HVRP14  lexus         2019  automovil  is300h cvt 2.5   \n44389617  HVRP14  lexus         2021  automovil  is300h cvt 2.5   \n44744768  HVRP14  lexus         2018  automovil      is300h cvt   \n\n          ano_fabricacion                                        encrypt-rut  \n6029170              2016  3ab0a6d8ed62f51a503361675a8cf6b0b8ed30e4edb7ec...  \n39477317             2016  3ab0a6d8ed62f51a503361675a8cf6b0b8ed30e4edb7ec...  \n42663482             2016  3ab0a6d8ed62f51a503361675a8cf6b0b8ed30e4edb7ec...  \n44389617             2016  f56cfdb98bebae9ba98b162eaa9c7a0ab32ede2cd637bc...  \n44744768             2016  3ab0a6d8ed62f51a503361675a8cf6b0b8ed30e4edb7ec...  ",
      "text/html": "<div>\n<style scoped>\n    .dataframe tbody tr th:only-of-type {\n        vertical-align: middle;\n    }\n\n    .dataframe tbody tr th {\n        vertical-align: top;\n    }\n\n    .dataframe thead th {\n        text-align: right;\n    }\n</style>\n<table border=\"1\" class=\"dataframe\">\n  <thead>\n    <tr style=\"text-align: right;\">\n      <th></th>\n      <th>patente</th>\n      <th>marca</th>\n      <th>ano_patente</th>\n      <th>max(tipo)</th>\n      <th>modelo</th>\n      <th>ano_fabricacion</th>\n      <th>encrypt-rut</th>\n    </tr>\n  </thead>\n  <tbody>\n    <tr>\n      <th>6029170</th>\n      <td>HVRP14</td>\n      <td>lexus</td>\n      <td>2020</td>\n      <td>automovil</td>\n      <td>is300h cvt 2 5</td>\n      <td>2016</td>\n      <td>3ab0a6d8ed62f51a503361675a8cf6b0b8ed30e4edb7ec...</td>\n    </tr>\n    <tr>\n      <th>39477317</th>\n      <td>HVRP14</td>\n      <td>lexus</td>\n      <td>2017</td>\n      <td>automovil</td>\n      <td>is300h cvt 2.5</td>\n      <td>2016</td>\n      <td>3ab0a6d8ed62f51a503361675a8cf6b0b8ed30e4edb7ec...</td>\n    </tr>\n    <tr>\n      <th>42663482</th>\n      <td>HVRP14</td>\n      <td>lexus</td>\n      <td>2019</td>\n      <td>automovil</td>\n      <td>is300h cvt 2.5</td>\n      <td>2016</td>\n      <td>3ab0a6d8ed62f51a503361675a8cf6b0b8ed30e4edb7ec...</td>\n    </tr>\n    <tr>\n      <th>44389617</th>\n      <td>HVRP14</td>\n      <td>lexus</td>\n      <td>2021</td>\n      <td>automovil</td>\n      <td>is300h cvt 2.5</td>\n      <td>2016</td>\n      <td>f56cfdb98bebae9ba98b162eaa9c7a0ab32ede2cd637bc...</td>\n    </tr>\n    <tr>\n      <th>44744768</th>\n      <td>HVRP14</td>\n      <td>lexus</td>\n      <td>2018</td>\n      <td>automovil</td>\n      <td>is300h cvt</td>\n      <td>2016</td>\n      <td>3ab0a6d8ed62f51a503361675a8cf6b0b8ed30e4edb7ec...</td>\n    </tr>\n  </tbody>\n</table>\n</div>"
     },
     "execution_count": 17,
     "metadata": {},
     "output_type": "execute_result"
    }
   ],
   "source": [
    "df_patentes[df_patentes[\"patente\"] == \"HVRP14\"]"
   ],
   "metadata": {
    "collapsed": false,
    "pycharm": {
     "name": "#%%\n"
    }
   }
  },
  {
   "cell_type": "code",
   "execution_count": 18,
   "outputs": [
    {
     "data": {
      "text/plain": "         patente  marca  ano_patente  max(tipo)         modelo  \\\n8740974   GCSD87  lexus         2020  automovil  is250 2 5 aut   \n24586730  GCSD87  lexus         2019  automovil  is250 2.5 aut   \n25212881  GCSD87  lexus         2017  automovil  is250 2.5 aut   \n35901417  GCSD87  lexus         2016  automovil          is250   \n36886733  GCSD87  lexus         2018  automovil          is250   \n44155899  GCSD87  lexus         2021  automovil  is250 2.5 aut   \n\n          ano_fabricacion                                        encrypt-rut  \n8740974              2014  f56cfdb98bebae9ba98b162eaa9c7a0ab32ede2cd637bc...  \n24586730             2014  a1cb99ad799726b4319011b544733dda89b493688a4fea...  \n25212881             2014  c22c41cb6e483c8fe0866b76dfba82881b538ae2f25bf4...  \n35901417             2014  a0c8d282430c48403bfef8a9cf2b092c791c7a8601ce51...  \n36886733             2014  a1cb99ad799726b4319011b544733dda89b493688a4fea...  \n44155899             2014  ef8ef668c2d673406cbf6700efcb16dff8995211c356d6...  ",
      "text/html": "<div>\n<style scoped>\n    .dataframe tbody tr th:only-of-type {\n        vertical-align: middle;\n    }\n\n    .dataframe tbody tr th {\n        vertical-align: top;\n    }\n\n    .dataframe thead th {\n        text-align: right;\n    }\n</style>\n<table border=\"1\" class=\"dataframe\">\n  <thead>\n    <tr style=\"text-align: right;\">\n      <th></th>\n      <th>patente</th>\n      <th>marca</th>\n      <th>ano_patente</th>\n      <th>max(tipo)</th>\n      <th>modelo</th>\n      <th>ano_fabricacion</th>\n      <th>encrypt-rut</th>\n    </tr>\n  </thead>\n  <tbody>\n    <tr>\n      <th>8740974</th>\n      <td>GCSD87</td>\n      <td>lexus</td>\n      <td>2020</td>\n      <td>automovil</td>\n      <td>is250 2 5 aut</td>\n      <td>2014</td>\n      <td>f56cfdb98bebae9ba98b162eaa9c7a0ab32ede2cd637bc...</td>\n    </tr>\n    <tr>\n      <th>24586730</th>\n      <td>GCSD87</td>\n      <td>lexus</td>\n      <td>2019</td>\n      <td>automovil</td>\n      <td>is250 2.5 aut</td>\n      <td>2014</td>\n      <td>a1cb99ad799726b4319011b544733dda89b493688a4fea...</td>\n    </tr>\n    <tr>\n      <th>25212881</th>\n      <td>GCSD87</td>\n      <td>lexus</td>\n      <td>2017</td>\n      <td>automovil</td>\n      <td>is250 2.5 aut</td>\n      <td>2014</td>\n      <td>c22c41cb6e483c8fe0866b76dfba82881b538ae2f25bf4...</td>\n    </tr>\n    <tr>\n      <th>35901417</th>\n      <td>GCSD87</td>\n      <td>lexus</td>\n      <td>2016</td>\n      <td>automovil</td>\n      <td>is250</td>\n      <td>2014</td>\n      <td>a0c8d282430c48403bfef8a9cf2b092c791c7a8601ce51...</td>\n    </tr>\n    <tr>\n      <th>36886733</th>\n      <td>GCSD87</td>\n      <td>lexus</td>\n      <td>2018</td>\n      <td>automovil</td>\n      <td>is250</td>\n      <td>2014</td>\n      <td>a1cb99ad799726b4319011b544733dda89b493688a4fea...</td>\n    </tr>\n    <tr>\n      <th>44155899</th>\n      <td>GCSD87</td>\n      <td>lexus</td>\n      <td>2021</td>\n      <td>automovil</td>\n      <td>is250 2.5 aut</td>\n      <td>2014</td>\n      <td>ef8ef668c2d673406cbf6700efcb16dff8995211c356d6...</td>\n    </tr>\n  </tbody>\n</table>\n</div>"
     },
     "execution_count": 18,
     "metadata": {},
     "output_type": "execute_result"
    }
   ],
   "source": [
    "df_patentes[df_patentes[\"patente\"] == \"GCSD87\"]"
   ],
   "metadata": {
    "collapsed": false,
    "pycharm": {
     "name": "#%%\n"
    }
   }
  },
  {
   "cell_type": "code",
   "execution_count": 19,
   "outputs": [
    {
     "data": {
      "text/plain": "        patente          marca  ano_patente  max(tipo) modelo  \\\n9967209  FKSP26  mercedes benz         2016  automovil  c 180   \n\n         ano_fabricacion                                        encrypt-rut  \n9967209             2013  5b05ecf2bc316721ec45d9f5e301219cc1f57ff697ef62...  ",
      "text/html": "<div>\n<style scoped>\n    .dataframe tbody tr th:only-of-type {\n        vertical-align: middle;\n    }\n\n    .dataframe tbody tr th {\n        vertical-align: top;\n    }\n\n    .dataframe thead th {\n        text-align: right;\n    }\n</style>\n<table border=\"1\" class=\"dataframe\">\n  <thead>\n    <tr style=\"text-align: right;\">\n      <th></th>\n      <th>patente</th>\n      <th>marca</th>\n      <th>ano_patente</th>\n      <th>max(tipo)</th>\n      <th>modelo</th>\n      <th>ano_fabricacion</th>\n      <th>encrypt-rut</th>\n    </tr>\n  </thead>\n  <tbody>\n    <tr>\n      <th>9967209</th>\n      <td>FKSP26</td>\n      <td>mercedes benz</td>\n      <td>2016</td>\n      <td>automovil</td>\n      <td>c 180</td>\n      <td>2013</td>\n      <td>5b05ecf2bc316721ec45d9f5e301219cc1f57ff697ef62...</td>\n    </tr>\n  </tbody>\n</table>\n</div>"
     },
     "execution_count": 19,
     "metadata": {},
     "output_type": "execute_result"
    }
   ],
   "source": [
    "df_patentes[df_patentes[\"patente\"] == \"FKSP26\"]"
   ],
   "metadata": {
    "collapsed": false,
    "pycharm": {
     "name": "#%%\n"
    }
   }
  },
  {
   "cell_type": "code",
   "execution_count": 20,
   "outputs": [
    {
     "data": {
      "text/plain": "         patente marca  ano_patente  max(tipo)      modelo  ano_fabricacion  \\\n892025    CHTG38   bmw         2021  automovil  116i b 1.6             2010   \n4471143   CHTG38   bmw         2016  automovil         116             2010   \n21841674  CHTG38   bmw         2020  automovil  116i b 1 6             2010   \n24686064  CHTG38   bmw         2018  automovil         116             2010   \n39034083  CHTG38   bmw         2017  automovil  116i b 1.6             2010   \n42791221  CHTG38   bmw         2019  automovil  116i b 1.6             2010   \n\n                                                encrypt-rut  \n892025    7cdfa1d7492834a17f72ab06ee689846c389be77a17bbb...  \n4471143   cb6bdcdd9bf27a20f7544385f09b1085e0089456728fe8...  \n21841674  7cdfa1d7492834a17f72ab06ee689846c389be77a17bbb...  \n24686064  f56cfdb98bebae9ba98b162eaa9c7a0ab32ede2cd637bc...  \n39034083  f56cfdb98bebae9ba98b162eaa9c7a0ab32ede2cd637bc...  \n42791221  7cdfa1d7492834a17f72ab06ee689846c389be77a17bbb...  ",
      "text/html": "<div>\n<style scoped>\n    .dataframe tbody tr th:only-of-type {\n        vertical-align: middle;\n    }\n\n    .dataframe tbody tr th {\n        vertical-align: top;\n    }\n\n    .dataframe thead th {\n        text-align: right;\n    }\n</style>\n<table border=\"1\" class=\"dataframe\">\n  <thead>\n    <tr style=\"text-align: right;\">\n      <th></th>\n      <th>patente</th>\n      <th>marca</th>\n      <th>ano_patente</th>\n      <th>max(tipo)</th>\n      <th>modelo</th>\n      <th>ano_fabricacion</th>\n      <th>encrypt-rut</th>\n    </tr>\n  </thead>\n  <tbody>\n    <tr>\n      <th>892025</th>\n      <td>CHTG38</td>\n      <td>bmw</td>\n      <td>2021</td>\n      <td>automovil</td>\n      <td>116i b 1.6</td>\n      <td>2010</td>\n      <td>7cdfa1d7492834a17f72ab06ee689846c389be77a17bbb...</td>\n    </tr>\n    <tr>\n      <th>4471143</th>\n      <td>CHTG38</td>\n      <td>bmw</td>\n      <td>2016</td>\n      <td>automovil</td>\n      <td>116</td>\n      <td>2010</td>\n      <td>cb6bdcdd9bf27a20f7544385f09b1085e0089456728fe8...</td>\n    </tr>\n    <tr>\n      <th>21841674</th>\n      <td>CHTG38</td>\n      <td>bmw</td>\n      <td>2020</td>\n      <td>automovil</td>\n      <td>116i b 1 6</td>\n      <td>2010</td>\n      <td>7cdfa1d7492834a17f72ab06ee689846c389be77a17bbb...</td>\n    </tr>\n    <tr>\n      <th>24686064</th>\n      <td>CHTG38</td>\n      <td>bmw</td>\n      <td>2018</td>\n      <td>automovil</td>\n      <td>116</td>\n      <td>2010</td>\n      <td>f56cfdb98bebae9ba98b162eaa9c7a0ab32ede2cd637bc...</td>\n    </tr>\n    <tr>\n      <th>39034083</th>\n      <td>CHTG38</td>\n      <td>bmw</td>\n      <td>2017</td>\n      <td>automovil</td>\n      <td>116i b 1.6</td>\n      <td>2010</td>\n      <td>f56cfdb98bebae9ba98b162eaa9c7a0ab32ede2cd637bc...</td>\n    </tr>\n    <tr>\n      <th>42791221</th>\n      <td>CHTG38</td>\n      <td>bmw</td>\n      <td>2019</td>\n      <td>automovil</td>\n      <td>116i b 1.6</td>\n      <td>2010</td>\n      <td>7cdfa1d7492834a17f72ab06ee689846c389be77a17bbb...</td>\n    </tr>\n  </tbody>\n</table>\n</div>"
     },
     "execution_count": 20,
     "metadata": {},
     "output_type": "execute_result"
    }
   ],
   "source": [
    "df_patentes[df_patentes[\"patente\"] == \"CHTG38\"]"
   ],
   "metadata": {
    "collapsed": false,
    "pycharm": {
     "name": "#%%\n"
    }
   }
  },
  {
   "cell_type": "code",
   "execution_count": 21,
   "outputs": [
    {
     "data": {
      "text/plain": "         patente   marca  ano_patente  max(tipo)         modelo  \\\n1269667   CXPB46  toyota         2018  automovil          yaris   \n11517725  CXPB46  toyota         2016  automovil          yaris   \n18804733  CXPB46  toyota         2019  automovil  yaris gli 1.5   \n20128884  CXPB46  toyota         2020  automovil  yaris gli 1 5   \n39034084  CXPB46  toyota         2021  automovil  yaris gli 1.5   \n44240947  CXPB46  toyota         2017  automovil  yaris gli 1.5   \n\n          ano_fabricacion                                        encrypt-rut  \n1269667              2011  214c4f0af2fa0f311429a6d56ccd67795f8f6e81fda662...  \n11517725             2011  214c4f0af2fa0f311429a6d56ccd67795f8f6e81fda662...  \n18804733             2011  214c4f0af2fa0f311429a6d56ccd67795f8f6e81fda662...  \n20128884             2011  f56cfdb98bebae9ba98b162eaa9c7a0ab32ede2cd637bc...  \n39034084             2011  f56cfdb98bebae9ba98b162eaa9c7a0ab32ede2cd637bc...  \n44240947             2011  214c4f0af2fa0f311429a6d56ccd67795f8f6e81fda662...  ",
      "text/html": "<div>\n<style scoped>\n    .dataframe tbody tr th:only-of-type {\n        vertical-align: middle;\n    }\n\n    .dataframe tbody tr th {\n        vertical-align: top;\n    }\n\n    .dataframe thead th {\n        text-align: right;\n    }\n</style>\n<table border=\"1\" class=\"dataframe\">\n  <thead>\n    <tr style=\"text-align: right;\">\n      <th></th>\n      <th>patente</th>\n      <th>marca</th>\n      <th>ano_patente</th>\n      <th>max(tipo)</th>\n      <th>modelo</th>\n      <th>ano_fabricacion</th>\n      <th>encrypt-rut</th>\n    </tr>\n  </thead>\n  <tbody>\n    <tr>\n      <th>1269667</th>\n      <td>CXPB46</td>\n      <td>toyota</td>\n      <td>2018</td>\n      <td>automovil</td>\n      <td>yaris</td>\n      <td>2011</td>\n      <td>214c4f0af2fa0f311429a6d56ccd67795f8f6e81fda662...</td>\n    </tr>\n    <tr>\n      <th>11517725</th>\n      <td>CXPB46</td>\n      <td>toyota</td>\n      <td>2016</td>\n      <td>automovil</td>\n      <td>yaris</td>\n      <td>2011</td>\n      <td>214c4f0af2fa0f311429a6d56ccd67795f8f6e81fda662...</td>\n    </tr>\n    <tr>\n      <th>18804733</th>\n      <td>CXPB46</td>\n      <td>toyota</td>\n      <td>2019</td>\n      <td>automovil</td>\n      <td>yaris gli 1.5</td>\n      <td>2011</td>\n      <td>214c4f0af2fa0f311429a6d56ccd67795f8f6e81fda662...</td>\n    </tr>\n    <tr>\n      <th>20128884</th>\n      <td>CXPB46</td>\n      <td>toyota</td>\n      <td>2020</td>\n      <td>automovil</td>\n      <td>yaris gli 1 5</td>\n      <td>2011</td>\n      <td>f56cfdb98bebae9ba98b162eaa9c7a0ab32ede2cd637bc...</td>\n    </tr>\n    <tr>\n      <th>39034084</th>\n      <td>CXPB46</td>\n      <td>toyota</td>\n      <td>2021</td>\n      <td>automovil</td>\n      <td>yaris gli 1.5</td>\n      <td>2011</td>\n      <td>f56cfdb98bebae9ba98b162eaa9c7a0ab32ede2cd637bc...</td>\n    </tr>\n    <tr>\n      <th>44240947</th>\n      <td>CXPB46</td>\n      <td>toyota</td>\n      <td>2017</td>\n      <td>automovil</td>\n      <td>yaris gli 1.5</td>\n      <td>2011</td>\n      <td>214c4f0af2fa0f311429a6d56ccd67795f8f6e81fda662...</td>\n    </tr>\n  </tbody>\n</table>\n</div>"
     },
     "execution_count": 21,
     "metadata": {},
     "output_type": "execute_result"
    }
   ],
   "source": [
    "df_patentes[df_patentes[\"patente\"] == \"CXPB46\"]"
   ],
   "metadata": {
    "collapsed": false,
    "pycharm": {
     "name": "#%%\n"
    }
   }
  },
  {
   "cell_type": "code",
   "execution_count": 22,
   "outputs": [
    {
     "data": {
      "text/plain": "         patente  marca  ano_patente  max(tipo)         modelo  \\\n3731772   JJPL63  mazda         2020  automovil  new 3 1 6 aut   \n6024569   JJPL63  mazda         2017  automovil  new 3 1.6 aut   \n8040786   JJPL63  mazda         2019  automovil  new 3 1.6 aut   \n8740975   JJPL63  mazda         2021  automovil  new 3 1.6 aut   \n16465234  JJPL63  mazda         2018  automovil          new 3   \n\n          ano_fabricacion                                        encrypt-rut  \n3731772              2017  f56cfdb98bebae9ba98b162eaa9c7a0ab32ede2cd637bc...  \n6024569              2017  ba7108eaf40cb145b49ddbd0a2ddec31989fbd281edb8d...  \n8040786              2017  ba7108eaf40cb145b49ddbd0a2ddec31989fbd281edb8d...  \n8740975              2017  f56cfdb98bebae9ba98b162eaa9c7a0ab32ede2cd637bc...  \n16465234             2017  ba7108eaf40cb145b49ddbd0a2ddec31989fbd281edb8d...  ",
      "text/html": "<div>\n<style scoped>\n    .dataframe tbody tr th:only-of-type {\n        vertical-align: middle;\n    }\n\n    .dataframe tbody tr th {\n        vertical-align: top;\n    }\n\n    .dataframe thead th {\n        text-align: right;\n    }\n</style>\n<table border=\"1\" class=\"dataframe\">\n  <thead>\n    <tr style=\"text-align: right;\">\n      <th></th>\n      <th>patente</th>\n      <th>marca</th>\n      <th>ano_patente</th>\n      <th>max(tipo)</th>\n      <th>modelo</th>\n      <th>ano_fabricacion</th>\n      <th>encrypt-rut</th>\n    </tr>\n  </thead>\n  <tbody>\n    <tr>\n      <th>3731772</th>\n      <td>JJPL63</td>\n      <td>mazda</td>\n      <td>2020</td>\n      <td>automovil</td>\n      <td>new 3 1 6 aut</td>\n      <td>2017</td>\n      <td>f56cfdb98bebae9ba98b162eaa9c7a0ab32ede2cd637bc...</td>\n    </tr>\n    <tr>\n      <th>6024569</th>\n      <td>JJPL63</td>\n      <td>mazda</td>\n      <td>2017</td>\n      <td>automovil</td>\n      <td>new 3 1.6 aut</td>\n      <td>2017</td>\n      <td>ba7108eaf40cb145b49ddbd0a2ddec31989fbd281edb8d...</td>\n    </tr>\n    <tr>\n      <th>8040786</th>\n      <td>JJPL63</td>\n      <td>mazda</td>\n      <td>2019</td>\n      <td>automovil</td>\n      <td>new 3 1.6 aut</td>\n      <td>2017</td>\n      <td>ba7108eaf40cb145b49ddbd0a2ddec31989fbd281edb8d...</td>\n    </tr>\n    <tr>\n      <th>8740975</th>\n      <td>JJPL63</td>\n      <td>mazda</td>\n      <td>2021</td>\n      <td>automovil</td>\n      <td>new 3 1.6 aut</td>\n      <td>2017</td>\n      <td>f56cfdb98bebae9ba98b162eaa9c7a0ab32ede2cd637bc...</td>\n    </tr>\n    <tr>\n      <th>16465234</th>\n      <td>JJPL63</td>\n      <td>mazda</td>\n      <td>2018</td>\n      <td>automovil</td>\n      <td>new 3</td>\n      <td>2017</td>\n      <td>ba7108eaf40cb145b49ddbd0a2ddec31989fbd281edb8d...</td>\n    </tr>\n  </tbody>\n</table>\n</div>"
     },
     "execution_count": 22,
     "metadata": {},
     "output_type": "execute_result"
    }
   ],
   "source": [
    "df_patentes[df_patentes[\"patente\"] == \"JJPL63\"]"
   ],
   "metadata": {
    "collapsed": false,
    "pycharm": {
     "name": "#%%\n"
    }
   }
  },
  {
   "cell_type": "markdown",
   "source": [],
   "metadata": {
    "collapsed": false,
    "pycharm": {
     "name": "#%% md\n"
    }
   }
  },
  {
   "cell_type": "code",
   "execution_count": 4,
   "outputs": [],
   "source": [
    "with ftp_client.open(\"/home/npastorb/derco/patentes_historico_02.parquet\") as f:\n",
    "    df_patentes_historico_02 = pd.read_parquet(f)"
   ],
   "metadata": {
    "collapsed": false,
    "pycharm": {
     "name": "#%%\n"
    }
   }
  },
  {
   "cell_type": "code",
   "execution_count": 8,
   "outputs": [
    {
     "data": {
      "text/plain": "          marca patente                                                rut  \\\n0         mazda  HTKT99  0000099ac6876dd89340ff9141f50194c78e24cd62c11c...   \n1         mazda  HTKT99  0000099ac6876dd89340ff9141f50194c78e24cd62c11c...   \n2         mazda  LYRJ39  0000449f1c3136b7bb209a4096e403f51cbe6845343212...   \n3         mazda  CYGD16  000054d225f0246573b76f084823d11056da0b5091dbdf...   \n4         mazda  FWXD51  000136330e202fee9b4b6a87a98bd4487b92ba0ffd711c...   \n...         ...     ...                                                ...   \n26395307  dodge  KLCD37  ff9e2760e3d304f3ff7229b13b5d7bdf6def36e57a0917...   \n26395308  dodge  PLHV37  ffa2eab10cfc4eadc438f64b0da0b543240895992ec993...   \n26395309  dodge  JRXS83  ffcb9cc851ce3bae7f4328093d073da26b5e6a233ba8e4...   \n26395310  dodge  LWCK56  ffd5da880d53ed4990172ba67051269dd6fa3574962567...   \n26395311  dodge  KVPP38  ffe0eda22856f464255f4ffc01ad649aca0c8c612f311f...   \n\n         ano_patente           tipo                  modelo ano_fabricacion  \n0               2017  station wagon           demio 1.5 aut            2006  \n1               2018  station wagon           demio 1.5 aut            2006  \n2               2021      automovil       all new 3 2.0 aut            2020  \n3               2016  station wagon             cx 7 2.5 at            2011  \n4               2017  station wagon      cx 5 gt awd 2.5 at            2013  \n...              ...            ...                     ...             ...  \n26395307        2019      camioneta  700 adventure dcab 1.6            2018  \n26395308        2021      camioneta      700 bighorn cd 1.4            2021  \n26395309        2019      camioneta    1500 laramie 4x4 3.0            2018  \n26395310        2021         furgon            van 1000 1.3            2020  \n26395311        2021      camioneta     700 slt cd dcab 1.4            2019  \n\n[26395312 rows x 7 columns]",
      "text/html": "<div>\n<style scoped>\n    .dataframe tbody tr th:only-of-type {\n        vertical-align: middle;\n    }\n\n    .dataframe tbody tr th {\n        vertical-align: top;\n    }\n\n    .dataframe thead th {\n        text-align: right;\n    }\n</style>\n<table border=\"1\" class=\"dataframe\">\n  <thead>\n    <tr style=\"text-align: right;\">\n      <th></th>\n      <th>marca</th>\n      <th>patente</th>\n      <th>rut</th>\n      <th>ano_patente</th>\n      <th>tipo</th>\n      <th>modelo</th>\n      <th>ano_fabricacion</th>\n    </tr>\n  </thead>\n  <tbody>\n    <tr>\n      <th>0</th>\n      <td>mazda</td>\n      <td>HTKT99</td>\n      <td>0000099ac6876dd89340ff9141f50194c78e24cd62c11c...</td>\n      <td>2017</td>\n      <td>station wagon</td>\n      <td>demio 1.5 aut</td>\n      <td>2006</td>\n    </tr>\n    <tr>\n      <th>1</th>\n      <td>mazda</td>\n      <td>HTKT99</td>\n      <td>0000099ac6876dd89340ff9141f50194c78e24cd62c11c...</td>\n      <td>2018</td>\n      <td>station wagon</td>\n      <td>demio 1.5 aut</td>\n      <td>2006</td>\n    </tr>\n    <tr>\n      <th>2</th>\n      <td>mazda</td>\n      <td>LYRJ39</td>\n      <td>0000449f1c3136b7bb209a4096e403f51cbe6845343212...</td>\n      <td>2021</td>\n      <td>automovil</td>\n      <td>all new 3 2.0 aut</td>\n      <td>2020</td>\n    </tr>\n    <tr>\n      <th>3</th>\n      <td>mazda</td>\n      <td>CYGD16</td>\n      <td>000054d225f0246573b76f084823d11056da0b5091dbdf...</td>\n      <td>2016</td>\n      <td>station wagon</td>\n      <td>cx 7 2.5 at</td>\n      <td>2011</td>\n    </tr>\n    <tr>\n      <th>4</th>\n      <td>mazda</td>\n      <td>FWXD51</td>\n      <td>000136330e202fee9b4b6a87a98bd4487b92ba0ffd711c...</td>\n      <td>2017</td>\n      <td>station wagon</td>\n      <td>cx 5 gt awd 2.5 at</td>\n      <td>2013</td>\n    </tr>\n    <tr>\n      <th>...</th>\n      <td>...</td>\n      <td>...</td>\n      <td>...</td>\n      <td>...</td>\n      <td>...</td>\n      <td>...</td>\n      <td>...</td>\n    </tr>\n    <tr>\n      <th>26395307</th>\n      <td>dodge</td>\n      <td>KLCD37</td>\n      <td>ff9e2760e3d304f3ff7229b13b5d7bdf6def36e57a0917...</td>\n      <td>2019</td>\n      <td>camioneta</td>\n      <td>700 adventure dcab 1.6</td>\n      <td>2018</td>\n    </tr>\n    <tr>\n      <th>26395308</th>\n      <td>dodge</td>\n      <td>PLHV37</td>\n      <td>ffa2eab10cfc4eadc438f64b0da0b543240895992ec993...</td>\n      <td>2021</td>\n      <td>camioneta</td>\n      <td>700 bighorn cd 1.4</td>\n      <td>2021</td>\n    </tr>\n    <tr>\n      <th>26395309</th>\n      <td>dodge</td>\n      <td>JRXS83</td>\n      <td>ffcb9cc851ce3bae7f4328093d073da26b5e6a233ba8e4...</td>\n      <td>2019</td>\n      <td>camioneta</td>\n      <td>1500 laramie 4x4 3.0</td>\n      <td>2018</td>\n    </tr>\n    <tr>\n      <th>26395310</th>\n      <td>dodge</td>\n      <td>LWCK56</td>\n      <td>ffd5da880d53ed4990172ba67051269dd6fa3574962567...</td>\n      <td>2021</td>\n      <td>furgon</td>\n      <td>van 1000 1.3</td>\n      <td>2020</td>\n    </tr>\n    <tr>\n      <th>26395311</th>\n      <td>dodge</td>\n      <td>KVPP38</td>\n      <td>ffe0eda22856f464255f4ffc01ad649aca0c8c612f311f...</td>\n      <td>2021</td>\n      <td>camioneta</td>\n      <td>700 slt cd dcab 1.4</td>\n      <td>2019</td>\n    </tr>\n  </tbody>\n</table>\n<p>26395312 rows × 7 columns</p>\n</div>"
     },
     "execution_count": 8,
     "metadata": {},
     "output_type": "execute_result"
    }
   ],
   "source": [
    "df_patentes_historico_02"
   ],
   "metadata": {
    "collapsed": false,
    "pycharm": {
     "name": "#%%\n"
    }
   }
  },
  {
   "cell_type": "code",
   "execution_count": 9,
   "outputs": [
    {
     "data": {
      "text/plain": "         marca patente                                                rut  \\\n1224917  lexus  HVRP14  f56cfdb98bebae9ba98b162eaa9c7a0ab32ede2cd637bc...   \n\n        ano_patente       tipo          modelo ano_fabricacion  \n1224917        2021  automovil  is300h cvt 2.5            2016  ",
      "text/html": "<div>\n<style scoped>\n    .dataframe tbody tr th:only-of-type {\n        vertical-align: middle;\n    }\n\n    .dataframe tbody tr th {\n        vertical-align: top;\n    }\n\n    .dataframe thead th {\n        text-align: right;\n    }\n</style>\n<table border=\"1\" class=\"dataframe\">\n  <thead>\n    <tr style=\"text-align: right;\">\n      <th></th>\n      <th>marca</th>\n      <th>patente</th>\n      <th>rut</th>\n      <th>ano_patente</th>\n      <th>tipo</th>\n      <th>modelo</th>\n      <th>ano_fabricacion</th>\n    </tr>\n  </thead>\n  <tbody>\n    <tr>\n      <th>1224917</th>\n      <td>lexus</td>\n      <td>HVRP14</td>\n      <td>f56cfdb98bebae9ba98b162eaa9c7a0ab32ede2cd637bc...</td>\n      <td>2021</td>\n      <td>automovil</td>\n      <td>is300h cvt 2.5</td>\n      <td>2016</td>\n    </tr>\n  </tbody>\n</table>\n</div>"
     },
     "execution_count": 9,
     "metadata": {},
     "output_type": "execute_result"
    }
   ],
   "source": [
    "df_patentes_historico_02[df_patentes_historico_02[\"patente\"] == \"HVRP14\"]"
   ],
   "metadata": {
    "collapsed": false,
    "pycharm": {
     "name": "#%%\n"
    }
   }
  },
  {
   "cell_type": "code",
   "execution_count": 11,
   "outputs": [
    {
     "data": {
      "text/plain": "         marca patente                                                rut  \\\n1219039  lexus  GCSD87  a0c8d282430c48403bfef8a9cf2b092c791c7a8601ce51...   \n1219114  lexus  GCSD87  a1cb99ad799726b4319011b544733dda89b493688a4fea...   \n1219115  lexus  GCSD87  a1cb99ad799726b4319011b544733dda89b493688a4fea...   \n1221306  lexus  GCSD87  c22c41cb6e483c8fe0866b76dfba82881b538ae2f25bf4...   \n1224511  lexus  GCSD87  ef8ef668c2d673406cbf6700efcb16dff8995211c356d6...   \n1224916  lexus  GCSD87  f56cfdb98bebae9ba98b162eaa9c7a0ab32ede2cd637bc...   \n\n        ano_patente       tipo         modelo ano_fabricacion  \n1219039        2016  automovil  is250 2.5 aut            2014  \n1219114        2019  automovil  is250 2.5 aut            2014  \n1219115        2018  automovil  is250 2.5 aut            2014  \n1221306        2017  automovil  is250 2.5 aut            2014  \n1224511        2021  automovil  is250 2.5 aut            2014  \n1224916        2020  automovil  is250 2.5 aut            2014  ",
      "text/html": "<div>\n<style scoped>\n    .dataframe tbody tr th:only-of-type {\n        vertical-align: middle;\n    }\n\n    .dataframe tbody tr th {\n        vertical-align: top;\n    }\n\n    .dataframe thead th {\n        text-align: right;\n    }\n</style>\n<table border=\"1\" class=\"dataframe\">\n  <thead>\n    <tr style=\"text-align: right;\">\n      <th></th>\n      <th>marca</th>\n      <th>patente</th>\n      <th>rut</th>\n      <th>ano_patente</th>\n      <th>tipo</th>\n      <th>modelo</th>\n      <th>ano_fabricacion</th>\n    </tr>\n  </thead>\n  <tbody>\n    <tr>\n      <th>1219039</th>\n      <td>lexus</td>\n      <td>GCSD87</td>\n      <td>a0c8d282430c48403bfef8a9cf2b092c791c7a8601ce51...</td>\n      <td>2016</td>\n      <td>automovil</td>\n      <td>is250 2.5 aut</td>\n      <td>2014</td>\n    </tr>\n    <tr>\n      <th>1219114</th>\n      <td>lexus</td>\n      <td>GCSD87</td>\n      <td>a1cb99ad799726b4319011b544733dda89b493688a4fea...</td>\n      <td>2019</td>\n      <td>automovil</td>\n      <td>is250 2.5 aut</td>\n      <td>2014</td>\n    </tr>\n    <tr>\n      <th>1219115</th>\n      <td>lexus</td>\n      <td>GCSD87</td>\n      <td>a1cb99ad799726b4319011b544733dda89b493688a4fea...</td>\n      <td>2018</td>\n      <td>automovil</td>\n      <td>is250 2.5 aut</td>\n      <td>2014</td>\n    </tr>\n    <tr>\n      <th>1221306</th>\n      <td>lexus</td>\n      <td>GCSD87</td>\n      <td>c22c41cb6e483c8fe0866b76dfba82881b538ae2f25bf4...</td>\n      <td>2017</td>\n      <td>automovil</td>\n      <td>is250 2.5 aut</td>\n      <td>2014</td>\n    </tr>\n    <tr>\n      <th>1224511</th>\n      <td>lexus</td>\n      <td>GCSD87</td>\n      <td>ef8ef668c2d673406cbf6700efcb16dff8995211c356d6...</td>\n      <td>2021</td>\n      <td>automovil</td>\n      <td>is250 2.5 aut</td>\n      <td>2014</td>\n    </tr>\n    <tr>\n      <th>1224916</th>\n      <td>lexus</td>\n      <td>GCSD87</td>\n      <td>f56cfdb98bebae9ba98b162eaa9c7a0ab32ede2cd637bc...</td>\n      <td>2020</td>\n      <td>automovil</td>\n      <td>is250 2.5 aut</td>\n      <td>2014</td>\n    </tr>\n  </tbody>\n</table>\n</div>"
     },
     "execution_count": 11,
     "metadata": {},
     "output_type": "execute_result"
    }
   ],
   "source": [
    "df_patentes_historico_02[df_patentes_historico_02[\"patente\"] == \"GCSD87\"]"
   ],
   "metadata": {
    "collapsed": false,
    "pycharm": {
     "name": "#%%\n"
    }
   }
  },
  {
   "cell_type": "code",
   "execution_count": 10,
   "outputs": [
    {
     "data": {
      "text/plain": "                  marca patente  \\\n14917998  mercedes benz  FKSP26   \n\n                                                        rut ano_patente  \\\n14917998  5b05ecf2bc316721ec45d9f5e301219cc1f57ff697ef62...        2016   \n\n               tipo modelo ano_fabricacion  \n14917998  automovil  c 180            2013  ",
      "text/html": "<div>\n<style scoped>\n    .dataframe tbody tr th:only-of-type {\n        vertical-align: middle;\n    }\n\n    .dataframe tbody tr th {\n        vertical-align: top;\n    }\n\n    .dataframe thead th {\n        text-align: right;\n    }\n</style>\n<table border=\"1\" class=\"dataframe\">\n  <thead>\n    <tr style=\"text-align: right;\">\n      <th></th>\n      <th>marca</th>\n      <th>patente</th>\n      <th>rut</th>\n      <th>ano_patente</th>\n      <th>tipo</th>\n      <th>modelo</th>\n      <th>ano_fabricacion</th>\n    </tr>\n  </thead>\n  <tbody>\n    <tr>\n      <th>14917998</th>\n      <td>mercedes benz</td>\n      <td>FKSP26</td>\n      <td>5b05ecf2bc316721ec45d9f5e301219cc1f57ff697ef62...</td>\n      <td>2016</td>\n      <td>automovil</td>\n      <td>c 180</td>\n      <td>2013</td>\n    </tr>\n  </tbody>\n</table>\n</div>"
     },
     "execution_count": 10,
     "metadata": {},
     "output_type": "execute_result"
    }
   ],
   "source": [
    "df_patentes_historico_02[df_patentes_historico_02[\"patente\"] == \"FKSP26\"]"
   ],
   "metadata": {
    "collapsed": false,
    "pycharm": {
     "name": "#%%\n"
    }
   }
  },
  {
   "cell_type": "code",
   "execution_count": 12,
   "outputs": [
    {
     "data": {
      "text/plain": "        marca patente                                                rut  \\\n5019643   bmw  CHTG38  7cdfa1d7492834a17f72ab06ee689846c389be77a17bbb...   \n5019644   bmw  CHTG38  7cdfa1d7492834a17f72ab06ee689846c389be77a17bbb...   \n5019645   bmw  CHTG38  7cdfa1d7492834a17f72ab06ee689846c389be77a17bbb...   \n5073855   bmw  CHTG38  cb6bdcdd9bf27a20f7544385f09b1085e0089456728fe8...   \n5102984   bmw  CHTG38  f56cfdb98bebae9ba98b162eaa9c7a0ab32ede2cd637bc...   \n5102985   bmw  CHTG38  f56cfdb98bebae9ba98b162eaa9c7a0ab32ede2cd637bc...   \n\n        ano_patente       tipo      modelo ano_fabricacion  \n5019643        2021  automovil  116i b 1.6            2010  \n5019644        2020  automovil  116i b 1.6            2010  \n5019645        2019  automovil  116i b 1.6            2010  \n5073855        2016  automovil  116i b 1.6            2010  \n5102984        2018  automovil  116i b 1.6            2010  \n5102985        2017  automovil  116i b 1.6            2010  ",
      "text/html": "<div>\n<style scoped>\n    .dataframe tbody tr th:only-of-type {\n        vertical-align: middle;\n    }\n\n    .dataframe tbody tr th {\n        vertical-align: top;\n    }\n\n    .dataframe thead th {\n        text-align: right;\n    }\n</style>\n<table border=\"1\" class=\"dataframe\">\n  <thead>\n    <tr style=\"text-align: right;\">\n      <th></th>\n      <th>marca</th>\n      <th>patente</th>\n      <th>rut</th>\n      <th>ano_patente</th>\n      <th>tipo</th>\n      <th>modelo</th>\n      <th>ano_fabricacion</th>\n    </tr>\n  </thead>\n  <tbody>\n    <tr>\n      <th>5019643</th>\n      <td>bmw</td>\n      <td>CHTG38</td>\n      <td>7cdfa1d7492834a17f72ab06ee689846c389be77a17bbb...</td>\n      <td>2021</td>\n      <td>automovil</td>\n      <td>116i b 1.6</td>\n      <td>2010</td>\n    </tr>\n    <tr>\n      <th>5019644</th>\n      <td>bmw</td>\n      <td>CHTG38</td>\n      <td>7cdfa1d7492834a17f72ab06ee689846c389be77a17bbb...</td>\n      <td>2020</td>\n      <td>automovil</td>\n      <td>116i b 1.6</td>\n      <td>2010</td>\n    </tr>\n    <tr>\n      <th>5019645</th>\n      <td>bmw</td>\n      <td>CHTG38</td>\n      <td>7cdfa1d7492834a17f72ab06ee689846c389be77a17bbb...</td>\n      <td>2019</td>\n      <td>automovil</td>\n      <td>116i b 1.6</td>\n      <td>2010</td>\n    </tr>\n    <tr>\n      <th>5073855</th>\n      <td>bmw</td>\n      <td>CHTG38</td>\n      <td>cb6bdcdd9bf27a20f7544385f09b1085e0089456728fe8...</td>\n      <td>2016</td>\n      <td>automovil</td>\n      <td>116i b 1.6</td>\n      <td>2010</td>\n    </tr>\n    <tr>\n      <th>5102984</th>\n      <td>bmw</td>\n      <td>CHTG38</td>\n      <td>f56cfdb98bebae9ba98b162eaa9c7a0ab32ede2cd637bc...</td>\n      <td>2018</td>\n      <td>automovil</td>\n      <td>116i b 1.6</td>\n      <td>2010</td>\n    </tr>\n    <tr>\n      <th>5102985</th>\n      <td>bmw</td>\n      <td>CHTG38</td>\n      <td>f56cfdb98bebae9ba98b162eaa9c7a0ab32ede2cd637bc...</td>\n      <td>2017</td>\n      <td>automovil</td>\n      <td>116i b 1.6</td>\n      <td>2010</td>\n    </tr>\n  </tbody>\n</table>\n</div>"
     },
     "execution_count": 12,
     "metadata": {},
     "output_type": "execute_result"
    }
   ],
   "source": [
    "df_patentes_historico_02[df_patentes_historico_02[\"patente\"] == \"CHTG38\"]"
   ],
   "metadata": {
    "collapsed": false,
    "pycharm": {
     "name": "#%%\n"
    }
   }
  },
  {
   "cell_type": "code",
   "execution_count": 13,
   "outputs": [
    {
     "data": {
      "text/plain": "          marca patente                                                rut  \\\n2929572  toyota  CXPB46  214c4f0af2fa0f311429a6d56ccd67795f8f6e81fda662...   \n2929573  toyota  CXPB46  214c4f0af2fa0f311429a6d56ccd67795f8f6e81fda662...   \n2929574  toyota  CXPB46  214c4f0af2fa0f311429a6d56ccd67795f8f6e81fda662...   \n2929575  toyota  CXPB46  214c4f0af2fa0f311429a6d56ccd67795f8f6e81fda662...   \n4816054  toyota  CXPB46  f56cfdb98bebae9ba98b162eaa9c7a0ab32ede2cd637bc...   \n4816055  toyota  CXPB46  f56cfdb98bebae9ba98b162eaa9c7a0ab32ede2cd637bc...   \n\n        ano_patente       tipo         modelo ano_fabricacion  \n2929572        2018  automovil  yaris gli 1.5            2011  \n2929573        2016  automovil  yaris gli 1.5            2011  \n2929574        2019  automovil  yaris gli 1.5            2011  \n2929575        2017  automovil  yaris gli 1.5            2011  \n4816054        2020  automovil  yaris gli 1.5            2011  \n4816055        2021  automovil  yaris gli 1.5            2011  ",
      "text/html": "<div>\n<style scoped>\n    .dataframe tbody tr th:only-of-type {\n        vertical-align: middle;\n    }\n\n    .dataframe tbody tr th {\n        vertical-align: top;\n    }\n\n    .dataframe thead th {\n        text-align: right;\n    }\n</style>\n<table border=\"1\" class=\"dataframe\">\n  <thead>\n    <tr style=\"text-align: right;\">\n      <th></th>\n      <th>marca</th>\n      <th>patente</th>\n      <th>rut</th>\n      <th>ano_patente</th>\n      <th>tipo</th>\n      <th>modelo</th>\n      <th>ano_fabricacion</th>\n    </tr>\n  </thead>\n  <tbody>\n    <tr>\n      <th>2929572</th>\n      <td>toyota</td>\n      <td>CXPB46</td>\n      <td>214c4f0af2fa0f311429a6d56ccd67795f8f6e81fda662...</td>\n      <td>2018</td>\n      <td>automovil</td>\n      <td>yaris gli 1.5</td>\n      <td>2011</td>\n    </tr>\n    <tr>\n      <th>2929573</th>\n      <td>toyota</td>\n      <td>CXPB46</td>\n      <td>214c4f0af2fa0f311429a6d56ccd67795f8f6e81fda662...</td>\n      <td>2016</td>\n      <td>automovil</td>\n      <td>yaris gli 1.5</td>\n      <td>2011</td>\n    </tr>\n    <tr>\n      <th>2929574</th>\n      <td>toyota</td>\n      <td>CXPB46</td>\n      <td>214c4f0af2fa0f311429a6d56ccd67795f8f6e81fda662...</td>\n      <td>2019</td>\n      <td>automovil</td>\n      <td>yaris gli 1.5</td>\n      <td>2011</td>\n    </tr>\n    <tr>\n      <th>2929575</th>\n      <td>toyota</td>\n      <td>CXPB46</td>\n      <td>214c4f0af2fa0f311429a6d56ccd67795f8f6e81fda662...</td>\n      <td>2017</td>\n      <td>automovil</td>\n      <td>yaris gli 1.5</td>\n      <td>2011</td>\n    </tr>\n    <tr>\n      <th>4816054</th>\n      <td>toyota</td>\n      <td>CXPB46</td>\n      <td>f56cfdb98bebae9ba98b162eaa9c7a0ab32ede2cd637bc...</td>\n      <td>2020</td>\n      <td>automovil</td>\n      <td>yaris gli 1.5</td>\n      <td>2011</td>\n    </tr>\n    <tr>\n      <th>4816055</th>\n      <td>toyota</td>\n      <td>CXPB46</td>\n      <td>f56cfdb98bebae9ba98b162eaa9c7a0ab32ede2cd637bc...</td>\n      <td>2021</td>\n      <td>automovil</td>\n      <td>yaris gli 1.5</td>\n      <td>2011</td>\n    </tr>\n  </tbody>\n</table>\n</div>"
     },
     "execution_count": 13,
     "metadata": {},
     "output_type": "execute_result"
    }
   ],
   "source": [
    "df_patentes_historico_02[df_patentes_historico_02[\"patente\"] == \"CXPB46\"]"
   ],
   "metadata": {
    "collapsed": false,
    "pycharm": {
     "name": "#%%\n"
    }
   }
  },
  {
   "cell_type": "code",
   "execution_count": 14,
   "outputs": [
    {
     "data": {
      "text/plain": "        marca patente                                                rut  \\\n998226  mazda  JJPL63  f56cfdb98bebae9ba98b162eaa9c7a0ab32ede2cd637bc...   \n998227  mazda  JJPL63  f56cfdb98bebae9ba98b162eaa9c7a0ab32ede2cd637bc...   \n\n       ano_patente       tipo         modelo ano_fabricacion  \n998226        2020  automovil  new 3 1.6 aut            2017  \n998227        2021  automovil  new 3 1.6 aut            2017  ",
      "text/html": "<div>\n<style scoped>\n    .dataframe tbody tr th:only-of-type {\n        vertical-align: middle;\n    }\n\n    .dataframe tbody tr th {\n        vertical-align: top;\n    }\n\n    .dataframe thead th {\n        text-align: right;\n    }\n</style>\n<table border=\"1\" class=\"dataframe\">\n  <thead>\n    <tr style=\"text-align: right;\">\n      <th></th>\n      <th>marca</th>\n      <th>patente</th>\n      <th>rut</th>\n      <th>ano_patente</th>\n      <th>tipo</th>\n      <th>modelo</th>\n      <th>ano_fabricacion</th>\n    </tr>\n  </thead>\n  <tbody>\n    <tr>\n      <th>998226</th>\n      <td>mazda</td>\n      <td>JJPL63</td>\n      <td>f56cfdb98bebae9ba98b162eaa9c7a0ab32ede2cd637bc...</td>\n      <td>2020</td>\n      <td>automovil</td>\n      <td>new 3 1.6 aut</td>\n      <td>2017</td>\n    </tr>\n    <tr>\n      <th>998227</th>\n      <td>mazda</td>\n      <td>JJPL63</td>\n      <td>f56cfdb98bebae9ba98b162eaa9c7a0ab32ede2cd637bc...</td>\n      <td>2021</td>\n      <td>automovil</td>\n      <td>new 3 1.6 aut</td>\n      <td>2017</td>\n    </tr>\n  </tbody>\n</table>\n</div>"
     },
     "execution_count": 14,
     "metadata": {},
     "output_type": "execute_result"
    }
   ],
   "source": [
    "df_patentes_historico_02[df_patentes_historico_02[\"patente\"] == \"JJPL63\"]"
   ],
   "metadata": {
    "collapsed": false,
    "pycharm": {
     "name": "#%%\n"
    }
   }
  },
  {
   "cell_type": "markdown",
   "source": [
    "/home/npastorb/derco//cjourney/data/processed/bn_activos_v1_streamlit.csv\n",
    "\n",
    "Atenciones de personas en sucursales Derco/AutoPlanet(AP) por rut, automovil, edad vehiculo y cantidad de veces que ha ido a SSTT"
   ],
   "metadata": {
    "collapsed": false,
    "pycharm": {
     "name": "#%% md\n"
    }
   }
  },
  {
   "cell_type": "code",
   "execution_count": 6,
   "outputs": [],
   "source": [
    "with ftp_client.open(\"/home/npastorb/derco//cjourney/data/processed/bn_activos_v1_streamlit.csv\") as file_bn_activos_v1_streamlit:\n",
    "    df_bn_activos_v1_streamlit = pd.read_csv(file_bn_activos_v1_streamlit, sep=\",\")"
   ],
   "metadata": {
    "collapsed": false,
    "pycharm": {
     "name": "#%%\n"
    }
   }
  },
  {
   "cell_type": "code",
   "execution_count": 7,
   "outputs": [
    {
     "data": {
      "text/plain": "                                                      Rut     Genero  \\\n0       0000100db770d02afaa20e762f8e31eca4281b6fb0e85c...        NaN   \n1       00bc0de443905ba3ae1399ede03f0c3c1e1400ee887669...        NaN   \n2       0166f5850654a3063bac4beb6515eed1b6fb2436e7a730...  MASCULINO   \n3       031d032c77a66278e68f324aa25d336ce093ada9892829...        NaN   \n4       03a181ec14644e8d94d1779983f0f6ded0e4f365167ff4...        NaN   \n...                                                   ...        ...   \n167259  693ab1fdc42fd3fd845c5bfb21ac3f7aa0f8890861a05c...   FEMENINO   \n167260  a31564b09716fdfafcdff130e5fdaab83e6cb4cbcd9bec...   FEMENINO   \n167261  1a804136cf6fa0293bd6084c85b81619a8a9c56cc120d2...  MASCULINO   \n167262  35b4086a3c5efb95024b7336265a508147d4a999f0f7e1...  MASCULINO   \n167263  905be83d627d303ed7b58d99ea536d85bd1ef2b51a477f...   FEMENINO   \n\n           Comuna    Generacion     Marca   EdadVehiculo  ActivoAP  \\\n0       EL BOSQUE  Generacion Y   Changan    6 a 10 años         0   \n1       EL BOSQUE   Baby Boomer    Suzuki     2 a 6 años         0   \n2       EL BOSQUE  Generacion X   Changan     0 a 2 años         0   \n3       EL BOSQUE  Generacion Y    Suzuki  10 años o mas         0   \n4       EL BOSQUE  Generacion Y    Suzuki     2 a 6 años         0   \n...           ...           ...       ...            ...       ...   \n167259    TIL TIL  Generacion X  JAC Cars     2 a 6 años         1   \n167260    TIL TIL  Generacion X    Suzuki     0 a 2 años         0   \n167261    TIL TIL  Generacion X    Suzuki     2 a 6 años         0   \n167262    TIL TIL  Generacion Y   Changan     2 a 6 años         0   \n167263    TIL TIL  Generacion X    Suzuki  10 años o mas         0   \n\n        ActivoSSTT  Amicar                                       CollageClass  \\\n0                0       0  B05: Nana con asistencia estatal. Clase asisti...   \n1                0       0                             C08: Adulto nido vacío   \n2                0       0      C10: Adultos jóvenes en vías de consolidación   \n3                0       0                             C08: Adulto nido vacío   \n4                1       1      C10: Adultos jóvenes en vías de consolidación   \n...            ...     ...                                                ...   \n167259           0       0  H21: Juan Herrera de los 80. Clase media surgi...   \n167260           0       1                   D13: Pensionados adultos mayores   \n167261           0       1  B05: Nana con asistencia estatal. Clase asisti...   \n167262           0       1        A02: Dueñas de casa jóvenes de la periferia   \n167263           0       0  A03: Adultos jóvenes con limitaciones educacio...   \n\n        CountAP  CountSSTT  \n0             0          0  \n1             0          0  \n2             0          1  \n3             2          1  \n4             0          2  \n...         ...        ...  \n167259        1          0  \n167260        0          0  \n167261        0          1  \n167262        0          0  \n167263        0          0  \n\n[167264 rows x 12 columns]",
      "text/html": "<div>\n<style scoped>\n    .dataframe tbody tr th:only-of-type {\n        vertical-align: middle;\n    }\n\n    .dataframe tbody tr th {\n        vertical-align: top;\n    }\n\n    .dataframe thead th {\n        text-align: right;\n    }\n</style>\n<table border=\"1\" class=\"dataframe\">\n  <thead>\n    <tr style=\"text-align: right;\">\n      <th></th>\n      <th>Rut</th>\n      <th>Genero</th>\n      <th>Comuna</th>\n      <th>Generacion</th>\n      <th>Marca</th>\n      <th>EdadVehiculo</th>\n      <th>ActivoAP</th>\n      <th>ActivoSSTT</th>\n      <th>Amicar</th>\n      <th>CollageClass</th>\n      <th>CountAP</th>\n      <th>CountSSTT</th>\n    </tr>\n  </thead>\n  <tbody>\n    <tr>\n      <th>0</th>\n      <td>0000100db770d02afaa20e762f8e31eca4281b6fb0e85c...</td>\n      <td>NaN</td>\n      <td>EL BOSQUE</td>\n      <td>Generacion Y</td>\n      <td>Changan</td>\n      <td>6 a 10 años</td>\n      <td>0</td>\n      <td>0</td>\n      <td>0</td>\n      <td>B05: Nana con asistencia estatal. Clase asisti...</td>\n      <td>0</td>\n      <td>0</td>\n    </tr>\n    <tr>\n      <th>1</th>\n      <td>00bc0de443905ba3ae1399ede03f0c3c1e1400ee887669...</td>\n      <td>NaN</td>\n      <td>EL BOSQUE</td>\n      <td>Baby Boomer</td>\n      <td>Suzuki</td>\n      <td>2 a 6 años</td>\n      <td>0</td>\n      <td>0</td>\n      <td>0</td>\n      <td>C08: Adulto nido vacío</td>\n      <td>0</td>\n      <td>0</td>\n    </tr>\n    <tr>\n      <th>2</th>\n      <td>0166f5850654a3063bac4beb6515eed1b6fb2436e7a730...</td>\n      <td>MASCULINO</td>\n      <td>EL BOSQUE</td>\n      <td>Generacion X</td>\n      <td>Changan</td>\n      <td>0 a 2 años</td>\n      <td>0</td>\n      <td>0</td>\n      <td>0</td>\n      <td>C10: Adultos jóvenes en vías de consolidación</td>\n      <td>0</td>\n      <td>1</td>\n    </tr>\n    <tr>\n      <th>3</th>\n      <td>031d032c77a66278e68f324aa25d336ce093ada9892829...</td>\n      <td>NaN</td>\n      <td>EL BOSQUE</td>\n      <td>Generacion Y</td>\n      <td>Suzuki</td>\n      <td>10 años o mas</td>\n      <td>0</td>\n      <td>0</td>\n      <td>0</td>\n      <td>C08: Adulto nido vacío</td>\n      <td>2</td>\n      <td>1</td>\n    </tr>\n    <tr>\n      <th>4</th>\n      <td>03a181ec14644e8d94d1779983f0f6ded0e4f365167ff4...</td>\n      <td>NaN</td>\n      <td>EL BOSQUE</td>\n      <td>Generacion Y</td>\n      <td>Suzuki</td>\n      <td>2 a 6 años</td>\n      <td>0</td>\n      <td>1</td>\n      <td>1</td>\n      <td>C10: Adultos jóvenes en vías de consolidación</td>\n      <td>0</td>\n      <td>2</td>\n    </tr>\n    <tr>\n      <th>...</th>\n      <td>...</td>\n      <td>...</td>\n      <td>...</td>\n      <td>...</td>\n      <td>...</td>\n      <td>...</td>\n      <td>...</td>\n      <td>...</td>\n      <td>...</td>\n      <td>...</td>\n      <td>...</td>\n      <td>...</td>\n    </tr>\n    <tr>\n      <th>167259</th>\n      <td>693ab1fdc42fd3fd845c5bfb21ac3f7aa0f8890861a05c...</td>\n      <td>FEMENINO</td>\n      <td>TIL TIL</td>\n      <td>Generacion X</td>\n      <td>JAC Cars</td>\n      <td>2 a 6 años</td>\n      <td>1</td>\n      <td>0</td>\n      <td>0</td>\n      <td>H21: Juan Herrera de los 80. Clase media surgi...</td>\n      <td>1</td>\n      <td>0</td>\n    </tr>\n    <tr>\n      <th>167260</th>\n      <td>a31564b09716fdfafcdff130e5fdaab83e6cb4cbcd9bec...</td>\n      <td>FEMENINO</td>\n      <td>TIL TIL</td>\n      <td>Generacion X</td>\n      <td>Suzuki</td>\n      <td>0 a 2 años</td>\n      <td>0</td>\n      <td>0</td>\n      <td>1</td>\n      <td>D13: Pensionados adultos mayores</td>\n      <td>0</td>\n      <td>0</td>\n    </tr>\n    <tr>\n      <th>167261</th>\n      <td>1a804136cf6fa0293bd6084c85b81619a8a9c56cc120d2...</td>\n      <td>MASCULINO</td>\n      <td>TIL TIL</td>\n      <td>Generacion X</td>\n      <td>Suzuki</td>\n      <td>2 a 6 años</td>\n      <td>0</td>\n      <td>0</td>\n      <td>1</td>\n      <td>B05: Nana con asistencia estatal. Clase asisti...</td>\n      <td>0</td>\n      <td>1</td>\n    </tr>\n    <tr>\n      <th>167262</th>\n      <td>35b4086a3c5efb95024b7336265a508147d4a999f0f7e1...</td>\n      <td>MASCULINO</td>\n      <td>TIL TIL</td>\n      <td>Generacion Y</td>\n      <td>Changan</td>\n      <td>2 a 6 años</td>\n      <td>0</td>\n      <td>0</td>\n      <td>1</td>\n      <td>A02: Dueñas de casa jóvenes de la periferia</td>\n      <td>0</td>\n      <td>0</td>\n    </tr>\n    <tr>\n      <th>167263</th>\n      <td>905be83d627d303ed7b58d99ea536d85bd1ef2b51a477f...</td>\n      <td>FEMENINO</td>\n      <td>TIL TIL</td>\n      <td>Generacion X</td>\n      <td>Suzuki</td>\n      <td>10 años o mas</td>\n      <td>0</td>\n      <td>0</td>\n      <td>0</td>\n      <td>A03: Adultos jóvenes con limitaciones educacio...</td>\n      <td>0</td>\n      <td>0</td>\n    </tr>\n  </tbody>\n</table>\n<p>167264 rows × 12 columns</p>\n</div>"
     },
     "execution_count": 7,
     "metadata": {},
     "output_type": "execute_result"
    }
   ],
   "source": [
    "df_bn_activos_v1_streamlit"
   ],
   "metadata": {
    "collapsed": false,
    "pycharm": {
     "name": "#%%\n"
    }
   }
  },
  {
   "cell_type": "markdown",
   "source": [
    "/home/npastorb/derco/cjourney/data/interim/rut_sig_nuevo_v3.csv\n",
    "Contiene en general, informacion de clientes de Derco y filiales, y sus atenciones (incluida primera atencion)"
   ],
   "metadata": {
    "collapsed": false,
    "pycharm": {
     "name": "#%% md\n"
    }
   }
  },
  {
   "cell_type": "code",
   "execution_count": 8,
   "outputs": [],
   "source": [
    "with ftp_client.open(\"/home/npastorb/derco/cjourney/data/interim/rut_sig_nuevo_v3.csv\") as file_rut_sig_nuevo_v3:\n",
    "    df_rut_sig_nuevo_v3 = pd.read_csv(file_rut_sig_nuevo_v3, sep=\",\")"
   ],
   "metadata": {
    "collapsed": false,
    "pycharm": {
     "name": "#%%\n"
    }
   }
  },
  {
   "cell_type": "code",
   "execution_count": 9,
   "outputs": [
    {
     "data": {
      "text/plain": "                                                       rut       marca  \\\n0        000003d282fb8c63673f83d3686ed986be20da1bcba4e8...     externo   \n1        0000067cecccc15416ddbe3e151495af91a8d70d847b7a...       Geely   \n2        00000e4d37c54a9b53c1af3482729ed5433232f0092775...     externo   \n3        0000100db770d02afaa20e762f8e31eca4281b6fb0e85c...     Changan   \n4        000014f0028a24898f030d58bc3212847c81da79f009a3...     externo   \n...                                                    ...         ...   \n2230446  fffff3ece0dac29e3c856dffa326757998ff50a33a8ef7...    JAC Cars   \n2230447  fffff3ece0dac29e3c856dffa326757998ff50a33a8ef7...  Great Wall   \n2230448  fffff3ece0dac29e3c856dffa326757998ff50a33a8ef7...  Great Wall   \n2230449  fffff44b795b3abd8af200f26b6b31646435b168ee7de7...     externo   \n2230450  fffffef301870c392353a6c7b058a80b82f3cafde73609...       Mazda   \n\n          sig_marca  dif_meses_nuevo  N_sstt  avg_meses_sstt  \\\n0               NaN              NaN       0             NaN   \n1               NaN              NaN       0             NaN   \n2               NaN              NaN       0             NaN   \n3               NaN              NaN       0             NaN   \n4        Great Wall              NaN       0             NaN   \n...             ...              ...     ...             ...   \n2230446  Great Wall         9.870968       0             NaN   \n2230447  Great Wall        43.161290       5       10.167742   \n2230448         NaN              NaN       2       15.387097   \n2230449         NaN              NaN       0             NaN   \n2230450         NaN              NaN       1             NaN   \n\n         meses_primer_sstt amicar reciente sig_amicar  ...  N_meson  \\\n0                      NaN    NaN      NaN        NaN  ...       21   \n1                      NaN  False    False        NaN  ...        0   \n2                      NaN    NaN      NaN        NaN  ...        0   \n3                      NaN  False    False        NaN  ...        0   \n4                      NaN    NaN      NaN        NaN  ...        1   \n...                    ...    ...      ...        ...  ...      ...   \n2230446                NaN  False    False      False  ...        0   \n2230447           8.451613  False    False      False  ...        1   \n2230448           9.967742  False     True        NaN  ...        1   \n2230449                NaN    NaN      NaN        NaN  ...        0   \n2230450          12.451613   True     True        NaN  ...        0   \n\n         avg_meses_meson  meses_primer_meson  N_autoplanet  \\\n0               3.798387                 NaN             0   \n1                    NaN                 NaN             1   \n2                    NaN                 NaN             5   \n3                    NaN                 NaN             0   \n4                    NaN                 NaN             0   \n...                  ...                 ...           ...   \n2230446              NaN                 NaN             0   \n2230447              NaN           28.419355             0   \n2230448        44.709677           29.967742             0   \n2230449              NaN                 NaN             1   \n2230450              NaN                 NaN             0   \n\n         avg_meses_autoplanet  meses_primer_autoplanet  meses_externo_sstt  \\\n0                         NaN                      NaN                 NaN   \n1                         NaN               106.580645                 NaN   \n2                    9.725806                      NaN                 NaN   \n3                         NaN                      NaN                 NaN   \n4                         NaN                      NaN                 NaN   \n...                       ...                      ...                 ...   \n2230446                   NaN                      NaN                 NaN   \n2230447                   NaN                      NaN                 NaN   \n2230448                   NaN                      NaN                 NaN   \n2230449                   NaN                      NaN                 NaN   \n2230450                   NaN                      NaN                 NaN   \n\n         meses_externo_meson  meses_externo_autoplanet  primer_negocio  \n0                        NaN                       NaN           meson  \n1                        NaN                       NaN           nuevo  \n2                        NaN                       NaN      autoplanet  \n3                        NaN                       NaN           nuevo  \n4                  20.402883                       NaN           meson  \n...                      ...                       ...             ...  \n2230446                  NaN                       NaN            sstt  \n2230447                  NaN                       NaN            sstt  \n2230448                  NaN                       NaN            sstt  \n2230449                  NaN                       NaN      autoplanet  \n2230450                  NaN                       NaN           nuevo  \n\n[2230451 rows x 23 columns]",
      "text/html": "<div>\n<style scoped>\n    .dataframe tbody tr th:only-of-type {\n        vertical-align: middle;\n    }\n\n    .dataframe tbody tr th {\n        vertical-align: top;\n    }\n\n    .dataframe thead th {\n        text-align: right;\n    }\n</style>\n<table border=\"1\" class=\"dataframe\">\n  <thead>\n    <tr style=\"text-align: right;\">\n      <th></th>\n      <th>rut</th>\n      <th>marca</th>\n      <th>sig_marca</th>\n      <th>dif_meses_nuevo</th>\n      <th>N_sstt</th>\n      <th>avg_meses_sstt</th>\n      <th>meses_primer_sstt</th>\n      <th>amicar</th>\n      <th>reciente</th>\n      <th>sig_amicar</th>\n      <th>...</th>\n      <th>N_meson</th>\n      <th>avg_meses_meson</th>\n      <th>meses_primer_meson</th>\n      <th>N_autoplanet</th>\n      <th>avg_meses_autoplanet</th>\n      <th>meses_primer_autoplanet</th>\n      <th>meses_externo_sstt</th>\n      <th>meses_externo_meson</th>\n      <th>meses_externo_autoplanet</th>\n      <th>primer_negocio</th>\n    </tr>\n  </thead>\n  <tbody>\n    <tr>\n      <th>0</th>\n      <td>000003d282fb8c63673f83d3686ed986be20da1bcba4e8...</td>\n      <td>externo</td>\n      <td>NaN</td>\n      <td>NaN</td>\n      <td>0</td>\n      <td>NaN</td>\n      <td>NaN</td>\n      <td>NaN</td>\n      <td>NaN</td>\n      <td>NaN</td>\n      <td>...</td>\n      <td>21</td>\n      <td>3.798387</td>\n      <td>NaN</td>\n      <td>0</td>\n      <td>NaN</td>\n      <td>NaN</td>\n      <td>NaN</td>\n      <td>NaN</td>\n      <td>NaN</td>\n      <td>meson</td>\n    </tr>\n    <tr>\n      <th>1</th>\n      <td>0000067cecccc15416ddbe3e151495af91a8d70d847b7a...</td>\n      <td>Geely</td>\n      <td>NaN</td>\n      <td>NaN</td>\n      <td>0</td>\n      <td>NaN</td>\n      <td>NaN</td>\n      <td>False</td>\n      <td>False</td>\n      <td>NaN</td>\n      <td>...</td>\n      <td>0</td>\n      <td>NaN</td>\n      <td>NaN</td>\n      <td>1</td>\n      <td>NaN</td>\n      <td>106.580645</td>\n      <td>NaN</td>\n      <td>NaN</td>\n      <td>NaN</td>\n      <td>nuevo</td>\n    </tr>\n    <tr>\n      <th>2</th>\n      <td>00000e4d37c54a9b53c1af3482729ed5433232f0092775...</td>\n      <td>externo</td>\n      <td>NaN</td>\n      <td>NaN</td>\n      <td>0</td>\n      <td>NaN</td>\n      <td>NaN</td>\n      <td>NaN</td>\n      <td>NaN</td>\n      <td>NaN</td>\n      <td>...</td>\n      <td>0</td>\n      <td>NaN</td>\n      <td>NaN</td>\n      <td>5</td>\n      <td>9.725806</td>\n      <td>NaN</td>\n      <td>NaN</td>\n      <td>NaN</td>\n      <td>NaN</td>\n      <td>autoplanet</td>\n    </tr>\n    <tr>\n      <th>3</th>\n      <td>0000100db770d02afaa20e762f8e31eca4281b6fb0e85c...</td>\n      <td>Changan</td>\n      <td>NaN</td>\n      <td>NaN</td>\n      <td>0</td>\n      <td>NaN</td>\n      <td>NaN</td>\n      <td>False</td>\n      <td>False</td>\n      <td>NaN</td>\n      <td>...</td>\n      <td>0</td>\n      <td>NaN</td>\n      <td>NaN</td>\n      <td>0</td>\n      <td>NaN</td>\n      <td>NaN</td>\n      <td>NaN</td>\n      <td>NaN</td>\n      <td>NaN</td>\n      <td>nuevo</td>\n    </tr>\n    <tr>\n      <th>4</th>\n      <td>000014f0028a24898f030d58bc3212847c81da79f009a3...</td>\n      <td>externo</td>\n      <td>Great Wall</td>\n      <td>NaN</td>\n      <td>0</td>\n      <td>NaN</td>\n      <td>NaN</td>\n      <td>NaN</td>\n      <td>NaN</td>\n      <td>NaN</td>\n      <td>...</td>\n      <td>1</td>\n      <td>NaN</td>\n      <td>NaN</td>\n      <td>0</td>\n      <td>NaN</td>\n      <td>NaN</td>\n      <td>NaN</td>\n      <td>20.402883</td>\n      <td>NaN</td>\n      <td>meson</td>\n    </tr>\n    <tr>\n      <th>...</th>\n      <td>...</td>\n      <td>...</td>\n      <td>...</td>\n      <td>...</td>\n      <td>...</td>\n      <td>...</td>\n      <td>...</td>\n      <td>...</td>\n      <td>...</td>\n      <td>...</td>\n      <td>...</td>\n      <td>...</td>\n      <td>...</td>\n      <td>...</td>\n      <td>...</td>\n      <td>...</td>\n      <td>...</td>\n      <td>...</td>\n      <td>...</td>\n      <td>...</td>\n      <td>...</td>\n    </tr>\n    <tr>\n      <th>2230446</th>\n      <td>fffff3ece0dac29e3c856dffa326757998ff50a33a8ef7...</td>\n      <td>JAC Cars</td>\n      <td>Great Wall</td>\n      <td>9.870968</td>\n      <td>0</td>\n      <td>NaN</td>\n      <td>NaN</td>\n      <td>False</td>\n      <td>False</td>\n      <td>False</td>\n      <td>...</td>\n      <td>0</td>\n      <td>NaN</td>\n      <td>NaN</td>\n      <td>0</td>\n      <td>NaN</td>\n      <td>NaN</td>\n      <td>NaN</td>\n      <td>NaN</td>\n      <td>NaN</td>\n      <td>sstt</td>\n    </tr>\n    <tr>\n      <th>2230447</th>\n      <td>fffff3ece0dac29e3c856dffa326757998ff50a33a8ef7...</td>\n      <td>Great Wall</td>\n      <td>Great Wall</td>\n      <td>43.161290</td>\n      <td>5</td>\n      <td>10.167742</td>\n      <td>8.451613</td>\n      <td>False</td>\n      <td>False</td>\n      <td>False</td>\n      <td>...</td>\n      <td>1</td>\n      <td>NaN</td>\n      <td>28.419355</td>\n      <td>0</td>\n      <td>NaN</td>\n      <td>NaN</td>\n      <td>NaN</td>\n      <td>NaN</td>\n      <td>NaN</td>\n      <td>sstt</td>\n    </tr>\n    <tr>\n      <th>2230448</th>\n      <td>fffff3ece0dac29e3c856dffa326757998ff50a33a8ef7...</td>\n      <td>Great Wall</td>\n      <td>NaN</td>\n      <td>NaN</td>\n      <td>2</td>\n      <td>15.387097</td>\n      <td>9.967742</td>\n      <td>False</td>\n      <td>True</td>\n      <td>NaN</td>\n      <td>...</td>\n      <td>1</td>\n      <td>44.709677</td>\n      <td>29.967742</td>\n      <td>0</td>\n      <td>NaN</td>\n      <td>NaN</td>\n      <td>NaN</td>\n      <td>NaN</td>\n      <td>NaN</td>\n      <td>sstt</td>\n    </tr>\n    <tr>\n      <th>2230449</th>\n      <td>fffff44b795b3abd8af200f26b6b31646435b168ee7de7...</td>\n      <td>externo</td>\n      <td>NaN</td>\n      <td>NaN</td>\n      <td>0</td>\n      <td>NaN</td>\n      <td>NaN</td>\n      <td>NaN</td>\n      <td>NaN</td>\n      <td>NaN</td>\n      <td>...</td>\n      <td>0</td>\n      <td>NaN</td>\n      <td>NaN</td>\n      <td>1</td>\n      <td>NaN</td>\n      <td>NaN</td>\n      <td>NaN</td>\n      <td>NaN</td>\n      <td>NaN</td>\n      <td>autoplanet</td>\n    </tr>\n    <tr>\n      <th>2230450</th>\n      <td>fffffef301870c392353a6c7b058a80b82f3cafde73609...</td>\n      <td>Mazda</td>\n      <td>NaN</td>\n      <td>NaN</td>\n      <td>1</td>\n      <td>NaN</td>\n      <td>12.451613</td>\n      <td>True</td>\n      <td>True</td>\n      <td>NaN</td>\n      <td>...</td>\n      <td>0</td>\n      <td>NaN</td>\n      <td>NaN</td>\n      <td>0</td>\n      <td>NaN</td>\n      <td>NaN</td>\n      <td>NaN</td>\n      <td>NaN</td>\n      <td>NaN</td>\n      <td>nuevo</td>\n    </tr>\n  </tbody>\n</table>\n<p>2230451 rows × 23 columns</p>\n</div>"
     },
     "execution_count": 9,
     "metadata": {},
     "output_type": "execute_result"
    }
   ],
   "source": [
    "df_rut_sig_nuevo_v3"
   ],
   "metadata": {
    "collapsed": false,
    "pycharm": {
     "name": "#%%\n"
    }
   }
  },
  {
   "cell_type": "markdown",
   "source": [
    "/home/npastorb/derco/cjourney/data/raw/tabla_recomendador_parte2_20220701.csv\n",
    "Contiene el cambio de vehiculos por persona, hasta el 14avo vehiculo"
   ],
   "metadata": {
    "collapsed": false,
    "pycharm": {
     "name": "#%% md\n"
    }
   }
  },
  {
   "cell_type": "code",
   "execution_count": 10,
   "outputs": [
    {
     "name": "stderr",
     "output_type": "stream",
     "text": [
      "/tmp/ipykernel_3299146/1470694776.py:2: DtypeWarning: Columns (20,21,22,23,24,25,26,27) have mixed types. Specify dtype option on import or set low_memory=False.\n",
      "  df_tabla_recomendador_parte2_20220701 = pd.read_csv(file_tabla_recomendador_parte2_20220701, sep=\",\")\n"
     ]
    }
   ],
   "source": [
    "with ftp_client.open(\"/home/npastorb/derco/cjourney/data/raw/tabla_recomendador_parte2_20220701.csv\") as file_tabla_recomendador_parte2_20220701:\n",
    "    df_tabla_recomendador_parte2_20220701 = pd.read_csv(file_tabla_recomendador_parte2_20220701, sep=\",\")"
   ],
   "metadata": {
    "collapsed": false,
    "pycharm": {
     "name": "#%%\n"
    }
   }
  },
  {
   "cell_type": "code",
   "execution_count": 11,
   "outputs": [
    {
     "data": {
      "text/plain": "              1_marca_modelo          1_marca_modelo_ano_edad  \\\n0             suzuki - swift        suzuki - swift - 2015 - 0   \n1          renault - fluence     renault - fluence - 2014 - 0   \n2             suzuki - dzire        suzuki - dzire - 2021 - 0   \n3               suzuki - sx4          suzuki - sx4 - 2008 - 0   \n4                 geely - lc            geely - lc - 2014 - 0   \n...                      ...                              ...   \n394644            fiat - uno            fiat - uno - 2017 - 0   \n394645  great wall - wingle5  great wall - wingle5 - 2015 - 1   \n394646      nissan - qashqai      nissan - qashqai - 2013 - 0   \n394647       suzuki - nomade       suzuki - nomade - 2013 - 0   \n394648         suzuki - alto         suzuki - alto - 2010 - 0   \n\n           2_marca_modelo       2_marca_modelo_ano_edad     3_marca_modelo  \\\n0         dodge - durango    dodge - durango - 2022 - 0                NaN   \n1       renault - fluence  renault - fluence - 2016 - 0                NaN   \n2                     NaN                           NaN                NaN   \n3        renault - megane   renault - megane - 2016 - 0                NaN   \n4             mazda - cx5        mazda - cx5 - 2015 - 0  chevrolet - sonic   \n...                   ...                           ...                ...   \n394644    changan - ms201    changan - ms201 - 2019 - 0                NaN   \n394645                NaN                           NaN                NaN   \n394646                NaN                           NaN                NaN   \n394647                NaN                           NaN                NaN   \n394648       citroen - c3       citroen - c3 - 2005 - 9         fiat - uno   \n\n             3_marca_modelo_ano_edad   4_marca_modelo  \\\n0                                NaN              NaN   \n1                                NaN              NaN   \n2                                NaN              NaN   \n3                                NaN              NaN   \n4       chevrolet - sonic - 2012 - 4              NaN   \n...                              ...              ...   \n394644                           NaN              NaN   \n394645                           NaN              NaN   \n394646                           NaN              NaN   \n394647                           NaN              NaN   \n394648         fiat - uno - 2020 - 0  ford - ecosport   \n\n           4_marca_modelo_ano_edad 5_marca_modelo 5_marca_modelo_ano_edad  \\\n0                              NaN            NaN                     NaN   \n1                              NaN            NaN                     NaN   \n2                              NaN            NaN                     NaN   \n3                              NaN            NaN                     NaN   \n4                              NaN            NaN                     NaN   \n...                            ...            ...                     ...   \n394644                         NaN            NaN                     NaN   \n394645                         NaN            NaN                     NaN   \n394646                         NaN            NaN                     NaN   \n394647                         NaN            NaN                     NaN   \n394648  ford - ecosport - 2018 - 3            NaN                     NaN   \n\n        ...                                      collage_class  \\\n0       ...                         I27: Auto Lovers full tech   \n1       ...                              J29: Jóvenes eruditos   \n2       ...  F17: Hipotecados Institutanos. Adultos jóvenes...   \n3       ...                              J29: Jóvenes eruditos   \n4       ...                          C11: Adultos consolidados   \n...     ...                                                ...   \n394644  ...  B05: Nana con asistencia estatal. Clase asisti...   \n394645  ...  F17: Hipotecados Institutanos. Adultos jóvenes...   \n394646  ...            D14: Jóvenes subsidiados por sus padres   \n394647  ...                         I27: Auto Lovers full tech   \n394648  ...    A04: Pobres emergentes que creen en su esfuerzo   \n\n                   collage_group antiguedad_cliente financiamiento frequency  \\\n0               I: Crema y  Nata      Cliente Nuevo              0       3.0   \n1            J: Jóvenes promesas    Cliente Antiguo              0       8.0   \n2       F: Empujadores de carros      Cliente Nuevo              1       1.0   \n3            J: Jóvenes promesas      Cliente Nuevo              0       7.0   \n4                C: Al fin solos      Cliente Nuevo              0       0.0   \n...                          ...                ...            ...       ...   \n394644              B: Asistidos      Cliente Nuevo              0       1.0   \n394645  F: Empujadores de carros    Cliente Antiguo              0       6.0   \n394646  D: Sin apuro por la vida      Cliente Nuevo              0       0.0   \n394647          I: Crema y  Nata      Cliente Nuevo              0       0.0   \n394648   A: Contra la adversidad      Cliente Nuevo              0       0.0   \n\n       recency      T      CLV1      CLV2  \\\n0         3.51   7.24   37281.0   67611.0   \n1         9.83  11.41  166396.0  314859.0   \n2         0.84   1.37  138115.0  183410.0   \n3         7.65  11.18   51477.0   97534.0   \n4         0.00   7.45    3489.0    4395.0   \n...        ...    ...       ...       ...   \n394644    0.73   3.46   29139.0   39051.0   \n394645    3.54   3.81  371155.0  676168.0   \n394646    0.00   0.66  121173.0  142582.0   \n394647    0.00   9.67    1562.0    1980.0   \n394648    0.00   6.45    5469.0    6864.0   \n\n                                              encrypt-rut  \n0       58aafbfbef168c156bf34efb532f56c439981518284c9c...  \n1       471650956cf6a57ace8497c22d1771ae78cff8e935cff4...  \n2       5757530871012a835fefbf40a8ace84905229db406c550...  \n3       155c7418fde393198c31ccff13953dc33e493b7ea3f8aa...  \n4       c304da1ba612ab489baba36b6c9f90b5dad221f04ae5b3...  \n...                                                   ...  \n394644  6bad4ba9ee245b48e5808b3dca3db8a2e0531c8b4b15be...  \n394645  5fe9092b240b489b73fd1bb4929cf2367d61d6a332614b...  \n394646  32b074708e73afe7f992541a063250041b43ff4a8ad1d0...  \n394647  18fd7be8f377ca0d33a040f21bdf98ab33c30ca6eb0f0a...  \n394648  81d144ad5e6f7a112f1b81eb60710d356dce3853ef24c7...  \n\n[394649 rows x 42 columns]",
      "text/html": "<div>\n<style scoped>\n    .dataframe tbody tr th:only-of-type {\n        vertical-align: middle;\n    }\n\n    .dataframe tbody tr th {\n        vertical-align: top;\n    }\n\n    .dataframe thead th {\n        text-align: right;\n    }\n</style>\n<table border=\"1\" class=\"dataframe\">\n  <thead>\n    <tr style=\"text-align: right;\">\n      <th></th>\n      <th>1_marca_modelo</th>\n      <th>1_marca_modelo_ano_edad</th>\n      <th>2_marca_modelo</th>\n      <th>2_marca_modelo_ano_edad</th>\n      <th>3_marca_modelo</th>\n      <th>3_marca_modelo_ano_edad</th>\n      <th>4_marca_modelo</th>\n      <th>4_marca_modelo_ano_edad</th>\n      <th>5_marca_modelo</th>\n      <th>5_marca_modelo_ano_edad</th>\n      <th>...</th>\n      <th>collage_class</th>\n      <th>collage_group</th>\n      <th>antiguedad_cliente</th>\n      <th>financiamiento</th>\n      <th>frequency</th>\n      <th>recency</th>\n      <th>T</th>\n      <th>CLV1</th>\n      <th>CLV2</th>\n      <th>encrypt-rut</th>\n    </tr>\n  </thead>\n  <tbody>\n    <tr>\n      <th>0</th>\n      <td>suzuki - swift</td>\n      <td>suzuki - swift - 2015 - 0</td>\n      <td>dodge - durango</td>\n      <td>dodge - durango - 2022 - 0</td>\n      <td>NaN</td>\n      <td>NaN</td>\n      <td>NaN</td>\n      <td>NaN</td>\n      <td>NaN</td>\n      <td>NaN</td>\n      <td>...</td>\n      <td>I27: Auto Lovers full tech</td>\n      <td>I: Crema y  Nata</td>\n      <td>Cliente Nuevo</td>\n      <td>0</td>\n      <td>3.0</td>\n      <td>3.51</td>\n      <td>7.24</td>\n      <td>37281.0</td>\n      <td>67611.0</td>\n      <td>58aafbfbef168c156bf34efb532f56c439981518284c9c...</td>\n    </tr>\n    <tr>\n      <th>1</th>\n      <td>renault - fluence</td>\n      <td>renault - fluence - 2014 - 0</td>\n      <td>renault - fluence</td>\n      <td>renault - fluence - 2016 - 0</td>\n      <td>NaN</td>\n      <td>NaN</td>\n      <td>NaN</td>\n      <td>NaN</td>\n      <td>NaN</td>\n      <td>NaN</td>\n      <td>...</td>\n      <td>J29: Jóvenes eruditos</td>\n      <td>J: Jóvenes promesas</td>\n      <td>Cliente Antiguo</td>\n      <td>0</td>\n      <td>8.0</td>\n      <td>9.83</td>\n      <td>11.41</td>\n      <td>166396.0</td>\n      <td>314859.0</td>\n      <td>471650956cf6a57ace8497c22d1771ae78cff8e935cff4...</td>\n    </tr>\n    <tr>\n      <th>2</th>\n      <td>suzuki - dzire</td>\n      <td>suzuki - dzire - 2021 - 0</td>\n      <td>NaN</td>\n      <td>NaN</td>\n      <td>NaN</td>\n      <td>NaN</td>\n      <td>NaN</td>\n      <td>NaN</td>\n      <td>NaN</td>\n      <td>NaN</td>\n      <td>...</td>\n      <td>F17: Hipotecados Institutanos. Adultos jóvenes...</td>\n      <td>F: Empujadores de carros</td>\n      <td>Cliente Nuevo</td>\n      <td>1</td>\n      <td>1.0</td>\n      <td>0.84</td>\n      <td>1.37</td>\n      <td>138115.0</td>\n      <td>183410.0</td>\n      <td>5757530871012a835fefbf40a8ace84905229db406c550...</td>\n    </tr>\n    <tr>\n      <th>3</th>\n      <td>suzuki - sx4</td>\n      <td>suzuki - sx4 - 2008 - 0</td>\n      <td>renault - megane</td>\n      <td>renault - megane - 2016 - 0</td>\n      <td>NaN</td>\n      <td>NaN</td>\n      <td>NaN</td>\n      <td>NaN</td>\n      <td>NaN</td>\n      <td>NaN</td>\n      <td>...</td>\n      <td>J29: Jóvenes eruditos</td>\n      <td>J: Jóvenes promesas</td>\n      <td>Cliente Nuevo</td>\n      <td>0</td>\n      <td>7.0</td>\n      <td>7.65</td>\n      <td>11.18</td>\n      <td>51477.0</td>\n      <td>97534.0</td>\n      <td>155c7418fde393198c31ccff13953dc33e493b7ea3f8aa...</td>\n    </tr>\n    <tr>\n      <th>4</th>\n      <td>geely - lc</td>\n      <td>geely - lc - 2014 - 0</td>\n      <td>mazda - cx5</td>\n      <td>mazda - cx5 - 2015 - 0</td>\n      <td>chevrolet - sonic</td>\n      <td>chevrolet - sonic - 2012 - 4</td>\n      <td>NaN</td>\n      <td>NaN</td>\n      <td>NaN</td>\n      <td>NaN</td>\n      <td>...</td>\n      <td>C11: Adultos consolidados</td>\n      <td>C: Al fin solos</td>\n      <td>Cliente Nuevo</td>\n      <td>0</td>\n      <td>0.0</td>\n      <td>0.00</td>\n      <td>7.45</td>\n      <td>3489.0</td>\n      <td>4395.0</td>\n      <td>c304da1ba612ab489baba36b6c9f90b5dad221f04ae5b3...</td>\n    </tr>\n    <tr>\n      <th>...</th>\n      <td>...</td>\n      <td>...</td>\n      <td>...</td>\n      <td>...</td>\n      <td>...</td>\n      <td>...</td>\n      <td>...</td>\n      <td>...</td>\n      <td>...</td>\n      <td>...</td>\n      <td>...</td>\n      <td>...</td>\n      <td>...</td>\n      <td>...</td>\n      <td>...</td>\n      <td>...</td>\n      <td>...</td>\n      <td>...</td>\n      <td>...</td>\n      <td>...</td>\n      <td>...</td>\n    </tr>\n    <tr>\n      <th>394644</th>\n      <td>fiat - uno</td>\n      <td>fiat - uno - 2017 - 0</td>\n      <td>changan - ms201</td>\n      <td>changan - ms201 - 2019 - 0</td>\n      <td>NaN</td>\n      <td>NaN</td>\n      <td>NaN</td>\n      <td>NaN</td>\n      <td>NaN</td>\n      <td>NaN</td>\n      <td>...</td>\n      <td>B05: Nana con asistencia estatal. Clase asisti...</td>\n      <td>B: Asistidos</td>\n      <td>Cliente Nuevo</td>\n      <td>0</td>\n      <td>1.0</td>\n      <td>0.73</td>\n      <td>3.46</td>\n      <td>29139.0</td>\n      <td>39051.0</td>\n      <td>6bad4ba9ee245b48e5808b3dca3db8a2e0531c8b4b15be...</td>\n    </tr>\n    <tr>\n      <th>394645</th>\n      <td>great wall - wingle5</td>\n      <td>great wall - wingle5 - 2015 - 1</td>\n      <td>NaN</td>\n      <td>NaN</td>\n      <td>NaN</td>\n      <td>NaN</td>\n      <td>NaN</td>\n      <td>NaN</td>\n      <td>NaN</td>\n      <td>NaN</td>\n      <td>...</td>\n      <td>F17: Hipotecados Institutanos. Adultos jóvenes...</td>\n      <td>F: Empujadores de carros</td>\n      <td>Cliente Antiguo</td>\n      <td>0</td>\n      <td>6.0</td>\n      <td>3.54</td>\n      <td>3.81</td>\n      <td>371155.0</td>\n      <td>676168.0</td>\n      <td>5fe9092b240b489b73fd1bb4929cf2367d61d6a332614b...</td>\n    </tr>\n    <tr>\n      <th>394646</th>\n      <td>nissan - qashqai</td>\n      <td>nissan - qashqai - 2013 - 0</td>\n      <td>NaN</td>\n      <td>NaN</td>\n      <td>NaN</td>\n      <td>NaN</td>\n      <td>NaN</td>\n      <td>NaN</td>\n      <td>NaN</td>\n      <td>NaN</td>\n      <td>...</td>\n      <td>D14: Jóvenes subsidiados por sus padres</td>\n      <td>D: Sin apuro por la vida</td>\n      <td>Cliente Nuevo</td>\n      <td>0</td>\n      <td>0.0</td>\n      <td>0.00</td>\n      <td>0.66</td>\n      <td>121173.0</td>\n      <td>142582.0</td>\n      <td>32b074708e73afe7f992541a063250041b43ff4a8ad1d0...</td>\n    </tr>\n    <tr>\n      <th>394647</th>\n      <td>suzuki - nomade</td>\n      <td>suzuki - nomade - 2013 - 0</td>\n      <td>NaN</td>\n      <td>NaN</td>\n      <td>NaN</td>\n      <td>NaN</td>\n      <td>NaN</td>\n      <td>NaN</td>\n      <td>NaN</td>\n      <td>NaN</td>\n      <td>...</td>\n      <td>I27: Auto Lovers full tech</td>\n      <td>I: Crema y  Nata</td>\n      <td>Cliente Nuevo</td>\n      <td>0</td>\n      <td>0.0</td>\n      <td>0.00</td>\n      <td>9.67</td>\n      <td>1562.0</td>\n      <td>1980.0</td>\n      <td>18fd7be8f377ca0d33a040f21bdf98ab33c30ca6eb0f0a...</td>\n    </tr>\n    <tr>\n      <th>394648</th>\n      <td>suzuki - alto</td>\n      <td>suzuki - alto - 2010 - 0</td>\n      <td>citroen - c3</td>\n      <td>citroen - c3 - 2005 - 9</td>\n      <td>fiat - uno</td>\n      <td>fiat - uno - 2020 - 0</td>\n      <td>ford - ecosport</td>\n      <td>ford - ecosport - 2018 - 3</td>\n      <td>NaN</td>\n      <td>NaN</td>\n      <td>...</td>\n      <td>A04: Pobres emergentes que creen en su esfuerzo</td>\n      <td>A: Contra la adversidad</td>\n      <td>Cliente Nuevo</td>\n      <td>0</td>\n      <td>0.0</td>\n      <td>0.00</td>\n      <td>6.45</td>\n      <td>5469.0</td>\n      <td>6864.0</td>\n      <td>81d144ad5e6f7a112f1b81eb60710d356dce3853ef24c7...</td>\n    </tr>\n  </tbody>\n</table>\n<p>394649 rows × 42 columns</p>\n</div>"
     },
     "execution_count": 11,
     "metadata": {},
     "output_type": "execute_result"
    }
   ],
   "source": [
    "df_tabla_recomendador_parte2_20220701"
   ],
   "metadata": {
    "collapsed": false,
    "pycharm": {
     "name": "#%%\n"
    }
   }
  }
 ],
 "metadata": {
  "kernelspec": {
   "display_name": "Python 3",
   "language": "python",
   "name": "python3"
  },
  "language_info": {
   "codemirror_mode": {
    "name": "ipython",
    "version": 2
   },
   "file_extension": ".py",
   "mimetype": "text/x-python",
   "name": "python",
   "nbconvert_exporter": "python",
   "pygments_lexer": "ipython2",
   "version": "2.7.6"
  }
 },
 "nbformat": 4,
 "nbformat_minor": 0
}