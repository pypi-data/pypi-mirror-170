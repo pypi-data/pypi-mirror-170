{
 "cells": [
  {
   "cell_type": "code",
   "execution_count": 3,
   "outputs": [
    {
     "ename": "ModuleNotFoundError",
     "evalue": "No module named 'capstone_project_g5'",
     "output_type": "error",
     "traceback": [
      "\u001B[0;31m---------------------------------------------------------------------------\u001B[0m",
      "\u001B[0;31mModuleNotFoundError\u001B[0m                       Traceback (most recent call last)",
      "Cell \u001B[0;32mIn [3], line 1\u001B[0m\n\u001B[0;32m----> 1\u001B[0m \u001B[38;5;28;01mimport\u001B[39;00m \u001B[38;5;21;01mcapstone_project_g5\u001B[39;00m\n",
      "\u001B[0;31mModuleNotFoundError\u001B[0m: No module named 'capstone_project_g5'"
     ]
    }
   ],
   "source": [
    "import capstone_project_g5"
   ],
   "metadata": {
    "collapsed": false,
    "pycharm": {
     "name": "#%%\n"
    }
   }
  },
  {
   "cell_type": "code",
   "execution_count": 2,
   "outputs": [
    {
     "name": "stdout",
     "output_type": "stream",
     "text": [
      "Collecting capstone-project-g5==0.1.0\r\n",
      "  Downloading capstone_project_g5-0.1.0-py3-none-any.whl (3.0 kB)\r\n",
      "Installing collected packages: capstone-project-g5\r\n",
      "Successfully installed capstone-project-g5-0.1.0\r\n",
      "Note: you may need to restart the kernel to use updated packages.\n"
     ]
    }
   ],
   "source": [
    "%pip install capstone-project-g5==0.1.0"
   ],
   "metadata": {
    "collapsed": false,
    "pycharm": {
     "name": "#%%\n"
    }
   }
  },
  {
   "cell_type": "code",
   "execution_count": 2,
   "outputs": [],
   "source": [
    "import pandas as pd\n",
    "import paramiko\n",
    "\n",
    "ssh_client = paramiko.SSHClient()\n",
    "ssh_client.set_missing_host_key_policy(paramiko.AutoAddPolicy())\n",
    "ssh_client.connect(hostname='172.21.1.42', username='npastorb', password='npastorb123')\n",
    "ftp_client = ssh_client.open_sftp()"
   ],
   "metadata": {
    "collapsed": false,
    "pycharm": {
     "name": "#%%\n"
    }
   }
  },
  {
   "cell_type": "code",
   "execution_count": 12,
   "outputs": [],
   "source": [
    "with ftp_client.open(\"/home/npastorb/derco/Patente-01.csv\") as file_patentes:\n",
    "    df_patentes = pd.read_csv(file_patentes, sep=\",\")"
   ],
   "metadata": {
    "collapsed": false,
    "pycharm": {
     "name": "#%%\n"
    }
   }
  },
  {
   "cell_type": "code",
   "execution_count": 13,
   "outputs": [
    {
     "data": {
      "text/plain": "         patente      marca  ano_patente  max(tipo)                   modelo  \\\n0         GC7892     austin         2021  automovil                  mg 1300   \n1         KG7392     toyota         2018       jeep                 bj 40 lv   \n2         VK7934  chevrolet         2020  automovil             corsa hb 1 6   \n3         DYDC12       fiat         2020  automovil  grande punto active 1 4   \n4         WH6683     toyota         2018  automovil                  corolla   \n...          ...        ...          ...        ...                      ...   \n45549017  CB9188    hyundai         2021  automovil          stellar 1.6 gsl   \n45549018  RX2161     toyota         2017  camioneta           hi lux std 2.4   \n45549019  TL3159     toyota         2016  automovil                    yaris   \n45549020  DFYW23        kia         2018  automovil                      rio   \n45549021  FZGF21  chevrolet         2016     furgon                     n300   \n\n          ano_fabricacion                                        encrypt-rut  \n0                    1971  b3e88e2a30d3519b86f2ec7031505800c3d295d20bc76d...  \n1                    1983  84355d219dbcf5dc4f4ee954ddd90f2be4c1de77b3042e...  \n2                    2003  15b9eb17b4422f8307fdf50f28331163839addc64feaf1...  \n3                    2012  dd9e964b0052860e36c331f49400ca9f4484d6aef115da...  \n4                    2007  ab3c8d5c56b57e25ddd043eea24cfe0bea731b293317de...  \n...                   ...                                                ...  \n45549017             1989  25566fe31cd13126d9cab4502a30c7b195d25e90579dbd...  \n45549018             1998  84584e6b7b3fde78186dd063bf098706a830463ae40c32...  \n45549019             2000  0090e15a7f76fe45a7c2ee574780328d6a8ac3e388737d...  \n45549020             2011  6762414cd46e269f7ad5aeae2614e07be157f239e53b9b...  \n45549021             2014  41eb178fd6113cc0246968432feca670e0cb24ffbc47b0...  \n\n[45549022 rows x 7 columns]",
      "text/html": "<div>\n<style scoped>\n    .dataframe tbody tr th:only-of-type {\n        vertical-align: middle;\n    }\n\n    .dataframe tbody tr th {\n        vertical-align: top;\n    }\n\n    .dataframe thead th {\n        text-align: right;\n    }\n</style>\n<table border=\"1\" class=\"dataframe\">\n  <thead>\n    <tr style=\"text-align: right;\">\n      <th></th>\n      <th>patente</th>\n      <th>marca</th>\n      <th>ano_patente</th>\n      <th>max(tipo)</th>\n      <th>modelo</th>\n      <th>ano_fabricacion</th>\n      <th>encrypt-rut</th>\n    </tr>\n  </thead>\n  <tbody>\n    <tr>\n      <th>0</th>\n      <td>GC7892</td>\n      <td>austin</td>\n      <td>2021</td>\n      <td>automovil</td>\n      <td>mg 1300</td>\n      <td>1971</td>\n      <td>b3e88e2a30d3519b86f2ec7031505800c3d295d20bc76d...</td>\n    </tr>\n    <tr>\n      <th>1</th>\n      <td>KG7392</td>\n      <td>toyota</td>\n      <td>2018</td>\n      <td>jeep</td>\n      <td>bj 40 lv</td>\n      <td>1983</td>\n      <td>84355d219dbcf5dc4f4ee954ddd90f2be4c1de77b3042e...</td>\n    </tr>\n    <tr>\n      <th>2</th>\n      <td>VK7934</td>\n      <td>chevrolet</td>\n      <td>2020</td>\n      <td>automovil</td>\n      <td>corsa hb 1 6</td>\n      <td>2003</td>\n      <td>15b9eb17b4422f8307fdf50f28331163839addc64feaf1...</td>\n    </tr>\n    <tr>\n      <th>3</th>\n      <td>DYDC12</td>\n      <td>fiat</td>\n      <td>2020</td>\n      <td>automovil</td>\n      <td>grande punto active 1 4</td>\n      <td>2012</td>\n      <td>dd9e964b0052860e36c331f49400ca9f4484d6aef115da...</td>\n    </tr>\n    <tr>\n      <th>4</th>\n      <td>WH6683</td>\n      <td>toyota</td>\n      <td>2018</td>\n      <td>automovil</td>\n      <td>corolla</td>\n      <td>2007</td>\n      <td>ab3c8d5c56b57e25ddd043eea24cfe0bea731b293317de...</td>\n    </tr>\n    <tr>\n      <th>...</th>\n      <td>...</td>\n      <td>...</td>\n      <td>...</td>\n      <td>...</td>\n      <td>...</td>\n      <td>...</td>\n      <td>...</td>\n    </tr>\n    <tr>\n      <th>45549017</th>\n      <td>CB9188</td>\n      <td>hyundai</td>\n      <td>2021</td>\n      <td>automovil</td>\n      <td>stellar 1.6 gsl</td>\n      <td>1989</td>\n      <td>25566fe31cd13126d9cab4502a30c7b195d25e90579dbd...</td>\n    </tr>\n    <tr>\n      <th>45549018</th>\n      <td>RX2161</td>\n      <td>toyota</td>\n      <td>2017</td>\n      <td>camioneta</td>\n      <td>hi lux std 2.4</td>\n      <td>1998</td>\n      <td>84584e6b7b3fde78186dd063bf098706a830463ae40c32...</td>\n    </tr>\n    <tr>\n      <th>45549019</th>\n      <td>TL3159</td>\n      <td>toyota</td>\n      <td>2016</td>\n      <td>automovil</td>\n      <td>yaris</td>\n      <td>2000</td>\n      <td>0090e15a7f76fe45a7c2ee574780328d6a8ac3e388737d...</td>\n    </tr>\n    <tr>\n      <th>45549020</th>\n      <td>DFYW23</td>\n      <td>kia</td>\n      <td>2018</td>\n      <td>automovil</td>\n      <td>rio</td>\n      <td>2011</td>\n      <td>6762414cd46e269f7ad5aeae2614e07be157f239e53b9b...</td>\n    </tr>\n    <tr>\n      <th>45549021</th>\n      <td>FZGF21</td>\n      <td>chevrolet</td>\n      <td>2016</td>\n      <td>furgon</td>\n      <td>n300</td>\n      <td>2014</td>\n      <td>41eb178fd6113cc0246968432feca670e0cb24ffbc47b0...</td>\n    </tr>\n  </tbody>\n</table>\n<p>45549022 rows × 7 columns</p>\n</div>"
     },
     "execution_count": 13,
     "metadata": {},
     "output_type": "execute_result"
    }
   ],
   "source": [
    "df_patentes"
   ],
   "metadata": {
    "collapsed": false,
    "pycharm": {
     "name": "#%%\n"
    }
   }
  },
  {
   "cell_type": "code",
   "execution_count": 20,
   "outputs": [
    {
     "data": {
      "text/plain": "         patente       marca  ano_patente  max(tipo)    modelo  \\\n30        CKKB22      toyota         2016  camioneta     hilux   \n32        TK3690      nissan         2016  camioneta      d 21   \n34        FT7661     renault         2016  automovil        4s   \n36        FXRJ35  mitsubishi         2016  camioneta      l200   \n45        XT4725         kia         2016  camioneta  frontier   \n...          ...         ...          ...        ...       ...   \n45549005  CKYR91     peugeot         2016     furgon   partner   \n45549010  TX5958         kia         2016  automovil     pride   \n45549014  FU1342      datsun         2016  automovil  bluebird   \n45549019  TL3159      toyota         2016  automovil     yaris   \n45549021  FZGF21   chevrolet         2016     furgon      n300   \n\n          ano_fabricacion                                        encrypt-rut  \n30                   2010  3e2596770023b886fa736e03d387d6ec518686f922a242...  \n32                   2000  445ca13493732da6cac5a82197a7cc56f7ae3d1b9c509a...  \n34                   1972  ba9d17023861791ddef6971c4a2a3a123f7230e90fee31...  \n36                   2014  791a06fb5b2b9c209c21dafc1927dbdcc93ce07c03b43b...  \n45                   1999  eba6fcc5d73b86f43f5b50b7df90863b6f587d95693f68...  \n...                   ...                                                ...  \n45549005             2010  230afc24f65c06d9a8077cf2f5e46f23c4b73ffad6582d...  \n45549010             2000  88864734bcefad90a35ebace87840738085fc0e1063185...  \n45549014             1981  8cda88e084a20c05681940530ce6f4b10593291feadddf...  \n45549019             2000  0090e15a7f76fe45a7c2ee574780328d6a8ac3e388737d...  \n45549021             2014  41eb178fd6113cc0246968432feca670e0cb24ffbc47b0...  \n\n[6175380 rows x 7 columns]",
      "text/html": "<div>\n<style scoped>\n    .dataframe tbody tr th:only-of-type {\n        vertical-align: middle;\n    }\n\n    .dataframe tbody tr th {\n        vertical-align: top;\n    }\n\n    .dataframe thead th {\n        text-align: right;\n    }\n</style>\n<table border=\"1\" class=\"dataframe\">\n  <thead>\n    <tr style=\"text-align: right;\">\n      <th></th>\n      <th>patente</th>\n      <th>marca</th>\n      <th>ano_patente</th>\n      <th>max(tipo)</th>\n      <th>modelo</th>\n      <th>ano_fabricacion</th>\n      <th>encrypt-rut</th>\n    </tr>\n  </thead>\n  <tbody>\n    <tr>\n      <th>30</th>\n      <td>CKKB22</td>\n      <td>toyota</td>\n      <td>2016</td>\n      <td>camioneta</td>\n      <td>hilux</td>\n      <td>2010</td>\n      <td>3e2596770023b886fa736e03d387d6ec518686f922a242...</td>\n    </tr>\n    <tr>\n      <th>32</th>\n      <td>TK3690</td>\n      <td>nissan</td>\n      <td>2016</td>\n      <td>camioneta</td>\n      <td>d 21</td>\n      <td>2000</td>\n      <td>445ca13493732da6cac5a82197a7cc56f7ae3d1b9c509a...</td>\n    </tr>\n    <tr>\n      <th>34</th>\n      <td>FT7661</td>\n      <td>renault</td>\n      <td>2016</td>\n      <td>automovil</td>\n      <td>4s</td>\n      <td>1972</td>\n      <td>ba9d17023861791ddef6971c4a2a3a123f7230e90fee31...</td>\n    </tr>\n    <tr>\n      <th>36</th>\n      <td>FXRJ35</td>\n      <td>mitsubishi</td>\n      <td>2016</td>\n      <td>camioneta</td>\n      <td>l200</td>\n      <td>2014</td>\n      <td>791a06fb5b2b9c209c21dafc1927dbdcc93ce07c03b43b...</td>\n    </tr>\n    <tr>\n      <th>45</th>\n      <td>XT4725</td>\n      <td>kia</td>\n      <td>2016</td>\n      <td>camioneta</td>\n      <td>frontier</td>\n      <td>1999</td>\n      <td>eba6fcc5d73b86f43f5b50b7df90863b6f587d95693f68...</td>\n    </tr>\n    <tr>\n      <th>...</th>\n      <td>...</td>\n      <td>...</td>\n      <td>...</td>\n      <td>...</td>\n      <td>...</td>\n      <td>...</td>\n      <td>...</td>\n    </tr>\n    <tr>\n      <th>45549005</th>\n      <td>CKYR91</td>\n      <td>peugeot</td>\n      <td>2016</td>\n      <td>furgon</td>\n      <td>partner</td>\n      <td>2010</td>\n      <td>230afc24f65c06d9a8077cf2f5e46f23c4b73ffad6582d...</td>\n    </tr>\n    <tr>\n      <th>45549010</th>\n      <td>TX5958</td>\n      <td>kia</td>\n      <td>2016</td>\n      <td>automovil</td>\n      <td>pride</td>\n      <td>2000</td>\n      <td>88864734bcefad90a35ebace87840738085fc0e1063185...</td>\n    </tr>\n    <tr>\n      <th>45549014</th>\n      <td>FU1342</td>\n      <td>datsun</td>\n      <td>2016</td>\n      <td>automovil</td>\n      <td>bluebird</td>\n      <td>1981</td>\n      <td>8cda88e084a20c05681940530ce6f4b10593291feadddf...</td>\n    </tr>\n    <tr>\n      <th>45549019</th>\n      <td>TL3159</td>\n      <td>toyota</td>\n      <td>2016</td>\n      <td>automovil</td>\n      <td>yaris</td>\n      <td>2000</td>\n      <td>0090e15a7f76fe45a7c2ee574780328d6a8ac3e388737d...</td>\n    </tr>\n    <tr>\n      <th>45549021</th>\n      <td>FZGF21</td>\n      <td>chevrolet</td>\n      <td>2016</td>\n      <td>furgon</td>\n      <td>n300</td>\n      <td>2014</td>\n      <td>41eb178fd6113cc0246968432feca670e0cb24ffbc47b0...</td>\n    </tr>\n  </tbody>\n</table>\n<p>6175380 rows × 7 columns</p>\n</div>"
     },
     "execution_count": 20,
     "metadata": {},
     "output_type": "execute_result"
    }
   ],
   "source": [
    "df_patentes_2016 = df_patentes[df_patentes[\"ano_patente\"] == 2016]\n",
    "df_patentes_2016"
   ],
   "metadata": {
    "collapsed": false,
    "pycharm": {
     "name": "#%%\n"
    }
   }
  },
  {
   "cell_type": "code",
   "execution_count": 15,
   "outputs": [
    {
     "data": {
      "text/plain": "         patente       marca  ano_patente  max(tipo)    modelo  \\\n30        CKKB22      toyota         2016  camioneta     hilux   \n32        TK3690      nissan         2016  camioneta      d 21   \n34        FT7661     renault         2016  automovil        4s   \n36        FXRJ35  mitsubishi         2016  camioneta      l200   \n45        XT4725         kia         2016  camioneta  frontier   \n...          ...         ...          ...        ...       ...   \n45549005  CKYR91     peugeot         2016     furgon   partner   \n45549010  TX5958         kia         2016  automovil     pride   \n45549014  FU1342      datsun         2016  automovil  bluebird   \n45549019  TL3159      toyota         2016  automovil     yaris   \n45549021  FZGF21   chevrolet         2016     furgon      n300   \n\n          ano_fabricacion                                        encrypt-rut  \n30                   2010  3e2596770023b886fa736e03d387d6ec518686f922a242...  \n32                   2000  445ca13493732da6cac5a82197a7cc56f7ae3d1b9c509a...  \n34                   1972  ba9d17023861791ddef6971c4a2a3a123f7230e90fee31...  \n36                   2014  791a06fb5b2b9c209c21dafc1927dbdcc93ce07c03b43b...  \n45                   1999  eba6fcc5d73b86f43f5b50b7df90863b6f587d95693f68...  \n...                   ...                                                ...  \n45549005             2010  230afc24f65c06d9a8077cf2f5e46f23c4b73ffad6582d...  \n45549010             2000  88864734bcefad90a35ebace87840738085fc0e1063185...  \n45549014             1981  8cda88e084a20c05681940530ce6f4b10593291feadddf...  \n45549019             2000  0090e15a7f76fe45a7c2ee574780328d6a8ac3e388737d...  \n45549021             2014  41eb178fd6113cc0246968432feca670e0cb24ffbc47b0...  \n\n[6175380 rows x 7 columns]",
      "text/html": "<div>\n<style scoped>\n    .dataframe tbody tr th:only-of-type {\n        vertical-align: middle;\n    }\n\n    .dataframe tbody tr th {\n        vertical-align: top;\n    }\n\n    .dataframe thead th {\n        text-align: right;\n    }\n</style>\n<table border=\"1\" class=\"dataframe\">\n  <thead>\n    <tr style=\"text-align: right;\">\n      <th></th>\n      <th>patente</th>\n      <th>marca</th>\n      <th>ano_patente</th>\n      <th>max(tipo)</th>\n      <th>modelo</th>\n      <th>ano_fabricacion</th>\n      <th>encrypt-rut</th>\n    </tr>\n  </thead>\n  <tbody>\n    <tr>\n      <th>30</th>\n      <td>CKKB22</td>\n      <td>toyota</td>\n      <td>2016</td>\n      <td>camioneta</td>\n      <td>hilux</td>\n      <td>2010</td>\n      <td>3e2596770023b886fa736e03d387d6ec518686f922a242...</td>\n    </tr>\n    <tr>\n      <th>32</th>\n      <td>TK3690</td>\n      <td>nissan</td>\n      <td>2016</td>\n      <td>camioneta</td>\n      <td>d 21</td>\n      <td>2000</td>\n      <td>445ca13493732da6cac5a82197a7cc56f7ae3d1b9c509a...</td>\n    </tr>\n    <tr>\n      <th>34</th>\n      <td>FT7661</td>\n      <td>renault</td>\n      <td>2016</td>\n      <td>automovil</td>\n      <td>4s</td>\n      <td>1972</td>\n      <td>ba9d17023861791ddef6971c4a2a3a123f7230e90fee31...</td>\n    </tr>\n    <tr>\n      <th>36</th>\n      <td>FXRJ35</td>\n      <td>mitsubishi</td>\n      <td>2016</td>\n      <td>camioneta</td>\n      <td>l200</td>\n      <td>2014</td>\n      <td>791a06fb5b2b9c209c21dafc1927dbdcc93ce07c03b43b...</td>\n    </tr>\n    <tr>\n      <th>45</th>\n      <td>XT4725</td>\n      <td>kia</td>\n      <td>2016</td>\n      <td>camioneta</td>\n      <td>frontier</td>\n      <td>1999</td>\n      <td>eba6fcc5d73b86f43f5b50b7df90863b6f587d95693f68...</td>\n    </tr>\n    <tr>\n      <th>...</th>\n      <td>...</td>\n      <td>...</td>\n      <td>...</td>\n      <td>...</td>\n      <td>...</td>\n      <td>...</td>\n      <td>...</td>\n    </tr>\n    <tr>\n      <th>45549005</th>\n      <td>CKYR91</td>\n      <td>peugeot</td>\n      <td>2016</td>\n      <td>furgon</td>\n      <td>partner</td>\n      <td>2010</td>\n      <td>230afc24f65c06d9a8077cf2f5e46f23c4b73ffad6582d...</td>\n    </tr>\n    <tr>\n      <th>45549010</th>\n      <td>TX5958</td>\n      <td>kia</td>\n      <td>2016</td>\n      <td>automovil</td>\n      <td>pride</td>\n      <td>2000</td>\n      <td>88864734bcefad90a35ebace87840738085fc0e1063185...</td>\n    </tr>\n    <tr>\n      <th>45549014</th>\n      <td>FU1342</td>\n      <td>datsun</td>\n      <td>2016</td>\n      <td>automovil</td>\n      <td>bluebird</td>\n      <td>1981</td>\n      <td>8cda88e084a20c05681940530ce6f4b10593291feadddf...</td>\n    </tr>\n    <tr>\n      <th>45549019</th>\n      <td>TL3159</td>\n      <td>toyota</td>\n      <td>2016</td>\n      <td>automovil</td>\n      <td>yaris</td>\n      <td>2000</td>\n      <td>0090e15a7f76fe45a7c2ee574780328d6a8ac3e388737d...</td>\n    </tr>\n    <tr>\n      <th>45549021</th>\n      <td>FZGF21</td>\n      <td>chevrolet</td>\n      <td>2016</td>\n      <td>furgon</td>\n      <td>n300</td>\n      <td>2014</td>\n      <td>41eb178fd6113cc0246968432feca670e0cb24ffbc47b0...</td>\n    </tr>\n  </tbody>\n</table>\n<p>6175380 rows × 7 columns</p>\n</div>"
     },
     "execution_count": 15,
     "metadata": {},
     "output_type": "execute_result"
    }
   ],
   "source": [
    "df_patentes_2017 = df_patentes[df_patentes[\"ano_patente\"] == 2017]\n",
    "df_patentes_2017"
   ],
   "metadata": {
    "collapsed": false,
    "pycharm": {
     "name": "#%%\n"
    }
   }
  },
  {
   "cell_type": "code",
   "execution_count": 16,
   "outputs": [
    {
     "data": {
      "text/plain": "         patente    marca  ano_patente      max(tipo)       modelo  \\\n1         KG7392   toyota         2018           jeep     bj 40 lv   \n4         WH6683   toyota         2018      automovil      corolla   \n8         BPKY17  hyundai         2018      automovil       accent   \n13        HZ0701   yamaha         2018           moto     xv 250 s   \n16        VY1968      kia         2018      automovil          rio   \n...          ...      ...          ...            ...          ...   \n45548989  LS1361   daewoo         2018      automovil   heaven gle   \n45548992  CXVZ53   toyota         2018      automovil        yaris   \n45548996  VA4315     ford         2018      camioneta       ranger   \n45549007  HBBZ38   nissan         2018  station wagon  modelo nula   \n45549020  DFYW23      kia         2018      automovil          rio   \n\n          ano_fabricacion                                        encrypt-rut  \n1                    1983  84355d219dbcf5dc4f4ee954ddd90f2be4c1de77b3042e...  \n4                    2007  ab3c8d5c56b57e25ddd043eea24cfe0bea731b293317de...  \n8                    2008  3d2e07bf7bcce4df9d48ff27e4f3f0aa19b80d546a223d...  \n13                   1998  bf74ae7482fb292d3411beb86122a580cf287cb0c18b1a...  \n16                   2003  5ce901e914bcdfa1bd94f391e465aa67741fcbeaf6a69b...  \n...                   ...                                                ...  \n45548989             1995  18bff285ef2cb93571674c70d3d281d7270ab46bc4cb44...  \n45548992             2013  e5e00d0f187d8e0ef6aeb65ec6063ff5b982b901ecbec3...  \n45548996             2002  299f65cf3be820aa86f779fba3fe44a21cd66664919030...  \n45549007             1999  e6b3f4ce7d2ca0a624e4a22325f859e1d523189312cb7f...  \n45549020             2011  6762414cd46e269f7ad5aeae2614e07be157f239e53b9b...  \n\n[7485061 rows x 7 columns]",
      "text/html": "<div>\n<style scoped>\n    .dataframe tbody tr th:only-of-type {\n        vertical-align: middle;\n    }\n\n    .dataframe tbody tr th {\n        vertical-align: top;\n    }\n\n    .dataframe thead th {\n        text-align: right;\n    }\n</style>\n<table border=\"1\" class=\"dataframe\">\n  <thead>\n    <tr style=\"text-align: right;\">\n      <th></th>\n      <th>patente</th>\n      <th>marca</th>\n      <th>ano_patente</th>\n      <th>max(tipo)</th>\n      <th>modelo</th>\n      <th>ano_fabricacion</th>\n      <th>encrypt-rut</th>\n    </tr>\n  </thead>\n  <tbody>\n    <tr>\n      <th>1</th>\n      <td>KG7392</td>\n      <td>toyota</td>\n      <td>2018</td>\n      <td>jeep</td>\n      <td>bj 40 lv</td>\n      <td>1983</td>\n      <td>84355d219dbcf5dc4f4ee954ddd90f2be4c1de77b3042e...</td>\n    </tr>\n    <tr>\n      <th>4</th>\n      <td>WH6683</td>\n      <td>toyota</td>\n      <td>2018</td>\n      <td>automovil</td>\n      <td>corolla</td>\n      <td>2007</td>\n      <td>ab3c8d5c56b57e25ddd043eea24cfe0bea731b293317de...</td>\n    </tr>\n    <tr>\n      <th>8</th>\n      <td>BPKY17</td>\n      <td>hyundai</td>\n      <td>2018</td>\n      <td>automovil</td>\n      <td>accent</td>\n      <td>2008</td>\n      <td>3d2e07bf7bcce4df9d48ff27e4f3f0aa19b80d546a223d...</td>\n    </tr>\n    <tr>\n      <th>13</th>\n      <td>HZ0701</td>\n      <td>yamaha</td>\n      <td>2018</td>\n      <td>moto</td>\n      <td>xv 250 s</td>\n      <td>1998</td>\n      <td>bf74ae7482fb292d3411beb86122a580cf287cb0c18b1a...</td>\n    </tr>\n    <tr>\n      <th>16</th>\n      <td>VY1968</td>\n      <td>kia</td>\n      <td>2018</td>\n      <td>automovil</td>\n      <td>rio</td>\n      <td>2003</td>\n      <td>5ce901e914bcdfa1bd94f391e465aa67741fcbeaf6a69b...</td>\n    </tr>\n    <tr>\n      <th>...</th>\n      <td>...</td>\n      <td>...</td>\n      <td>...</td>\n      <td>...</td>\n      <td>...</td>\n      <td>...</td>\n      <td>...</td>\n    </tr>\n    <tr>\n      <th>45548989</th>\n      <td>LS1361</td>\n      <td>daewoo</td>\n      <td>2018</td>\n      <td>automovil</td>\n      <td>heaven gle</td>\n      <td>1995</td>\n      <td>18bff285ef2cb93571674c70d3d281d7270ab46bc4cb44...</td>\n    </tr>\n    <tr>\n      <th>45548992</th>\n      <td>CXVZ53</td>\n      <td>toyota</td>\n      <td>2018</td>\n      <td>automovil</td>\n      <td>yaris</td>\n      <td>2013</td>\n      <td>e5e00d0f187d8e0ef6aeb65ec6063ff5b982b901ecbec3...</td>\n    </tr>\n    <tr>\n      <th>45548996</th>\n      <td>VA4315</td>\n      <td>ford</td>\n      <td>2018</td>\n      <td>camioneta</td>\n      <td>ranger</td>\n      <td>2002</td>\n      <td>299f65cf3be820aa86f779fba3fe44a21cd66664919030...</td>\n    </tr>\n    <tr>\n      <th>45549007</th>\n      <td>HBBZ38</td>\n      <td>nissan</td>\n      <td>2018</td>\n      <td>station wagon</td>\n      <td>modelo nula</td>\n      <td>1999</td>\n      <td>e6b3f4ce7d2ca0a624e4a22325f859e1d523189312cb7f...</td>\n    </tr>\n    <tr>\n      <th>45549020</th>\n      <td>DFYW23</td>\n      <td>kia</td>\n      <td>2018</td>\n      <td>automovil</td>\n      <td>rio</td>\n      <td>2011</td>\n      <td>6762414cd46e269f7ad5aeae2614e07be157f239e53b9b...</td>\n    </tr>\n  </tbody>\n</table>\n<p>7485061 rows × 7 columns</p>\n</div>"
     },
     "execution_count": 16,
     "metadata": {},
     "output_type": "execute_result"
    }
   ],
   "source": [
    "df_patentes_2018 = df_patentes[df_patentes[\"ano_patente\"] == 2018]\n",
    "df_patentes_2018"
   ],
   "metadata": {
    "collapsed": false,
    "pycharm": {
     "name": "#%%\n"
    }
   }
  },
  {
   "cell_type": "code",
   "execution_count": 17,
   "outputs": [
    {
     "data": {
      "text/plain": "         patente        marca  ano_patente      max(tipo)  \\\n6         GS3505         fiat         2019      automovil   \n9         AV9623    chevrolet         2019      automovil   \n11        JZZY64      citroen         2019      automovil   \n14        KCHF68       suzuki         2019      automovil   \n26        SH5779  asia motors         2019      camioneta   \n...          ...          ...          ...            ...   \n45548990  KFFX65        mazda         2019  station wagon   \n45549000  RU9378       nissan         2019      automovil   \n45549008  WL7405   mitsubishi         2019  station wagon   \n45549013  HGRB27       suzuki         2019  station wagon   \n45549016  NY4214         opel         2019      automovil   \n\n                              modelo  ano_fabricacion  \\\n6                               1500             1968   \n9                           chevette             1980   \n11              new c-elysee hdi 1.6             2018   \n14                      swift gl 1.2             2018   \n26                 towner long cargo             1998   \n...                              ...              ...   \n45548990      all new cx 5 r 2.0 aut             2018   \n45549000     sentra ii xe saloon 1.6             1998   \n45549008              delica 2.8 aut             1994   \n45549013  grand nomade glx sport 2.4             2015   \n45549016                   corsa eco             1996   \n\n                                                encrypt-rut  \n6         694714623d28cf0d76c9685b89b82129d0cd97db47d7b5...  \n9         b502318d53fb9985655a935ab503635649c34f0a9c36ed...  \n11        335955ad1864bbc66c47c5e7ed6ae186a2a90326aa1ea4...  \n14        bf74ae7482fb292d3411beb86122a580cf287cb0c18b1a...  \n26        8879b989b53dfd1d3597f20f317b40f52555bfa0323428...  \n...                                                     ...  \n45548990  f751b7bf2e7a8eb10a997060575db0801fa7a47d393ad5...  \n45549000  774d98ebe852e0f323aeea0ba18a3353e27361484ce666...  \n45549008  e6b3f4ce7d2ca0a624e4a22325f859e1d523189312cb7f...  \n45549013  d3bc81111bf6906fefddeeb323798febb284856333189e...  \n45549016  2058d6e6369a57e8cb917fcc324b0728cd1a8333b26198...  \n\n[8000630 rows x 7 columns]",
      "text/html": "<div>\n<style scoped>\n    .dataframe tbody tr th:only-of-type {\n        vertical-align: middle;\n    }\n\n    .dataframe tbody tr th {\n        vertical-align: top;\n    }\n\n    .dataframe thead th {\n        text-align: right;\n    }\n</style>\n<table border=\"1\" class=\"dataframe\">\n  <thead>\n    <tr style=\"text-align: right;\">\n      <th></th>\n      <th>patente</th>\n      <th>marca</th>\n      <th>ano_patente</th>\n      <th>max(tipo)</th>\n      <th>modelo</th>\n      <th>ano_fabricacion</th>\n      <th>encrypt-rut</th>\n    </tr>\n  </thead>\n  <tbody>\n    <tr>\n      <th>6</th>\n      <td>GS3505</td>\n      <td>fiat</td>\n      <td>2019</td>\n      <td>automovil</td>\n      <td>1500</td>\n      <td>1968</td>\n      <td>694714623d28cf0d76c9685b89b82129d0cd97db47d7b5...</td>\n    </tr>\n    <tr>\n      <th>9</th>\n      <td>AV9623</td>\n      <td>chevrolet</td>\n      <td>2019</td>\n      <td>automovil</td>\n      <td>chevette</td>\n      <td>1980</td>\n      <td>b502318d53fb9985655a935ab503635649c34f0a9c36ed...</td>\n    </tr>\n    <tr>\n      <th>11</th>\n      <td>JZZY64</td>\n      <td>citroen</td>\n      <td>2019</td>\n      <td>automovil</td>\n      <td>new c-elysee hdi 1.6</td>\n      <td>2018</td>\n      <td>335955ad1864bbc66c47c5e7ed6ae186a2a90326aa1ea4...</td>\n    </tr>\n    <tr>\n      <th>14</th>\n      <td>KCHF68</td>\n      <td>suzuki</td>\n      <td>2019</td>\n      <td>automovil</td>\n      <td>swift gl 1.2</td>\n      <td>2018</td>\n      <td>bf74ae7482fb292d3411beb86122a580cf287cb0c18b1a...</td>\n    </tr>\n    <tr>\n      <th>26</th>\n      <td>SH5779</td>\n      <td>asia motors</td>\n      <td>2019</td>\n      <td>camioneta</td>\n      <td>towner long cargo</td>\n      <td>1998</td>\n      <td>8879b989b53dfd1d3597f20f317b40f52555bfa0323428...</td>\n    </tr>\n    <tr>\n      <th>...</th>\n      <td>...</td>\n      <td>...</td>\n      <td>...</td>\n      <td>...</td>\n      <td>...</td>\n      <td>...</td>\n      <td>...</td>\n    </tr>\n    <tr>\n      <th>45548990</th>\n      <td>KFFX65</td>\n      <td>mazda</td>\n      <td>2019</td>\n      <td>station wagon</td>\n      <td>all new cx 5 r 2.0 aut</td>\n      <td>2018</td>\n      <td>f751b7bf2e7a8eb10a997060575db0801fa7a47d393ad5...</td>\n    </tr>\n    <tr>\n      <th>45549000</th>\n      <td>RU9378</td>\n      <td>nissan</td>\n      <td>2019</td>\n      <td>automovil</td>\n      <td>sentra ii xe saloon 1.6</td>\n      <td>1998</td>\n      <td>774d98ebe852e0f323aeea0ba18a3353e27361484ce666...</td>\n    </tr>\n    <tr>\n      <th>45549008</th>\n      <td>WL7405</td>\n      <td>mitsubishi</td>\n      <td>2019</td>\n      <td>station wagon</td>\n      <td>delica 2.8 aut</td>\n      <td>1994</td>\n      <td>e6b3f4ce7d2ca0a624e4a22325f859e1d523189312cb7f...</td>\n    </tr>\n    <tr>\n      <th>45549013</th>\n      <td>HGRB27</td>\n      <td>suzuki</td>\n      <td>2019</td>\n      <td>station wagon</td>\n      <td>grand nomade glx sport 2.4</td>\n      <td>2015</td>\n      <td>d3bc81111bf6906fefddeeb323798febb284856333189e...</td>\n    </tr>\n    <tr>\n      <th>45549016</th>\n      <td>NY4214</td>\n      <td>opel</td>\n      <td>2019</td>\n      <td>automovil</td>\n      <td>corsa eco</td>\n      <td>1996</td>\n      <td>2058d6e6369a57e8cb917fcc324b0728cd1a8333b26198...</td>\n    </tr>\n  </tbody>\n</table>\n<p>8000630 rows × 7 columns</p>\n</div>"
     },
     "execution_count": 17,
     "metadata": {},
     "output_type": "execute_result"
    }
   ],
   "source": [
    "df_patentes_2019 = df_patentes[df_patentes[\"ano_patente\"] == 2019]\n",
    "df_patentes_2019"
   ],
   "metadata": {
    "collapsed": false,
    "pycharm": {
     "name": "#%%\n"
    }
   }
  },
  {
   "cell_type": "code",
   "execution_count": 18,
   "outputs": [
    {
     "data": {
      "text/plain": "         patente       marca  ano_patente      max(tipo)  \\\n2         VK7934   chevrolet         2020      automovil   \n3         DYDC12        fiat         2020      automovil   \n5         DLDX32   chevrolet         2020         furgon   \n10        KHPT83       mazda         2020  station wagon   \n17        FY4509   chevrolet         2020           jeep   \n...          ...         ...          ...            ...   \n45548983  UF1883  mitsubishi         2020      camioneta   \n45548994  KF9379   chevrolet         2020      camioneta   \n45549001  FGLC80   chevrolet         2020  station wagon   \n45549004  JRVP33       lifan         2020  station wagon   \n45549009  XT4668     hyundai         2020      camioneta   \n\n                                modelo  ano_fabricacion  \\\n2                         corsa hb 1 6             2003   \n3              grande punto active 1 4             2012   \n5                     n300 max van 1 2             2012   \n10                         new cx5 2 0             2018   \n17                             trooper             1988   \n...                                ...              ...   \n45548983                l200 d cab 2 5             2001   \n45548994                       luv 2 3             1993   \n45549001  captiva iii lt sa fwd 2 4 at             2013   \n45549004                 lf x50 ex 1 5             2017   \n45549009                    porter 2 5             1993   \n\n                                                encrypt-rut  \n2         15b9eb17b4422f8307fdf50f28331163839addc64feaf1...  \n3         dd9e964b0052860e36c331f49400ca9f4484d6aef115da...  \n5         b7b1c0916aeb22c649c01413e2ef58e0477d5355abae39...  \n10        2d48e5deb2e0890f0e903f44ae229a822da5b922f64010...  \n17        b27d5db21d057be16e126af367775a890e7415a4c485c7...  \n...                                                     ...  \n45548983  1e0b0fece996066db679ad716a44bf10b0acc5a7fd7776...  \n45548994  19c4ba44d621cbf7f3394cfd2dadb6d27ad8ad0a405ce6...  \n45549001  9c8e173b57bc2cc1b0457d5c325a68a2c476d0218f6327...  \n45549004  7daea29a219ef6a9e23221ec08a1b2e88684bbe884a989...  \n45549009  e6b3f4ce7d2ca0a624e4a22325f859e1d523189312cb7f...  \n\n[7983599 rows x 7 columns]",
      "text/html": "<div>\n<style scoped>\n    .dataframe tbody tr th:only-of-type {\n        vertical-align: middle;\n    }\n\n    .dataframe tbody tr th {\n        vertical-align: top;\n    }\n\n    .dataframe thead th {\n        text-align: right;\n    }\n</style>\n<table border=\"1\" class=\"dataframe\">\n  <thead>\n    <tr style=\"text-align: right;\">\n      <th></th>\n      <th>patente</th>\n      <th>marca</th>\n      <th>ano_patente</th>\n      <th>max(tipo)</th>\n      <th>modelo</th>\n      <th>ano_fabricacion</th>\n      <th>encrypt-rut</th>\n    </tr>\n  </thead>\n  <tbody>\n    <tr>\n      <th>2</th>\n      <td>VK7934</td>\n      <td>chevrolet</td>\n      <td>2020</td>\n      <td>automovil</td>\n      <td>corsa hb 1 6</td>\n      <td>2003</td>\n      <td>15b9eb17b4422f8307fdf50f28331163839addc64feaf1...</td>\n    </tr>\n    <tr>\n      <th>3</th>\n      <td>DYDC12</td>\n      <td>fiat</td>\n      <td>2020</td>\n      <td>automovil</td>\n      <td>grande punto active 1 4</td>\n      <td>2012</td>\n      <td>dd9e964b0052860e36c331f49400ca9f4484d6aef115da...</td>\n    </tr>\n    <tr>\n      <th>5</th>\n      <td>DLDX32</td>\n      <td>chevrolet</td>\n      <td>2020</td>\n      <td>furgon</td>\n      <td>n300 max van 1 2</td>\n      <td>2012</td>\n      <td>b7b1c0916aeb22c649c01413e2ef58e0477d5355abae39...</td>\n    </tr>\n    <tr>\n      <th>10</th>\n      <td>KHPT83</td>\n      <td>mazda</td>\n      <td>2020</td>\n      <td>station wagon</td>\n      <td>new cx5 2 0</td>\n      <td>2018</td>\n      <td>2d48e5deb2e0890f0e903f44ae229a822da5b922f64010...</td>\n    </tr>\n    <tr>\n      <th>17</th>\n      <td>FY4509</td>\n      <td>chevrolet</td>\n      <td>2020</td>\n      <td>jeep</td>\n      <td>trooper</td>\n      <td>1988</td>\n      <td>b27d5db21d057be16e126af367775a890e7415a4c485c7...</td>\n    </tr>\n    <tr>\n      <th>...</th>\n      <td>...</td>\n      <td>...</td>\n      <td>...</td>\n      <td>...</td>\n      <td>...</td>\n      <td>...</td>\n      <td>...</td>\n    </tr>\n    <tr>\n      <th>45548983</th>\n      <td>UF1883</td>\n      <td>mitsubishi</td>\n      <td>2020</td>\n      <td>camioneta</td>\n      <td>l200 d cab 2 5</td>\n      <td>2001</td>\n      <td>1e0b0fece996066db679ad716a44bf10b0acc5a7fd7776...</td>\n    </tr>\n    <tr>\n      <th>45548994</th>\n      <td>KF9379</td>\n      <td>chevrolet</td>\n      <td>2020</td>\n      <td>camioneta</td>\n      <td>luv 2 3</td>\n      <td>1993</td>\n      <td>19c4ba44d621cbf7f3394cfd2dadb6d27ad8ad0a405ce6...</td>\n    </tr>\n    <tr>\n      <th>45549001</th>\n      <td>FGLC80</td>\n      <td>chevrolet</td>\n      <td>2020</td>\n      <td>station wagon</td>\n      <td>captiva iii lt sa fwd 2 4 at</td>\n      <td>2013</td>\n      <td>9c8e173b57bc2cc1b0457d5c325a68a2c476d0218f6327...</td>\n    </tr>\n    <tr>\n      <th>45549004</th>\n      <td>JRVP33</td>\n      <td>lifan</td>\n      <td>2020</td>\n      <td>station wagon</td>\n      <td>lf x50 ex 1 5</td>\n      <td>2017</td>\n      <td>7daea29a219ef6a9e23221ec08a1b2e88684bbe884a989...</td>\n    </tr>\n    <tr>\n      <th>45549009</th>\n      <td>XT4668</td>\n      <td>hyundai</td>\n      <td>2020</td>\n      <td>camioneta</td>\n      <td>porter 2 5</td>\n      <td>1993</td>\n      <td>e6b3f4ce7d2ca0a624e4a22325f859e1d523189312cb7f...</td>\n    </tr>\n  </tbody>\n</table>\n<p>7983599 rows × 7 columns</p>\n</div>"
     },
     "execution_count": 18,
     "metadata": {},
     "output_type": "execute_result"
    }
   ],
   "source": [
    "df_patentes_2020 = df_patentes[df_patentes[\"ano_patente\"] == 2020]\n",
    "df_patentes_2020"
   ],
   "metadata": {
    "collapsed": false,
    "pycharm": {
     "name": "#%%\n"
    }
   }
  },
  {
   "cell_type": "code",
   "execution_count": 19,
   "outputs": [
    {
     "data": {
      "text/plain": "         patente      marca  ano_patente      max(tipo)             modelo  \\\n0         GC7892     austin         2021      automovil            mg 1300   \n12        FN8752     subaru         2021         furgon  e 10 delivery van   \n15        EZ4489    peugeot         2021  station wagon       505 familiar   \n23        JFZY91      mazda         2021  station wagon     verisa 1.5 aut   \n29        DX6558  chevrolet         2021      automovil      monza 1.8 sle   \n...          ...        ...          ...            ...                ...   \n45548987  CRHH86  chevrolet         2021      automovil    spark gt hb 1.2   \n45548997  BVPJ56  chevrolet         2021      camioneta  montana sport 1.8   \n45549011  DKTW89  chevrolet         2021      camioneta       dmax 4wd 2.5   \n45549012  JTTG86   chrysler         2021  station wagon      aspen 5.7 aut   \n45549017  CB9188    hyundai         2021      automovil    stellar 1.6 gsl   \n\n          ano_fabricacion                                        encrypt-rut  \n0                    1971  b3e88e2a30d3519b86f2ec7031505800c3d295d20bc76d...  \n12                   1989  dec9f4fa8b6f8286dc34fb1ae2ee11265e8d5e68b620f5...  \n15                   1989  5260c556d65cd90ab4d447d66578a529aa3f883a519960...  \n23                   2007  245f80d13649b083111e6010352368097cdf5ae3af4a5c...  \n29                   1992  9b5dba868a63643aad6e1d9c37a0f638e553fea4d97002...  \n...                   ...                                                ...  \n45548987             2010  a5bcb889c843fc42539ad9dfaf142a8efcd0bf6192df6e...  \n45548997             2009  441399aece57db8df89e31e58f4dad51c6303990d61c4d...  \n45549011             2012  cf5b5cfefeded1748ca4ce62dafb6801ad54d48bc9074f...  \n45549012             2008  f47524a2baa7c5e1f9f5a4df46990b65500eab819582e7...  \n45549017             1989  25566fe31cd13126d9cab4502a30c7b195d25e90579dbd...  \n\n[8855776 rows x 7 columns]",
      "text/html": "<div>\n<style scoped>\n    .dataframe tbody tr th:only-of-type {\n        vertical-align: middle;\n    }\n\n    .dataframe tbody tr th {\n        vertical-align: top;\n    }\n\n    .dataframe thead th {\n        text-align: right;\n    }\n</style>\n<table border=\"1\" class=\"dataframe\">\n  <thead>\n    <tr style=\"text-align: right;\">\n      <th></th>\n      <th>patente</th>\n      <th>marca</th>\n      <th>ano_patente</th>\n      <th>max(tipo)</th>\n      <th>modelo</th>\n      <th>ano_fabricacion</th>\n      <th>encrypt-rut</th>\n    </tr>\n  </thead>\n  <tbody>\n    <tr>\n      <th>0</th>\n      <td>GC7892</td>\n      <td>austin</td>\n      <td>2021</td>\n      <td>automovil</td>\n      <td>mg 1300</td>\n      <td>1971</td>\n      <td>b3e88e2a30d3519b86f2ec7031505800c3d295d20bc76d...</td>\n    </tr>\n    <tr>\n      <th>12</th>\n      <td>FN8752</td>\n      <td>subaru</td>\n      <td>2021</td>\n      <td>furgon</td>\n      <td>e 10 delivery van</td>\n      <td>1989</td>\n      <td>dec9f4fa8b6f8286dc34fb1ae2ee11265e8d5e68b620f5...</td>\n    </tr>\n    <tr>\n      <th>15</th>\n      <td>EZ4489</td>\n      <td>peugeot</td>\n      <td>2021</td>\n      <td>station wagon</td>\n      <td>505 familiar</td>\n      <td>1989</td>\n      <td>5260c556d65cd90ab4d447d66578a529aa3f883a519960...</td>\n    </tr>\n    <tr>\n      <th>23</th>\n      <td>JFZY91</td>\n      <td>mazda</td>\n      <td>2021</td>\n      <td>station wagon</td>\n      <td>verisa 1.5 aut</td>\n      <td>2007</td>\n      <td>245f80d13649b083111e6010352368097cdf5ae3af4a5c...</td>\n    </tr>\n    <tr>\n      <th>29</th>\n      <td>DX6558</td>\n      <td>chevrolet</td>\n      <td>2021</td>\n      <td>automovil</td>\n      <td>monza 1.8 sle</td>\n      <td>1992</td>\n      <td>9b5dba868a63643aad6e1d9c37a0f638e553fea4d97002...</td>\n    </tr>\n    <tr>\n      <th>...</th>\n      <td>...</td>\n      <td>...</td>\n      <td>...</td>\n      <td>...</td>\n      <td>...</td>\n      <td>...</td>\n      <td>...</td>\n    </tr>\n    <tr>\n      <th>45548987</th>\n      <td>CRHH86</td>\n      <td>chevrolet</td>\n      <td>2021</td>\n      <td>automovil</td>\n      <td>spark gt hb 1.2</td>\n      <td>2010</td>\n      <td>a5bcb889c843fc42539ad9dfaf142a8efcd0bf6192df6e...</td>\n    </tr>\n    <tr>\n      <th>45548997</th>\n      <td>BVPJ56</td>\n      <td>chevrolet</td>\n      <td>2021</td>\n      <td>camioneta</td>\n      <td>montana sport 1.8</td>\n      <td>2009</td>\n      <td>441399aece57db8df89e31e58f4dad51c6303990d61c4d...</td>\n    </tr>\n    <tr>\n      <th>45549011</th>\n      <td>DKTW89</td>\n      <td>chevrolet</td>\n      <td>2021</td>\n      <td>camioneta</td>\n      <td>dmax 4wd 2.5</td>\n      <td>2012</td>\n      <td>cf5b5cfefeded1748ca4ce62dafb6801ad54d48bc9074f...</td>\n    </tr>\n    <tr>\n      <th>45549012</th>\n      <td>JTTG86</td>\n      <td>chrysler</td>\n      <td>2021</td>\n      <td>station wagon</td>\n      <td>aspen 5.7 aut</td>\n      <td>2008</td>\n      <td>f47524a2baa7c5e1f9f5a4df46990b65500eab819582e7...</td>\n    </tr>\n    <tr>\n      <th>45549017</th>\n      <td>CB9188</td>\n      <td>hyundai</td>\n      <td>2021</td>\n      <td>automovil</td>\n      <td>stellar 1.6 gsl</td>\n      <td>1989</td>\n      <td>25566fe31cd13126d9cab4502a30c7b195d25e90579dbd...</td>\n    </tr>\n  </tbody>\n</table>\n<p>8855776 rows × 7 columns</p>\n</div>"
     },
     "execution_count": 19,
     "metadata": {},
     "output_type": "execute_result"
    }
   ],
   "source": [
    "df_patentes_2021 = df_patentes[df_patentes[\"ano_patente\"] == 2021]\n",
    "df_patentes_2021"
   ],
   "metadata": {
    "collapsed": false,
    "pycharm": {
     "name": "#%%\n"
    }
   }
  }
 ],
 "metadata": {
  "kernelspec": {
   "display_name": "Python 3",
   "language": "python",
   "name": "python3"
  },
  "language_info": {
   "codemirror_mode": {
    "name": "ipython",
    "version": 2
   },
   "file_extension": ".py",
   "mimetype": "text/x-python",
   "name": "python",
   "nbconvert_exporter": "python",
   "pygments_lexer": "ipython2",
   "version": "2.7.6"
  }
 },
 "nbformat": 4,
 "nbformat_minor": 0
}