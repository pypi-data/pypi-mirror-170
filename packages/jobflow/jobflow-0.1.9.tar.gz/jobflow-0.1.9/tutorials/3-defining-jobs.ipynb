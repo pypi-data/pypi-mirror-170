{
 "cells": [
  {
   "cell_type": "markdown",
   "id": "magnetic-cookie",
   "metadata": {},
   "source": [
    "# Defining jobs in jobflow\n",
    "\n",
    "In this tutorial, you will:\n",
    "\n",
    "- Learn about the `job` decorator.\n",
    "- Understand the structure of the `Job` object.\n",
    "- Set the configuration settings of a job.\n",
    "- Use the `Response` object.\n",
    "- Learn tips for writing job functions.\n",
    "\n",
    "The purpose of this tutorial is to delve into the basic functionality of jobs and gain a feeling for what is possible. Later tutorials will describe how to employ jobs in complex workflows.\n",
    "\n",
    "## Creating job objects\n",
    "\n",
    "The building block of jobflows are `Job` objects. Jobs are delayed calls to python functions whose outputs are stored in a database. The easiest way to create a job is using the `@job` decorator. The job decorator can be applied to any function, even those with optional parameters."
   ]
  },
  {
   "cell_type": "code",
   "execution_count": 1,
   "id": "correct-torture",
   "metadata": {
    "nbsphinx": "hidden"
   },
   "outputs": [],
   "source": [
    "import warnings\n",
    "\n",
    "warnings.filterwarnings(\"ignore\", \"Using `tqdm.autonotebook.tqdm`\")"
   ]
  },
  {
   "cell_type": "code",
   "execution_count": 2,
   "id": "sweet-paragraph",
   "metadata": {},
   "outputs": [],
   "source": [
    "from jobflow import job\n",
    "\n",
    "\n",
    "@job\n",
    "def add(a, b, c=2):\n",
    "    return a + b + c"
   ]
  },
  {
   "cell_type": "markdown",
   "id": "competitive-theorem",
   "metadata": {},
   "source": [
    "Any call to the `add` function will return a `Job` object."
   ]
  },
  {
   "cell_type": "code",
   "execution_count": 12,
   "id": "beneficial-authentication",
   "metadata": {},
   "outputs": [],
   "source": [
    "add_first = add(1, 2, c=5)"
   ]
  },
  {
   "cell_type": "markdown",
   "id": "necessary-skill",
   "metadata": {},
   "source": [
    "Each job is assigned a unique identifier (UUID). "
   ]
  },
  {
   "cell_type": "code",
   "execution_count": 13,
   "id": "rising-drama",
   "metadata": {},
   "outputs": [
    {
     "data": {
      "text/plain": [
       "'30bc700e-dfe0-4a3f-aec9-81ef54446e92'"
      ]
     },
     "execution_count": 13,
     "metadata": {},
     "output_type": "execute_result"
    }
   ],
   "source": [
    "add_first.uuid"
   ]
  },
  {
   "cell_type": "markdown",
   "id": "fatal-bible",
   "metadata": {},
   "source": [
    "Jobs also have an index. This tracks the number of times the job has been \"replaced\" (replacing is covered in detail in the [Dynamic and nested Flows tutorial](dynamic-flows))."
   ]
  },
  {
   "cell_type": "code",
   "execution_count": 14,
   "id": "disabled-strategy",
   "metadata": {},
   "outputs": [
    {
     "data": {
      "text/plain": [
       "1"
      ]
     },
     "execution_count": 14,
     "metadata": {},
     "output_type": "execute_result"
    }
   ],
   "source": [
    "add_first.index"
   ]
  },
  {
   "cell_type": "markdown",
   "id": "measured-communist",
   "metadata": {},
   "source": [
    "Jobs have outputs that can be accessed using the `output` attribute. As the job has not yet been executed, the output is currently a reference to the future output."
   ]
  },
  {
   "cell_type": "code",
   "execution_count": 15,
   "id": "legendary-pursuit",
   "metadata": {},
   "outputs": [
    {
     "data": {
      "text/plain": [
       "OutputReference(30bc700e-dfe0-4a3f-aec9-81ef54446e92)"
      ]
     },
     "execution_count": 15,
     "metadata": {},
     "output_type": "execute_result"
    }
   ],
   "source": [
    "add_first.output"
   ]
  },
  {
   "cell_type": "markdown",
   "id": "exceptional-twelve",
   "metadata": {},
   "source": [
    "The output of a job can be used as the input to another job."
   ]
  },
  {
   "cell_type": "code",
   "execution_count": 16,
   "id": "sustained-buddy",
   "metadata": {},
   "outputs": [],
   "source": [
    "add_second = add(add_first.output, 3)"
   ]
  },
  {
   "cell_type": "markdown",
   "id": "remarkable-vocabulary",
   "metadata": {},
   "source": [
    "The output does not have to be an argument on its own, it can be included in a list or a dictionary."
   ]
  },
  {
   "cell_type": "code",
   "execution_count": 18,
   "id": "conceptual-pipeline",
   "metadata": {},
   "outputs": [],
   "source": [
    "@job\n",
    "def sum_numbers(numbers):\n",
    "    return sum(numbers)\n",
    "\n",
    "\n",
    "sum_job = sum_numbers([add_first.output, add_second.output])"
   ]
  }
 ],
 "metadata": {
  "kernelspec": {
   "display_name": "jobflow",
   "language": "python",
   "name": "jobflow"
  },
  "language_info": {
   "codemirror_mode": {
    "name": "ipython",
    "version": 3
   },
   "file_extension": ".py",
   "mimetype": "text/x-python",
   "name": "python",
   "nbconvert_exporter": "python",
   "pygments_lexer": "ipython3",
   "version": "3.9.4"
  }
 },
 "nbformat": 4,
 "nbformat_minor": 5
}
