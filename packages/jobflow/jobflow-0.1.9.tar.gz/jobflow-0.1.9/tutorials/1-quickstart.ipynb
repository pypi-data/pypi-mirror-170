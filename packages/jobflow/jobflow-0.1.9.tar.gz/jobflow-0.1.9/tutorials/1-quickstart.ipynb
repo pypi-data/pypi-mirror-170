{
 "cells": [
  {
   "cell_type": "markdown",
   "id": "streaming-newman",
   "metadata": {},
   "source": [
    "# Five-minute quickstart\n",
    "\n",
    "In this quickstart, you will:\n",
    "\n",
    "- Create some jobs.\n",
    "- Use the jobs in a Flow.\n",
    "- Run the Flow.\n",
    "- Examine the outputs of the Flow.\n",
    "- Get a flavor of the Python API\n",
    "\n",
    "This tutorial will emphasize \"hands-on\" usage of jobflow and not explain things in detail.\n",
    "\n",
    "## Define jobs\n",
    "\n",
    "The atomic building block of jobflows are jobs. Creating a job is as easy as writing a python function. All you need to do is use the `@job` decorator."
   ]
  },
  {
   "cell_type": "code",
   "execution_count": null,
   "id": "conservative-lithuania",
   "metadata": {
    "nbsphinx": "hidden"
   },
   "outputs": [],
   "source": [
    "import warnings\n",
    "\n",
    "warnings.filterwarnings(\"ignore\", \"Using `tqdm.autonotebook.tqdm`\")"
   ]
  },
  {
   "cell_type": "code",
   "execution_count": 2,
   "id": "promotional-tribute",
   "metadata": {},
   "outputs": [],
   "source": [
    "from jobflow import job\n",
    "\n",
    "\n",
    "@job\n",
    "def add(a, b):\n",
    "    return a + b"
   ]
  },
  {
   "cell_type": "markdown",
   "id": "previous-aberdeen",
   "metadata": {},
   "source": [
    "Any call to the `add` function will return a `Job` object. This is essentially a function call that will be executed later."
   ]
  },
  {
   "cell_type": "code",
   "execution_count": 3,
   "id": "latter-conviction",
   "metadata": {},
   "outputs": [],
   "source": [
    "add_first = add(1, 5)"
   ]
  },
  {
   "cell_type": "markdown",
   "id": "frequent-forest",
   "metadata": {},
   "source": [
    "Jobs have outputs that can be accessed using the `output` attribute. As the job has not yet been executed, the output is currently a reference to the future output."
   ]
  },
  {
   "cell_type": "code",
   "execution_count": 4,
   "id": "identified-protein",
   "metadata": {},
   "outputs": [
    {
     "data": {
      "text/plain": [
       "OutputReference(3bc98d5e-b593-4ad1-a409-cef9136bb835)"
      ]
     },
     "execution_count": 4,
     "metadata": {},
     "output_type": "execute_result"
    }
   ],
   "source": [
    "add_first.output"
   ]
  },
  {
   "cell_type": "markdown",
   "id": "center-traveler",
   "metadata": {},
   "source": [
    "The output of a job can be used as the input to another job."
   ]
  },
  {
   "cell_type": "code",
   "execution_count": 5,
   "id": "physical-cooperation",
   "metadata": {},
   "outputs": [],
   "source": [
    "add_second = add(add_first.output, 3)"
   ]
  },
  {
   "cell_type": "markdown",
   "id": "adequate-bradley",
   "metadata": {},
   "source": [
    "## Create a Flow\n",
    "\n",
    "A Flow is a collection of Jobs or other Flow objects. Let's create a Flow from the `add_first` and `add_second` jobs we just made:"
   ]
  },
  {
   "cell_type": "code",
   "execution_count": 6,
   "id": "completed-workplace",
   "metadata": {},
   "outputs": [],
   "source": [
    "from jobflow import Flow\n",
    "\n",
    "flow = Flow([add_first, add_second])"
   ]
  },
  {
   "cell_type": "markdown",
   "id": "choice-nylon",
   "metadata": {},
   "source": [
    "The order of the jobs in the input array does not matter. Their execution order will be determined by their connectivity. Because `add_second` takes the output of `add_first` as an input, the `add_first` will always run before `add_second`.\n",
    "\n",
    "The connectivity of the jobs in a flow can be visualized using:"
   ]
  },
  {
   "cell_type": "code",
   "execution_count": 7,
   "id": "warming-amplifier",
   "metadata": {},
   "outputs": [
    {
     "data": {
      "image/png": "[encoded data removed]",
      "text/plain": [
       "<Figure size 216x216 with 1 Axes>"
      ]
     },
     "metadata": {},
     "output_type": "display_data"
    }
   ],
   "source": [
    "flow.draw_graph(figsize=(3, 3)).show()"
   ]
  },
  {
   "cell_type": "markdown",
   "id": "fiscal-composite",
   "metadata": {},
   "source": [
    "## Run the Flow"
   ]
  },
  {
   "cell_type": "markdown",
   "id": "light-privacy",
   "metadata": {},
   "source": [
    "Jobflow supports running Flows locally or on remote clusters. Below we run the Flow locally using the `run_locally` function.\n",
    "\n",
    "<div class=\"alert alert-info\">\n",
    "**Note**\n",
    "<p>Running Flows on remote clusters can be achieved using the FireWorks package and is covered in the [Running Flows with FireWorks tutorial](https://hackingmaterials.lbl.gov/jobflow/tutorials/6-fireworks.html).</p>\n",
    "</div>"
   ]
  },
  {
   "cell_type": "code",
   "execution_count": 8,
   "id": "black-berkeley",
   "metadata": {},
   "outputs": [
    {
     "name": "stdout",
     "output_type": "stream",
     "text": [
      "2021-06-04 17:56:25,875 INFO Started executing jobs locally\n",
      "2021-06-04 17:56:25,877 INFO Starting job - add (3bc98d5e-b593-4ad1-a409-cef9136bb835)\n",
      "2021-06-04 17:56:25,878 INFO Finished job - add (3bc98d5e-b593-4ad1-a409-cef9136bb835)\n",
      "2021-06-04 17:56:25,879 INFO Starting job - add (846add3f-1d37-47a1-a7f5-94a0fdf57b1b)\n",
      "2021-06-04 17:56:25,880 INFO Finished job - add (846add3f-1d37-47a1-a7f5-94a0fdf57b1b)\n",
      "2021-06-04 17:56:25,881 INFO Finished executing jobs locally\n"
     ]
    }
   ],
   "source": [
    "from jobflow.managers.local import run_locally\n",
    "\n",
    "responses = run_locally(flow)"
   ]
  },
  {
   "cell_type": "markdown",
   "id": "falling-interface",
   "metadata": {},
   "source": [
    "The numbers in brackets after the job function name give the job unique identifier (UUID)."
   ]
  },
  {
   "cell_type": "markdown",
   "id": "medium-today",
   "metadata": {},
   "source": [
    "## Examine Flow outputs"
   ]
  },
  {
   "cell_type": "markdown",
   "id": "productive-belarus",
   "metadata": {},
   "source": [
    "The `run_locally` function returns the output of all jobs. The format of the output is:\n",
    "\n",
    "```python\n",
    "{\n",
    "    job_uuid: {\n",
    "        job_index: {\n",
    "            Response()\n",
    "        }\n",
    "    }\n",
    "}\n",
    "```\n",
    "\n",
    "The `job_index` and `Response()` objects are introduced in later tutorials. The main thing to know is that the Response contains the output of the Job and any other commands for controlling the Flow execution."
   ]
  },
  {
   "cell_type": "code",
   "execution_count": 9,
   "id": "hawaiian-entrance",
   "metadata": {},
   "outputs": [
    {
     "data": {
      "text/plain": [
       "{'3bc98d5e-b593-4ad1-a409-cef9136bb835': {1: Response(output=6, detour=None, addition=None, replace=None, stored_data=None, stop_children=False, stop_jobflow=False)},\n",
       " '846add3f-1d37-47a1-a7f5-94a0fdf57b1b': {1: Response(output=9, detour=None, addition=None, replace=None, stored_data=None, stop_children=False, stop_jobflow=False)}}"
      ]
     },
     "execution_count": 9,
     "metadata": {},
     "output_type": "execute_result"
    }
   ],
   "source": [
    "responses"
   ]
  },
  {
   "cell_type": "markdown",
   "id": "studied-river",
   "metadata": {},
   "source": [
    "We can check the output of specific jobs using:"
   ]
  },
  {
   "cell_type": "code",
   "execution_count": 10,
   "id": "connected-africa",
   "metadata": {},
   "outputs": [
    {
     "data": {
      "text/plain": [
       "6"
      ]
     },
     "execution_count": 10,
     "metadata": {},
     "output_type": "execute_result"
    }
   ],
   "source": [
    "responses[add_first.uuid][1].output"
   ]
  },
  {
   "cell_type": "markdown",
   "id": "loving-cartridge",
   "metadata": {},
   "source": [
    "## Next steps\n",
    "\n",
    "Now that you’ve successfully run your first Flow, we encourage you to learn about all the different options jobflow provides for designing and running workflows. A good next step is the [Introductory tutorial](https://materialsproject.github.io/jobflow/tutorials/2-introduction.html), which covers things more slowly than this quickstart."
   ]
  }
 ],
 "metadata": {
  "kernelspec": {
   "display_name": "jobflow",
   "language": "python",
   "name": "jobflow"
  },
  "language_info": {
   "codemirror_mode": {
    "name": "ipython",
    "version": 3
   },
   "file_extension": ".py",
   "mimetype": "text/x-python",
   "name": "python",
   "nbconvert_exporter": "python",
   "pygments_lexer": "ipython3",
   "version": "3.9.4"
  }
 },
 "nbformat": 4,
 "nbformat_minor": 5
}
