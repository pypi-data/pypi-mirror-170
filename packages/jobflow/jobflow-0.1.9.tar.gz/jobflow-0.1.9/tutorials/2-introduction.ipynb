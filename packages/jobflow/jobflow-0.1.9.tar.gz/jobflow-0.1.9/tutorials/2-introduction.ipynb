{
 "cells": [
  {
   "cell_type": "markdown",
   "id": "varied-livestock",
   "metadata": {},
   "source": [
    "# Introduction to jobflow\n",
    "\n",
    "In this tutorial, you will:\n",
    "\n",
    "- Create several jobs.\n",
    "- Combine the Jobs into a Flow.\n",
    "- Set up a JobStore - the primary database interface for jobflow.\n",
    "- Run a Flow using the custom store.\n",
    "- Examine the Flow outputs.\n",
    "\n",
    "The purpose of this tutorial is to introduce the main concepts of jobflow. It isn’t intended to demonstrate all the features of jobflow or explain things in great detail.\n",
    "\n",
    "## Creating job objects\n",
    "\n",
    "The building block of jobflows are `Job` objects. Jobs are delayed calls to python functions whose outputs are stored in a database. The easiest way to create a job is using the `@job` decorator which be applied to any function, even those with optional parameters.\n",
    "\n",
    "<div class=\"alert alert-info\">\n",
    "**Note**\n",
    "<p>jobflow encodes job outputs as json using the `MontyEncoder` feature of the `monty` package. This means that additional datatypes such as datetime objects, enums, and MSONable classes can also be serialized.</p>\n",
    "</div>\n",
    "\n",
    "Lets create a decorated function that times how long it takes to load a website."
   ]
  },
  {
   "cell_type": "code",
   "execution_count": 1,
   "id": "beautiful-junction",
   "metadata": {
    "nbsphinx": "hidden"
   },
   "outputs": [],
   "source": [
    "import warnings\n",
    "\n",
    "warnings.filterwarnings(\"ignore\", \"Using `tqdm.autonotebook.tqdm`\")"
   ]
  },
  {
   "cell_type": "code",
   "execution_count": 2,
   "id": "exempt-potter",
   "metadata": {},
   "outputs": [],
   "source": [
    "from jobflow import job\n",
    "\n",
    "\n",
    "@job\n",
    "def time_website(website: str):\n",
    "    import urllib.request\n",
    "    from time import perf_counter\n",
    "\n",
    "    with urllib.request.urlopen(website) as f:\n",
    "        start_time = perf_counter()\n",
    "        f.read()\n",
    "        end_time = perf_counter()\n",
    "\n",
    "    return end_time - start_time"
   ]
  },
  {
   "cell_type": "markdown",
   "id": "critical-initial",
   "metadata": {},
   "source": [
    "Any call to the `time_website` function will return a `Job` object rather than executing the function."
   ]
  },
  {
   "cell_type": "code",
   "execution_count": 3,
   "id": "pleased-virtue",
   "metadata": {},
   "outputs": [],
   "source": [
    "time_github = time_website(\"https://www.github.com\")\n",
    "time_google = time_website(\"https://www.google.com\")\n",
    "time_nyt = time_website(\"https://www.nytimes.com\")"
   ]
  },
  {
   "cell_type": "markdown",
   "id": "stable-island",
   "metadata": {},
   "source": [
    "Jobs have outputs that can be accessed using the `output` attribute. When a job runs, its outputs will be stored in the JobStore. As the job has not yet been executed, the output is currently a reference to the future output."
   ]
  },
  {
   "cell_type": "code",
   "execution_count": 4,
   "id": "multiple-bailey",
   "metadata": {},
   "outputs": [
    {
     "data": {
      "text/plain": [
       "OutputReference(a38209dd-441a-4074-917e-4bb86b98fe54)"
      ]
     },
     "execution_count": 4,
     "metadata": {},
     "output_type": "execute_result"
    }
   ],
   "source": [
    "time_github.output"
   ]
  },
  {
   "cell_type": "markdown",
   "id": "ethical-organization",
   "metadata": {},
   "source": [
    "The output of a job can be used as an input to another job. To demonstrate this, let's create a new job function that will sum all its inputs."
   ]
  },
  {
   "cell_type": "code",
   "execution_count": 5,
   "id": "roman-verse",
   "metadata": {},
   "outputs": [],
   "source": [
    "@job\n",
    "def sum_numbers(numbers):\n",
    "    return sum(numbers)\n",
    "\n",
    "\n",
    "sum_times = sum_numbers([time_github.output, time_google.output, time_nyt.output])"
   ]
  },
  {
   "cell_type": "markdown",
   "id": "chronic-hunter",
   "metadata": {},
   "source": [
    "Note, none of the jobs we have created have been executed. The idea of jobflow is to built up a series of (interconnected) jobs and run them at a later date."
   ]
  },
  {
   "cell_type": "markdown",
   "id": "hungry-vienna",
   "metadata": {},
   "source": [
    "## Creating Flows\n",
    "\n",
    "A `Flow` is a collection of `Job`s or other `Flow` objects. Flows are the primary tool for defining workflows in jobflow. Let's create a Flow from the jobs we just made:"
   ]
  },
  {
   "cell_type": "code",
   "execution_count": 6,
   "id": "danish-indonesia",
   "metadata": {},
   "outputs": [],
   "source": [
    "from jobflow import Flow\n",
    "\n",
    "flow = Flow([time_github, time_google, time_nyt, sum_times])"
   ]
  },
  {
   "cell_type": "markdown",
   "id": "economic-priority",
   "metadata": {},
   "source": [
    "The order of the jobs in the input array does not matter. Their execution order will be determined by their connectivity. Because `sum_times` takes the output of `time_github` etc as an input, the timing jobs will always run first.\n",
    "\n",
    "The connectivity of the jobs in a flow can be visualized:"
   ]
  },
  {
   "cell_type": "code",
   "execution_count": 7,
   "id": "pharmaceutical-cuisine",
   "metadata": {},
   "outputs": [
    {
     "data": {
      "image/png": "[encoded data removed]",
      "text/plain": [
       "<Figure size 864x576 with 1 Axes>"
      ]
     },
     "metadata": {},
     "output_type": "display_data"
    }
   ],
   "source": [
    "flow.draw_graph().show()"
   ]
  },
  {
   "cell_type": "markdown",
   "id": "ecological-domain",
   "metadata": {},
   "source": [
    "Similar to Jobs, Flows can also have outputs, however, these are not explicitly stored in the database. Instead, the outputs of a Flow act to structure the outputs of the jobs contained within it.\n",
    "\n",
    "The Flow we just created does not have any outputs. We could instead \"register\" the output of the sum job as the output of the flow:\n",
    "\n",
    "```python\n",
    "flow = Flow(\n",
    "    jobs=[time_github, time_google, time_nyt, sum_times],\n",
    "    output=sum_times.output\n",
    ")\n",
    "```\n",
    "\n",
    "This would allow the Flow to be used in the input to a job. For example\n",
    "\n",
    "```python\n",
    "new_job = sum_times([flow.output, 10])\n",
    "```\n",
    "\n",
    "Note that the Flow output can be structured however you like. For example, you may wish to expose all the job outputs in the form of a dictionary.\n",
    "\n",
    "```python\n",
    "flow = Flow(\n",
    "    jobs=[time_github, time_google, time_nyt, sum_times],\n",
    "    output={\n",
    "        \"times\": [time_github.output, time_google.output, time_nyt.output],\n",
    "        \"sum\": sum_times.output\n",
    "    }\n",
    ")\n",
    "```\n",
    "\n",
    "When can then be used by subsequent jobs as:\n",
    "\n",
    "```python\n",
    "new_job = sum_numbers([flow.output[\"sum\"], 10])\n",
    "```"
   ]
  },
  {
   "cell_type": "markdown",
   "id": "unlike-essex",
   "metadata": {},
   "source": [
    "## Setting up the JobStore\n",
    "\n",
    "Anything returned by a `Job` will be stored in the `JobStore`, the primary database interface for jobflows.\n",
    "\n",
    "The `JobStore` is an implementation of the [Store](https://materialsproject.github.io/maggma/reference/stores/) interface provided by the [Maggma package](https://materialsproject.github.io/maggma/reference/stores/). Maggma provides implementations for a number of common databases including:\n",
    "\n",
    "- MongoDB ([MongoStore](https://materialsproject.github.io/maggma/reference/stores/#maggma.stores.mongolike.MongoStore))\n",
    "- GridFS ([GridFSStore](https://materialsproject.github.io/maggma/reference/stores/#maggma.stores.gridfs.GridFSStore))\n",
    "- AWS S3 ([S3Store](https://materialsproject.github.io/maggma/reference/stores/#maggma.stores.aws.S3Store))\n",
    "\n",
    "Jobflow allows you to store outputs in multiple stores — for example, small documents can be stored in a MongoDB database whereas large files can be stored in an S3 store.\n",
    "\n",
    "In this example we will use a single store type for all documents. In particular, we will use a special type of store called a `MemoryStore`. This means that any outputs are only stored in memory and not in an external database. For production workflows, we recommend using one of the permanent stores outlined above.\n",
    "\n",
    "First, we need to create the memory store that will function as the store for all outputs."
   ]
  },
  {
   "cell_type": "code",
   "execution_count": 8,
   "id": "rough-retention",
   "metadata": {},
   "outputs": [],
   "source": [
    "from maggma.stores import MemoryStore\n",
    "\n",
    "docs_store = MemoryStore()"
   ]
  },
  {
   "cell_type": "markdown",
   "id": "ready-tsunami",
   "metadata": {},
   "source": [
    "Next we can initialize the JobStore with the memory store."
   ]
  },
  {
   "cell_type": "code",
   "execution_count": 9,
   "id": "forty-addiction",
   "metadata": {},
   "outputs": [],
   "source": [
    "from jobflow import JobStore\n",
    "\n",
    "store = JobStore(docs_store)"
   ]
  },
  {
   "cell_type": "markdown",
   "id": "nervous-pressing",
   "metadata": {},
   "source": [
    "This type of JobStore (using a MemoryStore for all outputs) is the default store used by jobflow if a custom store is not set."
   ]
  },
  {
   "cell_type": "markdown",
   "id": "perceived-leader",
   "metadata": {},
   "source": [
    "## Running the Flow\n",
    "\n",
    "Jobflow supports running Flows locally or on remote clusters. Below we run the Flow locally using the `run_locally` function using our custom store.\n",
    "\n",
    "<div class=\"alert alert-info\">\n",
    "**Note**\n",
    "<p>Running Flows on remote clusters can be achieved using the FireWorks package and is covered in the [Running Flows with FireWorks tutorial](https://hackingmaterials.lbl.gov/jobflow/tutorials/6-fireworks.html).</p>\n",
    "</div>"
   ]
  },
  {
   "cell_type": "code",
   "execution_count": 10,
   "id": "hydraulic-undergraduate",
   "metadata": {},
   "outputs": [
    {
     "name": "stdout",
     "output_type": "stream",
     "text": [
      "2021-06-04 17:56:43,971 INFO Started executing jobs locally\n",
      "2021-06-04 17:56:43,973 INFO Starting job - time_website (caa50ec0-59b2-441d-87d3-7dfabef8ac93)\n",
      "2021-06-04 17:56:45,124 INFO Finished job - time_website (caa50ec0-59b2-441d-87d3-7dfabef8ac93)\n",
      "2021-06-04 17:56:45,125 INFO Starting job - time_website (2d35baf4-c72f-4d83-9472-45d134d6566d)\n",
      "2021-06-04 17:56:45,325 INFO Finished job - time_website (2d35baf4-c72f-4d83-9472-45d134d6566d)\n",
      "2021-06-04 17:56:45,327 INFO Starting job - time_website (a38209dd-441a-4074-917e-4bb86b98fe54)\n",
      "2021-06-04 17:56:45,958 INFO Finished job - time_website (a38209dd-441a-4074-917e-4bb86b98fe54)\n",
      "2021-06-04 17:56:45,959 INFO Starting job - sum_numbers (2e8f39b2-75f3-4099-a5a7-966787a9ccfd)\n",
      "2021-06-04 17:56:45,961 INFO Finished job - sum_numbers (2e8f39b2-75f3-4099-a5a7-966787a9ccfd)\n",
      "2021-06-04 17:56:45,962 INFO Finished executing jobs locally\n"
     ]
    }
   ],
   "source": [
    "from jobflow.managers.local import run_locally\n",
    "\n",
    "responses = run_locally(flow, store=store)"
   ]
  },
  {
   "cell_type": "markdown",
   "id": "occasional-kentucky",
   "metadata": {},
   "source": [
    "Below is an annotated example of the log message:\n",
    "\n",
    "```\n",
    "2021-06-04 17:36:50,531 INFO Starting job - time_website (d5460743-bb88-4922-8306-0400eb419a91)\n",
    "                ↑                                 ↑                         ↑\n",
    "              time                             job name                  job uuid\n",
    "```\n",
    "\n",
    "The job uuid is a unique identifier that is assigned to the job when it is created. It is also used to track the job outputs."
   ]
  },
  {
   "cell_type": "markdown",
   "id": "laden-career",
   "metadata": {},
   "source": [
    "## Examine Flow outputs"
   ]
  },
  {
   "cell_type": "markdown",
   "id": "addressed-harris",
   "metadata": {},
   "source": [
    "The `run_locally` function returns the output of all jobs. The the format of the output is:\n",
    "\n",
    "```python\n",
    "{\n",
    "    job_uuid: {\n",
    "        job_index: {\n",
    "            Response()\n",
    "        }\n",
    "    }\n",
    "}\n",
    "```\n",
    "\n",
    "The `job_index` and `Response()` objects are introduced in later tutorials. The main thing to know is that the Response contains the output of the Job and any other commands for controlling the Flow execution."
   ]
  },
  {
   "cell_type": "code",
   "execution_count": 11,
   "id": "governing-scottish",
   "metadata": {},
   "outputs": [
    {
     "data": {
      "text/plain": [
       "{'caa50ec0-59b2-441d-87d3-7dfabef8ac93': {1: Response(output=0.9628085599999991, detour=None, addition=None, replace=None, stored_data=None, stop_children=False, stop_jobflow=False)},\n",
       " '2d35baf4-c72f-4d83-9472-45d134d6566d': {1: Response(output=0.007624547999999898, detour=None, addition=None, replace=None, stored_data=None, stop_children=False, stop_jobflow=False)},\n",
       " 'a38209dd-441a-4074-917e-4bb86b98fe54': {1: Response(output=0.3369926760000004, detour=None, addition=None, replace=None, stored_data=None, stop_children=False, stop_jobflow=False)},\n",
       " '2e8f39b2-75f3-4099-a5a7-966787a9ccfd': {1: Response(output=1.3074257839999994, detour=None, addition=None, replace=None, stored_data=None, stop_children=False, stop_jobflow=False)}}"
      ]
     },
     "execution_count": 11,
     "metadata": {},
     "output_type": "execute_result"
    }
   ],
   "source": [
    "responses"
   ]
  },
  {
   "cell_type": "markdown",
   "id": "monetary-horizon",
   "metadata": {},
   "source": [
    "We can check the output of specific jobs using:"
   ]
  },
  {
   "cell_type": "code",
   "execution_count": 12,
   "id": "informal-western",
   "metadata": {},
   "outputs": [
    {
     "data": {
      "text/plain": [
       "0.3369926760000004"
      ]
     },
     "execution_count": 12,
     "metadata": {},
     "output_type": "execute_result"
    }
   ],
   "source": [
    "responses[time_github.uuid][1].output"
   ]
  },
  {
   "cell_type": "markdown",
   "id": "noticed-tender",
   "metadata": {},
   "source": [
    "In general, it is easier to examine the outputs a job using the `JobStore.get_output` function. This will query the database (in this case the `MemoryStore`) and return the output of the job. If using multiple stores, the relevant outputs will be automatically queried from the appropriate stores.\n",
    "\n",
    "Let's query the database the for the output of the `time_github` job."
   ]
  },
  {
   "cell_type": "code",
   "execution_count": 13,
   "id": "assumed-lewis",
   "metadata": {},
   "outputs": [
    {
     "data": {
      "text/plain": [
       "0.3369926760000004"
      ]
     },
     "execution_count": 13,
     "metadata": {},
     "output_type": "execute_result"
    }
   ],
   "source": [
    "store.get_output(time_github.uuid)"
   ]
  },
  {
   "cell_type": "markdown",
   "id": "incident-upper",
   "metadata": {},
   "source": [
    "## Next steps\n",
    "\n",
    "Now that you are more familiar jobflows, we encourage you to learn about all the different options jobflow provides for designing and running workflows. A good next step is the [Defining Jobs using jobflow tutorial](https://hackingmaterials.lbl.gov/jobflow/tutorials/3-defining-jobs.html), which will cover the `Job` object and `job` decorator in more detail."
   ]
  }
 ],
 "metadata": {
  "kernelspec": {
   "display_name": "jobflow",
   "language": "python",
   "name": "jobflow"
  },
  "language_info": {
   "codemirror_mode": {
    "name": "ipython",
    "version": 3
   },
   "file_extension": ".py",
   "mimetype": "text/x-python",
   "name": "python",
   "nbconvert_exporter": "python",
   "pygments_lexer": "ipython3",
   "version": "3.9.4"
  }
 },
 "nbformat": 4,
 "nbformat_minor": 5
}
