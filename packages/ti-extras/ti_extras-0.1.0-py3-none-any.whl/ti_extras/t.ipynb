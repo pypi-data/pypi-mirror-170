{
    "cells": [
        {
            "cell_type": "code",
            "execution_count": 1,
            "metadata": {},
            "outputs": [],
            "source": [
                "from dominate import document\n",
                "from dominate import tags as d\n",
                "from pathlib import Path\n",
                "from danklabs.ui.core import table, compile_web_pages, WebPage"
            ]
        },
        {
            "cell_type": "code",
            "execution_count": 2,
            "metadata": {},
            "outputs": [],
            "source": [
                "doc = document(title=\"Alerts\")"
            ]
        },
        {
            "cell_type": "code",
            "execution_count": 3,
            "metadata": {},
            "outputs": [],
            "source": [
                "with doc:\n",
                "    t = table(id=\"data-table\")\n",
                "    d.button('Load', onclick=t.load_table('data'))"
            ]
        },
        {
            "cell_type": "code",
            "execution_count": 4,
            "metadata": {},
            "outputs": [],
            "source": [
                "output_dir = Path('/mnt/c/Users/kelle/OneDrive/Documents/site')\n",
                "output_dir.mkdir(exist_ok=True)"
            ]
        },
        {
            "cell_type": "code",
            "execution_count": 5,
            "metadata": {},
            "outputs": [
                {
                    "data": {
                        "text/plain": [
                            "226"
                        ]
                    },
                    "execution_count": 5,
                    "metadata": {},
                    "output_type": "execute_result"
                }
            ],
            "source": [
                "output_dir.joinpath('html.html').write_text(doc.render())"
            ]
        },
        {
            "cell_type": "code",
            "execution_count": 6,
            "metadata": {},
            "outputs": [
                {
                    "name": "stderr",
                    "output_type": "stream",
                    "text": [
                        "[2022-09-21 19:26:56,699][INFO][core.py:66] Found 1 components in document Alerts: {'table'}\n",
                        "[2022-09-21 19:26:56,707][INFO][core.py:103] Writing HTML: /mnt/c/Users/kelle/OneDrive/Documents/site/html/alerts.html\n",
                        "[2022-09-21 19:26:56,719][ERROR][ui-compiler][js.py:65] Either `required_js` or `check_js` must be provided.\n",
                        "[2022-09-21 19:26:56,720][INFO][ui-compiler][css.py:107] Found 0 used CSS selector properties.\n"
                    ]
                }
            ],
            "source": [
                "compile_web_pages([WebPage(\n",
                "    html=doc,\n",
                "    global_js_vars={'data': [[\"c1\",\"c2\"],[1,2]]},\n",
                ")], output_dir=output_dir)"
            ]
        },
        {
            "cell_type": "code",
            "execution_count": 7,
            "metadata": {},
            "outputs": [
                {
                    "data": {
                        "text/plain": [
                            "579"
                        ]
                    },
                    "execution_count": 7,
                    "metadata": {},
                    "output_type": "execute_result"
                }
            ],
            "source": [
                "Path('/mnt/c/Users/kelle/OneDrive/Documents/file.html').write_text(doc.render())"
            ]
        }
    ],
    "metadata": {
        "kernelspec": {
            "display_name": "Python 3.9.5 ('danklabs-mqxCKpII-py3.9')",
            "language": "python",
            "name": "python3"
        },
        "language_info": {
            "codemirror_mode": {
                "name": "ipython",
                "version": 3
            },
            "file_extension": ".py",
            "mimetype": "text/x-python",
            "name": "python",
            "nbconvert_exporter": "python",
            "pygments_lexer": "ipython3",
            "version": "3.9.5"
        },
        "orig_nbformat": 4,
        "vscode": {
            "interpreter": {
                "hash": "360627ded995be077d1368d57da02fc43b33279ebfd70d01be2867e88a1ca614"
            }
        }
    },
    "nbformat": 4,
    "nbformat_minor": 2
}