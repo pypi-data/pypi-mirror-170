{
 "cells": [
  {
   "cell_type": "markdown",
   "metadata": {},
   "source": [
    "# SPDLogger"
   ]
  },
  {
   "cell_type": "markdown",
   "metadata": {},
   "source": [
    "#### Import module"
   ]
  },
  {
   "cell_type": "code",
   "execution_count": null,
   "metadata": {},
   "outputs": [],
   "source": [
    "pip install --extra-index-url https://pypiserver.qa.di.in.spdigital.sg:4443/simple/ spdlogger "
   ]
  },
  {
   "cell_type": "code",
   "execution_count": null,
   "metadata": {},
   "outputs": [],
   "source": [
    "from spdlogger import SPDLogger"
   ]
  },
  {
   "cell_type": "code",
   "execution_count": null,
   "metadata": {},
   "outputs": [],
   "source": [
    "# Default is console streaming\n",
    "logger = SPDLogger()\n",
    "\n",
    "# SPDLogger accept arguments in form of config file in toml format or key-value pairs\n",
    "# config file in toml format, note that conf.toml must consists of section of environment\n",
    "logger = SPDLogger(config='/srv/examples/conf.toml')\n",
    "\n",
    "# # key-value pairs\n",
    "# # To log into file\n",
    "logger = SPDLogger(LOGGING_FILE=True)\n",
    "\n",
    "# # To log into file and sentry\n",
    "logger = SPDLogger(LOGGING_FILE=True, SENTRY=True)"
   ]
  },
  {
   "cell_type": "markdown",
   "metadata": {},
   "source": [
    "##### Arguments that user can change on the settings:\n",
    "\n",
    "- LOGGING_FILE = false\n",
    "<br>\n",
    "- LOGGING_FILENAME = \"log.log\"\n",
    "<br>\n",
    "- LOGGING_LEVEL = \"DEBUG\"\n",
    "<br>\n",
    "- SENTRY = false\n",
    "<br>\n",
    "- SENTRY_DSN = \"https://5c65c5ee7b0b4f99bc64934848b66efd@sentry.spdigital.sg/128\"\n",
    "<br>\n",
    "- SENTRY_LOG_LEVEL = \"INFO\"\n",
    "<br>\n",
    "- SENTRY_EVENT_LEVEL = \"WARNING\"\n",
    "<br>\n",
    "- METRIC_SYSTEM = \"NA\"\n",
    "<br>\n",
    "- NEPTUNE_PROJECT = \"chansinhui/testinghandler\"\n",
    "<br>\n",
    "- MLFLOW_EXPERIMENT_NAME = \"mlflow_test\"\n",
    "<br>\n",
    "- MLFLOW_TRACKING_URI = \"http://localhost:1234\"\n"
   ]
  },
  {
   "cell_type": "code",
   "execution_count": null,
   "metadata": {},
   "outputs": [],
   "source": [
    "logger.debug(\"this is debug message\")\n",
    "logger.info(\"this is a info message\")\n",
    "logger.warning(\"this is a warning message\")\n",
    "logger.error(\"this is an error message\")\n",
    "logger.critical(\"this is a critical message\")\n",
    "logger.fatal(\"this is a fatal message\")\n",
    "logger.exception(\"this is an exception message\")"
   ]
  },
  {
   "cell_type": "markdown",
   "metadata": {},
   "source": [
    "#### Log parameters and metrics into ML tracking system (MLFLOW/ NEPTUNE.AI)"
   ]
  },
  {
   "cell_type": "code",
   "execution_count": null,
   "metadata": {},
   "outputs": [],
   "source": [
    "# Default is NA, to log into MLFLOW\n",
    "logger = SPDLogger(METRIC_SYSTEM=\"MLFLOW\")\n",
    "\n",
    "# To log into NEPTUNE.AI\n",
    "logger = SPDLogger(METRIC_SYSTEM=\"NEPTUNE.AI\")"
   ]
  },
  {
   "cell_type": "code",
   "execution_count": null,
   "metadata": {},
   "outputs": [],
   "source": [
    "# To log single parameter with single key and value:\n",
    "logger.params(\"learning_rate\", 0.15)"
   ]
  },
  {
   "cell_type": "markdown",
   "metadata": {},
   "source": [
    "<div style=\"max-width:400px;margin-left: 0; margin-right: auto;\"> \n",
    "mlflow<br>                                                                                            \n",
    "<img src=\"./images/mlflow%20params.png\" width=\"400\"/>  <img src=\"./images/mlflow%20params2.png\" width=\"300\"/><br>                            \n",
    "neptune<br>\n",
    "<img src=\"./images/neptune%20params2.png\" width=\"400\"/>  <img src=\"./images/neptune%20params.png\" width=\"300\"/>\n",
    "</div>\n"
   ]
  },
  {
   "cell_type": "code",
   "execution_count": null,
   "metadata": {},
   "outputs": [],
   "source": [
    "# To log parameters in dictionary form: \n",
    "# Note that NEPTUNE AI will organise all parameters in folder\n",
    "parameters = {\n",
    "    \"dense_units\": 128,\n",
    "    \"activation\": \"relu\",\n",
    "    \"dropout\": 0.23,\n",
    "    \"batch_size\": 64,\n",
    "    \"n_epochs\": 30,\n",
    "}\n",
    "\n",
    "\n",
    "logger.params(\"parameters\", parameters)"
   ]
  },
  {
   "cell_type": "markdown",
   "metadata": {},
   "source": [
    "<div style=\"max-width:400px;margin-left: 0; margin-right: auto;\"> \n",
    "mlflow<br>\n",
    "<img src=\"./images/mlflow%20params%20dict.png\" width=\"300\"/>  <img src=\"./images/mlflow%20params2.png\" width=\"300\"/><br>\n",
    "neptune<br>\n",
    "<img src=\"./images/neptune%20params%20dict.png\" width=\"300\"/>\n",
    "</div>"
   ]
  },
  {
   "cell_type": "code",
   "execution_count": null,
   "metadata": {},
   "outputs": [],
   "source": [
    "# To log single metric with key and value:\n",
    "# Note that NEPTUNE AI can organise outputs in folder by specify folder/subfolder/metrics and etc\n",
    "logger.metrics(\"metrics/f1 score\", 0.7)"
   ]
  },
  {
   "cell_type": "markdown",
   "metadata": {},
   "source": [
    "<div style=\"max-width:400px;margin-left: 0; margin-right: auto;\"> \n",
    "mlflow<br>\n",
    "<img src=\"./images/mlflow%20metrics.png\" width=\"400\"/><br>\n",
    "neptune<br>\n",
    "<img src=\"./images/neptune%20metrics.png\" width=\"400\"/>\n",
    "</div>"
   ]
  },
  {
   "cell_type": "code",
   "execution_count": null,
   "metadata": {},
   "outputs": [],
   "source": [
    "# To log metrics in loop:\n",
    "for epoch in range(5):\n",
    "    loss = 0.5 ** epoch\n",
    "    acc = 0.9 ** epoch\n",
    "    logger.metrics(\"train/epoch/loss\",loss)\n",
    "    logger.metrics(\"train/epoch/accuracy\",acc)"
   ]
  },
  {
   "cell_type": "markdown",
   "metadata": {},
   "source": [
    "<div style=\"max-width:400px;margin-left: 0; margin-right: auto;\">    \n",
    "mlflow<br>                                     \n",
    "<img src=\"./images/mlflow%20metrics%20metadata.png\" width=\"300\"/> <img src=\"./images/mlflow%20metrics%20charts.png\" width=\"400\"/><br>\n",
    "neptune<br>\n",
    "<img src=\"./images/neptune%20metrics%20metadata.png\" width=\"350\"/> <img src=\"./images/neptune%20metrics%20charts.png\" width=\"300\"/>\n",
    "</div>"
   ]
  },
  {
   "cell_type": "code",
   "execution_count": null,
   "metadata": {},
   "outputs": [],
   "source": [
    "# To log model:\n",
    "# Note that model upload to NEPTUNE AI is in pickle form\n",
    "from sklearn import linear_model\n",
    "reg = linear_model.LinearRegression()\n",
    "model = reg.fit([[0, 0], [1, 1], [2, 2]], [0, 1, 2])\n",
    "logger.model(\"linear_model\", model, \"sklearn\") # specify model type to use mlflow supported log function\n",
    "logger.model(\"linear_model\", model) # otherwise, model is log as pickle file under artifacts"
   ]
  },
  {
   "cell_type": "markdown",
   "metadata": {},
   "source": [
    "mlflow<br>\n",
    "<img src=\"./images/mlflow%20model.png\" width=\"400\"/><br>\n",
    "neptune<br>\n",
    "<img src=\"./images/neptune%20model.png\" width=\"400\"/>"
   ]
  },
  {
   "cell_type": "code",
   "execution_count": null,
   "metadata": {},
   "outputs": [],
   "source": [
    "# To log file:\n",
    "logger.file(\"1st_exp_log\", \"./log.log\")"
   ]
  },
  {
   "cell_type": "markdown",
   "metadata": {},
   "source": [
    "mlflow<br>\n",
    "<img src=\"./images/mlflow%20file.png\" width=\"400\"/><br>\n",
    "neptune<br>\n",
    "<img src=\"./images/neptune%20file.png\" width=\"400\"/>"
   ]
  },
  {
   "cell_type": "code",
   "execution_count": null,
   "metadata": {},
   "outputs": [],
   "source": [
    "# To register model:\n",
    "logger.register_model(\"linear_model\", model, \"staging\")"
   ]
  },
  {
   "cell_type": "markdown",
   "metadata": {},
   "source": [
    "mlflow<br>\n",
    "<img src=\"./images/mlflow%20registered%20model.png\" width=\"400\"/><br>\n",
    "neptune<br>\n",
    "<img src=\"./images/neptune%20registered%20model.png\" width=\"400\"/>"
   ]
  },
  {
   "cell_type": "code",
   "execution_count": null,
   "metadata": {},
   "outputs": [],
   "source": []
  }
 ],
 "metadata": {
  "interpreter": {
   "hash": "31f2aee4e71d21fbe5cf8b01ff0e069b9275f58929596ceb00d14d90e3e16cd6"
  },
  "kernelspec": {
   "display_name": "Python 3.8.9 64-bit",
   "language": "python",
   "name": "python3"
  },
  "language_info": {
   "codemirror_mode": {
    "name": "ipython",
    "version": 3
   },
   "file_extension": ".py",
   "mimetype": "text/x-python",
   "name": "python",
   "nbconvert_exporter": "python",
   "pygments_lexer": "ipython3",
   "version": "3.8.9"
  },
  "orig_nbformat": 4
 },
 "nbformat": 4,
 "nbformat_minor": 2
}
