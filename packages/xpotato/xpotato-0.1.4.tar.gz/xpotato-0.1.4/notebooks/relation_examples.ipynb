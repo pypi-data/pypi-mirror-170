{
 "cells": [
  {
   "cell_type": "markdown",
   "metadata": {},
   "source": [
    "# POTATO\n",
    "## Examples and introduction\n",
    "\n",
    "This notebook contains an introduction to the POTATO package, we will work on the [Semeval](https://paperswithcode.com/sota/relation-extraction-on-semeval-2010-task-8) relation extraction dataset. To make sure you have all the files available, go to the [semeval](https://github.com/adaamko/POTATO/tree/main/features/semeval) folder and download the needed files. "
   ]
  },
  {
   "cell_type": "markdown",
   "metadata": {},
   "source": [
    "- POTATO is an IE tool that works on graphs, currently we support three types of graphs: AMR, UD and [Fourlang](https://github.com/kornai/4lang). \n",
    "\n",
    "- On this dataset(semeval) we experimented with fourlang semantic graphs. Make sure to follow the instructions in the [tuw_nlp](https://github.com/recski/tuw-nlp) repo to be able to build fourlang graphs. \n",
    "\n",
    "- If you are interested in AMR graphs, you can go to the [hasoc](https://github.com/adaamko/POTATO/tree/main/features/hasoc) folder To get started with rule-systems we provide rule-based features prebuilt with POTATO on the HASOC dataset (we also presented a paper named _Offensive text detection on English Twitter with deep learning models and rule-based systems_ for the HASOC2021 shared task). \n",
    "\n",
    "- We also provide experiments on the [CrowdTruth](https://github.com/CrowdTruth/Medical-Relation-Extraction) medical relation extraction datasets with UD graphs, go to the [crowdtruth](https://github.com/adaamko/POTATO/tree/main/features/crowdtruth) folder for more info!"
   ]
  },
  {
   "cell_type": "code",
   "execution_count": 1,
   "metadata": {},
   "outputs": [],
   "source": [
    "# First we define the graph type\n",
    "graph_format = \"fourlang\""
   ]
  },
  {
   "cell_type": "markdown",
   "metadata": {},
   "source": [
    "First we demonstrate POTATO's capabilities with a few sentences manually picked from the dataset.\n",
    "\n",
    "__Note that we replaced the two entitites in question with _XXX_ and _YYY_.__"
   ]
  },
  {
   "cell_type": "code",
   "execution_count": 2,
   "metadata": {},
   "outputs": [],
   "source": [
    "sentences = [(\"Governments and industries in nations around the world are pouring XXX into YYY.\", \"Entity-Destination(e1,e2)\"),\n",
    "            (\"The scientists poured XXX into pint YYY.\", \"Entity-Destination(e1,e2)\"),\n",
    "            (\"The suspect pushed the XXX into a deep YYY.\", \"Entity-Destination(e1,e2)\"),\n",
    "            (\"The Nepalese government sets up a XXX to inquire into the alleged YYY of diplomatic passports.\", \"Other\"),\n",
    "            (\"The entity1 to buy papers is pushed into the next entity2.\", \"Entity-Destination(e1,e2)\"),\n",
    "            (\"An unnamed XXX was pushed into the YYY.\", \"Entity-Destination(e1,e2)\"),\n",
    "            (\"Since then, numerous independent feature XXX have journeyed into YYY.\", \"Other\"),\n",
    "            (\"For some reason, the XXX was blinded from his own YYY about the incommensurability of time.\", \"Other\"),\n",
    "            (\"Sparky Anderson is making progress in his XXX from YYY and could return to managing the Detroit Tigers within a week.\", \"Other\"),\n",
    "            (\"Olympics have already poured one XXX into the YYY.\", \"Entity-Destination(e1,e2)\"),\n",
    "            (\"After wrapping him in a light blanket, they placed the XXX in the YYY his father had carved for him.\", \"Entity-Destination(e1,e2)\"),\n",
    "            (\"I placed the XXX in a natural YYY, at the base of a part of the fallen arch.\", \"Entity-Destination(e1,e2)\"),\n",
    "            (\"The XXX was delivered from the YYY of Lincoln Memorial on August 28, 1963 as part of his famous March on Washington.\", \"Other\"),\n",
    "            (\"The XXX leaked from every conceivable YYY.\", \"Other\"),\n",
    "            (\"The scientists placed the XXX in a tiny YYY which gets channelled into cancer cells, and is then unpacked with a laser impulse.\", \"Entity-Destination(e1,e2)\"),\n",
    "            (\"The level surface closest to the MSS, known as the XXX, departs from an YYY by about 100 m in each direction.\", \"Other\"),\n",
    "            (\"Gaza XXX recover from three YYY of war.\", \"Other\"),\n",
    "            (\"This latest XXX from the animation YYY at Pixar is beautiful, masterly, inspired - and delivers a powerful ecological message.\", \"Other\")]"
   ]
  },
  {
   "cell_type": "markdown",
   "metadata": {},
   "source": [
    "First we need to initialize the dataset and also provide a label encoding. Then parse the sentences into graphs. Currently we provide three types of graphs: _ud_, _fourlang_, _amr_."
   ]
  },
  {
   "cell_type": "code",
   "execution_count": 3,
   "metadata": {},
   "outputs": [],
   "source": [
    "from xpotato.dataset.dataset import Dataset\n",
    "from xpotato.models.trainer import GraphTrainer"
   ]
  },
  {
   "cell_type": "code",
   "execution_count": 4,
   "metadata": {},
   "outputs": [
    {
     "name": "stderr",
     "output_type": "stream",
     "text": [
      "2022-02-14 12:39:47,351 : common (213) - WARNING - Can not find mwt: default from official model list. Ignoring it.\n",
      "2022-02-14 12:39:47,353 : core (112) - INFO - Loading these models for language: en (English):\n",
      "========================\n",
      "| Processor | Package  |\n",
      "------------------------\n",
      "| tokenize  | combined |\n",
      "| pos       | combined |\n",
      "| lemma     | combined |\n",
      "| depparse  | combined |\n",
      "========================\n",
      "\n",
      "2022-02-14 12:39:47,376 : core (123) - INFO - Use device: cpu\n",
      "2022-02-14 12:39:47,377 : core (129) - INFO - Loading: tokenize\n",
      "2022-02-14 12:39:47,382 : core (129) - INFO - Loading: pos\n",
      "2022-02-14 12:39:47,537 : core (129) - INFO - Loading: lemma\n",
      "2022-02-14 12:39:47,562 : core (129) - INFO - Loading: depparse\n",
      "2022-02-14 12:39:47,852 : core (179) - INFO - Done loading processors!\n",
      "2022-02-14 12:39:47,853 : pipeline (40) - INFO - loading NLP cache from en_nlp_cache...\n",
      "2022-02-14 12:39:47,862 : pipeline (42) - INFO - done!\n",
      "2022-02-14 12:39:47,863 : irtg (81) - INFO - loading cache from file: cache/UD_FL.json\n",
      "2022-02-14 12:39:47,864 : irtg (21) - INFO - loaded cache from cache/UD_FL.json with interpretations: ['fl', 'ud']\n",
      "100%|█████████████████████████████████████████████████████████████████████████████████| 18/18 [00:00<00:00, 1283.86it/s]\n"
     ]
    }
   ],
   "source": [
    "dataset = Dataset(sentences, label_vocab={\"Other\":0, \"Entity-Destination(e1,e2)\": 1})\n",
    "dataset.set_graphs(dataset.parse_graphs(graph_format=graph_format))"
   ]
  },
  {
   "cell_type": "code",
   "execution_count": 5,
   "metadata": {},
   "outputs": [],
   "source": [
    "# Check the dataset\n",
    "df = dataset.to_dataframe()"
   ]
  },
  {
   "cell_type": "code",
   "execution_count": 7,
   "metadata": {},
   "outputs": [
    {
     "data": {
      "image/svg+xml": [
       "<?xml version=\"1.0\" encoding=\"UTF-8\" standalone=\"no\"?>\n",
       "<!DOCTYPE svg PUBLIC \"-//W3C//DTD SVG 1.1//EN\"\n",
       " \"http://www.w3.org/Graphics/SVG/1.1/DTD/svg11.dtd\">\n",
       "<!-- Generated by graphviz version 2.43.0 (0)\n",
       " -->\n",
       "<!-- Title: finite_state_machine Pages: 1 -->\n",
       "<svg width=\"438pt\" height=\"495pt\"\n",
       " viewBox=\"0.00 0.00 450.09 509.37\" xmlns=\"http://www.w3.org/2000/svg\" xmlns:xlink=\"http://www.w3.org/1999/xlink\">\n",
       "<g id=\"graph0\" class=\"graph\" transform=\"scale(1.03 1.03) rotate(0) translate(4 505.37)\">\n",
       "<title>finite_state_machine</title>\n",
       "<polygon fill=\"white\" stroke=\"transparent\" points=\"-4,4 -4,-505.37 446.09,-505.37 446.09,4 -4,4\"/>\n",
       "<!-- COORD -->\n",
       "<g id=\"node1\" class=\"node\">\n",
       "<title>COORD</title>\n",
       "<ellipse fill=\"none\" stroke=\"black\" cx=\"157.05\" cy=\"-231.03\" rx=\"46.29\" ry=\"46.29\"/>\n",
       "<text text-anchor=\"middle\" x=\"157.05\" y=\"-227.33\" font-family=\"Times,serif\" font-size=\"14.00\">COORD</text>\n",
       "</g>\n",
       "<!-- government -->\n",
       "<g id=\"node4\" class=\"node\">\n",
       "<title>government</title>\n",
       "<ellipse fill=\"none\" stroke=\"black\" cx=\"185.05\" cy=\"-66.94\" rx=\"66.89\" ry=\"66.89\"/>\n",
       "<text text-anchor=\"middle\" x=\"185.05\" y=\"-63.24\" font-family=\"Times,serif\" font-size=\"14.00\">government</text>\n",
       "</g>\n",
       "<!-- COORD&#45;&gt;government -->\n",
       "<g id=\"edge1\" class=\"edge\">\n",
       "<title>COORD&#45;&gt;government</title>\n",
       "<path fill=\"none\" stroke=\"black\" d=\"M164.77,-185.31C167.03,-172.22 169.57,-157.53 172.07,-143.09\"/>\n",
       "<polygon fill=\"black\" stroke=\"black\" points=\"175.53,-143.6 173.78,-133.15 168.63,-142.41 175.53,-143.6\"/>\n",
       "<text text-anchor=\"middle\" x=\"176.05\" y=\"-155.69\" font-family=\"Times,serif\" font-size=\"14.00\">0</text>\n",
       "</g>\n",
       "<!-- industry -->\n",
       "<g id=\"node6\" class=\"node\">\n",
       "<title>industry</title>\n",
       "<ellipse fill=\"none\" stroke=\"black\" cx=\"50.05\" cy=\"-66.94\" rx=\"50.09\" ry=\"50.09\"/>\n",
       "<text text-anchor=\"middle\" x=\"50.05\" y=\"-63.24\" font-family=\"Times,serif\" font-size=\"14.00\">industry</text>\n",
       "</g>\n",
       "<!-- COORD&#45;&gt;industry -->\n",
       "<g id=\"edge2\" class=\"edge\">\n",
       "<title>COORD&#45;&gt;industry</title>\n",
       "<path fill=\"none\" stroke=\"black\" d=\"M131.96,-192.03C117.33,-169.86 98.7,-141.64 82.9,-117.72\"/>\n",
       "<polygon fill=\"black\" stroke=\"black\" points=\"85.65,-115.53 77.22,-109.12 79.81,-119.39 85.65,-115.53\"/>\n",
       "<text text-anchor=\"middle\" x=\"119.05\" y=\"-155.69\" font-family=\"Times,serif\" font-size=\"14.00\">0</text>\n",
       "</g>\n",
       "<!-- YYY -->\n",
       "<g id=\"node2\" class=\"node\">\n",
       "<title>YYY</title>\n",
       "<ellipse fill=\"none\" stroke=\"black\" cx=\"362.05\" cy=\"-360.68\" rx=\"28.7\" ry=\"28.7\"/>\n",
       "<text text-anchor=\"middle\" x=\"362.05\" y=\"-356.98\" font-family=\"Times,serif\" font-size=\"14.00\">YYY</text>\n",
       "</g>\n",
       "<!-- around -->\n",
       "<g id=\"node3\" class=\"node\">\n",
       "<title>around</title>\n",
       "<ellipse fill=\"none\" stroke=\"black\" cx=\"322.05\" cy=\"-231.03\" rx=\"43.59\" ry=\"43.59\"/>\n",
       "<text text-anchor=\"middle\" x=\"322.05\" y=\"-227.33\" font-family=\"Times,serif\" font-size=\"14.00\">around</text>\n",
       "</g>\n",
       "<!-- nation -->\n",
       "<g id=\"node8\" class=\"node\">\n",
       "<title>nation</title>\n",
       "<ellipse fill=\"none\" stroke=\"black\" cx=\"310.05\" cy=\"-66.94\" rx=\"40.09\" ry=\"40.09\"/>\n",
       "<text text-anchor=\"middle\" x=\"310.05\" y=\"-63.24\" font-family=\"Times,serif\" font-size=\"14.00\">nation</text>\n",
       "</g>\n",
       "<!-- around&#45;&gt;nation -->\n",
       "<g id=\"edge3\" class=\"edge\">\n",
       "<title>around&#45;&gt;nation</title>\n",
       "<path fill=\"none\" stroke=\"black\" d=\"M318.89,-187.45C317.3,-165.89 315.35,-139.61 313.69,-117.19\"/>\n",
       "<polygon fill=\"black\" stroke=\"black\" points=\"317.18,-116.91 312.95,-107.19 310.2,-117.42 317.18,-116.91\"/>\n",
       "<text text-anchor=\"middle\" x=\"323.05\" y=\"-155.69\" font-family=\"Times,serif\" font-size=\"14.00\">1</text>\n",
       "</g>\n",
       "<!-- world -->\n",
       "<g id=\"node10\" class=\"node\">\n",
       "<title>world</title>\n",
       "<ellipse fill=\"none\" stroke=\"black\" cx=\"405.05\" cy=\"-66.94\" rx=\"37.09\" ry=\"37.09\"/>\n",
       "<text text-anchor=\"middle\" x=\"405.05\" y=\"-63.24\" font-family=\"Times,serif\" font-size=\"14.00\">world</text>\n",
       "</g>\n",
       "<!-- around&#45;&gt;world -->\n",
       "<g id=\"edge4\" class=\"edge\">\n",
       "<title>around&#45;&gt;world</title>\n",
       "<path fill=\"none\" stroke=\"black\" d=\"M341.51,-192.03C354.22,-167.2 370.83,-134.77 383.88,-109.29\"/>\n",
       "<polygon fill=\"black\" stroke=\"black\" points=\"387.06,-110.74 388.51,-100.24 380.83,-107.55 387.06,-110.74\"/>\n",
       "<text text-anchor=\"middle\" x=\"366.05\" y=\"-155.69\" font-family=\"Times,serif\" font-size=\"14.00\">2</text>\n",
       "</g>\n",
       "<!-- in -->\n",
       "<g id=\"node5\" class=\"node\">\n",
       "<title>in</title>\n",
       "<ellipse fill=\"none\" stroke=\"black\" cx=\"241.05\" cy=\"-231.03\" rx=\"19.5\" ry=\"19.5\"/>\n",
       "<text text-anchor=\"middle\" x=\"241.05\" y=\"-227.33\" font-family=\"Times,serif\" font-size=\"14.00\">in</text>\n",
       "</g>\n",
       "<!-- in&#45;&gt;government -->\n",
       "<g id=\"edge5\" class=\"edge\">\n",
       "<title>in&#45;&gt;government</title>\n",
       "<path fill=\"none\" stroke=\"black\" d=\"M234.95,-212.38C228.91,-194.91 219.27,-167.01 210.06,-140.36\"/>\n",
       "<polygon fill=\"black\" stroke=\"black\" points=\"213.27,-138.93 206.7,-130.62 206.66,-141.21 213.27,-138.93\"/>\n",
       "<text text-anchor=\"middle\" x=\"224.05\" y=\"-155.69\" font-family=\"Times,serif\" font-size=\"14.00\">1</text>\n",
       "</g>\n",
       "<!-- in&#45;&gt;nation -->\n",
       "<g id=\"edge6\" class=\"edge\">\n",
       "<title>in&#45;&gt;nation</title>\n",
       "<path fill=\"none\" stroke=\"black\" d=\"M248.43,-212.69C258.4,-189.27 276.52,-146.7 290.54,-113.76\"/>\n",
       "<polygon fill=\"black\" stroke=\"black\" points=\"293.87,-114.89 294.56,-104.31 287.43,-112.14 293.87,-114.89\"/>\n",
       "<text text-anchor=\"middle\" x=\"279.05\" y=\"-155.69\" font-family=\"Times,serif\" font-size=\"14.00\">2</text>\n",
       "</g>\n",
       "<!-- into -->\n",
       "<g id=\"node7\" class=\"node\">\n",
       "<title>into</title>\n",
       "<ellipse fill=\"none\" stroke=\"black\" cx=\"322.05\" cy=\"-472.77\" rx=\"28.7\" ry=\"28.7\"/>\n",
       "<text text-anchor=\"middle\" x=\"322.05\" y=\"-469.07\" font-family=\"Times,serif\" font-size=\"14.00\">into</text>\n",
       "</g>\n",
       "<!-- into&#45;&gt;YYY -->\n",
       "<g id=\"edge7\" class=\"edge\">\n",
       "<title>into&#45;&gt;YYY</title>\n",
       "<path fill=\"none\" stroke=\"black\" d=\"M331.53,-445.68C336.77,-431.25 343.36,-413.11 349.07,-397.39\"/>\n",
       "<polygon fill=\"black\" stroke=\"black\" points=\"352.37,-398.56 352.5,-387.96 345.79,-396.17 352.37,-398.56\"/>\n",
       "<text text-anchor=\"middle\" x=\"348.05\" y=\"-414.97\" font-family=\"Times,serif\" font-size=\"14.00\">2</text>\n",
       "</g>\n",
       "<!-- pour -->\n",
       "<g id=\"node9\" class=\"node\">\n",
       "<title>pour</title>\n",
       "<ellipse fill=\"none\" stroke=\"black\" cx=\"283.05\" cy=\"-360.68\" rx=\"32.49\" ry=\"32.49\"/>\n",
       "<text text-anchor=\"middle\" x=\"283.05\" y=\"-356.98\" font-family=\"Times,serif\" font-size=\"14.00\">pour</text>\n",
       "</g>\n",
       "<!-- into&#45;&gt;pour -->\n",
       "<g id=\"edge8\" class=\"edge\">\n",
       "<title>into&#45;&gt;pour</title>\n",
       "<path fill=\"none\" stroke=\"black\" d=\"M312.8,-445.68C308.07,-432.33 302.22,-415.8 296.95,-400.94\"/>\n",
       "<polygon fill=\"black\" stroke=\"black\" points=\"300.24,-399.73 293.6,-391.47 293.64,-402.06 300.24,-399.73\"/>\n",
       "<text text-anchor=\"middle\" x=\"310.05\" y=\"-414.97\" font-family=\"Times,serif\" font-size=\"14.00\">1</text>\n",
       "</g>\n",
       "<!-- pour&#45;&gt;COORD -->\n",
       "<g id=\"edge9\" class=\"edge\">\n",
       "<title>pour&#45;&gt;COORD</title>\n",
       "<path fill=\"none\" stroke=\"black\" d=\"M260.52,-336.86C242.79,-318.9 217.64,-293.42 196.58,-272.08\"/>\n",
       "<polygon fill=\"black\" stroke=\"black\" points=\"198.84,-269.39 189.32,-264.73 193.85,-274.3 198.84,-269.39\"/>\n",
       "<text text-anchor=\"middle\" x=\"237.05\" y=\"-298.98\" font-family=\"Times,serif\" font-size=\"14.00\">1</text>\n",
       "</g>\n",
       "<!-- xxx -->\n",
       "<g id=\"node11\" class=\"node\">\n",
       "<title>xxx</title>\n",
       "<ellipse fill=\"none\" stroke=\"black\" cx=\"410.05\" cy=\"-231.03\" rx=\"26.8\" ry=\"26.8\"/>\n",
       "<text text-anchor=\"middle\" x=\"410.05\" y=\"-227.33\" font-family=\"Times,serif\" font-size=\"14.00\">xxx</text>\n",
       "</g>\n",
       "<!-- pour&#45;&gt;xxx -->\n",
       "<g id=\"edge10\" class=\"edge\">\n",
       "<title>pour&#45;&gt;xxx</title>\n",
       "<path fill=\"none\" stroke=\"black\" d=\"M307.98,-339.44C327.15,-323.39 353.85,-299.95 375.05,-277.18 379.57,-272.32 384.12,-266.92 388.37,-261.58\"/>\n",
       "<polygon fill=\"black\" stroke=\"black\" points=\"391.4,-263.4 394.77,-253.35 385.87,-259.1 391.4,-263.4\"/>\n",
       "<text text-anchor=\"middle\" x=\"361.05\" y=\"-298.98\" font-family=\"Times,serif\" font-size=\"14.00\">2</text>\n",
       "</g>\n",
       "</g>\n",
       "</svg>\n"
      ],
      "text/plain": [
       "<graphviz.sources.Source at 0x7f417a195430>"
      ]
     },
     "execution_count": 7,
     "metadata": {},
     "output_type": "execute_result"
    }
   ],
   "source": [
    "# We can also check any of the graphs\n",
    "from xpotato.models.utils import to_dot\n",
    "from graphviz import Source\n",
    "\n",
    "Source(to_dot(df.iloc[0].graph))"
   ]
  },
  {
   "cell_type": "markdown",
   "metadata": {},
   "source": [
    "## Simple examples"
   ]
  },
  {
   "cell_type": "markdown",
   "metadata": {},
   "source": [
    "If the dataset is prepared and the graphs are parsed, we can write rules to match labels. We can write rules either manually or extract\n",
    "them automatically (POTATO also provides a frontend that does both).\n",
    "\n",
    "The simplest rule would be just a node in the graph:"
   ]
  },
  {
   "cell_type": "code",
   "execution_count": 8,
   "metadata": {},
   "outputs": [],
   "source": [
    "# The syntax of the rules is List[List[rules that we want to match], List[rules that shouldn't be in the matched graphs], Label of the rule]\n",
    "rule_to_match = [[[\"(u_1 / into)\"], [], \"Entity-Destination(e1,e2)\"]]"
   ]
  },
  {
   "cell_type": "markdown",
   "metadata": {},
   "source": [
    "Init the rule matcher:"
   ]
  },
  {
   "cell_type": "code",
   "execution_count": 9,
   "metadata": {},
   "outputs": [],
   "source": [
    "from xpotato.graph_extractor.extract import FeatureEvaluator\n",
    "evaluator = FeatureEvaluator()"
   ]
  },
  {
   "cell_type": "markdown",
   "metadata": {},
   "source": [
    "Match the rules in the dataset:"
   ]
  },
  {
   "cell_type": "code",
   "execution_count": 10,
   "metadata": {},
   "outputs": [
    {
     "name": "stderr",
     "output_type": "stream",
     "text": [
      "18it [00:00, 6470.47it/s]\n"
     ]
    },
    {
     "data": {
      "text/html": [
       "<div>\n",
       "<style scoped>\n",
       "    .dataframe tbody tr th:only-of-type {\n",
       "        vertical-align: middle;\n",
       "    }\n",
       "\n",
       "    .dataframe tbody tr th {\n",
       "        vertical-align: top;\n",
       "    }\n",
       "\n",
       "    .dataframe thead th {\n",
       "        text-align: right;\n",
       "    }\n",
       "</style>\n",
       "<table border=\"1\" class=\"dataframe\">\n",
       "  <thead>\n",
       "    <tr style=\"text-align: right;\">\n",
       "      <th></th>\n",
       "      <th>Sentence</th>\n",
       "      <th>Predicted label</th>\n",
       "      <th>Matched rule</th>\n",
       "    </tr>\n",
       "  </thead>\n",
       "  <tbody>\n",
       "    <tr>\n",
       "      <th>0</th>\n",
       "      <td>Governments and industries in nations around t...</td>\n",
       "      <td>Entity-Destination(e1,e2)</td>\n",
       "      <td>[[(u_1 / into)], [], Entity-Destination(e1,e2)]</td>\n",
       "    </tr>\n",
       "    <tr>\n",
       "      <th>1</th>\n",
       "      <td>The scientists poured XXX into pint YYY.</td>\n",
       "      <td>Entity-Destination(e1,e2)</td>\n",
       "      <td>[[(u_1 / into)], [], Entity-Destination(e1,e2)]</td>\n",
       "    </tr>\n",
       "    <tr>\n",
       "      <th>2</th>\n",
       "      <td>The suspect pushed the XXX into a deep YYY.</td>\n",
       "      <td>Entity-Destination(e1,e2)</td>\n",
       "      <td>[[(u_1 / into)], [], Entity-Destination(e1,e2)]</td>\n",
       "    </tr>\n",
       "    <tr>\n",
       "      <th>3</th>\n",
       "      <td>The Nepalese government sets up a XXX to inqui...</td>\n",
       "      <td>Entity-Destination(e1,e2)</td>\n",
       "      <td>[[(u_1 / into)], [], Entity-Destination(e1,e2)]</td>\n",
       "    </tr>\n",
       "    <tr>\n",
       "      <th>4</th>\n",
       "      <td>The entity1 to buy papers is pushed into the n...</td>\n",
       "      <td>Entity-Destination(e1,e2)</td>\n",
       "      <td>[[(u_1 / into)], [], Entity-Destination(e1,e2)]</td>\n",
       "    </tr>\n",
       "    <tr>\n",
       "      <th>5</th>\n",
       "      <td>An unnamed XXX was pushed into the YYY.</td>\n",
       "      <td>Entity-Destination(e1,e2)</td>\n",
       "      <td>[[(u_1 / into)], [], Entity-Destination(e1,e2)]</td>\n",
       "    </tr>\n",
       "    <tr>\n",
       "      <th>6</th>\n",
       "      <td>Since then, numerous independent feature XXX h...</td>\n",
       "      <td>Entity-Destination(e1,e2)</td>\n",
       "      <td>[[(u_1 / into)], [], Entity-Destination(e1,e2)]</td>\n",
       "    </tr>\n",
       "    <tr>\n",
       "      <th>7</th>\n",
       "      <td>For some reason, the XXX was blinded from his ...</td>\n",
       "      <td></td>\n",
       "      <td></td>\n",
       "    </tr>\n",
       "    <tr>\n",
       "      <th>8</th>\n",
       "      <td>Sparky Anderson is making progress in his XXX ...</td>\n",
       "      <td></td>\n",
       "      <td></td>\n",
       "    </tr>\n",
       "    <tr>\n",
       "      <th>9</th>\n",
       "      <td>Olympics have already poured one XXX into the ...</td>\n",
       "      <td>Entity-Destination(e1,e2)</td>\n",
       "      <td>[[(u_1 / into)], [], Entity-Destination(e1,e2)]</td>\n",
       "    </tr>\n",
       "    <tr>\n",
       "      <th>10</th>\n",
       "      <td>After wrapping him in a light blanket, they pl...</td>\n",
       "      <td></td>\n",
       "      <td></td>\n",
       "    </tr>\n",
       "    <tr>\n",
       "      <th>11</th>\n",
       "      <td>I placed the XXX in a natural YYY, at the base...</td>\n",
       "      <td></td>\n",
       "      <td></td>\n",
       "    </tr>\n",
       "    <tr>\n",
       "      <th>12</th>\n",
       "      <td>The XXX was delivered from the YYY of Lincoln ...</td>\n",
       "      <td></td>\n",
       "      <td></td>\n",
       "    </tr>\n",
       "    <tr>\n",
       "      <th>13</th>\n",
       "      <td>The XXX leaked from every conceivable YYY.</td>\n",
       "      <td></td>\n",
       "      <td></td>\n",
       "    </tr>\n",
       "    <tr>\n",
       "      <th>14</th>\n",
       "      <td>The scientists placed the XXX in a tiny YYY wh...</td>\n",
       "      <td>Entity-Destination(e1,e2)</td>\n",
       "      <td>[[(u_1 / into)], [], Entity-Destination(e1,e2)]</td>\n",
       "    </tr>\n",
       "    <tr>\n",
       "      <th>15</th>\n",
       "      <td>The level surface closest to the MSS, known as...</td>\n",
       "      <td></td>\n",
       "      <td></td>\n",
       "    </tr>\n",
       "    <tr>\n",
       "      <th>16</th>\n",
       "      <td>Gaza XXX recover from three YYY of war.</td>\n",
       "      <td></td>\n",
       "      <td></td>\n",
       "    </tr>\n",
       "    <tr>\n",
       "      <th>17</th>\n",
       "      <td>This latest XXX from the animation YYY at Pixa...</td>\n",
       "      <td></td>\n",
       "      <td></td>\n",
       "    </tr>\n",
       "  </tbody>\n",
       "</table>\n",
       "</div>"
      ],
      "text/plain": [
       "                                             Sentence  \\\n",
       "0   Governments and industries in nations around t...   \n",
       "1            The scientists poured XXX into pint YYY.   \n",
       "2         The suspect pushed the XXX into a deep YYY.   \n",
       "3   The Nepalese government sets up a XXX to inqui...   \n",
       "4   The entity1 to buy papers is pushed into the n...   \n",
       "5             An unnamed XXX was pushed into the YYY.   \n",
       "6   Since then, numerous independent feature XXX h...   \n",
       "7   For some reason, the XXX was blinded from his ...   \n",
       "8   Sparky Anderson is making progress in his XXX ...   \n",
       "9   Olympics have already poured one XXX into the ...   \n",
       "10  After wrapping him in a light blanket, they pl...   \n",
       "11  I placed the XXX in a natural YYY, at the base...   \n",
       "12  The XXX was delivered from the YYY of Lincoln ...   \n",
       "13         The XXX leaked from every conceivable YYY.   \n",
       "14  The scientists placed the XXX in a tiny YYY wh...   \n",
       "15  The level surface closest to the MSS, known as...   \n",
       "16            Gaza XXX recover from three YYY of war.   \n",
       "17  This latest XXX from the animation YYY at Pixa...   \n",
       "\n",
       "              Predicted label                                     Matched rule  \n",
       "0   Entity-Destination(e1,e2)  [[(u_1 / into)], [], Entity-Destination(e1,e2)]  \n",
       "1   Entity-Destination(e1,e2)  [[(u_1 / into)], [], Entity-Destination(e1,e2)]  \n",
       "2   Entity-Destination(e1,e2)  [[(u_1 / into)], [], Entity-Destination(e1,e2)]  \n",
       "3   Entity-Destination(e1,e2)  [[(u_1 / into)], [], Entity-Destination(e1,e2)]  \n",
       "4   Entity-Destination(e1,e2)  [[(u_1 / into)], [], Entity-Destination(e1,e2)]  \n",
       "5   Entity-Destination(e1,e2)  [[(u_1 / into)], [], Entity-Destination(e1,e2)]  \n",
       "6   Entity-Destination(e1,e2)  [[(u_1 / into)], [], Entity-Destination(e1,e2)]  \n",
       "7                                                                               \n",
       "8                                                                               \n",
       "9   Entity-Destination(e1,e2)  [[(u_1 / into)], [], Entity-Destination(e1,e2)]  \n",
       "10                                                                              \n",
       "11                                                                              \n",
       "12                                                                              \n",
       "13                                                                              \n",
       "14  Entity-Destination(e1,e2)  [[(u_1 / into)], [], Entity-Destination(e1,e2)]  \n",
       "15                                                                              \n",
       "16                                                                              \n",
       "17                                                                              "
      ]
     },
     "execution_count": 10,
     "metadata": {},
     "output_type": "execute_result"
    }
   ],
   "source": [
    "# The function will return a dataframe with the matched instances:\n",
    "evaluator.match_features(df, rule_to_match)"
   ]
  },
  {
   "cell_type": "markdown",
   "metadata": {},
   "source": [
    "You can see in the dataset that the rules only matched the instances where the \"into\" node was present."
   ]
  },
  {
   "cell_type": "markdown",
   "metadata": {},
   "source": [
    "One of the core features of our tool is that we are also able to match subgraphs. To describe a graph, we use the [PENMAN](https://github.com/goodmami/penman) notation. \n",
    "\n",
    "E.g. the string _(u_1 / into :1 (u_3 / pour))_ would describe a graph with two nodes (\"into\" and \"pour\") and a single directed edge with the label \"1\" between them."
   ]
  },
  {
   "cell_type": "markdown",
   "metadata": {},
   "source": [
    "Describing a subgraph with the string \"(u_1 / into :1 (u_2 / pour) :2 (u_3 / YYY))\" will return only three examples instead of 9, when we only had a single node as a feature"
   ]
  },
  {
   "cell_type": "code",
   "execution_count": 11,
   "metadata": {},
   "outputs": [
    {
     "name": "stderr",
     "output_type": "stream",
     "text": [
      "18it [00:00, 4578.38it/s]\n"
     ]
    },
    {
     "data": {
      "text/html": [
       "<div>\n",
       "<style scoped>\n",
       "    .dataframe tbody tr th:only-of-type {\n",
       "        vertical-align: middle;\n",
       "    }\n",
       "\n",
       "    .dataframe tbody tr th {\n",
       "        vertical-align: top;\n",
       "    }\n",
       "\n",
       "    .dataframe thead th {\n",
       "        text-align: right;\n",
       "    }\n",
       "</style>\n",
       "<table border=\"1\" class=\"dataframe\">\n",
       "  <thead>\n",
       "    <tr style=\"text-align: right;\">\n",
       "      <th></th>\n",
       "      <th>Sentence</th>\n",
       "      <th>Predicted label</th>\n",
       "      <th>Matched rule</th>\n",
       "    </tr>\n",
       "  </thead>\n",
       "  <tbody>\n",
       "    <tr>\n",
       "      <th>0</th>\n",
       "      <td>Governments and industries in nations around t...</td>\n",
       "      <td>Entity-Destination(e1,e2)</td>\n",
       "      <td>[[(u_1 / into :1 (u_2 / pour) :2 (u_3 / YYY))]...</td>\n",
       "    </tr>\n",
       "    <tr>\n",
       "      <th>1</th>\n",
       "      <td>The scientists poured XXX into pint YYY.</td>\n",
       "      <td>Entity-Destination(e1,e2)</td>\n",
       "      <td>[[(u_1 / into :1 (u_2 / pour) :2 (u_3 / YYY))]...</td>\n",
       "    </tr>\n",
       "    <tr>\n",
       "      <th>2</th>\n",
       "      <td>The suspect pushed the XXX into a deep YYY.</td>\n",
       "      <td></td>\n",
       "      <td></td>\n",
       "    </tr>\n",
       "    <tr>\n",
       "      <th>3</th>\n",
       "      <td>The Nepalese government sets up a XXX to inqui...</td>\n",
       "      <td></td>\n",
       "      <td></td>\n",
       "    </tr>\n",
       "    <tr>\n",
       "      <th>4</th>\n",
       "      <td>The entity1 to buy papers is pushed into the n...</td>\n",
       "      <td></td>\n",
       "      <td></td>\n",
       "    </tr>\n",
       "    <tr>\n",
       "      <th>5</th>\n",
       "      <td>An unnamed XXX was pushed into the YYY.</td>\n",
       "      <td></td>\n",
       "      <td></td>\n",
       "    </tr>\n",
       "    <tr>\n",
       "      <th>6</th>\n",
       "      <td>Since then, numerous independent feature XXX h...</td>\n",
       "      <td></td>\n",
       "      <td></td>\n",
       "    </tr>\n",
       "    <tr>\n",
       "      <th>7</th>\n",
       "      <td>For some reason, the XXX was blinded from his ...</td>\n",
       "      <td></td>\n",
       "      <td></td>\n",
       "    </tr>\n",
       "    <tr>\n",
       "      <th>8</th>\n",
       "      <td>Sparky Anderson is making progress in his XXX ...</td>\n",
       "      <td></td>\n",
       "      <td></td>\n",
       "    </tr>\n",
       "    <tr>\n",
       "      <th>9</th>\n",
       "      <td>Olympics have already poured one XXX into the ...</td>\n",
       "      <td>Entity-Destination(e1,e2)</td>\n",
       "      <td>[[(u_1 / into :1 (u_2 / pour) :2 (u_3 / YYY))]...</td>\n",
       "    </tr>\n",
       "    <tr>\n",
       "      <th>10</th>\n",
       "      <td>After wrapping him in a light blanket, they pl...</td>\n",
       "      <td></td>\n",
       "      <td></td>\n",
       "    </tr>\n",
       "    <tr>\n",
       "      <th>11</th>\n",
       "      <td>I placed the XXX in a natural YYY, at the base...</td>\n",
       "      <td></td>\n",
       "      <td></td>\n",
       "    </tr>\n",
       "    <tr>\n",
       "      <th>12</th>\n",
       "      <td>The XXX was delivered from the YYY of Lincoln ...</td>\n",
       "      <td></td>\n",
       "      <td></td>\n",
       "    </tr>\n",
       "    <tr>\n",
       "      <th>13</th>\n",
       "      <td>The XXX leaked from every conceivable YYY.</td>\n",
       "      <td></td>\n",
       "      <td></td>\n",
       "    </tr>\n",
       "    <tr>\n",
       "      <th>14</th>\n",
       "      <td>The scientists placed the XXX in a tiny YYY wh...</td>\n",
       "      <td></td>\n",
       "      <td></td>\n",
       "    </tr>\n",
       "    <tr>\n",
       "      <th>15</th>\n",
       "      <td>The level surface closest to the MSS, known as...</td>\n",
       "      <td></td>\n",
       "      <td></td>\n",
       "    </tr>\n",
       "    <tr>\n",
       "      <th>16</th>\n",
       "      <td>Gaza XXX recover from three YYY of war.</td>\n",
       "      <td></td>\n",
       "      <td></td>\n",
       "    </tr>\n",
       "    <tr>\n",
       "      <th>17</th>\n",
       "      <td>This latest XXX from the animation YYY at Pixa...</td>\n",
       "      <td></td>\n",
       "      <td></td>\n",
       "    </tr>\n",
       "  </tbody>\n",
       "</table>\n",
       "</div>"
      ],
      "text/plain": [
       "                                             Sentence  \\\n",
       "0   Governments and industries in nations around t...   \n",
       "1            The scientists poured XXX into pint YYY.   \n",
       "2         The suspect pushed the XXX into a deep YYY.   \n",
       "3   The Nepalese government sets up a XXX to inqui...   \n",
       "4   The entity1 to buy papers is pushed into the n...   \n",
       "5             An unnamed XXX was pushed into the YYY.   \n",
       "6   Since then, numerous independent feature XXX h...   \n",
       "7   For some reason, the XXX was blinded from his ...   \n",
       "8   Sparky Anderson is making progress in his XXX ...   \n",
       "9   Olympics have already poured one XXX into the ...   \n",
       "10  After wrapping him in a light blanket, they pl...   \n",
       "11  I placed the XXX in a natural YYY, at the base...   \n",
       "12  The XXX was delivered from the YYY of Lincoln ...   \n",
       "13         The XXX leaked from every conceivable YYY.   \n",
       "14  The scientists placed the XXX in a tiny YYY wh...   \n",
       "15  The level surface closest to the MSS, known as...   \n",
       "16            Gaza XXX recover from three YYY of war.   \n",
       "17  This latest XXX from the animation YYY at Pixa...   \n",
       "\n",
       "              Predicted label  \\\n",
       "0   Entity-Destination(e1,e2)   \n",
       "1   Entity-Destination(e1,e2)   \n",
       "2                               \n",
       "3                               \n",
       "4                               \n",
       "5                               \n",
       "6                               \n",
       "7                               \n",
       "8                               \n",
       "9   Entity-Destination(e1,e2)   \n",
       "10                              \n",
       "11                              \n",
       "12                              \n",
       "13                              \n",
       "14                              \n",
       "15                              \n",
       "16                              \n",
       "17                              \n",
       "\n",
       "                                         Matched rule  \n",
       "0   [[(u_1 / into :1 (u_2 / pour) :2 (u_3 / YYY))]...  \n",
       "1   [[(u_1 / into :1 (u_2 / pour) :2 (u_3 / YYY))]...  \n",
       "2                                                      \n",
       "3                                                      \n",
       "4                                                      \n",
       "5                                                      \n",
       "6                                                      \n",
       "7                                                      \n",
       "8                                                      \n",
       "9   [[(u_1 / into :1 (u_2 / pour) :2 (u_3 / YYY))]...  \n",
       "10                                                     \n",
       "11                                                     \n",
       "12                                                     \n",
       "13                                                     \n",
       "14                                                     \n",
       "15                                                     \n",
       "16                                                     \n",
       "17                                                     "
      ]
     },
     "execution_count": 11,
     "metadata": {},
     "output_type": "execute_result"
    }
   ],
   "source": [
    "#match a simple graph feature\n",
    "evaluator.match_features(df, [[[\"(u_1 / into :1 (u_2 / pour) :2 (u_3 / YYY))\"], [], \"Entity-Destination(e1,e2)\"]])"
   ]
  },
  {
   "cell_type": "markdown",
   "metadata": {},
   "source": [
    "We can also add negated features that we don't want to match (this won't match the first row where 'pour' is present):"
   ]
  },
  {
   "cell_type": "code",
   "execution_count": 12,
   "metadata": {},
   "outputs": [
    {
     "name": "stderr",
     "output_type": "stream",
     "text": [
      "18it [00:00, 4810.90it/s]\n"
     ]
    },
    {
     "data": {
      "text/html": [
       "<div>\n",
       "<style scoped>\n",
       "    .dataframe tbody tr th:only-of-type {\n",
       "        vertical-align: middle;\n",
       "    }\n",
       "\n",
       "    .dataframe tbody tr th {\n",
       "        vertical-align: top;\n",
       "    }\n",
       "\n",
       "    .dataframe thead th {\n",
       "        text-align: right;\n",
       "    }\n",
       "</style>\n",
       "<table border=\"1\" class=\"dataframe\">\n",
       "  <thead>\n",
       "    <tr style=\"text-align: right;\">\n",
       "      <th></th>\n",
       "      <th>Sentence</th>\n",
       "      <th>Predicted label</th>\n",
       "      <th>Matched rule</th>\n",
       "    </tr>\n",
       "  </thead>\n",
       "  <tbody>\n",
       "    <tr>\n",
       "      <th>0</th>\n",
       "      <td>Governments and industries in nations around t...</td>\n",
       "      <td></td>\n",
       "      <td></td>\n",
       "    </tr>\n",
       "    <tr>\n",
       "      <th>1</th>\n",
       "      <td>The scientists poured XXX into pint YYY.</td>\n",
       "      <td></td>\n",
       "      <td></td>\n",
       "    </tr>\n",
       "    <tr>\n",
       "      <th>2</th>\n",
       "      <td>The suspect pushed the XXX into a deep YYY.</td>\n",
       "      <td>Entity-Destination(e1,e2)</td>\n",
       "      <td>[[(u_1 / into :2 (u_3 / YYY))], [(u_2 / pour)]...</td>\n",
       "    </tr>\n",
       "    <tr>\n",
       "      <th>3</th>\n",
       "      <td>The Nepalese government sets up a XXX to inqui...</td>\n",
       "      <td>Entity-Destination(e1,e2)</td>\n",
       "      <td>[[(u_1 / into :2 (u_3 / YYY))], [(u_2 / pour)]...</td>\n",
       "    </tr>\n",
       "    <tr>\n",
       "      <th>4</th>\n",
       "      <td>The entity1 to buy papers is pushed into the n...</td>\n",
       "      <td></td>\n",
       "      <td></td>\n",
       "    </tr>\n",
       "    <tr>\n",
       "      <th>5</th>\n",
       "      <td>An unnamed XXX was pushed into the YYY.</td>\n",
       "      <td>Entity-Destination(e1,e2)</td>\n",
       "      <td>[[(u_1 / into :2 (u_3 / YYY))], [(u_2 / pour)]...</td>\n",
       "    </tr>\n",
       "    <tr>\n",
       "      <th>6</th>\n",
       "      <td>Since then, numerous independent feature XXX h...</td>\n",
       "      <td>Entity-Destination(e1,e2)</td>\n",
       "      <td>[[(u_1 / into :2 (u_3 / YYY))], [(u_2 / pour)]...</td>\n",
       "    </tr>\n",
       "    <tr>\n",
       "      <th>7</th>\n",
       "      <td>For some reason, the XXX was blinded from his ...</td>\n",
       "      <td></td>\n",
       "      <td></td>\n",
       "    </tr>\n",
       "    <tr>\n",
       "      <th>8</th>\n",
       "      <td>Sparky Anderson is making progress in his XXX ...</td>\n",
       "      <td></td>\n",
       "      <td></td>\n",
       "    </tr>\n",
       "    <tr>\n",
       "      <th>9</th>\n",
       "      <td>Olympics have already poured one XXX into the ...</td>\n",
       "      <td></td>\n",
       "      <td></td>\n",
       "    </tr>\n",
       "    <tr>\n",
       "      <th>10</th>\n",
       "      <td>After wrapping him in a light blanket, they pl...</td>\n",
       "      <td></td>\n",
       "      <td></td>\n",
       "    </tr>\n",
       "    <tr>\n",
       "      <th>11</th>\n",
       "      <td>I placed the XXX in a natural YYY, at the base...</td>\n",
       "      <td></td>\n",
       "      <td></td>\n",
       "    </tr>\n",
       "    <tr>\n",
       "      <th>12</th>\n",
       "      <td>The XXX was delivered from the YYY of Lincoln ...</td>\n",
       "      <td></td>\n",
       "      <td></td>\n",
       "    </tr>\n",
       "    <tr>\n",
       "      <th>13</th>\n",
       "      <td>The XXX leaked from every conceivable YYY.</td>\n",
       "      <td></td>\n",
       "      <td></td>\n",
       "    </tr>\n",
       "    <tr>\n",
       "      <th>14</th>\n",
       "      <td>The scientists placed the XXX in a tiny YYY wh...</td>\n",
       "      <td></td>\n",
       "      <td></td>\n",
       "    </tr>\n",
       "    <tr>\n",
       "      <th>15</th>\n",
       "      <td>The level surface closest to the MSS, known as...</td>\n",
       "      <td></td>\n",
       "      <td></td>\n",
       "    </tr>\n",
       "    <tr>\n",
       "      <th>16</th>\n",
       "      <td>Gaza XXX recover from three YYY of war.</td>\n",
       "      <td></td>\n",
       "      <td></td>\n",
       "    </tr>\n",
       "    <tr>\n",
       "      <th>17</th>\n",
       "      <td>This latest XXX from the animation YYY at Pixa...</td>\n",
       "      <td></td>\n",
       "      <td></td>\n",
       "    </tr>\n",
       "  </tbody>\n",
       "</table>\n",
       "</div>"
      ],
      "text/plain": [
       "                                             Sentence  \\\n",
       "0   Governments and industries in nations around t...   \n",
       "1            The scientists poured XXX into pint YYY.   \n",
       "2         The suspect pushed the XXX into a deep YYY.   \n",
       "3   The Nepalese government sets up a XXX to inqui...   \n",
       "4   The entity1 to buy papers is pushed into the n...   \n",
       "5             An unnamed XXX was pushed into the YYY.   \n",
       "6   Since then, numerous independent feature XXX h...   \n",
       "7   For some reason, the XXX was blinded from his ...   \n",
       "8   Sparky Anderson is making progress in his XXX ...   \n",
       "9   Olympics have already poured one XXX into the ...   \n",
       "10  After wrapping him in a light blanket, they pl...   \n",
       "11  I placed the XXX in a natural YYY, at the base...   \n",
       "12  The XXX was delivered from the YYY of Lincoln ...   \n",
       "13         The XXX leaked from every conceivable YYY.   \n",
       "14  The scientists placed the XXX in a tiny YYY wh...   \n",
       "15  The level surface closest to the MSS, known as...   \n",
       "16            Gaza XXX recover from three YYY of war.   \n",
       "17  This latest XXX from the animation YYY at Pixa...   \n",
       "\n",
       "              Predicted label  \\\n",
       "0                               \n",
       "1                               \n",
       "2   Entity-Destination(e1,e2)   \n",
       "3   Entity-Destination(e1,e2)   \n",
       "4                               \n",
       "5   Entity-Destination(e1,e2)   \n",
       "6   Entity-Destination(e1,e2)   \n",
       "7                               \n",
       "8                               \n",
       "9                               \n",
       "10                              \n",
       "11                              \n",
       "12                              \n",
       "13                              \n",
       "14                              \n",
       "15                              \n",
       "16                              \n",
       "17                              \n",
       "\n",
       "                                         Matched rule  \n",
       "0                                                      \n",
       "1                                                      \n",
       "2   [[(u_1 / into :2 (u_3 / YYY))], [(u_2 / pour)]...  \n",
       "3   [[(u_1 / into :2 (u_3 / YYY))], [(u_2 / pour)]...  \n",
       "4                                                      \n",
       "5   [[(u_1 / into :2 (u_3 / YYY))], [(u_2 / pour)]...  \n",
       "6   [[(u_1 / into :2 (u_3 / YYY))], [(u_2 / pour)]...  \n",
       "7                                                      \n",
       "8                                                      \n",
       "9                                                      \n",
       "10                                                     \n",
       "11                                                     \n",
       "12                                                     \n",
       "13                                                     \n",
       "14                                                     \n",
       "15                                                     \n",
       "16                                                     \n",
       "17                                                     "
      ]
     },
     "execution_count": 12,
     "metadata": {},
     "output_type": "execute_result"
    }
   ],
   "source": [
    "#match a simple graph feature with a negated feature. The negated features go into the second parameter.\n",
    "evaluator.match_features(df, [[[\"(u_1 / into :2 (u_3 / YYY))\"], [\"(u_2 / pour)\"], \"Entity-Destination(e1,e2)\"]])"
   ]
  },
  {
   "cell_type": "markdown",
   "metadata": {},
   "source": [
    "If we don't want to specify nodes, regex can also be used in place of the node and edge-names:"
   ]
  },
  {
   "cell_type": "code",
   "execution_count": 13,
   "metadata": {},
   "outputs": [
    {
     "name": "stderr",
     "output_type": "stream",
     "text": [
      "18it [00:00, 6602.31it/s]\n"
     ]
    },
    {
     "data": {
      "text/html": [
       "<div>\n",
       "<style scoped>\n",
       "    .dataframe tbody tr th:only-of-type {\n",
       "        vertical-align: middle;\n",
       "    }\n",
       "\n",
       "    .dataframe tbody tr th {\n",
       "        vertical-align: top;\n",
       "    }\n",
       "\n",
       "    .dataframe thead th {\n",
       "        text-align: right;\n",
       "    }\n",
       "</style>\n",
       "<table border=\"1\" class=\"dataframe\">\n",
       "  <thead>\n",
       "    <tr style=\"text-align: right;\">\n",
       "      <th></th>\n",
       "      <th>Sentence</th>\n",
       "      <th>Predicted label</th>\n",
       "      <th>Matched rule</th>\n",
       "    </tr>\n",
       "  </thead>\n",
       "  <tbody>\n",
       "    <tr>\n",
       "      <th>0</th>\n",
       "      <td>Governments and industries in nations around t...</td>\n",
       "      <td>Entity-Destination(e1,e2)</td>\n",
       "      <td>[[(u_1 / into :1 (u_2 / .*) :2 (u_3 / YYY))], ...</td>\n",
       "    </tr>\n",
       "    <tr>\n",
       "      <th>1</th>\n",
       "      <td>The scientists poured XXX into pint YYY.</td>\n",
       "      <td>Entity-Destination(e1,e2)</td>\n",
       "      <td>[[(u_1 / into :1 (u_2 / .*) :2 (u_3 / YYY))], ...</td>\n",
       "    </tr>\n",
       "    <tr>\n",
       "      <th>2</th>\n",
       "      <td>The suspect pushed the XXX into a deep YYY.</td>\n",
       "      <td>Entity-Destination(e1,e2)</td>\n",
       "      <td>[[(u_1 / into :1 (u_2 / .*) :2 (u_3 / YYY))], ...</td>\n",
       "    </tr>\n",
       "    <tr>\n",
       "      <th>3</th>\n",
       "      <td>The Nepalese government sets up a XXX to inqui...</td>\n",
       "      <td>Entity-Destination(e1,e2)</td>\n",
       "      <td>[[(u_1 / into :1 (u_2 / .*) :2 (u_3 / YYY))], ...</td>\n",
       "    </tr>\n",
       "    <tr>\n",
       "      <th>4</th>\n",
       "      <td>The entity1 to buy papers is pushed into the n...</td>\n",
       "      <td></td>\n",
       "      <td></td>\n",
       "    </tr>\n",
       "    <tr>\n",
       "      <th>5</th>\n",
       "      <td>An unnamed XXX was pushed into the YYY.</td>\n",
       "      <td>Entity-Destination(e1,e2)</td>\n",
       "      <td>[[(u_1 / into :1 (u_2 / .*) :2 (u_3 / YYY))], ...</td>\n",
       "    </tr>\n",
       "    <tr>\n",
       "      <th>6</th>\n",
       "      <td>Since then, numerous independent feature XXX h...</td>\n",
       "      <td>Entity-Destination(e1,e2)</td>\n",
       "      <td>[[(u_1 / into :1 (u_2 / .*) :2 (u_3 / YYY))], ...</td>\n",
       "    </tr>\n",
       "    <tr>\n",
       "      <th>7</th>\n",
       "      <td>For some reason, the XXX was blinded from his ...</td>\n",
       "      <td></td>\n",
       "      <td></td>\n",
       "    </tr>\n",
       "    <tr>\n",
       "      <th>8</th>\n",
       "      <td>Sparky Anderson is making progress in his XXX ...</td>\n",
       "      <td></td>\n",
       "      <td></td>\n",
       "    </tr>\n",
       "    <tr>\n",
       "      <th>9</th>\n",
       "      <td>Olympics have already poured one XXX into the ...</td>\n",
       "      <td>Entity-Destination(e1,e2)</td>\n",
       "      <td>[[(u_1 / into :1 (u_2 / .*) :2 (u_3 / YYY))], ...</td>\n",
       "    </tr>\n",
       "    <tr>\n",
       "      <th>10</th>\n",
       "      <td>After wrapping him in a light blanket, they pl...</td>\n",
       "      <td></td>\n",
       "      <td></td>\n",
       "    </tr>\n",
       "    <tr>\n",
       "      <th>11</th>\n",
       "      <td>I placed the XXX in a natural YYY, at the base...</td>\n",
       "      <td></td>\n",
       "      <td></td>\n",
       "    </tr>\n",
       "    <tr>\n",
       "      <th>12</th>\n",
       "      <td>The XXX was delivered from the YYY of Lincoln ...</td>\n",
       "      <td></td>\n",
       "      <td></td>\n",
       "    </tr>\n",
       "    <tr>\n",
       "      <th>13</th>\n",
       "      <td>The XXX leaked from every conceivable YYY.</td>\n",
       "      <td></td>\n",
       "      <td></td>\n",
       "    </tr>\n",
       "    <tr>\n",
       "      <th>14</th>\n",
       "      <td>The scientists placed the XXX in a tiny YYY wh...</td>\n",
       "      <td></td>\n",
       "      <td></td>\n",
       "    </tr>\n",
       "    <tr>\n",
       "      <th>15</th>\n",
       "      <td>The level surface closest to the MSS, known as...</td>\n",
       "      <td></td>\n",
       "      <td></td>\n",
       "    </tr>\n",
       "    <tr>\n",
       "      <th>16</th>\n",
       "      <td>Gaza XXX recover from three YYY of war.</td>\n",
       "      <td></td>\n",
       "      <td></td>\n",
       "    </tr>\n",
       "    <tr>\n",
       "      <th>17</th>\n",
       "      <td>This latest XXX from the animation YYY at Pixa...</td>\n",
       "      <td></td>\n",
       "      <td></td>\n",
       "    </tr>\n",
       "  </tbody>\n",
       "</table>\n",
       "</div>"
      ],
      "text/plain": [
       "                                             Sentence  \\\n",
       "0   Governments and industries in nations around t...   \n",
       "1            The scientists poured XXX into pint YYY.   \n",
       "2         The suspect pushed the XXX into a deep YYY.   \n",
       "3   The Nepalese government sets up a XXX to inqui...   \n",
       "4   The entity1 to buy papers is pushed into the n...   \n",
       "5             An unnamed XXX was pushed into the YYY.   \n",
       "6   Since then, numerous independent feature XXX h...   \n",
       "7   For some reason, the XXX was blinded from his ...   \n",
       "8   Sparky Anderson is making progress in his XXX ...   \n",
       "9   Olympics have already poured one XXX into the ...   \n",
       "10  After wrapping him in a light blanket, they pl...   \n",
       "11  I placed the XXX in a natural YYY, at the base...   \n",
       "12  The XXX was delivered from the YYY of Lincoln ...   \n",
       "13         The XXX leaked from every conceivable YYY.   \n",
       "14  The scientists placed the XXX in a tiny YYY wh...   \n",
       "15  The level surface closest to the MSS, known as...   \n",
       "16            Gaza XXX recover from three YYY of war.   \n",
       "17  This latest XXX from the animation YYY at Pixa...   \n",
       "\n",
       "              Predicted label  \\\n",
       "0   Entity-Destination(e1,e2)   \n",
       "1   Entity-Destination(e1,e2)   \n",
       "2   Entity-Destination(e1,e2)   \n",
       "3   Entity-Destination(e1,e2)   \n",
       "4                               \n",
       "5   Entity-Destination(e1,e2)   \n",
       "6   Entity-Destination(e1,e2)   \n",
       "7                               \n",
       "8                               \n",
       "9   Entity-Destination(e1,e2)   \n",
       "10                              \n",
       "11                              \n",
       "12                              \n",
       "13                              \n",
       "14                              \n",
       "15                              \n",
       "16                              \n",
       "17                              \n",
       "\n",
       "                                         Matched rule  \n",
       "0   [[(u_1 / into :1 (u_2 / .*) :2 (u_3 / YYY))], ...  \n",
       "1   [[(u_1 / into :1 (u_2 / .*) :2 (u_3 / YYY))], ...  \n",
       "2   [[(u_1 / into :1 (u_2 / .*) :2 (u_3 / YYY))], ...  \n",
       "3   [[(u_1 / into :1 (u_2 / .*) :2 (u_3 / YYY))], ...  \n",
       "4                                                      \n",
       "5   [[(u_1 / into :1 (u_2 / .*) :2 (u_3 / YYY))], ...  \n",
       "6   [[(u_1 / into :1 (u_2 / .*) :2 (u_3 / YYY))], ...  \n",
       "7                                                      \n",
       "8                                                      \n",
       "9   [[(u_1 / into :1 (u_2 / .*) :2 (u_3 / YYY))], ...  \n",
       "10                                                     \n",
       "11                                                     \n",
       "12                                                     \n",
       "13                                                     \n",
       "14                                                     \n",
       "15                                                     \n",
       "16                                                     \n",
       "17                                                     "
      ]
     },
     "execution_count": 13,
     "metadata": {},
     "output_type": "execute_result"
    }
   ],
   "source": [
    "#regex can be used to match any node (this will match instances where 'into' is connected to any node with '1' edge)\n",
    "evaluator.match_features(df, [[[\"(u_1 / into :1 (u_2 / .*) :2 (u_3 / YYY))\"], [], \"Entity-Destination(e1,e2)\"]])"
   ]
  },
  {
   "cell_type": "markdown",
   "metadata": {},
   "source": [
    "We can also train regex rules from a training data, this will automatically replace regex '.*' with nodes that are \n",
    "'good enough' statistically based on the provided dataframe."
   ]
  },
  {
   "cell_type": "code",
   "execution_count": 14,
   "metadata": {},
   "outputs": [
    {
     "data": {
      "text/plain": [
       "['(u_1 / into :1 (u_2 / pour|push) :2 (u_3 / YYY))']"
      ]
     },
     "execution_count": 14,
     "metadata": {},
     "output_type": "execute_result"
    }
   ],
   "source": [
    "evaluator.train_feature(\"Entity-Destination(e1,e2)\", \"(u_1 / into :1 (u_2 / .*) :2 (u_3 / YYY))\", df)"
   ]
  },
  {
   "cell_type": "markdown",
   "metadata": {},
   "source": [
    "This returns '(u_1 / into :1 (u_2 / push|pour) :2 (u_3 / YYY))' (replaced '.*' with _push_ and _pour_)"
   ]
  },
  {
   "cell_type": "markdown",
   "metadata": {},
   "source": [
    "## Learning rules\n",
    "To extract rules automatically, train the dataset with graph features and rank them based on relevancy:"
   ]
  },
  {
   "cell_type": "code",
   "execution_count": 15,
   "metadata": {},
   "outputs": [],
   "source": [
    "from sklearn.model_selection import train_test_split\n",
    "\n",
    "train, val = train_test_split(df, test_size=0.2, random_state=1234)"
   ]
  },
  {
   "cell_type": "code",
   "execution_count": 16,
   "metadata": {},
   "outputs": [
    {
     "name": "stdout",
     "output_type": "stream",
     "text": [
      "Initializing trainer object...\n"
     ]
    }
   ],
   "source": [
    "trainer = GraphTrainer(train)"
   ]
  },
  {
   "cell_type": "code",
   "execution_count": 17,
   "metadata": {},
   "outputs": [
    {
     "name": "stdout",
     "output_type": "stream",
     "text": [
      "Featurizing graphs by generating subgraphs up to 2...\n"
     ]
    },
    {
     "name": "stderr",
     "output_type": "stream",
     "text": [
      "14it [00:00, 279.91it/s]"
     ]
    },
    {
     "name": "stdout",
     "output_type": "stream",
     "text": [
      "Getting feature graphs...\n",
      "Selecting the best features...\n",
      "Generating training data...\n",
      "Training...\n",
      "Getting features...\n"
     ]
    },
    {
     "name": "stderr",
     "output_type": "stream",
     "text": [
      "\n"
     ]
    }
   ],
   "source": [
    "features = trainer.prepare_and_train(min_edge=1)"
   ]
  },
  {
   "cell_type": "code",
   "execution_count": 18,
   "metadata": {},
   "outputs": [
    {
     "data": {
      "text/plain": [
       "defaultdict(list,\n",
       "            {'Entity-Destination(e1,e2)': [(['(u_15 / into  :1 (u_19 / pour  :2 (u_1 / xxx)))'],\n",
       "               [],\n",
       "               'Entity-Destination(e1,e2)'),\n",
       "              (['(u_15 / into  :1 (u_19 / pour))'],\n",
       "               [],\n",
       "               'Entity-Destination(e1,e2)'),\n",
       "              (['(u_19 / pour  :2 (u_1 / xxx))'],\n",
       "               [],\n",
       "               'Entity-Destination(e1,e2)')]})"
      ]
     },
     "execution_count": 18,
     "metadata": {},
     "output_type": "execute_result"
    }
   ],
   "source": [
    "features"
   ]
  },
  {
   "cell_type": "code",
   "execution_count": 19,
   "metadata": {},
   "outputs": [],
   "source": [
    "eval, acc = trainer.evaluator.evaluate_feature(\"Entity-Destination(e1,e2)\", features[\"Entity-Destination(e1,e2)\"], train)"
   ]
  },
  {
   "cell_type": "code",
   "execution_count": 20,
   "metadata": {},
   "outputs": [
    {
     "data": {
      "text/html": [
       "<div>\n",
       "<style scoped>\n",
       "    .dataframe tbody tr th:only-of-type {\n",
       "        vertical-align: middle;\n",
       "    }\n",
       "\n",
       "    .dataframe tbody tr th {\n",
       "        vertical-align: top;\n",
       "    }\n",
       "\n",
       "    .dataframe thead th {\n",
       "        text-align: right;\n",
       "    }\n",
       "</style>\n",
       "<table border=\"1\" class=\"dataframe\">\n",
       "  <thead>\n",
       "    <tr style=\"text-align: right;\">\n",
       "      <th></th>\n",
       "      <th>Feature</th>\n",
       "      <th>Precision</th>\n",
       "      <th>Recall</th>\n",
       "      <th>Fscore</th>\n",
       "      <th>Support</th>\n",
       "      <th>False_positive_graphs</th>\n",
       "      <th>False_positive_sens</th>\n",
       "      <th>False_positive_indices</th>\n",
       "      <th>True_positive_graphs</th>\n",
       "      <th>True_positive_sens</th>\n",
       "      <th>True_positive_indices</th>\n",
       "      <th>False_negative_graphs</th>\n",
       "      <th>False_negative_sens</th>\n",
       "      <th>False_negative_indices</th>\n",
       "      <th>Predicted</th>\n",
       "    </tr>\n",
       "  </thead>\n",
       "  <tbody>\n",
       "    <tr>\n",
       "      <th>0</th>\n",
       "      <td>[(u_15 / into  :1 (u_19 / pour  :2 (u_1 / xxx)))]</td>\n",
       "      <td>1.0</td>\n",
       "      <td>0.428571</td>\n",
       "      <td>0.6</td>\n",
       "      <td>7</td>\n",
       "      <td>[]</td>\n",
       "      <td>[]</td>\n",
       "      <td>[]</td>\n",
       "      <td>[(0, 1, 2, 3, 4, 5, 6, 7, 8, 9, 10), (0, 1, 11...</td>\n",
       "      <td>[(Governments and industries in nations around...</td>\n",
       "      <td>[2, 6, 7]</td>\n",
       "      <td>[(2, 86, 35, 87, 88, 89, 61, 1, 11, 5, 12, 90,...</td>\n",
       "      <td>[(The scientists placed the XXX in a tiny YYY ...</td>\n",
       "      <td>[1, 3, 9, 11]</td>\n",
       "      <td>[0, 0, 1, 0, 0, 0, 1, 1, 0, 0, 0, 0, 0, 0]</td>\n",
       "    </tr>\n",
       "    <tr>\n",
       "      <th>1</th>\n",
       "      <td>[(u_15 / into  :1 (u_19 / pour))]</td>\n",
       "      <td>1.0</td>\n",
       "      <td>0.428571</td>\n",
       "      <td>0.6</td>\n",
       "      <td>7</td>\n",
       "      <td>[]</td>\n",
       "      <td>[]</td>\n",
       "      <td>[]</td>\n",
       "      <td>[(0, 1, 2, 3, 4, 5, 6, 7, 8, 9, 10), (0, 1, 11...</td>\n",
       "      <td>[(Governments and industries in nations around...</td>\n",
       "      <td>[2, 6, 7]</td>\n",
       "      <td>[(2, 86, 35, 87, 88, 89, 61, 1, 11, 5, 12, 90,...</td>\n",
       "      <td>[(The scientists placed the XXX in a tiny YYY ...</td>\n",
       "      <td>[1, 3, 9, 11]</td>\n",
       "      <td>[0, 0, 1, 0, 0, 0, 1, 1, 0, 0, 0, 0, 0, 0]</td>\n",
       "    </tr>\n",
       "    <tr>\n",
       "      <th>2</th>\n",
       "      <td>[(u_19 / pour  :2 (u_1 / xxx))]</td>\n",
       "      <td>1.0</td>\n",
       "      <td>0.428571</td>\n",
       "      <td>0.6</td>\n",
       "      <td>7</td>\n",
       "      <td>[]</td>\n",
       "      <td>[]</td>\n",
       "      <td>[]</td>\n",
       "      <td>[(0, 1, 2, 3, 4, 5, 6, 7, 8, 9, 10), (0, 1, 11...</td>\n",
       "      <td>[(Governments and industries in nations around...</td>\n",
       "      <td>[2, 6, 7]</td>\n",
       "      <td>[(2, 86, 35, 87, 88, 89, 61, 1, 11, 5, 12, 90,...</td>\n",
       "      <td>[(The scientists placed the XXX in a tiny YYY ...</td>\n",
       "      <td>[1, 3, 9, 11]</td>\n",
       "      <td>[0, 0, 1, 0, 0, 0, 1, 1, 0, 0, 0, 0, 0, 0]</td>\n",
       "    </tr>\n",
       "  </tbody>\n",
       "</table>\n",
       "</div>"
      ],
      "text/plain": [
       "                                             Feature  Precision    Recall  \\\n",
       "0  [(u_15 / into  :1 (u_19 / pour  :2 (u_1 / xxx)))]        1.0  0.428571   \n",
       "1                  [(u_15 / into  :1 (u_19 / pour))]        1.0  0.428571   \n",
       "2                    [(u_19 / pour  :2 (u_1 / xxx))]        1.0  0.428571   \n",
       "\n",
       "   Fscore  Support False_positive_graphs False_positive_sens  \\\n",
       "0     0.6        7                    []                  []   \n",
       "1     0.6        7                    []                  []   \n",
       "2     0.6        7                    []                  []   \n",
       "\n",
       "  False_positive_indices                               True_positive_graphs  \\\n",
       "0                     []  [(0, 1, 2, 3, 4, 5, 6, 7, 8, 9, 10), (0, 1, 11...   \n",
       "1                     []  [(0, 1, 2, 3, 4, 5, 6, 7, 8, 9, 10), (0, 1, 11...   \n",
       "2                     []  [(0, 1, 2, 3, 4, 5, 6, 7, 8, 9, 10), (0, 1, 11...   \n",
       "\n",
       "                                  True_positive_sens True_positive_indices  \\\n",
       "0  [(Governments and industries in nations around...             [2, 6, 7]   \n",
       "1  [(Governments and industries in nations around...             [2, 6, 7]   \n",
       "2  [(Governments and industries in nations around...             [2, 6, 7]   \n",
       "\n",
       "                               False_negative_graphs  \\\n",
       "0  [(2, 86, 35, 87, 88, 89, 61, 1, 11, 5, 12, 90,...   \n",
       "1  [(2, 86, 35, 87, 88, 89, 61, 1, 11, 5, 12, 90,...   \n",
       "2  [(2, 86, 35, 87, 88, 89, 61, 1, 11, 5, 12, 90,...   \n",
       "\n",
       "                                 False_negative_sens False_negative_indices  \\\n",
       "0  [(The scientists placed the XXX in a tiny YYY ...          [1, 3, 9, 11]   \n",
       "1  [(The scientists placed the XXX in a tiny YYY ...          [1, 3, 9, 11]   \n",
       "2  [(The scientists placed the XXX in a tiny YYY ...          [1, 3, 9, 11]   \n",
       "\n",
       "                                    Predicted  \n",
       "0  [0, 0, 1, 0, 0, 0, 1, 1, 0, 0, 0, 0, 0, 0]  \n",
       "1  [0, 0, 1, 0, 0, 0, 1, 1, 0, 0, 0, 0, 0, 0]  \n",
       "2  [0, 0, 1, 0, 0, 0, 1, 1, 0, 0, 0, 0, 0, 0]  "
      ]
     },
     "execution_count": 20,
     "metadata": {},
     "output_type": "execute_result"
    }
   ],
   "source": [
    "eval"
   ]
  },
  {
   "cell_type": "code",
   "execution_count": 21,
   "metadata": {},
   "outputs": [],
   "source": [
    "import json\n",
    "\n",
    "with open(\"features.json\", \"w+\") as f:\n",
    "    json.dump(features, f)"
   ]
  },
  {
   "cell_type": "markdown",
   "metadata": {},
   "source": [
    "## Learning from the whole dataset"
   ]
  },
  {
   "cell_type": "code",
   "execution_count": 22,
   "metadata": {},
   "outputs": [
    {
     "name": "stderr",
     "output_type": "stream",
     "text": [
      "8000it [00:00, 175511.33it/s]\n"
     ]
    }
   ],
   "source": [
    "# Train a model using the training data from the semeval task.\n",
    "# First we convert the data into the same format we used before\n",
    "# Then we replace the two entities in question with \"entity1\" and \"entity2\" (We used XXX and YYY before)\n",
    "import itertools\n",
    "from tqdm import tqdm\n",
    "import re\n",
    "\n",
    "semeval_path = \"../features/semeval/semeval_train.txt\"\n",
    "sentences = []\n",
    "label_dict = {}\n",
    "label_id = 0\n",
    "\n",
    "with open(semeval_path, \"r+\") as f:\n",
    "    for sample, label, _, _ in tqdm(itertools.zip_longest(*[f]*4)):\n",
    "        sen_id, sentence = sample.split(\"\\t\")\n",
    "        sentence_with_entities = re.sub(r\"<e1>.*</e1>\", r\"entity1\", sentence)\n",
    "        sentence_with_entities = re.sub(r\"<e2>.*</e2>\", r\"entity2\", sentence_with_entities)\n",
    "        sentence_with_entities = re.sub('\"', r\"\", sentence_with_entities)\n",
    "        \n",
    "        label = label.strip()\n",
    "        sentence_with_entities = sentence_with_entities.strip()\n",
    "\n",
    "        if label not in label_dict:\n",
    "            label_dict[label] = label_id\n",
    "            label_id += 1\n",
    "        sentences.append((sentence_with_entities, label))"
   ]
  },
  {
   "cell_type": "code",
   "execution_count": 23,
   "metadata": {},
   "outputs": [],
   "source": [
    "from xpotato.dataset.dataset import Dataset\n",
    "from xpotato.models.trainer import GraphTrainer\n",
    "\n",
    "# The label dict was extracted automatically\n",
    "dataset = Dataset(sentences, label_vocab=label_dict)"
   ]
  },
  {
   "cell_type": "code",
   "execution_count": 24,
   "metadata": {},
   "outputs": [
    {
     "data": {
      "text/html": [
       "<div>\n",
       "<style scoped>\n",
       "    .dataframe tbody tr th:only-of-type {\n",
       "        vertical-align: middle;\n",
       "    }\n",
       "\n",
       "    .dataframe tbody tr th {\n",
       "        vertical-align: top;\n",
       "    }\n",
       "\n",
       "    .dataframe thead th {\n",
       "        text-align: right;\n",
       "    }\n",
       "</style>\n",
       "<table border=\"1\" class=\"dataframe\">\n",
       "  <thead>\n",
       "    <tr style=\"text-align: right;\">\n",
       "      <th></th>\n",
       "      <th>text</th>\n",
       "      <th>label</th>\n",
       "      <th>label_id</th>\n",
       "      <th>graph</th>\n",
       "    </tr>\n",
       "  </thead>\n",
       "  <tbody>\n",
       "    <tr>\n",
       "      <th>0</th>\n",
       "      <td>The system as described above has its greatest...</td>\n",
       "      <td>Component-Whole(e2,e1)</td>\n",
       "      <td>0</td>\n",
       "      <td>None</td>\n",
       "    </tr>\n",
       "    <tr>\n",
       "      <th>1</th>\n",
       "      <td>The entity1 was carefully wrapped and bound in...</td>\n",
       "      <td>Other</td>\n",
       "      <td>1</td>\n",
       "      <td>None</td>\n",
       "    </tr>\n",
       "    <tr>\n",
       "      <th>2</th>\n",
       "      <td>The entity1 of a keygen uses a entity2 to look...</td>\n",
       "      <td>Instrument-Agency(e2,e1)</td>\n",
       "      <td>2</td>\n",
       "      <td>None</td>\n",
       "    </tr>\n",
       "    <tr>\n",
       "      <th>3</th>\n",
       "      <td>A misty entity1 uprises from the entity2.</td>\n",
       "      <td>Other</td>\n",
       "      <td>1</td>\n",
       "      <td>None</td>\n",
       "    </tr>\n",
       "    <tr>\n",
       "      <th>4</th>\n",
       "      <td>The entity1 entity2 is the voice of the underg...</td>\n",
       "      <td>Member-Collection(e1,e2)</td>\n",
       "      <td>3</td>\n",
       "      <td>None</td>\n",
       "    </tr>\n",
       "    <tr>\n",
       "      <th>...</th>\n",
       "      <td>...</td>\n",
       "      <td>...</td>\n",
       "      <td>...</td>\n",
       "      <td>...</td>\n",
       "    </tr>\n",
       "    <tr>\n",
       "      <th>7995</th>\n",
       "      <td>When the entity1 is sent by entity2, the notic...</td>\n",
       "      <td>Other</td>\n",
       "      <td>1</td>\n",
       "      <td>None</td>\n",
       "    </tr>\n",
       "    <tr>\n",
       "      <th>7996</th>\n",
       "      <td>The entity1 is derived from a natural entity2,...</td>\n",
       "      <td>Entity-Origin(e1,e2)</td>\n",
       "      <td>10</td>\n",
       "      <td>None</td>\n",
       "    </tr>\n",
       "    <tr>\n",
       "      <th>7997</th>\n",
       "      <td>To test this, we placed a kitchen entity1 in t...</td>\n",
       "      <td>Entity-Destination(e1,e2)</td>\n",
       "      <td>5</td>\n",
       "      <td>None</td>\n",
       "    </tr>\n",
       "    <tr>\n",
       "      <th>7998</th>\n",
       "      <td>The farmers and city officials in the region h...</td>\n",
       "      <td>Other</td>\n",
       "      <td>1</td>\n",
       "      <td>None</td>\n",
       "    </tr>\n",
       "    <tr>\n",
       "      <th>7999</th>\n",
       "      <td>The entity1 cuts a small entity2 in the skull ...</td>\n",
       "      <td>Product-Producer(e2,e1)</td>\n",
       "      <td>8</td>\n",
       "      <td>None</td>\n",
       "    </tr>\n",
       "  </tbody>\n",
       "</table>\n",
       "<p>8000 rows × 4 columns</p>\n",
       "</div>"
      ],
      "text/plain": [
       "                                                   text  \\\n",
       "0     The system as described above has its greatest...   \n",
       "1     The entity1 was carefully wrapped and bound in...   \n",
       "2     The entity1 of a keygen uses a entity2 to look...   \n",
       "3             A misty entity1 uprises from the entity2.   \n",
       "4     The entity1 entity2 is the voice of the underg...   \n",
       "...                                                 ...   \n",
       "7995  When the entity1 is sent by entity2, the notic...   \n",
       "7996  The entity1 is derived from a natural entity2,...   \n",
       "7997  To test this, we placed a kitchen entity1 in t...   \n",
       "7998  The farmers and city officials in the region h...   \n",
       "7999  The entity1 cuts a small entity2 in the skull ...   \n",
       "\n",
       "                          label  label_id graph  \n",
       "0        Component-Whole(e2,e1)         0  None  \n",
       "1                         Other         1  None  \n",
       "2      Instrument-Agency(e2,e1)         2  None  \n",
       "3                         Other         1  None  \n",
       "4      Member-Collection(e1,e2)         3  None  \n",
       "...                         ...       ...   ...  \n",
       "7995                      Other         1  None  \n",
       "7996       Entity-Origin(e1,e2)        10  None  \n",
       "7997  Entity-Destination(e1,e2)         5  None  \n",
       "7998                      Other         1  None  \n",
       "7999    Product-Producer(e2,e1)         8  None  \n",
       "\n",
       "[8000 rows x 4 columns]"
      ]
     },
     "execution_count": 24,
     "metadata": {},
     "output_type": "execute_result"
    }
   ],
   "source": [
    "dataset.to_dataframe()"
   ]
  },
  {
   "cell_type": "markdown",
   "metadata": {},
   "source": [
    "We now have the dataset without graphs. We provide the graphs prebuilt, so if you run the download script in the _features/semeval/_ folder, you should have the graphs downloaded."
   ]
  },
  {
   "cell_type": "code",
   "execution_count": null,
   "metadata": {},
   "outputs": [],
   "source": [
    "dataset.load_graphs(\"../features/semeval/semeval_train_4lang_graphs.pickle\", binary=True)"
   ]
  },
  {
   "cell_type": "code",
   "execution_count": 26,
   "metadata": {},
   "outputs": [],
   "source": [
    "df = dataset.to_dataframe()"
   ]
  },
  {
   "cell_type": "code",
   "execution_count": 27,
   "metadata": {},
   "outputs": [],
   "source": [
    "# The _Entity-Destination(e2,e1)_ label only have 1 instance, so we can remove it\n",
    "df_entity_des = df[df.label == \"Entity-Destination(e2,e1)\"]\n",
    "df = df.drop(df_entity_des.index, axis=0)"
   ]
  },
  {
   "cell_type": "code",
   "execution_count": 28,
   "metadata": {},
   "outputs": [],
   "source": [
    "from sklearn.model_selection import train_test_split as split\n",
    "\n",
    "tr_df, val_df = split(df, test_size=0.2, random_state=1234)"
   ]
  },
  {
   "cell_type": "code",
   "execution_count": 29,
   "metadata": {},
   "outputs": [
    {
     "name": "stdout",
     "output_type": "stream",
     "text": [
      "Initializing trainer object...\n",
      "Featurizing graphs by generating subgraphs up to 2...\n"
     ]
    },
    {
     "name": "stderr",
     "output_type": "stream",
     "text": [
      "6399it [00:24, 261.28it/s]\n"
     ]
    },
    {
     "name": "stdout",
     "output_type": "stream",
     "text": [
      "Getting feature graphs...\n",
      "Selecting the best features...\n",
      "Generating training data...\n",
      "Training...\n"
     ]
    },
    {
     "name": "stderr",
     "output_type": "stream",
     "text": [
      "/home/adaamko/miniconda3/lib/python3.9/site-packages/sklearn/linear_model/_logistic.py:814: ConvergenceWarning: lbfgs failed to converge (status=1):\n",
      "STOP: TOTAL NO. of ITERATIONS REACHED LIMIT.\n",
      "\n",
      "Increase the number of iterations (max_iter) or scale the data as shown in:\n",
      "    https://scikit-learn.org/stable/modules/preprocessing.html\n",
      "Please also refer to the documentation for alternative solver options:\n",
      "    https://scikit-learn.org/stable/modules/linear_model.html#logistic-regression\n",
      "  n_iter_i = _check_optimize_result(\n"
     ]
    },
    {
     "name": "stdout",
     "output_type": "stream",
     "text": [
      "Getting features...\n"
     ]
    }
   ],
   "source": [
    "# Train the GraphTrainer\n",
    "trainer = GraphTrainer(tr_df)\n",
    "# We specify the min_edge parameter, so we don't include node features that are not connected to any edge.\n",
    "features = trainer.prepare_and_train(min_edge=1)"
   ]
  },
  {
   "cell_type": "code",
   "execution_count": 30,
   "metadata": {},
   "outputs": [
    {
     "data": {
      "text/plain": [
       "[(['(u_3 / to  :2 (u_2 / entity2))'], [], 'Entity-Destination(e1,e2)'),\n",
       " (['(u_8 / into  :2 (u_2 / entity2))'], [], 'Entity-Destination(e1,e2)'),\n",
       " (['(u_264 / place  :2 (u_25 / entity1))'], [], 'Entity-Destination(e1,e2)'),\n",
       " (['(u_19 / in  :2 (u_2 / entity2))'], [], 'Entity-Destination(e1,e2)'),\n",
       " (['(u_1196 / give  :2 (u_25 / entity1))'], [], 'Entity-Destination(e1,e2)')]"
      ]
     },
     "execution_count": 30,
     "metadata": {},
     "output_type": "execute_result"
    }
   ],
   "source": [
    "# Let's see the top features for the Entity-Destination(e1,e2) label\n",
    "features[\"Entity-Destination(e1,e2)\"][:5]"
   ]
  },
  {
   "cell_type": "code",
   "execution_count": 31,
   "metadata": {},
   "outputs": [],
   "source": [
    "# Let's evaluate the Top 5 features.\n",
    "eval, acc = trainer.evaluator.evaluate_feature(\"Entity-Destination(e1,e2)\", features[\"Entity-Destination(e1,e2)\"][:5], tr_df)"
   ]
  },
  {
   "cell_type": "code",
   "execution_count": 32,
   "metadata": {},
   "outputs": [
    {
     "data": {
      "text/html": [
       "<div>\n",
       "<style scoped>\n",
       "    .dataframe tbody tr th:only-of-type {\n",
       "        vertical-align: middle;\n",
       "    }\n",
       "\n",
       "    .dataframe tbody tr th {\n",
       "        vertical-align: top;\n",
       "    }\n",
       "\n",
       "    .dataframe thead th {\n",
       "        text-align: right;\n",
       "    }\n",
       "</style>\n",
       "<table border=\"1\" class=\"dataframe\">\n",
       "  <thead>\n",
       "    <tr style=\"text-align: right;\">\n",
       "      <th></th>\n",
       "      <th>Feature</th>\n",
       "      <th>Precision</th>\n",
       "      <th>Recall</th>\n",
       "      <th>Fscore</th>\n",
       "    </tr>\n",
       "  </thead>\n",
       "  <tbody>\n",
       "    <tr>\n",
       "      <th>0</th>\n",
       "      <td>[(u_3 / to  :2 (u_2 / entity2))]</td>\n",
       "      <td>0.590909</td>\n",
       "      <td>0.200617</td>\n",
       "      <td>0.299539</td>\n",
       "    </tr>\n",
       "    <tr>\n",
       "      <th>1</th>\n",
       "      <td>[(u_8 / into  :2 (u_2 / entity2))]</td>\n",
       "      <td>0.762172</td>\n",
       "      <td>0.628086</td>\n",
       "      <td>0.688663</td>\n",
       "    </tr>\n",
       "    <tr>\n",
       "      <th>2</th>\n",
       "      <td>[(u_264 / place  :2 (u_25 / entity1))]</td>\n",
       "      <td>0.791667</td>\n",
       "      <td>0.058642</td>\n",
       "      <td>0.109195</td>\n",
       "    </tr>\n",
       "    <tr>\n",
       "      <th>3</th>\n",
       "      <td>[(u_19 / in  :2 (u_2 / entity2))]</td>\n",
       "      <td>0.117526</td>\n",
       "      <td>0.087963</td>\n",
       "      <td>0.100618</td>\n",
       "    </tr>\n",
       "    <tr>\n",
       "      <th>4</th>\n",
       "      <td>[(u_1196 / give  :2 (u_25 / entity1))]</td>\n",
       "      <td>0.533333</td>\n",
       "      <td>0.012346</td>\n",
       "      <td>0.024133</td>\n",
       "    </tr>\n",
       "  </tbody>\n",
       "</table>\n",
       "</div>"
      ],
      "text/plain": [
       "                                  Feature  Precision    Recall    Fscore\n",
       "0        [(u_3 / to  :2 (u_2 / entity2))]   0.590909  0.200617  0.299539\n",
       "1      [(u_8 / into  :2 (u_2 / entity2))]   0.762172  0.628086  0.688663\n",
       "2  [(u_264 / place  :2 (u_25 / entity1))]   0.791667  0.058642  0.109195\n",
       "3       [(u_19 / in  :2 (u_2 / entity2))]   0.117526  0.087963  0.100618\n",
       "4  [(u_1196 / give  :2 (u_25 / entity1))]   0.533333  0.012346  0.024133"
      ]
     },
     "execution_count": 32,
     "metadata": {},
     "output_type": "execute_result"
    }
   ],
   "source": [
    "eval[[\"Feature\", \"Precision\", \"Recall\", \"Fscore\"]]"
   ]
  },
  {
   "cell_type": "markdown",
   "metadata": {},
   "source": [
    "The _[(u_15 / into :2 (u_2 / entity2))]_ feature is a pretty great feature with 76% precision and 62% recall.\n",
    "\n",
    "We want our features to be high precision, we can \"train\" this feature to remove the regex with specific nodes:"
   ]
  },
  {
   "cell_type": "code",
   "execution_count": 33,
   "metadata": {},
   "outputs": [],
   "source": [
    "trained_feat = evaluator.train_feature(\"Entity-Destination(e1,e2)\", \"(u_1 / into :1 (u_2 / .*) :2 (u_3 / entity2))\", tr_df)"
   ]
  },
  {
   "cell_type": "code",
   "execution_count": 34,
   "metadata": {},
   "outputs": [
    {
     "data": {
      "text/plain": [
       "['(u_1 / into :1 (u_2 / introduce|migrate|arrive|pour|misplace|import|transport|remove|dump|invest|stuff|flow|fly|add|leak|fetch|release|pack|insert|landing|spread|implant) :2 (u_3 / entity2))']"
      ]
     },
     "execution_count": 34,
     "metadata": {},
     "output_type": "execute_result"
    }
   ],
   "source": [
    "trained_feat"
   ]
  },
  {
   "cell_type": "code",
   "execution_count": 35,
   "metadata": {},
   "outputs": [],
   "source": [
    "eval, acc = trainer.evaluator.evaluate_feature(\"Entity-Destination(e1,e2)\", [(trained_feat, [], \"Entity-Destination(e1,e2)\")], tr_df)"
   ]
  },
  {
   "cell_type": "code",
   "execution_count": 36,
   "metadata": {},
   "outputs": [
    {
     "data": {
      "text/html": [
       "<div>\n",
       "<style scoped>\n",
       "    .dataframe tbody tr th:only-of-type {\n",
       "        vertical-align: middle;\n",
       "    }\n",
       "\n",
       "    .dataframe tbody tr th {\n",
       "        vertical-align: top;\n",
       "    }\n",
       "\n",
       "    .dataframe thead th {\n",
       "        text-align: right;\n",
       "    }\n",
       "</style>\n",
       "<table border=\"1\" class=\"dataframe\">\n",
       "  <thead>\n",
       "    <tr style=\"text-align: right;\">\n",
       "      <th></th>\n",
       "      <th>Feature</th>\n",
       "      <th>Precision</th>\n",
       "      <th>Recall</th>\n",
       "      <th>Fscore</th>\n",
       "    </tr>\n",
       "  </thead>\n",
       "  <tbody>\n",
       "    <tr>\n",
       "      <th>0</th>\n",
       "      <td>[(u_1 / into :1 (u_2 / introduce|migrate|arriv...</td>\n",
       "      <td>0.988701</td>\n",
       "      <td>0.270062</td>\n",
       "      <td>0.424242</td>\n",
       "    </tr>\n",
       "  </tbody>\n",
       "</table>\n",
       "</div>"
      ],
      "text/plain": [
       "                                             Feature  Precision    Recall  \\\n",
       "0  [(u_1 / into :1 (u_2 / introduce|migrate|arriv...   0.988701  0.270062   \n",
       "\n",
       "     Fscore  \n",
       "0  0.424242  "
      ]
     },
     "execution_count": 36,
     "metadata": {},
     "output_type": "execute_result"
    }
   ],
   "source": [
    "eval[[\"Feature\", \"Precision\", \"Recall\", \"Fscore\"]]"
   ]
  },
  {
   "cell_type": "markdown",
   "metadata": {},
   "source": [
    "__We can see that this simple feature achieved 98% precision with 26% recall, and it was extracted automatically__"
   ]
  },
  {
   "cell_type": "code",
   "execution_count": 37,
   "metadata": {},
   "outputs": [],
   "source": [
    "from xpotato.dataset.utils import save_dataframe"
   ]
  },
  {
   "cell_type": "code",
   "execution_count": 38,
   "metadata": {},
   "outputs": [],
   "source": [
    "save_dataframe(tr_df, 'semeval_train.tsv')\n",
    "save_dataframe(val_df, 'semeval_val.tsv')"
   ]
  },
  {
   "cell_type": "code",
   "execution_count": null,
   "metadata": {},
   "outputs": [],
   "source": []
  }
 ],
 "metadata": {
  "interpreter": {
   "hash": "2ba6e79cfe500659b64dde21d0b13217ce6375f8dca9d4d575440e3878ce882b"
  },
  "kernelspec": {
   "display_name": "Python 3 (ipykernel)",
   "language": "python",
   "name": "python3"
  },
  "language_info": {
   "codemirror_mode": {
    "name": "ipython",
    "version": 3
   },
   "file_extension": ".py",
   "mimetype": "text/x-python",
   "name": "python",
   "nbconvert_exporter": "python",
   "pygments_lexer": "ipython3",
   "version": "3.9.5"
  }
 },
 "nbformat": 4,
 "nbformat_minor": 2
}
