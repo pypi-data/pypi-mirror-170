{
 "cells": [
  {
   "cell_type": "markdown",
   "metadata": {},
   "source": [
    "# Find a view a snapshot\n",
    "\n",
    "First, show a list of all snapshots taken 2018-12-19"
   ]
  },
  {
   "cell_type": "code",
   "execution_count": 1,
   "metadata": {},
   "outputs": [
    {
     "data": {
      "text/plain": [
       "8"
      ]
     },
     "execution_count": 1,
     "metadata": {},
     "output_type": "execute_result"
    }
   ],
   "source": [
    "from databroker import Broker\n",
    "cfg = {\n",
    "    'metadatastore' : {\n",
    "        'module' : 'databroker.headersource.mongo',\n",
    "        'class' : 'MDS',\n",
    "        'config' : {\n",
    "            'host': 'localhost',\n",
    "             'port': 27017,\n",
    "             'database': 'metadatastore-production-v1',\n",
    "             'timezone': 'US/Central'},\n",
    "    },\n",
    "    'assets' : {\n",
    "        'module' : 'databroker.assets.mongo',\n",
    "        'class' : 'Registry',\n",
    "        'config': {\n",
    "            'host': 'localhost', \n",
    "            'port': 27017, \n",
    "            'database': 'filestore-production-v1'}\n",
    "    },\n",
    "}\n",
    "db = Broker.from_config(cfg)\n",
    "\n",
    "snapshots = db(plan_name=\"snapshot\", since=\"2018-12-19\", until=\"2018-12-19 23:59\")\n",
    "# change the generator into a list\n",
    "snapshots = list(snapshots)\n",
    "len(snapshots)"
   ]
  },
  {
   "cell_type": "code",
   "execution_count": 2,
   "metadata": {},
   "outputs": [
    {
     "name": "stdout",
     "output_type": "stream",
     "text": [
      "2018-12-19 15:38:34.938716 80d8ccc9-2627-4302-8794-17f9e3388887\n",
      "2018-12-19 15:37:30.558283 3dd5c309-bd0b-409c-8516-90f8acb01b46\n",
      "2018-12-19 15:13:25.259141 86a6e904-8ec4-4e82-a866-62926312f6f9\n",
      "2018-12-19 14:43:10.392916 171f9e0c-cbbb-4b9d-8dd3-1fc90b17cb98\n",
      "2018-12-19 14:42:39.254010 3a42b0e7-2323-448b-b83f-de4f78618011\n",
      "2018-12-19 14:41:48.126061 1ae88395-63a1-4151-a6d8-2d71f7b70507\n",
      "2018-12-19 14:38:51.118818 6b03f2e3-1167-40ce-8c13-941e98772be0\n",
      "2018-12-19 14:08:52.331804 8af747ec-87fe-4115-894f-38dc452a64b5\n"
     ]
    }
   ],
   "source": [
    "# show the list\n",
    "for h in db(plan_name=\"snapshot\", since=\"2018-12-19\", until=\"2018-12-19 23:59\"):\n",
    "    print(h.start[\"iso8601\"], h.start[\"uid\"])"
   ]
  },
  {
   "cell_type": "code",
   "execution_count": 3,
   "metadata": {},
   "outputs": [
    {
     "data": {
      "text/html": [
       "<div>\n",
       "<style scoped>\n",
       "    .dataframe tbody tr th:only-of-type {\n",
       "        vertical-align: middle;\n",
       "    }\n",
       "\n",
       "    .dataframe tbody tr th {\n",
       "        vertical-align: top;\n",
       "    }\n",
       "\n",
       "    .dataframe thead th {\n",
       "        text-align: right;\n",
       "    }\n",
       "</style>\n",
       "<table border=\"1\" class=\"dataframe\">\n",
       "  <thead>\n",
       "    <tr style=\"text-align: right;\">\n",
       "      <th></th>\n",
       "      <th>time</th>\n",
       "      <th>signal_2</th>\n",
       "      <th>signal_4</th>\n",
       "      <th>signal_1</th>\n",
       "      <th>signal_3</th>\n",
       "      <th>signal_0</th>\n",
       "      <th>signal_5</th>\n",
       "    </tr>\n",
       "    <tr>\n",
       "      <th>seq_num</th>\n",
       "      <th></th>\n",
       "      <th></th>\n",
       "      <th></th>\n",
       "      <th></th>\n",
       "      <th></th>\n",
       "      <th></th>\n",
       "      <th></th>\n",
       "    </tr>\n",
       "  </thead>\n",
       "  <tbody>\n",
       "    <tr>\n",
       "      <th>1</th>\n",
       "      <td>2018-12-19 15:38:35.316101313</td>\n",
       "      <td>29.894444</td>\n",
       "      <td>0.022906</td>\n",
       "      <td>22.200001</td>\n",
       "      <td>22.205557</td>\n",
       "      <td>29.9</td>\n",
       "      <td>0.022906</td>\n",
       "    </tr>\n",
       "  </tbody>\n",
       "</table>\n",
       "</div>"
      ],
      "text/plain": [
       "                                 time   signal_2  signal_4   signal_1  \\\n",
       "seq_num                                                                 \n",
       "1       2018-12-19 15:38:35.316101313  29.894444  0.022906  22.200001   \n",
       "\n",
       "          signal_3  signal_0  signal_5  \n",
       "seq_num                                 \n",
       "1        22.205557      29.9  0.022906  "
      ]
     },
     "execution_count": 3,
     "metadata": {},
     "output_type": "execute_result"
    }
   ],
   "source": [
    "# be a bit more restrictive, just the snapshots created from our jupyter notebook demo\n",
    "h = list(db(plan_name=\"snapshot\", since=\"2018-12-19\", until=\"2018-12-19 23:59\", purpose=\"jupyter notebook demo\"))[0]\n",
    "h.table()"
   ]
  },
  {
   "cell_type": "code",
   "execution_count": 4,
   "metadata": {},
   "outputs": [
    {
     "name": "stdout",
     "output_type": "stream",
     "text": [
      "start \n",
      "Run Start\n",
      "=========\n",
      "hints           :\n",
      "iso8601         : 2018-12-19 15:38:34.938716              \n",
      "plan_description: archive snapshot of ophyd Signals (usually EPICS PVs)\n",
      "plan_name       : snapshot                                \n",
      "plan_type       : generator                               \n",
      "purpose         : jupyter notebook demo                   \n",
      "scan_id         : 1                                       \n",
      "time            : 1545255514.9400032                      \n",
      "uid             : 80d8ccc9-2627-4302-8794-17f9e3388887    \n",
      "descriptor \n",
      "Event Descriptor\n",
      "================\n",
      "configuration   :\n",
      "      signal_2        : 29.89444351196289                       \n",
      "      signal_2        : 1545255480.061174                       \n",
      "        source          : PV:rpi5bf5:0:humidity:1m                \n",
      "        dtype           : number                                  \n",
      "        shape           : []                                      \n",
      "        precision       : 2                                       \n",
      "        units           : %                                       \n",
      "        lower_ctrl_limit: 0.0                                     \n",
      "        upper_ctrl_limit: 0.0                                     \n",
      "      signal_4        : 0.02290622889995575                     \n",
      "      signal_4        : 1545255480.061416                       \n",
      "        source          : PV:rpi5bf5:0:humidity:1m:sdev           \n",
      "        dtype           : number                                  \n",
      "        shape           : []                                      \n",
      "        precision       : 2                                       \n",
      "        units           : %                                       \n",
      "        lower_ctrl_limit: 0.0                                     \n",
      "        upper_ctrl_limit: 0.0                                     \n",
      "      signal_1        : 22.200000762939453                      \n",
      "      signal_1        : 1545255512.117511                       \n",
      "        source          : PV:rpi5bf5:0:temperature                \n",
      "        dtype           : number                                  \n",
      "        shape           : []                                      \n",
      "        precision       : 1                                       \n",
      "        units           : C                                       \n",
      "        lower_ctrl_limit: 0.0                                     \n",
      "        upper_ctrl_limit: 0.0                                     \n",
      "      signal_3        : 22.205556869506836                      \n",
      "      signal_3        : 1545255480.061292                       \n",
      "        source          : PV:rpi5bf5:0:temperature:1m             \n",
      "        dtype           : number                                  \n",
      "        shape           : []                                      \n",
      "        precision       : 2                                       \n",
      "        units           : C                                       \n",
      "        lower_ctrl_limit: 0.0                                     \n",
      "        upper_ctrl_limit: 0.0                                     \n",
      "      signal_0        : 29.899999618530273                      \n",
      "      signal_0        : 1545255512.117445                       \n",
      "        source          : PV:rpi5bf5:0:humidity                   \n",
      "        dtype           : number                                  \n",
      "        shape           : []                                      \n",
      "        precision       : 1                                       \n",
      "        units           : %                                       \n",
      "        lower_ctrl_limit: 0.0                                     \n",
      "        upper_ctrl_limit: 0.0                                     \n",
      "      signal_5        : 0.02290579304099083                     \n",
      "      signal_5        : 1545255480.061549                       \n",
      "        source          : PV:rpi5bf5:0:temperature:1m:sdev        \n",
      "        dtype           : number                                  \n",
      "        shape           : []                                      \n",
      "        precision       : 2                                       \n",
      "        units           : C                                       \n",
      "        lower_ctrl_limit: 0.0                                     \n",
      "        upper_ctrl_limit: 0.0                                     \n",
      "+-----------+--------+------------------+-------------+-----------+-------+----------------------------------+-------+------------------+\n",
      "| data keys | dtype  | lower_ctrl_limit | object_name | precision | shape |              source              | units | upper_ctrl_limit |\n",
      "+-----------+--------+------------------+-------------+-----------+-------+----------------------------------+-------+------------------+\n",
      "| signal_0  | number |       0.0        |   signal_0  |     1     |   []  |      PV:rpi5bf5:0:humidity       |   %   |       0.0        |\n",
      "| signal_1  | number |       0.0        |   signal_1  |     1     |   []  |     PV:rpi5bf5:0:temperature     |   C   |       0.0        |\n",
      "| signal_2  | number |       0.0        |   signal_2  |     2     |   []  |     PV:rpi5bf5:0:humidity:1m     |   %   |       0.0        |\n",
      "| signal_3  | number |       0.0        |   signal_3  |     2     |   []  |   PV:rpi5bf5:0:temperature:1m    |   C   |       0.0        |\n",
      "| signal_4  | number |       0.0        |   signal_4  |     2     |   []  |  PV:rpi5bf5:0:humidity:1m:sdev   |   %   |       0.0        |\n",
      "| signal_5  | number |       0.0        |   signal_5  |     2     |   []  | PV:rpi5bf5:0:temperature:1m:sdev |   C   |       0.0        |\n",
      "+-----------+--------+------------------+-------------+-----------+-------+----------------------------------+-------+------------------+\n",
      "hints           :\n",
      "    fields          : ['signal_2']                            \n",
      "    fields          : ['signal_4']                            \n",
      "    fields          : ['signal_1']                            \n",
      "    fields          : ['signal_3']                            \n",
      "    fields          : ['signal_0']                            \n",
      "    fields          : ['signal_5']                            \n",
      "name            : primary                                 \n",
      "object_keys     :\n",
      "  signal_2        : ['signal_2']                            \n",
      "  signal_4        : ['signal_4']                            \n",
      "  signal_1        : ['signal_1']                            \n",
      "  signal_3        : ['signal_3']                            \n",
      "  signal_0        : ['signal_0']                            \n",
      "  signal_5        : ['signal_5']                            \n",
      "run_start       : 80d8ccc9-2627-4302-8794-17f9e3388887    \n",
      "time            : 1545255515.2849474                      \n",
      "uid             : 6f01860b-7547-435e-b4fe-99175d3f1e9d    \n",
      "event \n",
      "Event\n",
      "=====\n",
      "data            :\n",
      "  signal_0        : 29.899999618530273                      \n",
      "  signal_1        : 22.200000762939453                      \n",
      "  signal_2        : 29.89444351196289                       \n",
      "  signal_3        : 22.205556869506836                      \n",
      "  signal_4        : 0.02290622889995575                     \n",
      "  signal_5        : 0.02290579304099083                     \n",
      "descriptor      : 6f01860b-7547-435e-b4fe-99175d3f1e9d    \n",
      "filled          :\n",
      "seq_num         : 1                                       \n",
      "time            : 1545255515.3161013                      \n",
      "timestamps      :\n",
      "  signal_0        : 1545255512.117445                       \n",
      "  signal_1        : 1545255512.117511                       \n",
      "  signal_2        : 1545255480.061174                       \n",
      "  signal_3        : 1545255480.061292                       \n",
      "  signal_4        : 1545255480.061416                       \n",
      "  signal_5        : 1545255480.061549                       \n",
      "uid             : c784a26f-1b6a-47cd-97f5-75e7740df7a8    \n",
      "stop \n",
      "Run Stop\n",
      "========\n",
      "exit_status     : success                                 \n",
      "num_events      :\n",
      "  primary         : 1                                       \n",
      "run_start       : 80d8ccc9-2627-4302-8794-17f9e3388887    \n",
      "time            : 1545255515.3291688                      \n",
      "uid             : b420439d-96c4-47e7-97fc-c9cb608ab36c    \n"
     ]
    }
   ],
   "source": [
    "# decidedly terse, there _is_ more information available from the descriptor document, perhaps too much\n",
    "for key, doc in h.documents():\n",
    "    print(key, doc)"
   ]
  },
  {
   "cell_type": "markdown",
   "metadata": {},
   "source": [
    "If we want a better report, then we must build a [callback](http://nsls-ii.github.io/bluesky/callbacks.html#overview-of-callbacks) that will sift the documents and show us just the information we want (PV, value, timestamp)."
   ]
  },
  {
   "cell_type": "markdown",
   "metadata": {},
   "source": [
    "# custom report using a callback"
   ]
  },
  {
   "cell_type": "code",
   "execution_count": 6,
   "metadata": {},
   "outputs": [
    {
     "name": "stdout",
     "output_type": "stream",
     "text": [
      "============================= =================== ==========================\n",
      "EPICS PV                      value               timestamp                 \n",
      "============================= =================== ==========================\n",
      "rpi5bf5:0:humidity            29.899999618530273  2018-12-19 15:38:32.117445\n",
      "rpi5bf5:0:humidity:1m         29.89444351196289   2018-12-19 15:38:00.061174\n",
      "rpi5bf5:0:humidity:1m:sdev    0.02290622889995575 2018-12-19 15:38:00.061416\n",
      "rpi5bf5:0:temperature         22.200000762939453  2018-12-19 15:38:32.117511\n",
      "rpi5bf5:0:temperature:1m      22.205556869506836  2018-12-19 15:38:00.061292\n",
      "rpi5bf5:0:temperature:1m:sdev 0.02290579304099083 2018-12-19 15:38:00.061549\n",
      "============================= =================== ==========================\n",
      "\n"
     ]
    }
   ],
   "source": [
    "from bluesky.callbacks.core import CallbackBase\n",
    "import datetime\n",
    "import pyRestTable\n",
    "\n",
    "class SnapshotReport(CallbackBase):\n",
    "    \n",
    "    xref = {}    # key=PVname, value=dict(value, iso8601 timestamp)\n",
    "    \n",
    "    def descriptor(self, doc):\n",
    "        \"\"\"\n",
    "        special case:  \n",
    "           the data is both in the descriptor AND the event docs\n",
    "           due to the way our plan created it\n",
    "        \"\"\"\n",
    "        self.xref = {}\n",
    "        for k, v in doc[\"configuration\"].items():\n",
    "            ts = v[\"timestamps\"][k]\n",
    "            dt = datetime.datetime.fromtimestamp(ts).isoformat().replace(\"T\", \" \")\n",
    "            pvname = v[\"data_keys\"][k][\"source\"][3:]\n",
    "            value = v[\"data\"][k]\n",
    "            self.xref[pvname] = dict(value=value, timestamp=dt)\n",
    "    \n",
    "    def event(self, doc):\n",
    "        pass\n",
    "    \n",
    "    def stop(self, doc):\n",
    "        t = pyRestTable.Table()\n",
    "        t.addLabel(\"EPICS PV\")\n",
    "        t.addLabel(\"value\")\n",
    "        t.addLabel(\"timestamp\")\n",
    "        for k, v in sorted(self.xref.items()):\n",
    "            t.addRow((k, v[\"value\"], v[\"timestamp\"]))\n",
    "        print(t)\n",
    "    \n",
    "    def print_report(self, header):\n",
    "        for key, doc in header.documents():\n",
    "            self(key, doc)        \n",
    "\n",
    "\n",
    "snapshot_report = SnapshotReport()\n",
    "snapshot_report.print_report(h)\n"
   ]
  },
  {
   "cell_type": "markdown",
   "metadata": {},
   "source": [
    "## Further analysis\n",
    "\n",
    "For further work with data from the databroker, see this [documentation](http://nsls-ii.github.io/databroker/tutorial.html#load-data-as-a-table)."
   ]
  }
 ],
 "metadata": {
  "kernelspec": {
   "display_name": "Python 3",
   "language": "python",
   "name": "python3"
  },
  "language_info": {
   "codemirror_mode": {
    "name": "ipython",
    "version": 3
   },
   "file_extension": ".py",
   "mimetype": "text/x-python",
   "name": "python",
   "nbconvert_exporter": "python",
   "pygments_lexer": "ipython3",
   "version": "3.6.6"
  }
 },
 "nbformat": 4,
 "nbformat_minor": 2
}
