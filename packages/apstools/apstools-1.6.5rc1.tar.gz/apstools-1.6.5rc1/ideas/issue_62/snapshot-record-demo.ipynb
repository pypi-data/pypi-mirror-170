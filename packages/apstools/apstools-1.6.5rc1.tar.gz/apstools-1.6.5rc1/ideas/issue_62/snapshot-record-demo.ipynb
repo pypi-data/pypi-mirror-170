{
 "cells": [
  {
   "cell_type": "markdown",
   "metadata": {},
   "source": [
    "# Record a snapshot of PV values\n",
    "\n",
    "See https://github.com/BCDA-APS/apstools/issues/62\n",
    "\n",
    "At certain times, we need a snapshot of certain PV values for later review and comparison. This is a perfect job for a Bluesky plan, to record the snapshot and save it in the databroker. Later, standard databroker tools can be use to retrieve the snapshot. This is aided by writing certain metadata with each snapshot."
   ]
  },
  {
   "cell_type": "code",
   "execution_count": 1,
   "metadata": {},
   "outputs": [],
   "source": [
    "# first the imports\n",
    "\n",
    "import os\n",
    "import time\n",
    "from collections import OrderedDict\n",
    "# import pyRestTable\n",
    "import datetime\n",
    "\n",
    "# Import matplotlib and put it in interactive mode.\n",
    "%matplotlib notebook\n",
    "import matplotlib.pyplot as plt\n",
    "plt.ion()\n",
    "\n",
    "from ophyd import EpicsSignal\n",
    "from databroker import Broker\n",
    "from bluesky import RunEngine\n",
    "from bluesky import plan_stubs as bps\n",
    "\n",
    "from bluesky.utils import install_nb_kicker\n",
    "install_nb_kicker()"
   ]
  },
  {
   "cell_type": "markdown",
   "metadata": {},
   "source": [
    "## snapshot()\n",
    "\n",
    "The core method here is the Bluesky plan to record a snapshot.  It receives a list of ophyd `Signal` objects and records their values to the primary data data stream in a single event.  Some additional metadata is added to make this searchable from the databroker."
   ]
  },
  {
   "cell_type": "code",
   "execution_count": 2,
   "metadata": {},
   "outputs": [],
   "source": [
    "def snapshot(obj_list, stream=\"primary\", md=None):\n",
    "    \"\"\"\n",
    "    bluesky plan: record current value of list of ophyd signals\n",
    "    \"\"\"\n",
    "    # we want this metadata to appear\n",
    "    _md = dict(\n",
    "        plan_name = \"snapshot\",\n",
    "        plan_description = \"archive snapshot of ophyd Signals (usually EPICS PVs)\",\n",
    "        iso8601 = str(datetime.datetime.now()),     # human-readable\n",
    "        hints = {},\n",
    "        )\n",
    "    # caller may have given us additional metadata\n",
    "    _md.update(md or {})\n",
    "\n",
    "    def _snap(md=None):\n",
    "        yield from bps.open_run(md)\n",
    "        yield from bps.create(name=stream)\n",
    "        for obj in obj_list:\n",
    "            # passive observation: DO NOT TRIGGER, only read\n",
    "            yield from bps.read(obj)\n",
    "        yield from bps.save()\n",
    "        yield from bps.close_run()\n",
    "\n",
    "    return (yield from _snap(md=_md))"
   ]
  },
  {
   "cell_type": "markdown",
   "metadata": {},
   "source": [
    "## creating the ophyd objects\n",
    "\n",
    "We want the user to provide a list of EPICS PV names, from which a list of ophyd `EpicsSignal` objects is created.  For this demo, we have an [IOC](https://github.com/prjemian/epics_ioc_raspi_sensors#epics-ioc-on-raspberry-pi-with-gpio-sensors) with a [DHT-22](https://www.sparkfun.com/datasheets/Sensors/Temperature/DHT22.pdf) humidity and temperature sensor."
   ]
  },
  {
   "cell_type": "code",
   "execution_count": 3,
   "metadata": {},
   "outputs": [],
   "source": [
    "pvlist = \"\"\"\n",
    "rpi5bf5:0:humidity\n",
    "rpi5bf5:0:temperature\n",
    "rpi5bf5:0:humidity:1m\n",
    "rpi5bf5:0:temperature:1m\n",
    "rpi5bf5:0:humidity:1m:sdev\n",
    "rpi5bf5:0:temperature:1m:sdev\n",
    "\"\"\".strip().splitlines()\n",
    "\n",
    "def connect_pvlist(pvlist):\n",
    "    obj_dict = OrderedDict()\n",
    "    for item in pvlist:\n",
    "        if len(item.strip()) == 0:\n",
    "            continue\n",
    "        pvname = item.strip()\n",
    "        oname = \"signal_{}\".format(len(obj_dict))\n",
    "        obj = EpicsSignal(pvname, name=oname)\n",
    "        obj_dict[oname] = obj\n",
    "    return obj_dict\n",
    "\n",
    "obj_dict = connect_pvlist(pvlist)"
   ]
  },
  {
   "cell_type": "markdown",
   "metadata": {},
   "source": [
    "Look at that dictionary..."
   ]
  },
  {
   "cell_type": "code",
   "execution_count": 4,
   "metadata": {},
   "outputs": [],
   "source": [
    "# obj_dict"
   ]
  },
  {
   "cell_type": "markdown",
   "metadata": {},
   "source": [
    "## Prepare RunEngine and Broker\n",
    "\n",
    "We have all the tools in place so let's take a snapshot of these PVs.  First we set up the RunEngine and databroker using our workstation's mongodb configuration."
   ]
  },
  {
   "cell_type": "code",
   "execution_count": 5,
   "metadata": {},
   "outputs": [
    {
     "data": {
      "text/plain": [
       "0"
      ]
     },
     "execution_count": 5,
     "metadata": {},
     "output_type": "execute_result"
    }
   ],
   "source": [
    "RE = RunEngine({})\n",
    "# assuming we don't have a named configuration file available\n",
    "# see: http://nsls-ii.github.io/databroker/tutorial.html#get-a-broker\n",
    "cfg = {\n",
    "    'metadatastore' : {\n",
    "        'module' : 'databroker.headersource.mongo',\n",
    "        'class' : 'MDS',\n",
    "        'config' : {\n",
    "            'host': 'localhost',\n",
    "             'port': 27017,\n",
    "             'database': 'metadatastore-production-v1',\n",
    "             'timezone': 'US/Central'},\n",
    "    },\n",
    "    'assets' : {\n",
    "        'module' : 'databroker.assets.mongo',\n",
    "        'class' : 'Registry',\n",
    "        'config': {\n",
    "            'host': 'localhost', \n",
    "            'port': 27017, \n",
    "            'database': 'filestore-production-v1'}\n",
    "    },\n",
    "}\n",
    "db = Broker.from_config(cfg)\n",
    "RE.subscribe(db.insert)"
   ]
  },
  {
   "cell_type": "markdown",
   "metadata": {},
   "source": [
    "## take a snapshot\n",
    "\n",
    "Now, take a snapshot."
   ]
  },
  {
   "cell_type": "code",
   "execution_count": 6,
   "metadata": {},
   "outputs": [
    {
     "ename": "RuntimeError",
     "evalue": "This event loop is already running",
     "output_type": "error",
     "traceback": [
      "\u001b[0;31m---------------------------------------------------------------------------\u001b[0m",
      "\u001b[0;31mRuntimeError\u001b[0m                              Traceback (most recent call last)",
      "\u001b[0;32m<ipython-input-6-539d95d2f16a>\u001b[0m in \u001b[0;36m<module>\u001b[0;34m\u001b[0m\n\u001b[0;32m----> 1\u001b[0;31m \u001b[0mRE\u001b[0m\u001b[0;34m(\u001b[0m\u001b[0msnapshot\u001b[0m\u001b[0;34m(\u001b[0m\u001b[0mobj_dict\u001b[0m\u001b[0;34m.\u001b[0m\u001b[0mvalues\u001b[0m\u001b[0;34m(\u001b[0m\u001b[0;34m)\u001b[0m\u001b[0;34m,\u001b[0m \u001b[0mmd\u001b[0m\u001b[0;34m=\u001b[0m\u001b[0mdict\u001b[0m\u001b[0;34m(\u001b[0m\u001b[0mpurpose\u001b[0m\u001b[0;34m=\u001b[0m\u001b[0;34m\"jupyter notebook demo\"\u001b[0m\u001b[0;34m)\u001b[0m\u001b[0;34m)\u001b[0m\u001b[0;34m,\u001b[0m \u001b[0mprint\u001b[0m\u001b[0;34m)\u001b[0m\u001b[0;34m\u001b[0m\u001b[0m\n\u001b[0m",
      "\u001b[0;32m~/Apps/BlueSky/lib/python3.6/site-packages/bluesky/run_engine.py\u001b[0m in \u001b[0;36m__call__\u001b[0;34m(self, *args, **metadata_kw)\u001b[0m\n\u001b[1;32m    731\u001b[0m             \u001b[0mself\u001b[0m\u001b[0;34m.\u001b[0m\u001b[0m_task\u001b[0m \u001b[0;34m=\u001b[0m \u001b[0mself\u001b[0m\u001b[0;34m.\u001b[0m\u001b[0mloop\u001b[0m\u001b[0;34m.\u001b[0m\u001b[0mcreate_task\u001b[0m\u001b[0;34m(\u001b[0m\u001b[0mself\u001b[0m\u001b[0;34m.\u001b[0m\u001b[0m_run\u001b[0m\u001b[0;34m(\u001b[0m\u001b[0;34m)\u001b[0m\u001b[0;34m)\u001b[0m\u001b[0;34m\u001b[0m\u001b[0m\n\u001b[1;32m    732\u001b[0m             \u001b[0;32mtry\u001b[0m\u001b[0;34m:\u001b[0m\u001b[0;34m\u001b[0m\u001b[0m\n\u001b[0;32m--> 733\u001b[0;31m                 \u001b[0mself\u001b[0m\u001b[0;34m.\u001b[0m\u001b[0mloop\u001b[0m\u001b[0;34m.\u001b[0m\u001b[0mrun_forever\u001b[0m\u001b[0;34m(\u001b[0m\u001b[0;34m)\u001b[0m\u001b[0;34m\u001b[0m\u001b[0m\n\u001b[0m\u001b[1;32m    734\u001b[0m             \u001b[0;32mfinally\u001b[0m\u001b[0;34m:\u001b[0m\u001b[0;34m\u001b[0m\u001b[0m\n\u001b[1;32m    735\u001b[0m                 \u001b[0;32mif\u001b[0m \u001b[0mself\u001b[0m\u001b[0;34m.\u001b[0m\u001b[0m_task\u001b[0m\u001b[0;34m.\u001b[0m\u001b[0mdone\u001b[0m\u001b[0;34m(\u001b[0m\u001b[0;34m)\u001b[0m\u001b[0;34m:\u001b[0m\u001b[0;34m\u001b[0m\u001b[0m\n",
      "\u001b[0;32m~/Apps/BlueSky/lib/python3.6/asyncio/base_events.py\u001b[0m in \u001b[0;36mrun_forever\u001b[0;34m(self)\u001b[0m\n\u001b[1;32m    407\u001b[0m         \u001b[0mself\u001b[0m\u001b[0;34m.\u001b[0m\u001b[0m_check_closed\u001b[0m\u001b[0;34m(\u001b[0m\u001b[0;34m)\u001b[0m\u001b[0;34m\u001b[0m\u001b[0m\n\u001b[1;32m    408\u001b[0m         \u001b[0;32mif\u001b[0m \u001b[0mself\u001b[0m\u001b[0;34m.\u001b[0m\u001b[0mis_running\u001b[0m\u001b[0;34m(\u001b[0m\u001b[0;34m)\u001b[0m\u001b[0;34m:\u001b[0m\u001b[0;34m\u001b[0m\u001b[0m\n\u001b[0;32m--> 409\u001b[0;31m             \u001b[0;32mraise\u001b[0m \u001b[0mRuntimeError\u001b[0m\u001b[0;34m(\u001b[0m\u001b[0;34m'This event loop is already running'\u001b[0m\u001b[0;34m)\u001b[0m\u001b[0;34m\u001b[0m\u001b[0m\n\u001b[0m\u001b[1;32m    410\u001b[0m         \u001b[0;32mif\u001b[0m \u001b[0mevents\u001b[0m\u001b[0;34m.\u001b[0m\u001b[0m_get_running_loop\u001b[0m\u001b[0;34m(\u001b[0m\u001b[0;34m)\u001b[0m \u001b[0;32mis\u001b[0m \u001b[0;32mnot\u001b[0m \u001b[0;32mNone\u001b[0m\u001b[0;34m:\u001b[0m\u001b[0;34m\u001b[0m\u001b[0m\n\u001b[1;32m    411\u001b[0m             raise RuntimeError(\n",
      "\u001b[0;31mRuntimeError\u001b[0m: This event loop is already running"
     ]
    },
    {
     "name": "stdout",
     "output_type": "stream",
     "text": [
      "start {'uid': '80d8ccc9-2627-4302-8794-17f9e3388887', 'time': 1545255514.9400032, 'scan_id': 1, 'plan_type': 'generator', 'plan_name': 'snapshot', 'plan_description': 'archive snapshot of ophyd Signals (usually EPICS PVs)', 'purpose': 'jupyter notebook demo', 'hints': {}, 'iso8601': '2018-12-19 15:38:34.938716'}\n",
      "descriptor {'run_start': '80d8ccc9-2627-4302-8794-17f9e3388887', 'time': 1545255515.2849474, 'data_keys': {'signal_2': {'source': 'PV:rpi5bf5:0:humidity:1m', 'dtype': 'number', 'shape': [], 'precision': 2, 'units': '%', 'lower_ctrl_limit': 0.0, 'upper_ctrl_limit': 0.0, 'object_name': 'signal_2'}, 'signal_4': {'source': 'PV:rpi5bf5:0:humidity:1m:sdev', 'dtype': 'number', 'shape': [], 'precision': 2, 'units': '%', 'lower_ctrl_limit': 0.0, 'upper_ctrl_limit': 0.0, 'object_name': 'signal_4'}, 'signal_1': {'source': 'PV:rpi5bf5:0:temperature', 'dtype': 'number', 'shape': [], 'precision': 1, 'units': 'C', 'lower_ctrl_limit': 0.0, 'upper_ctrl_limit': 0.0, 'object_name': 'signal_1'}, 'signal_3': {'source': 'PV:rpi5bf5:0:temperature:1m', 'dtype': 'number', 'shape': [], 'precision': 2, 'units': 'C', 'lower_ctrl_limit': 0.0, 'upper_ctrl_limit': 0.0, 'object_name': 'signal_3'}, 'signal_0': {'source': 'PV:rpi5bf5:0:humidity', 'dtype': 'number', 'shape': [], 'precision': 1, 'units': '%', 'lower_ctrl_limit': 0.0, 'upper_ctrl_limit': 0.0, 'object_name': 'signal_0'}, 'signal_5': {'source': 'PV:rpi5bf5:0:temperature:1m:sdev', 'dtype': 'number', 'shape': [], 'precision': 2, 'units': 'C', 'lower_ctrl_limit': 0.0, 'upper_ctrl_limit': 0.0, 'object_name': 'signal_5'}}, 'uid': '6f01860b-7547-435e-b4fe-99175d3f1e9d', 'configuration': {'signal_2': {'data': {'signal_2': 29.89444351196289}, 'timestamps': {'signal_2': 1545255480.061174}, 'data_keys': {'signal_2': {'source': 'PV:rpi5bf5:0:humidity:1m', 'dtype': 'number', 'shape': [], 'precision': 2, 'units': '%', 'lower_ctrl_limit': 0.0, 'upper_ctrl_limit': 0.0}}}, 'signal_4': {'data': {'signal_4': 0.02290622889995575}, 'timestamps': {'signal_4': 1545255480.061416}, 'data_keys': {'signal_4': {'source': 'PV:rpi5bf5:0:humidity:1m:sdev', 'dtype': 'number', 'shape': [], 'precision': 2, 'units': '%', 'lower_ctrl_limit': 0.0, 'upper_ctrl_limit': 0.0}}}, 'signal_1': {'data': {'signal_1': 22.200000762939453}, 'timestamps': {'signal_1': 1545255512.117511}, 'data_keys': {'signal_1': {'source': 'PV:rpi5bf5:0:temperature', 'dtype': 'number', 'shape': [], 'precision': 1, 'units': 'C', 'lower_ctrl_limit': 0.0, 'upper_ctrl_limit': 0.0}}}, 'signal_3': {'data': {'signal_3': 22.205556869506836}, 'timestamps': {'signal_3': 1545255480.061292}, 'data_keys': {'signal_3': {'source': 'PV:rpi5bf5:0:temperature:1m', 'dtype': 'number', 'shape': [], 'precision': 2, 'units': 'C', 'lower_ctrl_limit': 0.0, 'upper_ctrl_limit': 0.0}}}, 'signal_0': {'data': {'signal_0': 29.899999618530273}, 'timestamps': {'signal_0': 1545255512.117445}, 'data_keys': {'signal_0': {'source': 'PV:rpi5bf5:0:humidity', 'dtype': 'number', 'shape': [], 'precision': 1, 'units': '%', 'lower_ctrl_limit': 0.0, 'upper_ctrl_limit': 0.0}}}, 'signal_5': {'data': {'signal_5': 0.02290579304099083}, 'timestamps': {'signal_5': 1545255480.061549}, 'data_keys': {'signal_5': {'source': 'PV:rpi5bf5:0:temperature:1m:sdev', 'dtype': 'number', 'shape': [], 'precision': 2, 'units': 'C', 'lower_ctrl_limit': 0.0, 'upper_ctrl_limit': 0.0}}}}, 'name': 'primary', 'hints': {'signal_2': {'fields': ['signal_2']}, 'signal_4': {'fields': ['signal_4']}, 'signal_1': {'fields': ['signal_1']}, 'signal_3': {'fields': ['signal_3']}, 'signal_0': {'fields': ['signal_0']}, 'signal_5': {'fields': ['signal_5']}}, 'object_keys': {'signal_2': ['signal_2'], 'signal_4': ['signal_4'], 'signal_1': ['signal_1'], 'signal_3': ['signal_3'], 'signal_0': ['signal_0'], 'signal_5': ['signal_5']}}\n",
      "event {'descriptor': '6f01860b-7547-435e-b4fe-99175d3f1e9d', 'time': 1545255515.3161013, 'data': {'signal_0': 29.899999618530273, 'signal_1': 22.200000762939453, 'signal_2': 29.89444351196289, 'signal_3': 22.205556869506836, 'signal_4': 0.02290622889995575, 'signal_5': 0.02290579304099083}, 'timestamps': {'signal_0': 1545255512.117445, 'signal_1': 1545255512.117511, 'signal_2': 1545255480.061174, 'signal_3': 1545255480.061292, 'signal_4': 1545255480.061416, 'signal_5': 1545255480.061549}, 'seq_num': 1, 'uid': 'c784a26f-1b6a-47cd-97f5-75e7740df7a8', 'filled': {}}\n",
      "stop {'run_start': '80d8ccc9-2627-4302-8794-17f9e3388887', 'time': 1545255515.3291688, 'uid': 'b420439d-96c4-47e7-97fc-c9cb608ab36c', 'exit_status': 'success', 'reason': '', 'num_events': {'primary': 1}}\n"
     ]
    }
   ],
   "source": [
    "RE(snapshot(obj_dict.values(), md=dict(purpose=\"jupyter notebook demo\")), print)"
   ]
  },
  {
   "cell_type": "code",
   "execution_count": null,
   "metadata": {},
   "outputs": [],
   "source": []
  }
 ],
 "metadata": {
  "kernelspec": {
   "display_name": "Python 3",
   "language": "python",
   "name": "python3"
  },
  "language_info": {
   "codemirror_mode": {
    "name": "ipython",
    "version": 3
   },
   "file_extension": ".py",
   "mimetype": "text/x-python",
   "name": "python",
   "nbconvert_exporter": "python",
   "pygments_lexer": "ipython3",
   "version": "3.6.6"
  }
 },
 "nbformat": 4,
 "nbformat_minor": 2
}
