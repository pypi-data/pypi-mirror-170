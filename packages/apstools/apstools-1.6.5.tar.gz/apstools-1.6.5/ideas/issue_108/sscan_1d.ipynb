{
 "cells": [
  {
   "cell_type": "markdown",
   "metadata": {},
   "source": [
    "# Issue 108: generalize `sscan_1d`"
   ]
  },
  {
   "cell_type": "code",
   "execution_count": 1,
   "metadata": {},
   "outputs": [],
   "source": [
    "P = \"xxx:\""
   ]
  },
  {
   "cell_type": "code",
   "execution_count": 2,
   "metadata": {},
   "outputs": [],
   "source": [
    "from databroker import Broker\n",
    "db = Broker.named(\"mongodb_config\")\n",
    "\n",
    "from bluesky import RunEngine\n",
    "import bluesky.plans as bp\n",
    "import bluesky.plan_stubs as bps\n",
    "from bluesky.callbacks.best_effort import BestEffortCallback\n",
    "from bluesky import SupplementalData\n",
    "\n",
    "RE = RunEngine({})\n",
    "RE.subscribe(db.insert)\n",
    "RE.subscribe(BestEffortCallback())\n",
    "RE.preprocessors.append(SupplementalData())"
   ]
  },
  {
   "cell_type": "code",
   "execution_count": 3,
   "metadata": {},
   "outputs": [],
   "source": [
    "from apstools.devices import sscanDevice\n",
    "from apstools.plans import sscan_1D\n",
    "scans = sscanDevice(P, name=\"scans\")\n",
    "scans.select_channels()"
   ]
  },
  {
   "cell_type": "code",
   "execution_count": 8,
   "metadata": {},
   "outputs": [
    {
     "name": "stdout",
     "output_type": "stream",
     "text": [
      "Transient Scan ID: 3     Time: 2019-03-13 18:05:22\n",
      "Persistent Unique Scan ID: 'f54dbf69-8111-427e-a10e-980554036e4e'\n",
      "New stream: 'primary'\n",
      "+-----------+------------+\n",
      "|   seq_num |       time |\n",
      "+-----------+------------+\n",
      "|         1 | 18:05:24.3 |\n",
      "|         2 | 18:05:25.4 |\n",
      "|         3 | 18:05:26.5 |\n",
      "|         4 | 18:05:27.6 |\n",
      "|         5 | 18:05:28.7 |\n",
      "|         6 | 18:05:29.8 |\n",
      "New stream: 'settings'\n",
      "+-----------+------------+\n",
      "generator sscan_1D ['f54dbf69'] (scan num: 3)\n",
      "\n",
      "\n",
      "\n"
     ]
    },
    {
     "data": {
      "text/plain": [
       "('f54dbf69-8111-427e-a10e-980554036e4e',)"
      ]
     },
     "execution_count": 8,
     "metadata": {},
     "output_type": "execute_result"
    }
   ],
   "source": [
    "RE(sscan_1D(scans.scan1, md=dict(purpose=\"development\", issue=\"#108\")))"
   ]
  },
  {
   "cell_type": "code",
   "execution_count": 9,
   "metadata": {},
   "outputs": [
    {
     "name": "stdout",
     "output_type": "stream",
     "text": [
      "\n",
      " ========== primary ==========\n",
      "                                 time  \\\n",
      "seq_num                                 \n",
      "1       2019-03-13 18:05:24.381553411   \n",
      "2       2019-03-13 18:05:25.438005686   \n",
      "3       2019-03-13 18:05:26.542529106   \n",
      "4       2019-03-13 18:05:27.642944098   \n",
      "5       2019-03-13 18:05:28.741552114   \n",
      "6       2019-03-13 18:05:29.843503952   \n",
      "\n",
      "         scans_scan1_positioners_p1_readback_value  \\\n",
      "seq_num                                              \n",
      "1                                             -1.0   \n",
      "2                                             -0.8   \n",
      "3                                             -0.6   \n",
      "4                                             -0.4   \n",
      "5                                             -0.2   \n",
      "6                                              0.0   \n",
      "\n",
      "         scans_scan1_detectors_d01_current_value  \\\n",
      "seq_num                                            \n",
      "1                                            2.0   \n",
      "2                                            2.0   \n",
      "3                                            3.0   \n",
      "4                                            7.0   \n",
      "5                                            2.0   \n",
      "6                                            2.0   \n",
      "\n",
      "         scans_scan1_detectors_d02_current_value  \\\n",
      "seq_num                                            \n",
      "1                                            1.0   \n",
      "2                                            2.0   \n",
      "3                                            1.0   \n",
      "4                                            8.0   \n",
      "5                                            2.0   \n",
      "6                                            2.0   \n",
      "\n",
      "         scans_scan1_positioners_p1_setpoint_value  \n",
      "seq_num                                             \n",
      "1                                    -8.000000e-01  \n",
      "2                                    -6.000000e-01  \n",
      "3                                    -4.000000e-01  \n",
      "4                                    -2.000000e-01  \n",
      "5                                    -5.551115e-17  \n",
      "6                                    -5.551115e-17  \n",
      "\n",
      " ========== settings ==========\n",
      "                                 time  scans_scan1_scan_phase  \\\n",
      "seq_num                                                         \n",
      "1       2019-03-13 18:05:29.902208090                       0   \n",
      "\n",
      "         scans_scan1_data_state  scans_scan1_data_ready  \\\n",
      "seq_num                                                   \n",
      "1                             7                       1   \n",
      "\n",
      "         scans_scan1_scan_busy  scans_scan1_alert_flag  \\\n",
      "seq_num                                                  \n",
      "1                            0                       0   \n",
      "\n",
      "        scans_scan1_alert_message  scans_scan1_current_point  \\\n",
      "seq_num                                                        \n",
      "1                   SCAN Complete                          6   \n",
      "\n",
      "         scans_scan1_pasm  scans_scan1_execute_scan  \\\n",
      "seq_num                                               \n",
      "1                       0                         0   \n",
      "\n",
      "                         ...                    scans_scan1_acqm  \\\n",
      "seq_num                  ...                                       \n",
      "1                        ...                                   0   \n",
      "\n",
      "         scans_scan1_atime  scans_scan1_copyto  scans_scan1_a1cd  \\\n",
      "seq_num                                                            \n",
      "1                      0.0                   0               1.0   \n",
      "\n",
      "         scans_scan1_ascd  scans_scan1_positioners_p1_readback_value  \\\n",
      "seq_num                                                                \n",
      "1                     1.0                                        0.0   \n",
      "\n",
      "         scans_scan1_positioners_p1_setpoint_value  \\\n",
      "seq_num                                              \n",
      "1                                    -5.551115e-17   \n",
      "\n",
      "         scans_scan1_detectors_d01_current_value  \\\n",
      "seq_num                                            \n",
      "1                                            2.0   \n",
      "\n",
      "         scans_scan1_detectors_d02_current_value  \\\n",
      "seq_num                                            \n",
      "1                                            2.0   \n",
      "\n",
      "         scans_scan1_triggers_t1_trigger_value  \n",
      "seq_num                                         \n",
      "1                                          1.0  \n",
      "\n",
      "[1 rows x 29 columns]\n"
     ]
    }
   ],
   "source": [
    "h = db[-1]\n",
    "for stream in sorted(h.stream_names):\n",
    "    print(\"\\n\", \"=\"*10, stream, \"=\"*10)\n",
    "    print(h.table(stream))"
   ]
  }
 ],
 "metadata": {
  "kernelspec": {
   "display_name": "Python 3",
   "language": "python",
   "name": "python3"
  },
  "language_info": {
   "codemirror_mode": {
    "name": "ipython",
    "version": 3
   },
   "file_extension": ".py",
   "mimetype": "text/x-python",
   "name": "python",
   "nbconvert_exporter": "python",
   "pygments_lexer": "ipython3",
   "version": "3.6.6"
  }
 },
 "nbformat": 4,
 "nbformat_minor": 2
}
