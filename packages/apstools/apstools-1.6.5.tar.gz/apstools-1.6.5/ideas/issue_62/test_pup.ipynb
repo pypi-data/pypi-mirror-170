{
 "cells": [
  {
   "cell_type": "markdown",
   "metadata": {},
   "source": [
    "testing on my Windows laptop"
   ]
  },
  {
   "cell_type": "code",
   "execution_count": 1,
   "metadata": {},
   "outputs": [
    {
     "data": {
      "text/plain": [
       "0"
      ]
     },
     "execution_count": 1,
     "metadata": {},
     "output_type": "execute_result"
    }
   ],
   "source": [
    "import matplotlib.pyplot as plt\n",
    "from databroker import Broker\n",
    "import snapshot\n",
    "\n",
    "from bluesky.utils import install_nb_kicker  # for notebooks, qt -> nb\n",
    "install_nb_kicker()\n",
    "plt.ion()\n",
    "\n",
    "from bluesky import RunEngine\n",
    "RE = RunEngine({})\n",
    "\n",
    "mongo_host = \"poof\"\n",
    "cfg = {\n",
    "    'metadatastore' : {\n",
    "        'module' : 'databroker.headersource.mongo',\n",
    "        'class' : 'MDS',\n",
    "        'config' : {\n",
    "            'host': mongo_host,\n",
    "             'port': 27017,\n",
    "             'database': 'metadatastore-production-v1',\n",
    "             'timezone': 'US/Central'},\n",
    "    },\n",
    "    'assets' : {\n",
    "        'module' : 'databroker.assets.mongo',\n",
    "        'class' : 'Registry',\n",
    "        'config': {\n",
    "            'host': mongo_host, \n",
    "            'port': 27017, \n",
    "            'database': 'filestore-production-v1'}\n",
    "    },\n",
    "}\n",
    "db = Broker.from_config(cfg)\n",
    "RE.subscribe(db.insert)"
   ]
  },
  {
   "cell_type": "code",
   "execution_count": 2,
   "metadata": {
    "scrolled": true
   },
   "outputs": [],
   "source": [
    "#h = db[-1]\n",
    "#h.start"
   ]
  },
  {
   "cell_type": "code",
   "execution_count": 3,
   "metadata": {},
   "outputs": [],
   "source": [
    "from bluesky import plans as bp\n",
    "from bluesky import callbacks as bc\n",
    "from ophyd import Signal, EpicsSignal\n",
    "\n",
    "reporter = snapshot.SnapshotReport()\n",
    "signal = Signal(name=\"signal\")"
   ]
  },
  {
   "cell_type": "code",
   "execution_count": 4,
   "metadata": {},
   "outputs": [
    {
     "name": "stdout",
     "output_type": "stream",
     "text": [
      "+-----------+------------+------------+\n",
      "|   seq_num |       time |     signal |\n",
      "+-----------+------------+------------+\n",
      "|         1 | 00:12:18.5 |      0.000 |\n",
      "+-----------+------------+------------+\n",
      "generator count ['de1956c3'] (scan num: 1)\n"
     ]
    },
    {
     "data": {
      "text/html": [
       "<div>\n",
       "<style scoped>\n",
       "    .dataframe tbody tr th:only-of-type {\n",
       "        vertical-align: middle;\n",
       "    }\n",
       "\n",
       "    .dataframe tbody tr th {\n",
       "        vertical-align: top;\n",
       "    }\n",
       "\n",
       "    .dataframe thead th {\n",
       "        text-align: right;\n",
       "    }\n",
       "</style>\n",
       "<table border=\"1\" class=\"dataframe\">\n",
       "  <thead>\n",
       "    <tr style=\"text-align: right;\">\n",
       "      <th></th>\n",
       "      <th>time</th>\n",
       "      <th>signal</th>\n",
       "    </tr>\n",
       "    <tr>\n",
       "      <th>seq_num</th>\n",
       "      <th></th>\n",
       "      <th></th>\n",
       "    </tr>\n",
       "  </thead>\n",
       "  <tbody>\n",
       "    <tr>\n",
       "      <th>1</th>\n",
       "      <td>2018-12-20 00:12:18.548407555</td>\n",
       "      <td>0.0</td>\n",
       "    </tr>\n",
       "  </tbody>\n",
       "</table>\n",
       "</div>"
      ],
      "text/plain": [
       "                                 time  signal\n",
       "seq_num                                      \n",
       "1       2018-12-20 00:12:18.548407555     0.0"
      ]
     },
     "execution_count": 4,
     "metadata": {},
     "output_type": "execute_result"
    }
   ],
   "source": [
    "RE(bp.count([signal]), bc.LiveTable([signal]))\n",
    "h = db[-1]\n",
    "h.table()"
   ]
  },
  {
   "cell_type": "code",
   "execution_count": 5,
   "metadata": {
    "scrolled": true
   },
   "outputs": [
    {
     "name": "stdout",
     "output_type": "stream",
     "text": [
      "+-----------+------------+------------+\n",
      "|   seq_num |       time |     signal |\n",
      "+-----------+------------+------------+\n",
      "|         1 | 00:12:18.9 |      0.000 |\n",
      "+-----------+------------+------------+\n",
      "generator snapshot ['47e00d3e'] (scan num: 2)\n",
      "========================================\n",
      "snapshot: 2018-12-20 00:12:18.903351\n",
      "========================================\n",
      "\n",
      "hints: {}\n",
      "iso8601: 2018-12-20 00:12:18.903351\n",
      "plan_description: archive snapshot of ophyd Signals (usually EPICS PVs)\n",
      "plan_name: snapshot\n",
      "plan_type: generator\n",
      "purpose: non-EPICS data\n",
      "scan_id: 2\n",
      "software_versions: {'PYTHON': '3.6.7 |Anaconda, Inc.| (default, Dec 10 2018, 20:35:02) [MSC v.1915 64 bit (AMD64)]', 'PYEPICS': '3.3.1', 'BLUESKY': '1.3.3.post17+g50b44c4', 'OPHYD': '1.2.0.post19+g56ba9fd', 'DATABROKER': '0.11.3', 'APS_BLUESKY_TOOLS': '0.0.35+10.g3276dd6'}\n",
      "time: 1545286338.904349\n",
      "uid: 47e00d3e-0e75-4ff3-bcf7-83b118c10911\n",
      "\n",
      "====== ====== ===== ==========================\n",
      "source name   value timestamp                 \n",
      "====== ====== ===== ==========================\n",
      "SIM    signal 0.0   2018-12-20 00:12:18.370546\n",
      "====== ====== ===== ==========================\n",
      "\n",
      "\n"
     ]
    },
    {
     "data": {
      "text/html": [
       "<div>\n",
       "<style scoped>\n",
       "    .dataframe tbody tr th:only-of-type {\n",
       "        vertical-align: middle;\n",
       "    }\n",
       "\n",
       "    .dataframe tbody tr th {\n",
       "        vertical-align: top;\n",
       "    }\n",
       "\n",
       "    .dataframe thead th {\n",
       "        text-align: right;\n",
       "    }\n",
       "</style>\n",
       "<table border=\"1\" class=\"dataframe\">\n",
       "  <thead>\n",
       "    <tr style=\"text-align: right;\">\n",
       "      <th></th>\n",
       "      <th>time</th>\n",
       "      <th>signal</th>\n",
       "    </tr>\n",
       "    <tr>\n",
       "      <th>seq_num</th>\n",
       "      <th></th>\n",
       "      <th></th>\n",
       "    </tr>\n",
       "  </thead>\n",
       "  <tbody>\n",
       "    <tr>\n",
       "      <th>1</th>\n",
       "      <td>2018-12-20 00:12:18.931277037</td>\n",
       "      <td>0.0</td>\n",
       "    </tr>\n",
       "  </tbody>\n",
       "</table>\n",
       "</div>"
      ],
      "text/plain": [
       "                                 time  signal\n",
       "seq_num                                      \n",
       "1       2018-12-20 00:12:18.931277037     0.0"
      ]
     },
     "execution_count": 5,
     "metadata": {},
     "output_type": "execute_result"
    }
   ],
   "source": [
    "RE(snapshot.snapshot([signal], md=dict(purpose=\"non-EPICS data\")), bc.LiveTable([signal]))\n",
    "h = db[-1]\n",
    "reporter.print_report(h)\n",
    "h.table()"
   ]
  },
  {
   "cell_type": "code",
   "execution_count": 6,
   "metadata": {},
   "outputs": [
    {
     "name": "stdout",
     "output_type": "stream",
     "text": [
      "+-----------+------------+------------+------------+------------+\n",
      "|   seq_num |       time |   signal_0 |   signal_1 |     signal |\n",
      "+-----------+------------+------------+------------+------------+\n",
      "|         1 | 00:12:19.4 |          0 |       5492 |      0.000 |\n",
      "+-----------+------------+------------+------------+------------+\n",
      "generator snapshot ['fac7f464'] (scan num: 3)\n",
      "========================================\n",
      "snapshot: 2018-12-20 00:12:19.269646\n",
      "========================================\n",
      "\n",
      "hints: {}\n",
      "iso8601: 2018-12-20 00:12:19.269646\n",
      "plan_description: archive snapshot of ophyd Signals (usually EPICS PVs)\n",
      "plan_name: snapshot\n",
      "plan_type: generator\n",
      "purpose: EPICS data\n",
      "scan_id: 3\n",
      "software_versions: {'PYTHON': '3.6.7 |Anaconda, Inc.| (default, Dec 10 2018, 20:35:02) [MSC v.1915 64 bit (AMD64)]', 'PYEPICS': '3.3.1', 'BLUESKY': '1.3.3.post17+g50b44c4', 'OPHYD': '1.2.0.post19+g56ba9fd', 'DATABROKER': '0.11.3', 'APS_BLUESKY_TOOLS': '0.0.35+10.g3276dd6'}\n",
      "time: 1545286339.2706442\n",
      "uid: fac7f464-307c-4072-9d34-54b67c9962fc\n",
      "\n",
      "====== ================ ====== ==========================\n",
      "source name             value  timestamp                 \n",
      "====== ================ ====== ==========================\n",
      "PV     xxx:HEARTBEAT    5492.0 2018-12-20 00:12:18.317776\n",
      "PV     xxx:SR_heartbeat 0      2018-12-20 00:12:18.691989\n",
      "SIM    signal           0.0    2018-12-20 00:12:18.370546\n",
      "====== ================ ====== ==========================\n",
      "\n",
      "\n"
     ]
    },
    {
     "data": {
      "text/html": [
       "<div>\n",
       "<style scoped>\n",
       "    .dataframe tbody tr th:only-of-type {\n",
       "        vertical-align: middle;\n",
       "    }\n",
       "\n",
       "    .dataframe tbody tr th {\n",
       "        vertical-align: top;\n",
       "    }\n",
       "\n",
       "    .dataframe thead th {\n",
       "        text-align: right;\n",
       "    }\n",
       "</style>\n",
       "<table border=\"1\" class=\"dataframe\">\n",
       "  <thead>\n",
       "    <tr style=\"text-align: right;\">\n",
       "      <th></th>\n",
       "      <th>time</th>\n",
       "      <th>signal_0</th>\n",
       "      <th>signal_1</th>\n",
       "      <th>signal</th>\n",
       "    </tr>\n",
       "    <tr>\n",
       "      <th>seq_num</th>\n",
       "      <th></th>\n",
       "      <th></th>\n",
       "      <th></th>\n",
       "      <th></th>\n",
       "    </tr>\n",
       "  </thead>\n",
       "  <tbody>\n",
       "    <tr>\n",
       "      <th>1</th>\n",
       "      <td>2018-12-20 00:12:19.417252302</td>\n",
       "      <td>0</td>\n",
       "      <td>5492.0</td>\n",
       "      <td>0.0</td>\n",
       "    </tr>\n",
       "  </tbody>\n",
       "</table>\n",
       "</div>"
      ],
      "text/plain": [
       "                                 time  signal_0  signal_1  signal\n",
       "seq_num                                                          \n",
       "1       2018-12-20 00:12:19.417252302         0    5492.0     0.0"
      ]
     },
     "execution_count": 6,
     "metadata": {},
     "output_type": "execute_result"
    }
   ],
   "source": [
    "pvlist = \"xxx:SR_heartbeat  xxx:HEARTBEAT\".split()\n",
    "obj_dict = snapshot.connect_pvlist(pvlist)\n",
    "obj_dict[\"signal\"] = signal\n",
    "RE(snapshot.snapshot(obj_dict.values(), md=dict(purpose=\"EPICS data\")), bc.LiveTable(obj_dict.values()))\n",
    "h = db[-1]\n",
    "reporter.print_report(h)\n",
    "h.table()"
   ]
  }
 ],
 "metadata": {
  "kernelspec": {
   "display_name": "Python 3",
   "language": "python",
   "name": "python3"
  },
  "language_info": {
   "codemirror_mode": {
    "name": "ipython",
    "version": 3
   },
   "file_extension": ".py",
   "mimetype": "text/x-python",
   "name": "python",
   "nbconvert_exporter": "python",
   "pygments_lexer": "ipython3",
   "version": "3.6.7"
  }
 },
 "nbformat": 4,
 "nbformat_minor": 2
}
