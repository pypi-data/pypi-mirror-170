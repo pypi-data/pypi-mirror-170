{
 "cells": [
  {
   "cell_type": "markdown",
   "metadata": {},
   "source": [
    "# Reprojection template\n",
    "\n",
    "Use this when you want to change a series of images so that they are aligned with one of the imags."
   ]
  },
  {
   "cell_type": "code",
   "execution_count": 1,
   "metadata": {},
   "outputs": [],
   "source": [
    "from pathlib import Path\n",
    "\n",
    "from astropy.nddata import CCDData\n",
    "from ccdproc import ImageFileCollection\n",
    "from reproject import reproject_interp"
   ]
  },
  {
   "cell_type": "markdown",
   "metadata": {},
   "source": [
    "## Change the values here"
   ]
  },
  {
   "cell_type": "code",
   "execution_count": 2,
   "metadata": {},
   "outputs": [],
   "source": [
    "image_folder = '.'  # '.' means the same folder as the notebook. \n",
    "\n",
    "# This can be any one of the images. If one image is offset from all \n",
    "# of the others do not choose that image.\n",
    "reference_image = 'kelt-16-b-S001-R001-C004-r.fit'\n",
    "\n",
    "# You can call this anything you want.\n",
    "folder_for_shifted_images = 'shifted'\n",
    "\n",
    "# Subract median background value?\n",
    "subtract_median = True"
   ]
  },
  {
   "cell_type": "markdown",
   "metadata": {},
   "source": [
    "### Run the rest but you should not need to modify anything"
   ]
  },
  {
   "cell_type": "code",
   "execution_count": 3,
   "metadata": {},
   "outputs": [
    {
     "name": "stderr",
     "output_type": "stream",
     "text": [
      "WARNING: FITSFixedWarning: RADECSYS= 'FK5 ' / Equatorial coordinate system \n",
      "the RADECSYS keyword is deprecated, use RADESYSa. [astropy.wcs.wcs]\n"
     ]
    }
   ],
   "source": [
    "p = Path(folder_for_shifted_images)\n",
    "p.mkdir(exist_ok=True)\n",
    "ccd_ref = CCDData.read(reference_image)"
   ]
  },
  {
   "cell_type": "code",
   "execution_count": 4,
   "metadata": {},
   "outputs": [],
   "source": [
    "ifc = ImageFileCollection(image_folder)"
   ]
  },
  {
   "cell_type": "code",
   "execution_count": 5,
   "metadata": {},
   "outputs": [],
   "source": [
    "wcs_ref = ccd_ref.wcs"
   ]
  },
  {
   "cell_type": "markdown",
   "metadata": {},
   "source": [
    "### This cell does this shifting. It will update as it completes images."
   ]
  },
  {
   "cell_type": "code",
   "execution_count": 6,
   "metadata": {},
   "outputs": [
    {
     "name": "stdout",
     "output_type": "stream",
     "text": [
      "Starting to shift image kelt-16-b-S001-R001-C001-r.fit...\n",
      "Finished shifting image kelt-16-b-S001-R001-C001-r.fit...\n",
      "Starting to shift image kelt-16-b-S001-R001-C002-r.fit...\n",
      "Finished shifting image kelt-16-b-S001-R001-C002-r.fit...\n",
      "Starting to shift image kelt-16-b-S001-R001-C003-r.fit...\n",
      "Finished shifting image kelt-16-b-S001-R001-C003-r.fit...\n",
      "Starting to shift image kelt-16-b-S001-R001-C004-r.fit...\n",
      "Finished shifting image kelt-16-b-S001-R001-C004-r.fit...\n",
      "Starting to shift image kelt-16-b-S001-R001-C005-r.fit...\n",
      "Finished shifting image kelt-16-b-S001-R001-C005-r.fit...\n",
      "Starting to shift image kelt-16-b-S001-R001-C006-r.fit...\n",
      "Finished shifting image kelt-16-b-S001-R001-C006-r.fit...\n",
      "Starting to shift image kelt-16-b-S001-R001-C007-r.fit...\n",
      "Finished shifting image kelt-16-b-S001-R001-C007-r.fit...\n",
      "Starting to shift image kelt-16-b-S001-R001-C008-r.fit...\n",
      "Finished shifting image kelt-16-b-S001-R001-C008-r.fit...\n"
     ]
    }
   ],
   "source": [
    "for ccd, fname in ifc.ccds(return_fname=True):\n",
    "    print(f'Starting to shift image {fname}...')\n",
    "    if subtract_median:\n",
    "        median = np.nanmedian(ccd.data)\n",
    "    else:\n",
    "        median = 0\n",
    "            \n",
    "    new_data, footprint = reproject_interp(ccd, wcs_ref, \n",
    "                                           shape_out=ccd_ref.shape, order=1)\n",
    "    ccd.data = new_data - median\n",
    "    ccd.wcs = wcs_ref\n",
    "    ccd.write(Path('shifted') / fname)\n",
    "    print(f'\\t...Finished shifting image {fname}')"
   ]
  }
 ],
 "metadata": {
  "kernelspec": {
   "display_name": "Python 3 (ipykernel)",
   "language": "python",
   "name": "python3"
  },
  "language_info": {
   "codemirror_mode": {
    "name": "ipython",
    "version": 3
   },
   "file_extension": ".py",
   "mimetype": "text/x-python",
   "name": "python",
   "nbconvert_exporter": "python",
   "pygments_lexer": "ipython3",
   "version": "3.9.13"
  }
 },
 "nbformat": 4,
 "nbformat_minor": 4
}
