{
 "cells": [
  {
   "cell_type": "markdown",
   "metadata": {},
   "source": [
    "# Process Mining с sberpm"
   ]
  },
  {
   "cell_type": "markdown",
   "metadata": {},
   "source": [
    "Библиотека __`sberpm`__ предназначена для анализа и исследования процессов, построения их в виде графов и решения смежных задач классификации и кластеризации с использованием алгоритмов машинного обучения."
   ]
  },
  {
   "cell_type": "markdown",
   "metadata": {},
   "source": [
    "## Оглавление\n",
    "\n",
    "[DataHolder](#DataHolder)\n",
    "\n",
    "[Синтетические ID процесса](#Синтетические-ID-процесса) # в полной версии библиотеки\n",
    "\n",
    "[----------  Традиционный-Process-Mining  ----------](#----------Традиционный-Process-Mining----------)\n",
    "\n",
    "I. [Майнеры и визуализация графов](#I.-Майнеры-и-визуализация-графов)\n",
    " 1. [SimpleMiner](#1.-SimpleMiner)\n",
    " 2. [CausalMiner](#2.-CausalMiner)\n",
    " 3. [HeuMiner](#3.-HeuMiner)\n",
    " 4. [AlphaMiner](#4.-AlphaMiner)\n",
    " 5. [AlphaPlusMiner](#5.-AlphaPlusMiner)\n",
    " 6. [InductiveMiner](#6.-InductiveMiner)\n",
    "\n",
    "II. [Метрики](#II.-Метрики)\n",
    "- [Метрики + графы](#Метрики-+-графы)\n",
    "\n",
    "III. [Conformance Checking](#III.-Conformance-Checking)\n",
    "\n",
    " IV. [BPMN](#IV.-BPMN)\n",
    "\n",
    "V. [Визуализация](#V.-Визуализация)\n",
    "\n",
    "\n",
    "\n",
    "[---------- Машинное-обучение ----------](#----------Машинное-обучение----------)\n",
    "\n",
    "I. [Кластеризация этапов](#I.-Кластеризация-этапов)  # в полной версии библиотеки\n",
    "\n",
    "II. [Анализ текстов](#II.-Анализ-текстов)  # в полной версии библиотеки\n",
    "\n",
    "III. [Рекомендательная система](#III.-Рекомендательная-система)  # в полной версии библиотеки\n",
    "\n",
    "IV. [Сентиментный анализ](#IV.-Сентиментный-анализ) # в полной версии библиотеки\n",
    "\n",
    "V. [Факторный анализ](#V.-Факторный-анализ) # в полной версии библиотеки\n",
    "\n",
    "VI. [Поиск аномалий](#VI.-Поиск-аномалий) # в полной версии библиотеки\n",
    "\n",
    "VII. [Автоинсайты](#VII.-Автоинсайты) # в полной версии библиотеки\n",
    "\n",
    "VIII. [Имитационное моделирование и what-if анализ](#VIII.-Имитационное-моделирование-и-what-if-анализ)  # в полной версии библиотеки\n",
    "\n",
    "IX. [Decision Mining](#IX.-Decision-Mining)  # в полной версии библиотеки\n",
    "\n",
    "X. [Обучение с подкреплением](#X.-Обучение-с-подкреплением)  # в полной версии библиотеки\n",
    "\n",
    "XI. [Предсказание структуры графа](#XI.-Предсказание-структуры-графа)  # в полной версии библиотеки\n",
    "\n",
    "XII. [Хронометраж](#XII.-Хронометраж)\n",
    "\n",
    "XIII. [Поиск счастливого пути](#XIII.-Поиск-счастливого-пути)  # в полной версии библиотеки\n"
   ]
  },
  {
   "cell_type": "markdown",
   "metadata": {},
   "source": [
    "# DataHolder"
   ]
  },
  {
   "cell_type": "markdown",
   "metadata": {},
   "source": [
    "`DataHolder` – это базовый класс для хранения данных. Практически все алгоритмы библиотеки работают с ним (принимают на вход).\n",
    "\n",
    "Для создания класса `DataHolder` необходимо сперва указать путь к файлу или передать DataFrame конструктору, а затем указать __id_column__ и __activity_column__. Однако, для большинства алгоритмов Process Mining, представленных в библиотеке, этих столбцов недостаточно – необходимы хотя бы одна колонка времени (__start_timestamp_column__ и/или __end_timestamp_column__) и колонка пользователей (__user_column__). "
   ]
  },
  {
   "cell_type": "markdown",
   "metadata": {},
   "source": [
    "## Параметры DataHolder\n",
    "- **data (str or pd.DataFrame)** – путь к файлу данных (.csv, .xls(x), .txt) или pd.DataFrame\n",
    "- **id_column (str)** – столбец id\n",
    "- **activity_column (str)** – столбец активностей\n",
    "- __<font color='red'>*</font>start_timestamp_column (str)__ – время начала активностей\n",
    "- __<font color='red'>*</font>end_timestamp_column (str)__ – время окончания активностей\n",
    "- __user_column (str)__ – столбец с именами/id пользователей\n",
    "- __text_column (str)__ – столбец с текстовыми данными\n",
    "- __duration_column (str)__ – столбец с длительностями активностей (если не задается, то расчитывается как время_активности_2 - время_активности_1, причем если есть только один столбец со временем, то для последней активности в цепочке ставится NaN)\n",
    "- __duration_unit (str)__ – размерность (единица измерения) значений в столбце duration_column, если он задан\n",
    "\n",
    "- __sep (str, default=',')__ – разделительный знак (используется только при чтении данных из файла)\n",
    "- __encoding (str)__ – кодировка (используется только при чтении данных из файла)\n",
    "- __nrows (int)__ – количество строк для чтения (используется только при чтении данных из файла)\n",
    "\n",
    "- __preprocess (bool, default=True)__ – предобработка данных (сортировка, удаление None-значений, преобразование типов)\n",
    "- __time_format (str)__ – формат временных колонок (обязательно задавать для правильного распознавания даты и ускорения работы). Правила написания: https://docs.python.org/3/library/datetime.html#strftime-and-strptime-format-codes\n",
    "- __time_errors: (str, default='raise')__ – действие при ошибке конвертации\n",
    "- __dayfirst: (bool, default=None)__ – True, если день стоит в начале строки\n",
    "- __yearfirst: (bool, default=None)__ – True, если год стоит в начале строки\n",
    "- __n_jobs (int, default=1)__ – максимальное количество потоков, доступное для некоторых вычислений\n",
    "\n",
    "\n",
    "__<font color='red'>*</font>__ Для большинства алгоритмов нужно задать хотя бы один из временных столбцов. Если нет информации о типе столбца (время начала или конца), следует задать его как __start_timestamp_column__. Для верного распознавания формата также необходимо указать __time_format__."
   ]
  },
  {
   "cell_type": "markdown",
   "metadata": {},
   "source": [
    "Исследуемые данные должны представлять собой журнал событий (лог-файл), в котором хранится информация о последовательности (цепочке) событий (активностей) в бизнес-процессах. Пример журнала событий: $W = \\{(a,b,c,d), (a,c,b,d), (a,e,d)\\}$, где события $a$, $b$, $c$, $d$ и $e$ сортируются по времени."
   ]
  },
  {
   "cell_type": "markdown",
   "metadata": {},
   "source": [
    "## Создание DataHolder \n",
    "### – с помощью DataFrame"
   ]
  },
  {
   "cell_type": "code",
   "execution_count": null,
   "metadata": {
    "pycharm": {
     "name": "#%%\n"
    }
   },
   "outputs": [],
   "source": [
    "from sberpm import DataHolder\n",
    "import pandas as pd"
   ]
  },
  {
   "cell_type": "markdown",
   "metadata": {
    "pycharm": {
     "name": "#%% md\n"
    }
   },
   "source": [
    "### – с помощью указания пути файла"
   ]
  },
  {
   "cell_type": "code",
   "execution_count": null,
   "metadata": {
    "pycharm": {
     "name": "#%%\n"
    }
   },
   "outputs": [],
   "source": [
    "path = 'example.xlsx'\n",
    "data_holder = DataHolder(data=path, \n",
    "                         id_column='id', \n",
    "                         activity_column='stages', \n",
    "                         start_timestamp_column='dt', \n",
    "                         user_column='users', \n",
    "                         time_format='%Y-%m-%d')"
   ]
  },
  {
   "cell_type": "markdown",
   "metadata": {},
   "source": [
    "Если данные имеют какой-нибудь разделитель, например '|' как в csv, то после задания колонок, нужно задать параметр __sep='|'__."
   ]
  },
  {
   "cell_type": "markdown",
   "metadata": {},
   "source": [
    "## Атрибуты DataHolder\n",
    "В `DataHolder` названия столбцов хранятся в соответствующих переменных (т.е. нет необходимости запоминать названия колонок):\n",
    "- id_column\n",
    "- activity_column\n",
    "- start_timestamp_column\n",
    "- end_timestamp_column\n",
    "- user_column\n",
    "- text_column\n",
    "- duration_column\n",
    "\n",
    "Кроме того, в `DataHolder` хранятся исходные и сгруппированные данные в виде DataFrame, к которым можно обратиться следующим образом:\n",
    "- data\n",
    "- grouped_data"
   ]
  },
  {
   "cell_type": "markdown",
   "metadata": {},
   "source": [
    "## Методы DataHolder\n",
    "- __check_or_calc_duration__ – рассчитывает длительность каждой активности (в секундах), если это необходимо \n",
    "- __get_grouped_data__ – выводит сгруппированные данные по id и указанным колонкам (например, по activity_column и start_timestamp_column)\n",
    "- __get_unique_activities__ – выводит список уникальных активностей\n",
    "- __get_columns__ – выводит список с названиями колонок \n",
    "- __get_text__ – выводит колонку с текстом, если такая есть\n",
    "- __get_timestamp_col__ – выводит временную колонку; если их имеется 2, то выводит start_time_column\n",
    "- __is_interval__ – возвращает True, если это \"интервальный лог\" (у которого имеются обе временные колонки: начала и конца активности)\n",
    "- __top_traces_dh__ – возвращает data_holder с данными для n самых частых цепочек"
   ]
  },
  {
   "cell_type": "code",
   "execution_count": null,
   "metadata": {},
   "outputs": [],
   "source": [
    "data_holder.check_or_calc_duration()"
   ]
  },
  {
   "cell_type": "code",
   "execution_count": null,
   "metadata": {},
   "outputs": [],
   "source": [
    "data_holder.data.head()"
   ]
  },
  {
   "cell_type": "code",
   "execution_count": null,
   "metadata": {},
   "outputs": [],
   "source": [
    "data_holder.get_grouped_data(data_holder.activity_column, data_holder.start_timestamp_column).head()"
   ]
  },
  {
   "cell_type": "code",
   "execution_count": null,
   "metadata": {},
   "outputs": [],
   "source": [
    "dh_3 = data_holder.top_traces_dh(3)  # данные только для топ 3 цепочек\n",
    "dfg = dh_3.get_grouped_data(dh_3.activity_column)\n",
    "dfg.value_counts(dh_3.activity_column)  # проверка"
   ]
  },
  {
   "cell_type": "markdown",
   "metadata": {
    "pycharm": {
     "name": "#%% md\n"
    }
   },
   "source": [
    "Имея данные о бизнес-процессе с цепочками статусов и временем начала каждого из них, можно загрузить их в `DataHolder` и построить граф, максимально описывающий этот бизнес-процесс."
   ]
  },
  {
   "cell_type": "markdown",
   "metadata": {},
   "source": [
    "# Синтетические ID процесса "
   ]
  },
  {
   "cell_type": "markdown",
   "metadata": {},
   "source": [
    "##### <font color='red'>В полной версии библиотеки</font>"
   ]
  },
  {
   "cell_type": "markdown",
   "metadata": {},
   "source": [
    "__Pro_n_check__ нумерует экземпляры процессов в зависимости от заданных условий. Создает столбец 'pro_n'."
   ]
  },
  {
   "cell_type": "markdown",
   "metadata": {},
   "source": [
    "# ----------Традиционный Process Mining----------"
   ]
  },
  {
   "cell_type": "markdown",
   "metadata": {},
   "source": [
    "## I. Майнеры и визуализация графов"
   ]
  },
  {
   "cell_type": "markdown",
   "metadata": {},
   "source": [
    "Для построения и отрисовки графа процесса в библиотеке реализовано несколько алгоритмов. Все они хранятся в модуле __`sberpm.miners`__ и имеют один метод:\n",
    "- __apply__ – строит граф, который сохраняется в поле graph"
   ]
  },
  {
   "cell_type": "markdown",
   "metadata": {},
   "source": [
    "### 1. SimpleMiner"
   ]
  },
  {
   "cell_type": "markdown",
   "metadata": {},
   "source": [
    "`SimpleMiner` отрисовывает все ребра, найденные в логе (без какой-либо фильтрации).\n",
    "\n",
    "В терминах Process Mining:\n",
    "> Если хотя бы в одной цепочке активностей из лога за некоторой активностью $X$ непосредственно следует активность $Y$ (цепочка вида $...XY...$), то пишут $X>Y$ ($Y$ follows $X$, _follows_ relation).\n",
    "\n",
    "SimpleMiner рисует ребра между такими парами активностей $X$ и $Y$, если выполняется $X>Y$."
   ]
  },
  {
   "cell_type": "code",
   "execution_count": null,
   "metadata": {},
   "outputs": [],
   "source": [
    "from sberpm.miners import SimpleMiner"
   ]
  },
  {
   "cell_type": "code",
   "execution_count": null,
   "metadata": {},
   "outputs": [],
   "source": [
    "# Создание объекта SimpleMiner. В конструктор подается DataHolder и параметры алгоритма \n",
    "# (у данного майнера параметров нет)\n",
    "simple_miner = SimpleMiner(data_holder)\n",
    "\n",
    "# Запуск алгоритма построения графа\n",
    "simple_miner.apply()\n",
    "\n",
    "# Сохранение графа\n",
    "graph = simple_miner.graph"
   ]
  },
  {
   "cell_type": "markdown",
   "metadata": {
    "pycharm": {
     "name": "#%% md\n"
    }
   },
   "source": [
    "### Визуализация графа\n",
    "Для визуализации графа следует использовать `GraphvizPainter` из модуля __`sberpm.visual`__"
   ]
  },
  {
   "cell_type": "code",
   "execution_count": null,
   "metadata": {
    "pycharm": {
     "name": "#%%\n"
    }
   },
   "outputs": [],
   "source": [
    "%matplotlib inline\n",
    "from sberpm.visual import GraphvizPainter"
   ]
  },
  {
   "cell_type": "markdown",
   "metadata": {
    "pycharm": {
     "name": "#%% md\n"
    }
   },
   "source": [
    "Класс `GraphvizPainter` имеет методы:\n",
    "- __apply__ – принимает на вход граф, полученный с помощью майнера, и производит расчет для его отрисовки \n",
    "- __write_graph__ – сохраняет граф в требуемом формате (pdf, svg, gv, png)\n",
    "- __show__ – выводит граф в notebook"
   ]
  },
  {
   "cell_type": "code",
   "execution_count": null,
   "metadata": {
    "pycharm": {
     "name": "#%%\n"
    },
    "scrolled": false
   },
   "outputs": [],
   "source": [
    "# Создание объекта GraphvizPainter\n",
    "painter = GraphvizPainter()\n",
    "\n",
    "# Расчет графа по результатам работы SimpleMiner\n",
    "painter.apply(graph)\n",
    "\n",
    "# Можно сохранить граф на жесткий диск в формате png, svg, pdf или gv\n",
    "painter.write_graph('SimpleMiner.png', format='png')\n",
    "\n",
    "# Можно вывыести граф в notebook\n",
    "painter.show()"
   ]
  },
  {
   "cell_type": "markdown",
   "metadata": {},
   "source": [
    "Класс `Graph` из модуля __`sberpm.visual`__ имеет методы:\n",
    "- __get_nodes__ – получить все узлы\n",
    "- __get_edges__ – получить все ребра\n",
    "- __add_node_metric__ – добавить метрику, связанную с узлами графа\n",
    "- __add_edge_metric__ – добавить метрику, связанную с ребрами графа\n",
    "- __clear_node_metrics__ – удалить все метрики с нод (узлов)\n",
    "- __clear_edge_metrics__ – удалить все метрики с ребер"
   ]
  },
  {
   "cell_type": "markdown",
   "metadata": {},
   "source": [
    "### 2. CausalMiner"
   ]
  },
  {
   "cell_type": "markdown",
   "metadata": {},
   "source": [
    "`CausalMiner` основан на фильтрации ребер.\n",
    "> Производные типы связей от $X>Y$:\n",
    "- прямые связи ($X \\to Y$, _causal_ relation) – это связи, где $Х>Y$ и не $Y>X$\n",
    "- параллельные связи($X\\parallel Y $, _parallel_ relation) – это связи, где $Х>Y$ и $Y>X$\n",
    "- независимые связи ($X\\#Y$, independent) – это связи, где не $X>Y$ и не $Y>X$\n",
    "\n",
    "CausalMiner рисует ребра между такими парами активностей $X$ и $Y$, если выполняется $X\\to Y$."
   ]
  },
  {
   "cell_type": "code",
   "execution_count": null,
   "metadata": {
    "pycharm": {
     "name": "#%% md\n"
    }
   },
   "outputs": [],
   "source": [
    "from sberpm.miners import CausalMiner"
   ]
  },
  {
   "cell_type": "code",
   "execution_count": null,
   "metadata": {},
   "outputs": [],
   "source": [
    "# Майнер\n",
    "causal_miner = CausalMiner(data_holder)\n",
    "causal_miner.apply()\n",
    "graph = causal_miner.graph\n",
    "\n",
    "# Отрисовка\n",
    "painter = GraphvizPainter()\n",
    "painter.apply(graph)\n",
    "painter.show()"
   ]
  },
  {
   "cell_type": "markdown",
   "metadata": {},
   "source": [
    "### 3. HeuMiner"
   ]
  },
  {
   "cell_type": "markdown",
   "metadata": {},
   "source": [
    "`HeuMiner` – это эврестический майнер, который удаляет наиболее редкие связи в зависимости от задаваемого порога (threshold). \n",
    "\n",
    "Параметр **threshold** принимает значения **от 0 до 1**. Чем он больше, тем меньше ребер на графе (оставшиеся ребра считаются более важными).\n",
    "\n",
    "Источник: https://www.researchgate.net/publication/229124308_Process_Mining_with_the_Heuristics_Miner-algorithm"
   ]
  },
  {
   "cell_type": "code",
   "execution_count": null,
   "metadata": {
    "pycharm": {
     "name": "#%%\n"
    }
   },
   "outputs": [],
   "source": [
    "from sberpm.miners import HeuMiner"
   ]
  },
  {
   "cell_type": "code",
   "execution_count": null,
   "metadata": {
    "scrolled": false
   },
   "outputs": [],
   "source": [
    "# Майнер\n",
    "heu_miner = HeuMiner(data_holder, threshold=0.8)\n",
    "heu_miner.apply()\n",
    "graph = heu_miner.graph\n",
    "\n",
    "# Отрисовка\n",
    "painter = GraphvizPainter()\n",
    "painter.apply(graph)\n",
    "painter.show()"
   ]
  },
  {
   "cell_type": "markdown",
   "metadata": {
    "pycharm": {
     "name": "#%% md\n"
    }
   },
   "source": [
    "### 4. AlphaMiner"
   ]
  },
  {
   "cell_type": "markdown",
   "metadata": {},
   "source": [
    "`AlphaMiner` рисует граф в виде сетей Петри с учетом прямых, параллельных и независимых связей между активностями. "
   ]
  },
  {
   "cell_type": "code",
   "execution_count": null,
   "metadata": {
    "pycharm": {
     "name": "#%%\n"
    }
   },
   "outputs": [],
   "source": [
    "from sberpm.miners import AlphaMiner"
   ]
  },
  {
   "cell_type": "code",
   "execution_count": null,
   "metadata": {},
   "outputs": [],
   "source": [
    "# Майнер\n",
    "alpha_miner = AlphaMiner(data_holder)\n",
    "alpha_miner.apply()\n",
    "graph = alpha_miner.graph\n",
    "\n",
    "# Отрисовка\n",
    "painter = GraphvizPainter()\n",
    "painter.apply(graph)\n",
    "painter.show()"
   ]
  },
  {
   "cell_type": "markdown",
   "metadata": {
    "pycharm": {
     "name": "#%% md\n"
    }
   },
   "source": [
    "### 5. AlphaPlusMiner"
   ]
  },
  {
   "cell_type": "markdown",
   "metadata": {},
   "source": [
    "`AlphaPlusMiner` – имплементация Alpha+ майнера, который также рисует граф в виде сетей Петри с учетом связей, но в отличие от AlphaMiner может работать с одноцикловыми (one-loop) цепочками вида activity_1$\\to$activity_1 (самоцикл)."
   ]
  },
  {
   "cell_type": "code",
   "execution_count": null,
   "metadata": {
    "pycharm": {
     "name": "#%%\n"
    }
   },
   "outputs": [],
   "source": [
    "from sberpm.miners import AlphaPlusMiner"
   ]
  },
  {
   "cell_type": "code",
   "execution_count": null,
   "metadata": {},
   "outputs": [],
   "source": [
    "# Майнер\n",
    "alpha_miner_plus = AlphaPlusMiner(data_holder)\n",
    "alpha_miner_plus.apply()\n",
    "graph = alpha_miner_plus.graph\n",
    "\n",
    "# Отрисовка\n",
    "painter = GraphvizPainter()\n",
    "painter.apply(graph)\n",
    "painter.show()"
   ]
  },
  {
   "cell_type": "markdown",
   "metadata": {},
   "source": [
    "### 6. InductiveMiner"
   ]
  },
  {
   "cell_type": "markdown",
   "metadata": {},
   "source": [
    "`InductiveMiner` создаёт дерево процесса. Лисья дерева - реальные активности процесса, остальные вершины - операторы. Есть 4 типа операторов: \n",
    "- ПОСЛЕДОВАТЕЛЬНЫЙ (`->`), \n",
    "- ИСКЛЮЧАЮЩЕЕ ИЛИ (`X`), \n",
    "- ПАРАЛЛЕЛЬНЫЙ (`||`), \n",
    "- ЦИКЛ (`*`).\n",
    "\n",
    "Есть дополнительный 'оператор', который говорит о том, что было невозможно найти ни один из 4 операторов, представленных выше:\n",
    "- СМЕШЕННАЯ МОДЕЛЬ ('`?`')\n",
    "\n",
    "*Замечание*: некоторые из листьев дерева могут быть *скрытыми активностями*, отображаемыми чёрными прямоугольниками. Они не являются реальными активностями и используются только для сохранения правильной структуры дерева. \n",
    "\n",
    "Например, из лога, состоящего из двух цепочек процесса $W = \\{(a, b, c), (a, c)\\}$, можно получить следующее дерево процеса:        \n",
    "`->(a, X(b, скрытая_активность), c)`."
   ]
  },
  {
   "cell_type": "markdown",
   "metadata": {},
   "source": [
    "Если во время очередной итерации алгоритм не может найти разрез графа (=подобрать один из 4 операторов), возможно добавить следубщее поведение: если существует активность А, при удалении которой удаётся подобрать оператор, алгоритм возвращает следующее дерево:            \n",
    "`||(X(активность_А, скрытая_активность), граф_без_активности_А)` - то есть активность А считается параллельной остальному графу.\n",
    "\n",
    "\n",
    "Это поведение может быть включено или выключено параметром **parallel_activity** в классе `InductiveMiner`."
   ]
  },
  {
   "cell_type": "code",
   "execution_count": null,
   "metadata": {},
   "outputs": [],
   "source": [
    "from sberpm.miners import InductiveMiner"
   ]
  },
  {
   "cell_type": "code",
   "execution_count": null,
   "metadata": {},
   "outputs": [],
   "source": [
    "# Miner\n",
    "inductive_miner = InductiveMiner(data_holder)\n",
    "inductive_miner.apply()\n",
    "graph = inductive_miner.graph\n",
    "\n",
    "# Visualization\n",
    "painter = GraphvizPainter()\n",
    "painter.apply(graph)\n",
    "painter.show()"
   ]
  },
  {
   "cell_type": "code",
   "execution_count": null,
   "metadata": {},
   "outputs": [],
   "source": []
  },
  {
   "cell_type": "markdown",
   "metadata": {
    "pycharm": {
     "name": "#%% md\n"
    }
   },
   "source": [
    "## II. Метрики"
   ]
  },
  {
   "cell_type": "markdown",
   "metadata": {},
   "source": [
    "На данный момент в модуле __`sberpm.metrics`__ есть 5 основных типов метрик:\n",
    "1. `ActivityMetric` – метрики по активностям (группировка по activity_column)\n",
    "2. `TransitionMetric` – метрики по переходам (группировка по уникальным переходам)\n",
    "3. `IdMetric`– метрики по id (группировка по id_column)\n",
    "4. `TraceMetric` – метрики по цепочкам активностей (группировка по уникальным цепочкам)\n",
    "5. `UserMetric` – метрики по пользователям (группировка по user_column)"
   ]
  },
  {
   "cell_type": "code",
   "execution_count": null,
   "metadata": {},
   "outputs": [],
   "source": [
    "from sberpm.metrics import ActivityMetric, TransitionMetric, IdMetric, TraceMetric, UserMetric"
   ]
  },
  {
   "cell_type": "markdown",
   "metadata": {},
   "source": [
    "Параметры:\n",
    "- __data_holder__ – объект типа DataHolder, для которого надо рассчитать метрики\n",
    "- __time_unit__ – единица времени, по умолчанию расчет временных метрик происходит в часах\n",
    "- __round__ – количество цифр после запятой (только для метрик, значения которых могут быть с плавающей точкой)"
   ]
  },
  {
   "cell_type": "markdown",
   "metadata": {},
   "source": [
    "Общие методы для всех классов:\n",
    "- __apply__ – расчет всех характеристик\n",
    "- __calc_metrics(...)__ – расчет указанных метрик (соответствуют методам/названиям колонок в DataFrame из apply)\n",
    "- __calculate_time_metrics__ – расчет временных характеристик\n",
    "\n",
    "- __total_duration__ – расчет суммарного времени работы\n",
    "- __min_duration__ – расчет минимального времени работы\n",
    "- __max_duration__ – расчет максимального времени работы\n",
    "- __mean_duration__ – расчет среднего времени работы для\n",
    "- __median_duration__ – расчет медианного времени работы\n",
    "- __std_duration__ – расчет стандартного отклонения времни работы\n",
    "- __var_duration__ – расчет дисперсии времени работы\n",
    "\n",
    "Дополнительные методы:\n",
    "- ActivityMetric\n",
    "    - __count__ - сколько раз активность встречается в логе\n",
    "    - __unique_ids__ - уникальные id для каждой активности\n",
    "    - __unique_ids_num__ - количество уникальных id для каждой активности\n",
    "    - __aver_count_in_trace__ - среднее количество раз встречаемости активности в цепочке\n",
    "    - __loop_percent__ - процент зацикленности\n",
    "    - __throughput__ - частота - количество выполненных активностей за единицу времени\n",
    "    - __unique_users__ - уникальные пользователи, работавшие с данной активностью\n",
    "    - __unique_users_num__ - количество уникальных пользователей, работающих над данной активностью\n",
    "    - __success_rate(...)__ - доля id, имеющих данную активность, которая выполнилась успешно (закончились успешными активностями)\n",
    "    - __failure_rate(...)__ - доля id, имеющих данную активность, которая выполнилась неуспешно (закончились неуспешными активностями)\n",
    "    \n",
    "    \n",
    "- IdMetric\n",
    "    - __trace__ - цепочка (список активностей)\n",
    "    - __trace_length__ - длина цепочки (кол-во активностей в цепочке)\n",
    "    - __unique_activities__ - уникальные активности в цепочке\n",
    "    - __unique_activities_num__ - количество уникальных активностей в цепочке\n",
    "    - __loop_percent__ - процент зацикленности\n",
    "    - __unique_users__ - уникальные пользователи, работающие с этим ID\n",
    "    - __unique_users_num__ - кол-во уникальных пользователей, работавших с данным ID\n",
    "\n",
    "- TraceMetric\n",
    "    - __count__ - сколько раз данная цепочка встречается в логе\n",
    "    - __ids__ - уникальные id с данной цепочкой\n",
    "    - __trace_length__ - длина цепочки (кол-во активностей в цепочке)\n",
    "    - __unique_activities__ - уникальные активности в цепочке\n",
    "    - __unique_activities_num__ - количество уникальных активностей в цепочке активностей\n",
    "    - __unique_users__ - уникальные пользователи, работающие над цепочкой активностей\n",
    "    - __unique_users_num__ - количество уникальных пользователей, работающих над цепочкой активностей\n",
    "\n",
    " \n",
    "- TransitionMetric\n",
    "    - __count__ - сколько раз данный переход встречается в логе\n",
    "    - __unique_ids__ - уникальные id  для каждого перехода\n",
    "    - __unique_ids_num__ - количество уникальных id с для каждого перехода\n",
    "    - __aver_count_in_trace__ - среднее количество раз встречаемости объекта в цепочке\n",
    "    - __loop_percent__ - процент зацикленности\n",
    "    - __throughput__ - частота - количество выполненных переходов за единицу времени\n",
    "    - __unique_users__ - уникальные пользователи, работающие над объектом\n",
    "    - __unique_users_num__ - кол-во уникальных пользователей, работающих над объектом\n",
    "    - __success_rate(...)__ - доля id, имеющих объект, которые выполнились успешно (закончились успешными активностями)\n",
    "    - __failure_rate(...)__ - доля id, имеющих объект, которые выполнились неуспешно (закончились неуспешными активностями)\n",
    "    \n",
    "    \n",
    "- UserMetric\n",
    "    - __count__ - сколько раз данный пользователь встречается в логе\n",
    "    - __unique_activities__ - уникальные активности, с которыми работал пользователь\n",
    "    - __unique_activities_num__ - количество уникальных активностей, с которыми работал пользователь\n",
    "    - __unique_ids__ - уникальные id с данным пользователем\n",
    "    - __unique_ids_num__ - количество уникальных id с данным пользователем\n",
    "    - __throughput__ - число раз выполнения объекта за единицу времени\n",
    "    - __workload__ - доля активности лога, выполненных данным пользователем"
   ]
  },
  {
   "cell_type": "markdown",
   "metadata": {},
   "source": [
    "### 1. ActivityMetric"
   ]
  },
  {
   "cell_type": "code",
   "execution_count": null,
   "metadata": {
    "pycharm": {
     "name": "#%%\n"
    }
   },
   "outputs": [],
   "source": [
    "# Создание объекта ActivityMetric\n",
    "activity_metric = ActivityMetric(data_holder, time_unit='d')\n",
    "\n",
    "# Расчет всех метрик\n",
    "activity_metric.apply().head()"
   ]
  },
  {
   "cell_type": "markdown",
   "metadata": {
    "pycharm": {
     "name": "#%% md\n"
    }
   },
   "source": [
    "### 2. TransitionMetric"
   ]
  },
  {
   "cell_type": "code",
   "execution_count": null,
   "metadata": {
    "pycharm": {
     "name": "#%%\n"
    },
    "scrolled": true
   },
   "outputs": [],
   "source": [
    "# Создание объекта TransitionMetric\n",
    "transition_metric = TransitionMetric(data_holder, time_unit='d')\n",
    "\n",
    "# Расчет всех метрик\n",
    "transition_metric.apply().head()"
   ]
  },
  {
   "cell_type": "markdown",
   "metadata": {
    "pycharm": {
     "name": "#%% md\n"
    }
   },
   "source": [
    "### 3. IdMetric"
   ]
  },
  {
   "cell_type": "code",
   "execution_count": null,
   "metadata": {
    "pycharm": {
     "name": "#%%\n"
    },
    "scrolled": false
   },
   "outputs": [],
   "source": [
    "# Создание объекта IdMetric\n",
    "id_metric = IdMetric(data_holder, time_unit='d')\n",
    "\n",
    "# Расчет всех метрик\n",
    "id_metric.apply().head()"
   ]
  },
  {
   "cell_type": "markdown",
   "metadata": {
    "pycharm": {
     "name": "#%% md\n"
    }
   },
   "source": [
    "### 4. TraceMetric"
   ]
  },
  {
   "cell_type": "code",
   "execution_count": null,
   "metadata": {
    "pycharm": {
     "name": "#%%\n"
    },
    "scrolled": false
   },
   "outputs": [],
   "source": [
    "# Создание объекта TraceMetric\n",
    "trace_metric = TraceMetric(data_holder, time_unit='d')\n",
    "\n",
    "# Расчет всех метрик\n",
    "trace_metric.apply().head()"
   ]
  },
  {
   "cell_type": "markdown",
   "metadata": {
    "pycharm": {
     "name": "#%% md\n"
    }
   },
   "source": [
    "### 5. UserMetric"
   ]
  },
  {
   "cell_type": "code",
   "execution_count": null,
   "metadata": {
    "pycharm": {
     "name": "#%%\n"
    },
    "scrolled": true
   },
   "outputs": [],
   "source": [
    "# Создание объекта UserMetric\n",
    "user_metric = UserMetric(data_holder, time_unit='d')\n",
    "\n",
    "# Расчет всех метрик\n",
    "user_metric.apply().head()"
   ]
  },
  {
   "cell_type": "markdown",
   "metadata": {
    "pycharm": {
     "name": "#%% md\n"
    }
   },
   "source": [
    "### Метрики + графы"
   ]
  },
  {
   "cell_type": "markdown",
   "metadata": {},
   "source": [
    "В библиотеке реализована возможность представить ряд метрик на графе. Сделать это можно в классе `Graph` с помощью методов:\n",
    "- __add_node_metric__ – добавить метрику, связанную с узлами графа\n",
    "- __add_edge_metric__ – добавить метрику, связанную с ребрами графа"
   ]
  },
  {
   "cell_type": "code",
   "execution_count": null,
   "metadata": {
    "pycharm": {
     "name": "#%%\n"
    }
   },
   "outputs": [],
   "source": [
    "# Расчет метрик\n",
    "nodes_count_metric = activity_metric.count().to_dict()\n",
    "edges_count_metric = transition_metric.count().to_dict()\n",
    "mean_time_node_metric = activity_metric.mean_duration().fillna(0).to_dict()\n",
    "\n",
    "# Получение графа из майнера\n",
    "graph = causal_miner.graph\n",
    "\n",
    "# Добавление метрик на граф\n",
    "graph.add_node_metric('count', nodes_count_metric)\n",
    "graph.add_edge_metric('count', edges_count_metric)\n",
    "graph.add_node_metric('mean_time', mean_time_node_metric)"
   ]
  },
  {
   "cell_type": "code",
   "execution_count": null,
   "metadata": {},
   "outputs": [],
   "source": [
    "# Создание объекта GraphvizPainter\n",
    "painter = GraphvizPainter()\n",
    "\n",
    "# Отрисовать граф и связать цвет узлов и ребер с нужными метриками\n",
    "painter.apply(graph, node_style_metric='count', edge_style_metric='count')\n",
    "# или painter.apply(graph, node_style_metric='mean_time', edge_style_metric='count')\n",
    "\n",
    "# Сохранение графа\n",
    "painter.write_graph(\"metric_graph.png\", format = 'png')\n",
    "\n",
    "# Отображение в jupyter-notebook\n",
    "painter.show()"
   ]
  },
  {
   "cell_type": "markdown",
   "metadata": {},
   "source": [
    "Чтобы удалить метрики с графа, следует воспользоваться следующими методами:\n",
    "- __clear_node_metrics__ – удалить все метрики с нод (узлов)\n",
    "- __clear_edge_metrics__ – удалить все метрики с ребер"
   ]
  },
  {
   "cell_type": "code",
   "execution_count": null,
   "metadata": {},
   "outputs": [],
   "source": [
    "graph.clear_node_metrics()\n",
    "graph.clear_edge_metrics()"
   ]
  },
  {
   "cell_type": "markdown",
   "metadata": {},
   "source": [
    "## III. Conformance Checking"
   ]
  },
  {
   "cell_type": "markdown",
   "metadata": {},
   "source": [
    "##### <font color='red'>В полной версии библиотеки</font>"
   ]
  },
  {
   "cell_type": "markdown",
   "metadata": {},
   "source": [
    "`TokenReplay` позволяет рассчитать *fitness*, который показывает, насколько хорошо граф описывает бизнесс-процесс (1 – хорошо, 0 – плохо). Fitness вычисляется отдельно для каждой цепочки (id) при ее проигрывании по сети Петри."
   ]
  },
  {
   "cell_type": "markdown",
   "metadata": {
    "pycharm": {
     "name": "#%% md\n"
    }
   },
   "source": [
    "## IV. BPMN"
   ]
  },
  {
   "cell_type": "markdown",
   "metadata": {},
   "source": [
    "Для сохранения графа в формате BPMN (Business Process Model and Notation) можно воспользоваться `BpmnExporter` из модуля __`sberpm.bpmn`__. Он имеет следующие методы:\n",
    "- __apply_petri__ – построить BPMN для сети Петри\n",
    "- __get_string_representation__ – получить BPMN-нотацию графа\n",
    "- __write__ – записать граф в BPMN формате\n",
    "\n",
    "На данный момент сохранять можно только графы, полученные из Alpha Miner."
   ]
  },
  {
   "cell_type": "code",
   "execution_count": null,
   "metadata": {
    "pycharm": {
     "name": "#%%\n"
    }
   },
   "outputs": [],
   "source": [
    "from sberpm.bpmn import BpmnExporter"
   ]
  },
  {
   "cell_type": "code",
   "execution_count": null,
   "metadata": {
    "pycharm": {
     "name": "#%%\n"
    }
   },
   "outputs": [],
   "source": [
    "bpmn_exporter = BpmnExporter()\n",
    "bpmn_exporter.apply(alpha_miner.graph)\n",
    "bpmn_exporter.get_string_representation()[:1000]"
   ]
  },
  {
   "cell_type": "code",
   "execution_count": null,
   "metadata": {},
   "outputs": [],
   "source": [
    "bpmn_exporter.write('exported.bpmn')"
   ]
  },
  {
   "cell_type": "markdown",
   "metadata": {
    "pycharm": {
     "name": "#%% md\n"
    }
   },
   "source": [
    "Для загрузки BPMN-файла есть класс `BpmnImporter` со следующими методами:\n",
    "- __load_bpmn_from_xml__ – загрузить граф, представленный в виде BPMN\n",
    "- __get_pydotplus_graph__ – получить граф в формате pydotplus"
   ]
  },
  {
   "cell_type": "code",
   "execution_count": null,
   "metadata": {
    "pycharm": {
     "name": "#%%\n"
    }
   },
   "outputs": [],
   "source": [
    "from sberpm.bpmn import BpmnImporter"
   ]
  },
  {
   "cell_type": "code",
   "execution_count": null,
   "metadata": {
    "pycharm": {
     "name": "#%%\n"
    }
   },
   "outputs": [],
   "source": [
    "bpmn_importer = BpmnImporter()\n",
    "bpmn_importer.load_bpmn_from_xml('exported.bpmn')\n",
    "pydot_graph = bpmn_importer.get_pydotplus_graph()\n",
    "pydot_graph.write('imported_bpmn.svg', prog='dot', format='svg')"
   ]
  },
  {
   "cell_type": "code",
   "execution_count": null,
   "metadata": {},
   "outputs": [],
   "source": []
  },
  {
   "cell_type": "markdown",
   "metadata": {},
   "source": [
    "## V. Визуализация"
   ]
  },
  {
   "cell_type": "markdown",
   "metadata": {},
   "source": [
    "Класс `ChartPainter` из модуля __`sberpm.visual`__ предназначен для создания основных типов графиков. В основе визуализации лежит библиотека __`plotly`__, благодаря чему все диаграммы являются интерактивными. "
   ]
  },
  {
   "cell_type": "code",
   "execution_count": null,
   "metadata": {},
   "outputs": [],
   "source": [
    "from sberpm.visual import ChartPainter"
   ]
  },
  {
   "cell_type": "markdown",
   "metadata": {},
   "source": [
    "Параметры:\n",
    "- __data__ – данные, которые необходимо визуализировать (DataFrame, DataHolder или объекта класса метрик)\n",
    "- __template__ – стиль графиков, по умолчанию _plotly_\n",
    "- __palette__ – цветовая палитра графиков, по умолчанию _sequential.Sunset_r_"
   ]
  },
  {
   "cell_type": "markdown",
   "metadata": {},
   "source": [
    "Каждый метод `ChartPainter` позволяет отрисовать график определенного типа:\n",
    "- __hist__ – гистограмма\n",
    "- __bar__ – столбчатая диаграмма\n",
    "- __box__ – ящичковая диаграмма\n",
    "- __scatter__ – диаграмма рассеяния\n",
    "- __line__ – линейный график\n",
    "- __pie__ – круговая диаграмма\n",
    "- __sunburst__ – диаграмма солнечные лучи\n",
    "- __heatmap__ – 2D гистограмма\n",
    "- __timeline__ – диаграмма Ганта\n",
    "- __pareto__ – диаграмма Парето\n",
    "\n",
    "Основные параметры методов (для более подробной информации см. документацию):\n",
    "- __x__, __y__ – названия столбцов для отрисовки по осям X и Y соответственно\n",
    "- __sort__ – название столбца для сортировки значений\n",
    "- __n__ – количество строк для визуализации\n",
    "- __color__ – название столбца для задания цвета элементам графика\n",
    "- __subplots__ – кортеж вида (rows, cols, ncols), где rows и cols – это названия столбцов для отрисовки нескольких графиков по рядам и столбцам соответственно, а ncols – это количество столбцов\n",
    "- __text__ – название столбца с текстовой информацией (или ее вид) для отображения на графике\n",
    "- __orientation__ – ориентация графика\n",
    "- __opacity__ – прозрачность элементов графика\n",
    "- __edge__ – границы элементов графика\n",
    "- __title__ – название графика\n",
    "\n",
    "Каждый метод прост в использовании, но при этом обладает достаточно широким функционалом, который позволяет построить графики для любых задач."
   ]
  },
  {
   "cell_type": "markdown",
   "metadata": {},
   "source": [
    "### Гистограмма"
   ]
  },
  {
   "cell_type": "code",
   "execution_count": null,
   "metadata": {},
   "outputs": [],
   "source": [
    "painter = ChartPainter(id_metric)\n",
    "painter.hist(x='total_duration', edge=True)"
   ]
  },
  {
   "cell_type": "markdown",
   "metadata": {},
   "source": [
    "### Столбчатая диаграмма"
   ]
  },
  {
   "cell_type": "code",
   "execution_count": null,
   "metadata": {},
   "outputs": [],
   "source": [
    "painter = ChartPainter(user_metric)\n",
    "painter.bar(x=data_holder.user_column, y='total_duration', text=True)"
   ]
  },
  {
   "cell_type": "markdown",
   "metadata": {},
   "source": [
    "### Диаграмма рассеяния"
   ]
  },
  {
   "cell_type": "code",
   "execution_count": null,
   "metadata": {},
   "outputs": [],
   "source": [
    "painter = ChartPainter(id_metric)\n",
    "painter.scatter(x='mean_duration', y='median_duration', color='unique_users_num', size='trace_length', \n",
    "                edge=True, opacity=0.8)"
   ]
  },
  {
   "cell_type": "markdown",
   "metadata": {},
   "source": [
    "### Круговая диаграмма"
   ]
  },
  {
   "cell_type": "code",
   "execution_count": null,
   "metadata": {},
   "outputs": [],
   "source": [
    "painter = ChartPainter(user_metric)\n",
    "painter.pie(labels='count', n=15)"
   ]
  },
  {
   "cell_type": "markdown",
   "metadata": {},
   "source": [
    "### Гистограмма распрелделения активностей по диапазонам времени"
   ]
  },
  {
   "cell_type": "markdown",
   "metadata": {},
   "source": [
    "##### По всем активностям"
   ]
  },
  {
   "cell_type": "code",
   "execution_count": null,
   "metadata": {
    "pycharm": {
     "name": "#%%\n"
    }
   },
   "outputs": [],
   "source": [
    "painter = ChartPainter(data_holder)\n",
    "painter.hist_activity_of_dur(top= False, use_median=False)"
   ]
  },
  {
   "cell_type": "markdown",
   "metadata": {},
   "source": [
    "##### По топ активностям"
   ]
  },
  {
   "cell_type": "code",
   "execution_count": null,
   "metadata": {
    "pycharm": {
     "name": "#%%\n"
    }
   },
   "outputs": [],
   "source": [
    "painter.hist_activity_of_dur(top= True)"
   ]
  },
  {
   "cell_type": "markdown",
   "metadata": {},
   "source": [
    "##### По одной активности"
   ]
  },
  {
   "cell_type": "code",
   "execution_count": null,
   "metadata": {
    "pycharm": {
     "name": "#%%\n"
    }
   },
   "outputs": [],
   "source": [
    "painter.hist_activity_of_dur(by_activity='Stage_6',use_median=True)\n"
   ]
  },
  {
   "cell_type": "markdown",
   "metadata": {
    "collapsed": true,
    "pycharm": {
     "name": "#%% md\n"
    }
   },
   "source": [
    "# ----------Машинное обучение----------"
   ]
  },
  {
   "cell_type": "markdown",
   "metadata": {},
   "source": [
    "## I. Кластеризация этапов"
   ]
  },
  {
   "cell_type": "markdown",
   "metadata": {},
   "source": [
    "##### <font color='red'>В полной версии библиотеки</font>"
   ]
  },
  {
   "cell_type": "markdown",
   "metadata": {},
   "source": [
    "Данный модуль служит для кластеризации этапов процесса, для нахождения близких или идентичных этапов процессов. "
   ]
  },
  {
   "cell_type": "markdown",
   "metadata": {},
   "source": [
    "## II. Анализ текстов"
   ]
  },
  {
   "cell_type": "markdown",
   "metadata": {},
   "source": [
    "##### <font color='red'>В полной версии библиотеки</font>"
   ]
  },
  {
   "cell_type": "markdown",
   "metadata": {},
   "source": [
    "Данный модуль служит для кластеризации текстов. \n",
    "Для каждого кластера алгоритм выдает __номер кластера__ (название кластера или самое близкое сообщение к центроиду кластера), и 10 самых распространенных слов в кластере."
   ]
  },
  {
   "cell_type": "markdown",
   "metadata": {},
   "source": [
    "## III. Рекомендательная система"
   ]
  },
  {
   "cell_type": "markdown",
   "metadata": {},
   "source": [
    "##### <font color='red'>В полной версии библиотеки</font>"
   ]
  },
  {
   "cell_type": "markdown",
   "metadata": {},
   "source": [
    "Данный модуль представляет собой рекомендательную систему, ранжирующую этапы процесса в порядке их приоритетности для реинжениринга. Система показывает, на какие активности нужно обратить внимание в первую очередь при оптимизации процесса. Сначала выбирается лучшая модель, описывающую зависимость таргетной метрики каждой из Активностей от признаковых метрик всех остальных Активносетй. В качестве метрик могут выступать количество рециклов (количество появлений активности), время выполнения, количество повторений, кастомная метрика пользователя. Далее на основании метрики строятся коэффициенты проблемности, в порядке убывания которых ранжируются Активности."
   ]
  },
  {
   "cell_type": "markdown",
   "metadata": {},
   "source": [
    "## IV. Сентиментный анализ"
   ]
  },
  {
   "cell_type": "markdown",
   "metadata": {},
   "source": [
    "##### <font color='red'>В полной версии библиотеки</font>"
   ]
  },
  {
   "cell_type": "markdown",
   "metadata": {},
   "source": [
    "Данный модуль представляет собой систему для анализа тональности словесных комментариев в текстовом поле. Модуль анализа тональности имеет два режима: «базовый» и «продвинутый». В «базовом» режиме тональность текста определяется как «positive» или «negative», численное значение тональности определяется в пределах от -1 до 1 (от негатива к позитиву). Границу двух смежных интервалов можно настроить."
   ]
  },
  {
   "cell_type": "markdown",
   "metadata": {},
   "source": [
    "## V. Факторный анализ"
   ]
  },
  {
   "cell_type": "markdown",
   "metadata": {},
   "source": [
    "##### <font color='red'>В полной версии библиотеки</font>"
   ]
  },
  {
   "cell_type": "markdown",
   "metadata": {},
   "source": [
    "__Факторный анализ__ – это многомерный метод, применяемый для изучения взаимосвязей между значениями переменных. Предполагается, что известные переменные зависят от меньшего количества неизвестных переменных и случайной ошибки. С помощью факторного анализа возможно выявление скрытых переменных факторов, отвечающих за наличие линейных статистических корреляций между наблюдаемыми переменными."
   ]
  },
  {
   "cell_type": "markdown",
   "metadata": {},
   "source": [
    "## VI. Поиск аномалий"
   ]
  },
  {
   "cell_type": "markdown",
   "metadata": {},
   "source": [
    "##### <font color='red'>В полной версии библиотеки</font>"
   ]
  },
  {
   "cell_type": "markdown",
   "metadata": {},
   "source": [
    "__Выявление аномалий__ (также __обнаружение выбросов__) — это распознавание во время интеллектуального анализа данных редких данных, событий или наблюдений, которые вызывают подозрения ввиду существенного отличия от большей части данных."
   ]
  },
  {
   "cell_type": "markdown",
   "metadata": {},
   "source": [
    "##  VII. Автоинсайты"
   ]
  },
  {
   "cell_type": "markdown",
   "metadata": {},
   "source": [
    "##### <font color='red'>В полной версии библиотеки</font>"
   ]
  },
  {
   "cell_type": "markdown",
   "metadata": {},
   "source": [
    "Модуль автоинсайтов sberpm.autoinsights позволяет в автоматическом режиме выявить слабые места и уязвимости процесса и наглядно продемонстрировать их на графе процесса. При анализе классом AutoInsights учитываются такие факторы, как:\n",
    "\n",
    "Длительность этапа\n",
    "Рост длительности этапа\n",
    "Не регулярность (редкость) этапа\n",
    "Зацикленность\n",
    "Наличие разовых инцидентов влияющие на длительность этапа\n",
    "Bottle neck\n",
    "Приводит ли этап приводит к росту времени процесса и/или прочих этапов\n",
    "В итоге для каждого объекта (активности и ребра) считается метрика от 0 до 1 - \"Уровень аномальности\". Чем она выше, тем более \"инсайтным\" является объект."
   ]
  },
  {
   "cell_type": "markdown",
   "metadata": {},
   "source": [
    "## VIII. Имитационное моделирование и what-if анализ"
   ]
  },
  {
   "cell_type": "markdown",
   "metadata": {},
   "source": [
    "##### <font color='red'>В полной версии библиотеки</font>"
   ]
  },
  {
   "cell_type": "markdown",
   "metadata": {},
   "source": [
    "Модуль имитационного моделирования позволяет симулировать процесс в as-is форме, вносить изменения в процесс и проводить what-if моделирование, а также оценивать качество симуляции по сравнению с исходным лог-файлом "
   ]
  },
  {
   "cell_type": "markdown",
   "metadata": {},
   "source": [
    "##  IX. Decision Mining"
   ]
  },
  {
   "cell_type": "markdown",
   "metadata": {},
   "source": [
    "##### <font color='red'>В полной версии библиотеки</font>"
   ]
  },
  {
   "cell_type": "markdown",
   "metadata": {},
   "source": [
    "Модуль предназначен для проведения __decision point analysis__, который заключается в определении причин, почему процесс идет по тому или иному пути. Класс `DecisionMining` выявляет, как те или иные свойства (атрибуты) процесса влияют на выбор конкретного пути. "
   ]
  },
  {
   "cell_type": "markdown",
   "metadata": {},
   "source": [
    "## X. Обучение с подкреплением"
   ]
  },
  {
   "cell_type": "markdown",
   "metadata": {},
   "source": [
    "##### <font color='red'>В полной версии библиотеки</font>"
   ]
  },
  {
   "cell_type": "markdown",
   "metadata": {},
   "source": [
    "В sberpm __Reinforcement Learning (обучение с подкреплением)__ используется для реконструкции процесса в соответствии с заданными критериями."
   ]
  },
  {
   "cell_type": "markdown",
   "metadata": {},
   "source": [
    "## XI. Предсказание структуры графа"
   ]
  },
  {
   "cell_type": "markdown",
   "metadata": {},
   "source": [
    "##### <font color='red'>В полной версии библиотеки</font>"
   ]
  },
  {
   "cell_type": "markdown",
   "metadata": {},
   "source": [
    "Модель содержит алгоритм предсказания структуры графа, а именно, предсказываются две величины: вероятности и средние времена выполнения нод и рёбер графа. Эти величины представляются как временные ряды, получаемые из имеющихся данных, далее используются ml- и специализированные для работы с временными рядами алгоритмы для предсказания."
   ]
  },
  {
   "cell_type": "markdown",
   "metadata": {},
   "source": [
    "## XII. Хронометраж"
   ]
  },
  {
   "cell_type": "markdown",
   "metadata": {},
   "source": [
    "Рассчёт длительности процесса с предварительной очисткой вывбросов при помоощи алгоритмов машинного обучения.\n",
    "\n",
    "- __data_holder (SberPM DataHolder)__ - класс с хранящимися данными \n",
    "- __start_query__ (str) - запрос указывающий на начало нового процесса\n",
    "- __end_query__ (str) - запрос указывающий на окончание процесса\n",
    "- __query__ (str) - запрос указывающий на начало нового процесса или на завершение процесса в данной строке\n",
    "- __change_columns__ (List[str]) - список с названиями колонок по которым можно определить что начался новый процесс при изменении значения в колонке (например изменения идентификатора процесса или пользователя) \n",
    "- __sort_params__ (List[str]) - список названий колонок по которым будет производиться предварительная сортировка данных\n",
    "\n",
    "Параметры __query__, __start_query__, __end_query__ могут быть типа __\"sql\"__ или __\"pandas\"__, они оба должны ссылаться на фрейм данных как __\"df\"__, они должны возвращать один столбец: булевую маску или столбец из 0 и 1.\n",
    "\n",
    "В случае, если задаётся __\"sql\"__ запрос, то он должен выглядеть как __\"SELECT ... from df\"__.\n",
    "\n",
    "Метод __get_chrono()__ начнёт процесс рассчёта длительности процесса и в результате выведет словарь(dict) с элементами:\n",
    "- среднее временя процесса в секундах\n",
    "- количество отобранных элементов\n",
    "- количество уникальных процессов\n",
    "- максимальное количество уникальных идентификаторов рассчитанных в хронометраже \n"
   ]
  },
  {
   "cell_type": "code",
   "execution_count": null,
   "metadata": {},
   "outputs": [],
   "source": [
    "from sberpm.ml.chronometrage import Chronometrage"
   ]
  },
  {
   "cell_type": "code",
   "execution_count": null,
   "metadata": {},
   "outputs": [],
   "source": [
    "df = pd.read_excel('chrono_data.xlsx', engine='openpyxl')\n",
    "dh = DataHolder(df, 'process_id', 'event_type', 'data_timestamp')"
   ]
  },
  {
   "cell_type": "code",
   "execution_count": null,
   "metadata": {},
   "outputs": [],
   "source": [
    "example_start_query = \"\"\"(df['event_type'] == 'Процесс_16961') & (df['event_action'].isin(['Начало']))\"\"\"\n",
    "example_end_query = \"\"\"(df['event_type'] == 'Процесс_16961') & (df['event_action'].isin(['Конец']))\"\"\""
   ]
  },
  {
   "cell_type": "code",
   "execution_count": null,
   "metadata": {},
   "outputs": [],
   "source": [
    "cr = Chronometrage(dh, \n",
    "                   sort_params=['process_id', 'user_id', 'data_timestamp'], \n",
    "                   start_query=example_start_query,\n",
    "                   end_query=example_end_query,\n",
    "                   change_columns=['process_id', 'user_id'])\n",
    "res = cr.get_chrono()"
   ]
  },
  {
   "cell_type": "code",
   "execution_count": null,
   "metadata": {},
   "outputs": [],
   "source": [
    "res"
   ]
  },
  {
   "cell_type": "markdown",
   "metadata": {},
   "source": [
    "## XIII. Поиск счастливого пути\n",
    "\n",
    "##### <font color='red'>В полной версии библиотеки</font>\n",
    "\n",
    "Задача поиска счастливого пути предлагается решается с помощью обучения с подкреплением (RL), которое по своей сути адаптировано к поиску оптимальных действий. RL работает с двумя объектами: агентом и средой. Во время обучения агент взаимодействует с окружающей средой, совершает действия и получает обратную связь, которая называется вознаграждением. Задача формулируется в рамках марковского процесса принятия решений, который основан на:\n",
    "* множестве состояний в мире \n",
    "* множестве действий \n",
    "* вероятностном распределении следующего состояния при условии текущего состояния и завершенного действия \n",
    "* награды при переходе между состояниями при выполнении действий. \n",
    "\n",
    "Выполнение марковского свойства состоит в том, что следующее состояние условно не зависит от прошлых состояний и действий, учитывая текущее состояние и действие. Граф процесса рассматривается как среда, состояния — узлы графа (активности), действия — ребра (выбор следующей активности для перехода), награда — среднее отрицательное время перехода между прошлым и настоящим состояниями. При наличии ключевых состояний за переход в них также начисляется награда. Цель состоит в том, чтобы выбрать оптимальную политику — отображение из пространства состояний в пространство действий или, другими словами, руководство к действию в каждом состоянии — которое максимизирует ожидаемую дисконтированную сумму вознаграждений, проходящих через граф процесса."
   ]
  },
  {
   "cell_type": "code",
   "execution_count": null,
   "metadata": {},
   "outputs": [],
   "source": []
  }
 ],
 "metadata": {
  "kernelspec": {
   "display_name": "Python 3",
   "language": "python",
   "name": "python3"
  },
  "language_info": {
   "codemirror_mode": {
    "name": "ipython",
    "version": 3
   },
   "file_extension": ".py",
   "mimetype": "text/x-python",
   "name": "python",
   "nbconvert_exporter": "python",
   "pygments_lexer": "ipython3",
   "version": "3.10.1"
  }
 },
 "nbformat": 4,
 "nbformat_minor": 2
}
