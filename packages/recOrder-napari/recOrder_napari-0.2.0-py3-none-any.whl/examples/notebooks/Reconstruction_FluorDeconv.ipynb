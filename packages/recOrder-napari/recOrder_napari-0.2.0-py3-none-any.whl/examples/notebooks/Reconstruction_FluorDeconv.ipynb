{
 "cells": [
  {
   "cell_type": "code",
   "execution_count": 3,
   "id": "af5833ea",
   "metadata": {},
   "outputs": [],
   "source": [
    "from recOrder.compute.fluorescence_compute import initialize_fluorescence_reconstructor, \\\n",
    "    deconvolve_fluorescence_2D, deconvolve_fluorescence_3D, calculate_background\n",
    "import numpy as np"
   ]
  },
  {
   "cell_type": "markdown",
   "id": "fde7e5ec",
   "metadata": {},
   "source": [
    "## Setup Fake Data and Initialize Reconstructor"
   ]
  },
  {
   "cell_type": "code",
   "execution_count": 4,
   "id": "c106d0e6",
   "metadata": {},
   "outputs": [],
   "source": [
    "data = np.random.random((2, 41, 256, 256)) # (C, Z, Y, X) where C=0, 1 are for fluorescence data in different channels"
   ]
  },
  {
   "cell_type": "code",
   "execution_count": 5,
   "id": "2d751479",
   "metadata": {},
   "outputs": [],
   "source": [
    "image_dim = (data.shape[-2], data.shape[-1],data.shape[-3]) # (Y, X, Z)\n",
    "NA_obj = 1.47 # Numerical Aperture of Objective\n",
    "NA_illu = 0.4 # Numerical Aperture of Condenser\n",
    "wavelength = [470, 515] # wavelength in nm\n",
    "n_objective_media = 1.515 # refractive index of objective immersion media\n",
    "mag = 126 # magnification\n",
    "z_step_um = 0.2 # z-step size in um\n",
    "pad_z = 5 # slices to pad for phase reconstruction boundary artifacts\n",
    "pixel_size_um = 11 # pixel size in um\n",
    "use_gpu = False\n",
    "gpu_id = 0"
   ]
  },
  {
   "cell_type": "markdown",
   "id": "3540c071",
   "metadata": {},
   "source": [
    "## Deconvolve 3D fluorescence intensity"
   ]
  },
  {
   "cell_type": "code",
   "execution_count": 16,
   "id": "24e7462b",
   "metadata": {},
   "outputs": [
    {
     "name": "stdout",
     "output_type": "stream",
     "text": [
      "Initializing Reconstructor...\n",
      "Finished Initializing Reconstructor (0.00 min)\n"
     ]
    }
   ],
   "source": [
    "mode = '3D' # '2D' or '3D' fluorescence deconvolution\n",
    "fluor_reconstructor = initialize_fluorescence_reconstructor(img_dim=image_dim,\n",
    "                                                            wavelength_nm=wavelength,\n",
    "                                                            pixel_size_um=pixel_size_um,\n",
    "                                                            z_step_um=z_step_um,\n",
    "                                                            NA_obj=NA_obj,\n",
    "                                                            magnification=mag,\n",
    "                                                            mode=mode,\n",
    "                                                            n_obj_media=n_objective_media,\n",
    "                                                            pad_z=pad_z,\n",
    "                                                            use_gpu=use_gpu,\n",
    "                                                            gpu_id=gpu_id)"
   ]
  },
  {
   "cell_type": "code",
   "execution_count": 17,
   "id": "ec149032",
   "metadata": {},
   "outputs": [
    {
     "name": "stdout",
     "output_type": "stream",
     "text": [
      "I_fluor_pad (2, 256, 256, 41) I_fluor_deconv (2, 256, 256, 41)\n",
      "Shape of 3D deconvolved fluorescence data: (2, 256, 256, 41)\n"
     ]
    }
   ],
   "source": [
    "bg = calculate_background(data[:,0])\n",
    "fluor_deconv3D = deconvolve_fluorescence_3D(data, fluor_reconstructor, bg_level=bg, reg=[1e-4,1e-4])\n",
    "\n",
    "print(f'Shape of 3D deconvolved fluorescence data: {np.shape(fluor_deconv3D)}')"
   ]
  },
  {
   "cell_type": "markdown",
   "id": "78d7a5c6",
   "metadata": {},
   "source": [
    "## Deconvolve 2D fluorescence intensity\n"
   ]
  },
  {
   "cell_type": "code",
   "execution_count": 18,
   "id": "bc8550f2",
   "metadata": {},
   "outputs": [
    {
     "name": "stdout",
     "output_type": "stream",
     "text": [
      "Initializing Reconstructor...\n",
      "Finished Initializing Reconstructor (0.00 min)\n"
     ]
    }
   ],
   "source": [
    "mode = '2D' # '2D' or '3D' fluorescence deconvolution\n",
    "image_dim = (data.shape[-2], data.shape[-1], 1) # (Y, X, Z)\n",
    "pad_z=0\n",
    "\n",
    "fluor_reconstructor = initialize_fluorescence_reconstructor(img_dim=image_dim,\n",
    "                                                            wavelength_nm=wavelength,\n",
    "                                                            pixel_size_um=pixel_size_um,\n",
    "                                                            z_step_um=z_step_um,\n",
    "                                                            NA_obj=NA_obj,\n",
    "                                                            magnification=mag,\n",
    "                                                            mode=mode,\n",
    "                                                            n_obj_media=n_objective_media,\n",
    "                                                            pad_z=pad_z,\n",
    "                                                            use_gpu=use_gpu,\n",
    "                                                            gpu_id=gpu_id)"
   ]
  },
  {
   "cell_type": "code",
   "execution_count": 19,
   "id": "47ee35a1",
   "metadata": {},
   "outputs": [
    {
     "name": "stdout",
     "output_type": "stream",
     "text": [
      "Shape of 2D deconvolved fluorescence data: (2, 256, 256)\n"
     ]
    }
   ],
   "source": [
    "fluor_deconv2D = deconvolve_fluorescence_2D(data[:,0], fluor_reconstructor, bg_level=bg, reg=[1e-4,1e-4])\n",
    "print(f'Shape of 2D deconvolved fluorescence data: {np.shape(fluor_deconv2D)}')"
   ]
  }
 ],
 "metadata": {
  "kernelspec": {
   "display_name": "Python 3 (ipykernel)",
   "language": "python",
   "name": "python3"
  },
  "language_info": {
   "codemirror_mode": {
    "name": "ipython",
    "version": 3
   },
   "file_extension": ".py",
   "mimetype": "text/x-python",
   "name": "python",
   "nbconvert_exporter": "python",
   "pygments_lexer": "ipython3",
   "version": "3.7.11"
  }
 },
 "nbformat": 4,
 "nbformat_minor": 5
}
