{
 "cells": [
  {
   "cell_type": "markdown",
   "id": "unlikely-journal",
   "metadata": {},
   "source": [
    "# My first flow"
   ]
  },
  {
   "cell_type": "markdown",
   "id": "upper-emergency",
   "metadata": {},
   "source": [
    "In this notebook you will learn how to create a simple flow to list the content of a directory. Of course you could do that in many simpler ways, but come on, that is just you first simple flow."
   ]
  },
  {
   "cell_type": "code",
   "execution_count": null,
   "id": "european-guide",
   "metadata": {},
   "outputs": [],
   "source": [
    "# Import PyGêBR\n",
    "from pygebr import *"
   ]
  },
  {
   "cell_type": "code",
   "execution_count": null,
   "id": "mediterranean-synthesis",
   "metadata": {},
   "outputs": [],
   "source": [
    "# Create a flow to list directory contents\n",
    "# using menu for program 'ls'\n",
    "flow = NewFromMenu(['ls'], title=\"My first flow\")"
   ]
  },
  {
   "cell_type": "markdown",
   "id": "strange-prophet",
   "metadata": {},
   "source": [
    "Now `flow` is an object of type Flow, with many methods available. Let us start by inspecting it."
   ]
  },
  {
   "cell_type": "code",
   "execution_count": null,
   "id": "accurate-malawi",
   "metadata": {},
   "outputs": [],
   "source": [
    "# Dump flow properties\n",
    "flow.dump(verbose=True)"
   ]
  },
  {
   "cell_type": "markdown",
   "id": "double-animation",
   "metadata": {},
   "source": [
    "The output above shows the flow's author, a list of tags associated to this flow (only 'sh', in this case) and the list of programs of the flow. In this case, there is only one program, named _Shell LS_. Each program has an index, starting from zero. The follows the list of parameters for the program. Note also the parameters are indexed from zero.\n",
    "\n",
    "We can set some parameters by informing the program index, the parameter index and the desired value."
   ]
  },
  {
   "cell_type": "code",
   "execution_count": null,
   "id": "greatest-adelaide",
   "metadata": {},
   "outputs": [],
   "source": [
    "# Set parameter number 6 of the first program\n",
    "flow.program_parameter_values(0,6,True)\n",
    "\n",
    "# Set parameter number 9 of the first program\n",
    "flow.program_parameter_values(0,9,\"/boot\")"
   ]
  },
  {
   "cell_type": "code",
   "execution_count": null,
   "id": "elementary-fountain",
   "metadata": {},
   "outputs": [],
   "source": [
    "# Dump flow properties again to see if something has changed\n",
    "flow.dump()"
   ]
  },
  {
   "cell_type": "markdown",
   "id": "eight-publisher",
   "metadata": {},
   "source": [
    "Now the flow is ready. Let us run it."
   ]
  },
  {
   "cell_type": "code",
   "execution_count": null,
   "id": "developed-niger",
   "metadata": {
    "scrolled": true
   },
   "outputs": [],
   "source": [
    "# Run the flow\n",
    "flow.run()"
   ]
  },
  {
   "cell_type": "markdown",
   "id": "ultimate-terrain",
   "metadata": {},
   "source": [
    "You can print the command line that was actually ran to produce the output."
   ]
  },
  {
   "cell_type": "code",
   "execution_count": null,
   "id": "indonesian-fields",
   "metadata": {},
   "outputs": [],
   "source": [
    "# Print the command line for the flow\n",
    "print(flow.eval())"
   ]
  },
  {
   "cell_type": "markdown",
   "id": "religious-company",
   "metadata": {},
   "source": [
    "This flow, with its parameters set, can be saved for future use."
   ]
  },
  {
   "cell_type": "code",
   "execution_count": null,
   "id": "military-drain",
   "metadata": {},
   "outputs": [],
   "source": [
    "# Save the flow to a file\n",
    "flow.save(\"/tmp/myflow.json\")"
   ]
  },
  {
   "cell_type": "markdown",
   "id": "stainless-explanation",
   "metadata": {},
   "source": [
    "## Now the easier way"
   ]
  },
  {
   "cell_type": "markdown",
   "id": "nutritional-student",
   "metadata": {},
   "source": [
    "Have to setup each program parameter by an expicity call of `program_parameter_value` method isn't that convenient. Instead, you can define flow's parameters through a graphical interface."
   ]
  },
  {
   "cell_type": "code",
   "execution_count": null,
   "id": "turned-conclusion",
   "metadata": {},
   "outputs": [],
   "source": [
    "# Build and display a GUI to edit flow's parameters\n",
    "flow.ui()"
   ]
  },
  {
   "cell_type": "markdown",
   "id": "velvet-sharp",
   "metadata": {},
   "source": [
    "Since the flow has been saved, it can be load in the future."
   ]
  },
  {
   "cell_type": "code",
   "execution_count": null,
   "id": "arranged-tournament",
   "metadata": {},
   "outputs": [],
   "source": [
    "newflow = Flow(filename=\"/tmp/myflow.json\")"
   ]
  }
 ],
 "metadata": {
  "kernelspec": {
   "display_name": "Python 3",
   "language": "python",
   "name": "python3"
  },
  "language_info": {
   "codemirror_mode": {
    "name": "ipython",
    "version": 3
   },
   "file_extension": ".py",
   "mimetype": "text/x-python",
   "name": "python",
   "nbconvert_exporter": "python",
   "pygments_lexer": "ipython3",
   "version": "3.9.2"
  }
 },
 "nbformat": 4,
 "nbformat_minor": 5
}
