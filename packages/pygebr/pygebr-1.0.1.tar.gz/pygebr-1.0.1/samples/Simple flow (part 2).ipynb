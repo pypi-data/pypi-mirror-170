{
 "cells": [
  {
   "cell_type": "markdown",
   "id": "unlikely-journal",
   "metadata": {},
   "source": [
    "# My second flow"
   ]
  },
  {
   "cell_type": "markdown",
   "id": "upper-emergency",
   "metadata": {},
   "source": [
    "In this notebook you will work with a flow, still simple, but composed by two programs. This example extends the one we worked through before. "
   ]
  },
  {
   "cell_type": "code",
   "execution_count": null,
   "id": "european-guide",
   "metadata": {},
   "outputs": [],
   "source": [
    "# Import PyGêBR\n",
    "from pygebr import *"
   ]
  },
  {
   "cell_type": "code",
   "execution_count": null,
   "id": "mediterranean-synthesis",
   "metadata": {},
   "outputs": [],
   "source": [
    "# Create a flow to list directory contents\n",
    "# using menu for program `ls`, followed by\n",
    "# `tail`, to show only a few\n",
    "flow = LoadFlow(\"/tmp/myflow2.json\",\n",
    "                ['ls','tail'],\n",
    "                title=\"Top files\",\n",
    "                description=\"List few biggest files in a directory\")"
   ]
  },
  {
   "cell_type": "markdown",
   "id": "strange-prophet",
   "metadata": {},
   "source": [
    "This flow is a sequence of two programs. Let us see its details."
   ]
  },
  {
   "cell_type": "code",
   "execution_count": null,
   "id": "accurate-malawi",
   "metadata": {},
   "outputs": [],
   "source": [
    "# Dump flow properties in detail\n",
    "flow.dump(verbose=True)"
   ]
  },
  {
   "cell_type": "markdown",
   "id": "double-animation",
   "metadata": {},
   "source": [
    "The output above shows two programs: __Shell LS__ (index 0) and __Shell Tail__ (index 1)."
   ]
  },
  {
   "cell_type": "code",
   "execution_count": null,
   "id": "greatest-adelaide",
   "metadata": {},
   "outputs": [],
   "source": [
    "# Set parameter number 6 (Long list) of the first program\n",
    "flow.program_parameter_values(0,6,True)\n",
    "\n",
    "# Set parameter number 7 (Sort list by size) of the first program\n",
    "flow.program_parameter_values(0,7,True)\n",
    "\n",
    "# Set parameter number 8 (Reverse order) of the first program\n",
    "flow.program_parameter_values(0,8,True)\n",
    "\n",
    "# Set parameter number 9 (Path to list) of the first program\n",
    "flow.program_parameter_values(0,9,\"/usr/bin\")\n",
    "\n",
    "# Set parameter number 1 (How many lines to output) of the second program\n",
    "flow.program_parameter_values(1,1,5)"
   ]
  },
  {
   "cell_type": "code",
   "execution_count": null,
   "id": "elementary-fountain",
   "metadata": {},
   "outputs": [],
   "source": [
    "# Dump flow properties again to see if something has changed\n",
    "flow.dump(verbose=True, setonly=True)"
   ]
  },
  {
   "cell_type": "markdown",
   "id": "eight-publisher",
   "metadata": {},
   "source": [
    "Now the flow is ready. Let us run it."
   ]
  },
  {
   "cell_type": "code",
   "execution_count": null,
   "id": "developed-niger",
   "metadata": {
    "scrolled": true
   },
   "outputs": [],
   "source": [
    "# Run the flow\n",
    "output = flow.run()\n",
    "print(output)"
   ]
  },
  {
   "cell_type": "markdown",
   "id": "ultimate-terrain",
   "metadata": {},
   "source": [
    "You can print the command line that was actually ran to produce the output."
   ]
  },
  {
   "cell_type": "code",
   "execution_count": null,
   "id": "military-drain",
   "metadata": {},
   "outputs": [],
   "source": [
    "# Save the flow to a file\n",
    "flow.save()"
   ]
  },
  {
   "cell_type": "markdown",
   "id": "nutritional-student",
   "metadata": {},
   "source": [
    "Once again, you could have setup flow's parameters through the GUI. Try to play around with parameters to get used with the interface."
   ]
  },
  {
   "cell_type": "code",
   "execution_count": null,
   "id": "turned-conclusion",
   "metadata": {},
   "outputs": [],
   "source": [
    "# Build and display a GUI to edit flow's parameters\n",
    "flow.ui()"
   ]
  }
 ],
 "metadata": {
  "kernelspec": {
   "display_name": "Python 3",
   "language": "python",
   "name": "python3"
  },
  "language_info": {
   "codemirror_mode": {
    "name": "ipython",
    "version": 3
   },
   "file_extension": ".py",
   "mimetype": "text/x-python",
   "name": "python",
   "nbconvert_exporter": "python",
   "pygments_lexer": "ipython3",
   "version": "3.9.2"
  }
 },
 "nbformat": 4,
 "nbformat_minor": 5
}
