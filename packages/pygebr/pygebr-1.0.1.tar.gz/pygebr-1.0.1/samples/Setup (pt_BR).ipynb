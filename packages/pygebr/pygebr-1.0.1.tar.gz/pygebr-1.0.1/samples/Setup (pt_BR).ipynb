{
 "cells": [
  {
   "cell_type": "markdown",
   "id": "talented-keeping",
   "metadata": {},
   "source": [
    "# Configurações padrão para a PyGêBR"
   ]
  },
  {
   "cell_type": "markdown",
   "id": "encouraging-cedar",
   "metadata": {},
   "source": [
    "_Fluxos de processamento_ são criados a partir de _menus_ que descrevem programas aos quais você tenha acesso. Cada fluxo é um encadeamento de um ou mais menus. Uma das propriedades de um fluxo é a identificação de seu autor.\n",
    "\n",
    "Para reduzir a necessidade de fornecer repetidas vezes informações que não variam tanto assim, é possível realizar um setup inicial da PyGêBR definido quem é o autor padrão para novos fluxos e os caminhos onde a PyGêBR deve procurar por menus instalados no sistema. Isto é o que está exemplificado a seguir."
   ]
  },
  {
   "cell_type": "code",
   "execution_count": null,
   "id": "substantial-thumb",
   "metadata": {},
   "outputs": [],
   "source": [
    "# Importação dos módulos necessários da PyGêBR\n",
    "from pygebr import Setup, Person"
   ]
  },
  {
   "cell_type": "markdown",
   "id": "stone-repository",
   "metadata": {},
   "source": [
    "Agora vamos criar uma \"pessoa\" para ser autor(a) padrão de novos fluxos, que sejam criados com a função `NewFromMenu()`."
   ]
  },
  {
   "cell_type": "code",
   "execution_count": null,
   "id": "restricted-cocktail",
   "metadata": {},
   "outputs": [],
   "source": [
    "# Autor padrão para novos fluxos\n",
    "voce = Person(name=\"Seu nome\", \n",
    "              email=\"seu_email@proton.me\",\n",
    "              institution=\"Universidade Sol e Praia\",\n",
    "              homepage=\"https://www.sua.pagina.com.br\")\n"
   ]
  },
  {
   "cell_type": "markdown",
   "id": "foreign-democrat",
   "metadata": {},
   "source": [
    "A função `NewFromMenu()` procura por menus nos diretórios da PyGêBR e também em diretórios pessoais que você informar. No exemplo abaixo, é criado o diretório `$HOME/menus`, onde você poderá colocar menus que você mesmo criar."
   ]
  },
  {
   "cell_type": "code",
   "execution_count": null,
   "id": "floppy-victoria",
   "metadata": {},
   "outputs": [],
   "source": [
    "import os\n",
    "\n",
    "# Vamos criar o diretório para guardar os seus menus (caso seja necessário).\n",
    "home = os.environ['HOME']\n",
    "mymenus = os.path.join(home,'menus')\n",
    "try:\n",
    "    os.mkdir(mymenus)    \n",
    "except FileExistsError:\n",
    "    print(mymenus + \" is already there\")\n",
    "\n",
    "# Lista de caminhos de busca para menus. Caso nenhum caminho\n",
    "# fosse fornecido, apenas os caminhos do sistema, onde a própria\n",
    "# PyGêBR instala seus menus, seriam usados.\n",
    "path = [mymenus]"
   ]
  },
  {
   "cell_type": "markdown",
   "id": "direct-davis",
   "metadata": {},
   "source": [
    "Podemos criar a configuração padrão usando os valores definidos acima."
   ]
  },
  {
   "cell_type": "code",
   "execution_count": null,
   "id": "fossil-drama",
   "metadata": {},
   "outputs": [],
   "source": [
    "# Criando uma configuração onde está definido o autor padrão e \n",
    "# os caminhos para busca de menus\n",
    "setup = Setup(authors = voce, menudirs = path)\n"
   ]
  },
  {
   "cell_type": "code",
   "execution_count": null,
   "id": "cosmetic-increase",
   "metadata": {},
   "outputs": [],
   "source": [
    "# Para verificar a configuração, rode:\n",
    "print(setup)"
   ]
  },
  {
   "cell_type": "markdown",
   "id": "documented-kuwait",
   "metadata": {},
   "source": [
    "Para que esta configuração se torne efetiva e fique preservada, resta salvá-la."
   ]
  },
  {
   "cell_type": "code",
   "execution_count": null,
   "id": "danish-suspect",
   "metadata": {},
   "outputs": [],
   "source": [
    "# Salvando essa configuração para ser usada como default\n",
    "setup.save()\n"
   ]
  },
  {
   "cell_type": "markdown",
   "id": "widespread-inspector",
   "metadata": {},
   "source": [
    "Feito isto você deve ter um arquivo em `~/.config/pygebr/config.json` com essas configurações salvas. Essas configurações serão usadas pelo comando `NewFromMenu`, que cria um fluxo a partir de uma lista de menus."
   ]
  }
 ],
 "metadata": {
  "kernelspec": {
   "display_name": "Python 3",
   "language": "python",
   "name": "python3"
  },
  "language_info": {
   "codemirror_mode": {
    "name": "ipython",
    "version": 3
   },
   "file_extension": ".py",
   "mimetype": "text/x-python",
   "name": "python",
   "nbconvert_exporter": "python",
   "pygments_lexer": "ipython3",
   "version": "3.9.2"
  }
 },
 "nbformat": 4,
 "nbformat_minor": 5
}
