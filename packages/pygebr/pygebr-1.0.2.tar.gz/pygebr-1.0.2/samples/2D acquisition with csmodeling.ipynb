{
 "cells": [
  {
   "cell_type": "markdown",
   "id": "becoming-rocket",
   "metadata": {},
   "source": [
    "# Modeling by ray tracing"
   ]
  },
  {
   "cell_type": "markdown",
   "id": "informative-treaty",
   "metadata": {},
   "source": [
    "In this notebook, we show an example of using CSModeling to produce a synthetic data."
   ]
  },
  {
   "cell_type": "code",
   "execution_count": null,
   "id": "incorporate-bernard",
   "metadata": {},
   "outputs": [],
   "source": [
    "# Import PyGêBR and gplot\n",
    "from pygebr import *\n",
    "from gplot import *\n",
    "import requests"
   ]
  },
  {
   "cell_type": "code",
   "execution_count": null,
   "id": "documentary-computer",
   "metadata": {},
   "outputs": [],
   "source": [
    "# Build a flow to run CSModeling\n",
    "csmodel = LoadFlow(\"/tmp/csmod.json\", ['csmodeling'],\n",
    "                   title=\"2D Acquisition\",\n",
    "                   description=\"Synthetic 2D survey with ray tracing modeling\")"
   ]
  },
  {
   "cell_type": "code",
   "execution_count": null,
   "id": "wired-anime",
   "metadata": {},
   "outputs": [],
   "source": [
    "# Open the UI to inspect and run the flow, with its default values\n",
    "csmodel.ui()"
   ]
  },
  {
   "cell_type": "code",
   "execution_count": null,
   "id": "broke-dance",
   "metadata": {},
   "outputs": [],
   "source": [
    "# See the model and the rays\n",
    "gshow('/tmp/csmodel/out.svg')"
   ]
  },
  {
   "cell_type": "markdown",
   "id": "sticky-sleep",
   "metadata": {},
   "source": [
    "# Many shots"
   ]
  },
  {
   "cell_type": "markdown",
   "id": "affecting-response",
   "metadata": {},
   "source": [
    "Now, let us define some parameters to configure another flow to perform a 2D acquisition with many shots along the surface. The flow employing those parameters is already configured and will be download below."
   ]
  },
  {
   "cell_type": "code",
   "execution_count": null,
   "id": "sitting-cause",
   "metadata": {},
   "outputs": [],
   "source": [
    "# Dictionary to hold parameters for following flows\n",
    "p = {}\n",
    "\n",
    "# Download the flow\n",
    "URL = \"https://gitlab.com/Biloti/pygebr/-/raw/main/samples/model02.json?inline=false\"\n",
    "flow = requests.get(URL)\n",
    "with open(\"/tmp/model.json\",\"w\") as fp:\n",
    "    fp.write(flow.text)\n",
    "\n",
    "model = Flow(filename=\"/tmp/model.json\", par = p)"
   ]
  },
  {
   "cell_type": "code",
   "execution_count": null,
   "id": "valid-haven",
   "metadata": {},
   "outputs": [],
   "source": [
    "# Define many variables used to configure the flow\n",
    "p['workdir'] = '/tmp'\n",
    "p['modelname'] = '2dline'\n",
    "\n",
    "path = p['workdir'] + \"/\" + p['modelname'] + \"/\"\n",
    "\n",
    "p['headerfn'] = path + \"out.hdr\"\n",
    "p['binfn'] = path + \"out-0001.bin\"\n",
    "p['sufn'] = path + \"out.su\"\n",
    "p['modelsvg'] = path + \"out.svg\"\n",
    "\n",
    "p['tmax'] = 2.5\n",
    "p['ns'] = int(p['tmax'] / 0.004 + 1)  # number of samples per trace (with 4ms)\n",
    "p['firstshot'] = 100  # in meters\n",
    "p['dstation'] = 50    # distance between stations, in meters\n",
    "p['dshot'] = 200      # in meters\n",
    "p['minoff'] = 100     # minimum offset\n",
    "p['maxoff'] = 2000    # maximum offset\n",
    "\n",
    "# Convert coordinates to stations (see csmodeling documentation)\n",
    "firstst = int ((p['firstshot'] + p['minoff']) / p['dstation'])  # Most left station with receiver.\n",
    "next1 = firstst+1                                               # This two stations are in sequence\n",
    "next2 = firstst+2                                               # to indicate that there is no gap\n",
    "lastst = int ((p['firstshot'] + p['maxoff']) / p['dstation'])   # Most right station with receiver.\n",
    "shotst = p['firstshot'] / p['dstation']                         # Station where shot is located\n",
    "\n",
    "# Line describing one shot geometry\n",
    "p['shot'] = f\"{firstst},{next1},{next2},{lastst},{shotst},0\"\n",
    "\n",
    "modelextension = 5000 # The model extends for 5km in this example\n",
    "lastshotst = (modelextension - p['firstshot'])/p['dstation'] - (lastst-shotst)\n",
    "\n",
    "# Total number of shots\n",
    "p['nshots'] = int((lastshotst - shotst) * p['dstation'] / p['dshot'] + 1)"
   ]
  },
  {
   "cell_type": "code",
   "execution_count": null,
   "id": "possible-testimony",
   "metadata": {},
   "outputs": [],
   "source": [
    "# Define the output for the flow (filename and write mode)\n",
    "model.stdout([p['sufn'], \"w\"])\n",
    "\n",
    "# Load, inspect and run the flow.\n",
    "# Note that many parameters were defined from the variables declared above.\n",
    "model.ui()"
   ]
  },
  {
   "cell_type": "code",
   "execution_count": null,
   "id": "expected-complexity",
   "metadata": {},
   "outputs": [],
   "source": [
    "# Inspect the model and rays\n",
    "gshow(p['modelsvg'])"
   ]
  },
  {
   "cell_type": "code",
   "execution_count": null,
   "id": "developmental-symposium",
   "metadata": {},
   "outputs": [],
   "source": [
    "# To see a portion of the data\n",
    "gimage(p['sufn'], title=\"2D Data set\",\n",
    "       label1=\"Time\", unit1=\"s\",\n",
    "       label2=\"Trace\",\n",
    "       x2min=200, x2max=400,               # Inspect only a portion of the data\n",
    "       palette=12\n",
    "      )"
   ]
  }
 ],
 "metadata": {
  "kernelspec": {
   "display_name": "Python 3",
   "language": "python",
   "name": "python3"
  },
  "language_info": {
   "codemirror_mode": {
    "name": "ipython",
    "version": 3
   },
   "file_extension": ".py",
   "mimetype": "text/x-python",
   "name": "python",
   "nbconvert_exporter": "python",
   "pygments_lexer": "ipython3",
   "version": "3.9.2"
  }
 },
 "nbformat": 4,
 "nbformat_minor": 5
}
