{
 "cells": [
  {
   "cell_type": "markdown",
   "id": "talented-keeping",
   "metadata": {},
   "source": [
    "# Default setup for PyGêBR"
   ]
  },
  {
   "cell_type": "markdown",
   "id": "encouraging-cedar",
   "metadata": {},
   "source": [
    "_Processing flows_ are created from _menus_, which describes program you may use. Each flow is a sequence of one or more menus. One property you have to setup when creating flows is its author.\n",
    "\n",
    "To reduce the need for declaring over and over the same author for new flows, it is possible to perform an initial setup for PyGêBR, informing default authors and path for looking for menus. That is accomplished below."
   ]
  },
  {
   "cell_type": "code",
   "execution_count": null,
   "id": "substantial-thumb",
   "metadata": {},
   "outputs": [],
   "source": [
    "# Importing PyGêBR modules\n",
    "from pygebr import Setup, Person"
   ]
  },
  {
   "cell_type": "markdown",
   "id": "strong-playing",
   "metadata": {},
   "source": [
    "Let us declare a \"person\" to be the default author for new flows, created by `NewFromMenu()` funcition."
   ]
  },
  {
   "cell_type": "code",
   "execution_count": null,
   "id": "restricted-cocktail",
   "metadata": {},
   "outputs": [],
   "source": [
    "# Default author for new flows\n",
    "you = Person(name=\"John Doe\", \n",
    "             email=\"john.doe@dmain.com\",\n",
    "             institution=\"University of Pindorama\",\n",
    "             homepage=\"https://www.your.page.com\")"
   ]
  },
  {
   "cell_type": "markdown",
   "id": "incident-resistance",
   "metadata": {},
   "source": [
    "The `NewFromMenu()` function looks for menus in system paths and also in personal paths you may wish. In the example below, the directory`$HOME/menus` is created, where you can save your own menus."
   ]
  },
  {
   "cell_type": "code",
   "execution_count": null,
   "id": "floppy-victoria",
   "metadata": {},
   "outputs": [],
   "source": [
    "import os\n",
    "\n",
    "home = os.environ['HOME']\n",
    "mymenus = os.path.join(home,'menus')\n",
    "try:\n",
    "    os.mkdir(mymenus)    \n",
    "except FileExistsError:\n",
    "    print(mymenus + \" is already there\")\n",
    "\n",
    "# List of paths to look for menus. Leave the list\n",
    "# empty for consider only system paths.\n",
    "path = [mymenus]"
   ]
  },
  {
   "cell_type": "markdown",
   "id": "waiting-projector",
   "metadata": {},
   "source": [
    "A default setup can be created using the values defined above."
   ]
  },
  {
   "cell_type": "code",
   "execution_count": null,
   "id": "fossil-drama",
   "metadata": {},
   "outputs": [],
   "source": [
    "# New setup with default author and searching paths\n",
    "setup = Setup(authors = you, menudirs = path)"
   ]
  },
  {
   "cell_type": "code",
   "execution_count": null,
   "id": "cosmetic-increase",
   "metadata": {},
   "outputs": [],
   "source": [
    "# To inspect the setup, run:\n",
    "print(setup)"
   ]
  },
  {
   "cell_type": "markdown",
   "id": "apart-syndrome",
   "metadata": {},
   "source": [
    "To make this setup efective and persistent, it is necessary to save it."
   ]
  },
  {
   "cell_type": "code",
   "execution_count": null,
   "id": "danish-suspect",
   "metadata": {},
   "outputs": [],
   "source": [
    "# Salving the setup\n",
    "setup.save()"
   ]
  },
  {
   "cell_type": "markdown",
   "id": "widespread-inspector",
   "metadata": {},
   "source": [
    "Now, the file `~/.config/pygebr/config.json` has this setup. It will be read by `NewFromMenu()`, whenever new flows were created."
   ]
  }
 ],
 "metadata": {
  "kernelspec": {
   "display_name": "Python 3",
   "language": "python",
   "name": "python3"
  },
  "language_info": {
   "codemirror_mode": {
    "name": "ipython",
    "version": 3
   },
   "file_extension": ".py",
   "mimetype": "text/x-python",
   "name": "python",
   "nbconvert_exporter": "python",
   "pygments_lexer": "ipython3",
   "version": "3.9.2"
  }
 },
 "nbformat": 4,
 "nbformat_minor": 5
}
