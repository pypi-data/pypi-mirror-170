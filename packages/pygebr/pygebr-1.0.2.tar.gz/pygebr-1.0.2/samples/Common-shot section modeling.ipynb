{
 "cells": [
  {
   "cell_type": "markdown",
   "id": "outer-linux",
   "metadata": {},
   "source": [
    "# Common-shot section modeling"
   ]
  },
  {
   "cell_type": "markdown",
   "id": "integral-gentleman",
   "metadata": {},
   "source": [
    "In this example, we show a simple flow to model a common-shot section for a plane reflector. To that, we have used two program from Seismic Un*x package. To see the result section, we used the gplot tool."
   ]
  },
  {
   "cell_type": "code",
   "execution_count": null,
   "id": "unique-concentration",
   "metadata": {},
   "outputs": [],
   "source": [
    "from pygebr import *\n",
    "from gplot import *"
   ]
  },
  {
   "cell_type": "code",
   "execution_count": null,
   "id": "sophisticated-surprise",
   "metadata": {},
   "outputs": [],
   "source": [
    "params = {}"
   ]
  },
  {
   "cell_type": "markdown",
   "id": "satellite-philosophy",
   "metadata": {},
   "source": [
    "The flow we parameterize in terms of variables we define below."
   ]
  },
  {
   "cell_type": "code",
   "execution_count": null,
   "id": "conventional-fellowship",
   "metadata": {},
   "outputs": [],
   "source": [
    "# Sampling in offsets (in km)\n",
    "params['doffset'] = 0.05\n",
    "\n",
    "# Maximum offset to have in CS (in km)\n",
    "params['maxoffset'] = 4.0\n",
    "\n",
    "# Number of offset (from -maxoffset to maxoffset)\n",
    "params['noffset'] = 2* params['maxoffset'] / params['doffset'] + 1\n",
    "\n",
    "# Model extension\n",
    "params['L'] = 1.2*params['maxoffset']\n",
    "\n",
    "# Reflector (see susynlv documentation for syntax)\n",
    "params['ref'] = f\"1:-{params['L']},1;{params['L']},1\""
   ]
  },
  {
   "cell_type": "code",
   "execution_count": null,
   "id": "sublime-competition",
   "metadata": {
    "scrolled": true
   },
   "outputs": [],
   "source": [
    "# Download the flow we have already built and save it to disk\n",
    "import requests\n",
    "\n",
    "URL = \"https://gitlab.com/Biloti/pygebr/-/raw/main/samples/model01.json?inline=false\"\n",
    "flow = requests.get(URL)\n",
    "with open(\"/tmp/model01.json\",\"w\") as fp:\n",
    "    fp.write(flow.text)"
   ]
  },
  {
   "cell_type": "code",
   "execution_count": null,
   "id": "sonic-motor",
   "metadata": {},
   "outputs": [],
   "source": [
    "# Load the flow\n",
    "modeling = Flow(filename=\"/tmp/model01.json\", par=params)"
   ]
  },
  {
   "cell_type": "code",
   "execution_count": null,
   "id": "hired-rendering",
   "metadata": {
    "scrolled": false
   },
   "outputs": [],
   "source": [
    "# Open the interface to inspect, edit or run the flow\n",
    "modeling.ui()"
   ]
  },
  {
   "cell_type": "markdown",
   "id": "informative-friendly",
   "metadata": {},
   "source": [
    "Note that the flow has two programs. The first one does the modeling and the second one add some random noise to give some appearance of real data."
   ]
  },
  {
   "cell_type": "code",
   "execution_count": null,
   "id": "interracial-parish",
   "metadata": {},
   "outputs": [],
   "source": [
    "# After run the flow, see the common-shot section\n",
    "gimage('/tmp/cs.su', palette=12,\n",
    "       label1=\"Time\", unit1=\"s\",\n",
    "       label2=\"Offset\", unit2=\"km\",\n",
    "       o2=-params['maxoffset'],d2=params['doffset'])"
   ]
  },
  {
   "cell_type": "markdown",
   "id": "natural-guyana",
   "metadata": {},
   "source": [
    "Try to play around with the parameters and run the flow again. Have some fun!"
   ]
  }
 ],
 "metadata": {
  "kernelspec": {
   "display_name": "Python 3",
   "language": "python",
   "name": "python3"
  },
  "language_info": {
   "codemirror_mode": {
    "name": "ipython",
    "version": 3
   },
   "file_extension": ".py",
   "mimetype": "text/x-python",
   "name": "python",
   "nbconvert_exporter": "python",
   "pygments_lexer": "ipython3",
   "version": "3.9.2"
  }
 },
 "nbformat": 4,
 "nbformat_minor": 5
}
